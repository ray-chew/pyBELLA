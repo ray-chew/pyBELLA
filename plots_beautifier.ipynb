{
 "cells": [
  {
   "cell_type": "code",
   "execution_count": 2,
   "metadata": {},
   "outputs": [],
   "source": [
    "import os\n",
    "import numpy as np\n",
    "import matplotlib.pyplot as plt"
   ]
  },
  {
   "cell_type": "code",
   "execution_count": 6,
   "metadata": {},
   "outputs": [
    {
     "name": "stdout",
     "output_type": "stream",
     "text": [
      "convert rmse_rho_rho=1.4.png rmse_rhou_rho=1.4.png +append row_0.png\n",
      "convert rmse_rhov_rho=1.4.png rmse_Y_rho=1.4.png +append row_1.png\n"
     ]
    },
    {
     "data": {
      "text/plain": [
       "0"
      ]
     },
     "execution_count": 6,
     "metadata": {},
     "output_type": "execute_result"
    }
   ],
   "source": [
    "# os.system(\"\")\n",
    "ncols = 2\n",
    "output_name = \"output.png\"\n",
    "\n",
    "variables = ['rho', 'rhou', 'rhov', 'Y']\n",
    "variables_1 = variables[0:2]\n",
    "variables_2 = variables[2:]\n",
    "rho_value = 1.4\n",
    "\n",
    "def filename_format(rho_value):\n",
    "    return lambda variable : \"rmse_%s_rho=%.1f.png\" %(variable,rho_value)\n",
    "\n",
    "filename_format = filename_format(rho_value)\n",
    "list_of_files = np.array([filename_format(variable) for variable in variables])\n",
    "list_of_files = np.array_split(list_of_files,ncols)\n",
    "\n",
    "# list_of_files = [filename_format(variable) for variable in variables_1]\n",
    "# list_of_files = [filename_format(variable) for variable in variables_2]\n",
    "\n",
    "n = 0\n",
    "col_files = []\n",
    "for row in list_of_files:\n",
    "    row_name = \"row_%i.png\" %n\n",
    "    file_list = \"\".join(\" %s\" %file for file in row)\n",
    "    print(\"convert%s +append %s\" %(file_list,row_name))\n",
    "    os.system(\"convert%s +append %s\" %(file_list,row_name))\n",
    "    col_files.append(row_name)\n",
    "    n += 1\n",
    "    \n",
    "file_list = \"\".join(\" %s\" %file for file in col_files)\n",
    "os.system(\"convert%s -append %s\" %(file_list,output_name))\n",
    "\n",
    "# img = plt.imread(output_name)\n",
    "# # plt.figure(figsize=(20,20))\n",
    "# plt.imshow(img)\n",
    "# plt.axis('off')\n",
    "# plt.savefig('output.png', bbox_inches='tight')\n",
    "# plt.show()"
   ]
  },
  {
   "cell_type": "code",
   "execution_count": 3,
   "metadata": {},
   "outputs": [
    {
     "name": "stdout",
     "output_type": "stream",
     "text": [
      "ffmpeg -framerate 2 -i ./output_images/rho_%03d.png output_rho_01.gif\n"
     ]
    },
    {
     "data": {
      "text/plain": [
       "0"
      ]
     },
     "execution_count": 3,
     "metadata": {},
     "output_type": "execute_result"
    }
   ],
   "source": [
    "attribute = 'rho'\n",
    "gif_folder = './output_images/'\n",
    "prefix = gif_folder + attribute + '_'\n",
    "output_name = 'output_' + attribute + '_01.gif'\n",
    "\n",
    "command = (\"ffmpeg -framerate 2 -i %s\" %prefix)+(\"%03d.png \" + output_name)\n",
    "print(command)\n",
    "os.system(command)"
   ]
  },
  {
   "cell_type": "code",
   "execution_count": 78,
   "metadata": {},
   "outputs": [
    {
     "name": "stdout",
     "output_type": "stream",
     "text": [
      "[ 0.    0.01  0.02 ...  9.98  9.99 10.  ]\n",
      "[0.  0.1 0.2 0.3 0.4 0.5 0.6 0.7 0.8 0.9 1. ]\n"
     ]
    }
   ],
   "source": [
    "AA = np.linspace(0.0,10.0,1001)\n",
    "print(AA)\n",
    "\n",
    "BB = np.linspace(0.0,1.0,11)\n",
    "print(BB)"
   ]
  },
  {
   "cell_type": "code",
   "execution_count": null,
   "metadata": {},
   "outputs": [],
   "source": []
  }
 ],
 "metadata": {
  "kernelspec": {
   "display_name": "Python 3",
   "language": "python",
   "name": "python3"
  },
  "language_info": {
   "codemirror_mode": {
    "name": "ipython",
    "version": 3
   },
   "file_extension": ".py",
   "mimetype": "text/x-python",
   "name": "python",
   "nbconvert_exporter": "python",
   "pygments_lexer": "ipython3",
   "version": "3.7.3"
  }
 },
 "nbformat": 4,
 "nbformat_minor": 2
}
