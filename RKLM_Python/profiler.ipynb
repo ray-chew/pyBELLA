{
 "cells": [
  {
   "cell_type": "code",
   "execution_count": 10,
   "metadata": {},
   "outputs": [],
   "source": [
    "import pstats\n",
    "import numpy as np"
   ]
  },
  {
   "cell_type": "code",
   "execution_count": 6,
   "metadata": {},
   "outputs": [
    {
     "name": "stdout",
     "output_type": "stream",
     "text": [
      "27.32\n",
      "27.103780999999998\n"
     ]
    },
    {
     "data": {
      "text/plain": [
       "51.609"
      ]
     },
     "execution_count": 6,
     "metadata": {},
     "output_type": "execute_result"
    }
   ],
   "source": [
    "# precon\n",
    "print(np.mean(9.375 + 9.154 + 8.791))\n",
    "50.029\n",
    "54.294\n",
    "51.609\n",
    "\n",
    "# no-precon\n",
    "print(np.mean(8.055 + 9.238 + 9.810781))\n",
    "46.289\n",
    "51.609"
   ]
  },
  {
   "cell_type": "code",
   "execution_count": 13,
   "metadata": {
    "scrolled": false
   },
   "outputs": [
    {
     "name": "stdout",
     "output_type": "stream",
     "text": [
      "Mon Sep  2 16:28:31 2019    profile.out\n",
      "\n",
      "         2507818 function calls (2490283 primitive calls) in 55.422 seconds\n",
      "\n",
      "   Ordered by: internal time\n",
      "   List reduced from 5687 to 10 due to restriction <10>\n",
      "\n",
      "   ncalls  tottime  percall  cumtime  percall filename:lineno(function)\n",
      "     2696   48.561    0.018   48.561    0.018 /home/ray/git-projects/RKLM_Reference/RKLM_Python/physics/low_mach/laplacian.py:540(lap2D_3try)\n",
      "     5063    0.973    0.000    4.395    0.001 /home/ray/git-projects/RKLM_Reference/RKLM_Python/management/io.py:143(populate)\n",
      "     5064    0.696    0.000    0.753    0.000 /home/ray/anaconda3/lib/python3.7/site-packages/h5py/_hl/files.py:403(close)\n",
      "     5064    0.590    0.000    0.599    0.000 /home/ray/anaconda3/lib/python3.7/site-packages/h5py/_hl/files.py:150(make_fid)\n",
      "     5063    0.568    0.000    1.131    0.000 /home/ray/anaconda3/lib/python3.7/site-packages/h5py/_hl/dataset.py:57(make_new_dset)\n",
      "     5063    0.306    0.000    0.364    0.000 /home/ray/anaconda3/lib/python3.7/site-packages/h5py/_hl/group.py:342(__setitem__)\n",
      "    98092    0.294    0.000    0.294    0.000 /home/ray/git-projects/RKLM_Reference/RKLM_Python/inputs/boundary.py:108(negative_symmetric)\n",
      "     5063    0.167    0.000    0.228    0.000 /home/ray/anaconda3/lib/python3.7/site-packages/h5py/_hl/dataset.py:395(__init__)\n",
      "     5064    0.159    0.000    0.159    0.000 /home/ray/anaconda3/lib/python3.7/site-packages/h5py/_hl/files.py:95(make_fapl)\n",
      "     5063    0.149    0.000    0.368    0.000 /home/ray/anaconda3/lib/python3.7/site-packages/h5py/_hl/filters.py:294(guess_chunk)\n",
      "\n",
      "\n"
     ]
    },
    {
     "data": {
      "text/plain": [
       "<pstats.Stats at 0x7f87eeb0f3c8>"
      ]
     },
     "execution_count": 13,
     "metadata": {},
     "output_type": "execute_result"
    }
   ],
   "source": [
    "p = pstats.Stats('profile.out')\n",
    "p.sort_stats('cumtim').print_stats(10)"
   ]
  },
  {
   "cell_type": "code",
   "execution_count": null,
   "metadata": {},
   "outputs": [],
   "source": []
  }
 ],
 "metadata": {
  "kernelspec": {
   "display_name": "Python 3",
   "language": "python",
   "name": "python3"
  },
  "language_info": {
   "codemirror_mode": {
    "name": "ipython",
    "version": 3
   },
   "file_extension": ".py",
   "mimetype": "text/x-python",
   "name": "python",
   "nbconvert_exporter": "python",
   "pygments_lexer": "ipython3",
   "version": "3.7.3"
  }
 },
 "nbformat": 4,
 "nbformat_minor": 2
}
