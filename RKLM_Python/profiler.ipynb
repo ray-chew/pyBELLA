{
 "cells": [
  {
   "cell_type": "code",
   "execution_count": 1,
   "metadata": {},
   "outputs": [],
   "source": [
    "import pstats\n",
    "import numpy as np"
   ]
  },
  {
   "cell_type": "code",
   "execution_count": 2,
   "metadata": {},
   "outputs": [
    {
     "name": "stdout",
     "output_type": "stream",
     "text": [
      "27.32\n",
      "27.103780999999998\n"
     ]
    },
    {
     "data": {
      "text/plain": [
       "51.609"
      ]
     },
     "execution_count": 2,
     "metadata": {},
     "output_type": "execute_result"
    }
   ],
   "source": [
    "# precon\n",
    "print(np.mean(9.375 + 9.154 + 8.791))\n",
    "50.029\n",
    "54.294\n",
    "51.609\n",
    "\n",
    "# no-precon\n",
    "print(np.mean(8.055 + 9.238 + 9.810781))\n",
    "46.289\n",
    "51.609"
   ]
  },
  {
   "cell_type": "code",
   "execution_count": 3,
   "metadata": {
    "scrolled": false
   },
   "outputs": [
    {
     "name": "stdout",
     "output_type": "stream",
     "text": [
      "Wed Sep  4 22:00:55 2019    ../profile.out\n",
      "\n",
      "         4434726 function calls (4412052 primitive calls) in 186.524 seconds\n",
      "\n",
      "   Ordered by: cumulative time\n",
      "   List reduced from 6698 to 20 due to restriction <20>\n",
      "\n",
      "   ncalls  tottime  percall  cumtime  percall filename:lineno(function)\n",
      "   1123/1    0.020    0.000  186.526  186.526 {built-in method builtins.exec}\n",
      "        1    0.009    0.009  186.526  186.526 RKLM_Python/main.py:1(<module>)\n",
      "       82    0.036    0.000  152.286    1.857 RKLM_Python/physics/low_mach/second_projection.py:142(euler_backward_non_advective_impl_part)\n",
      "       82    0.000    0.000  149.306    1.821 <decorator-gen-2>:1(bicgstab)\n",
      "       82    0.001    0.000  149.306    1.821 /home/ray/anaconda3/lib/python3.7/site-packages/scipy/_lib/_threadsafety.py:44(caller)\n",
      "       82   25.866    0.315  149.303    1.821 /home/ray/anaconda3/lib/python3.7/site-packages/scipy/sparse/linalg/isolve/iterative.py:200(bicgstab)\n",
      "   134996    0.738    0.000  122.174    0.001 /home/ray/anaconda3/lib/python3.7/site-packages/scipy/sparse/linalg/interface.py:191(matvec)\n",
      "    67621    0.162    0.000  120.682    0.002 /home/ray/anaconda3/lib/python3.7/site-packages/scipy/sparse/linalg/interface.py:473(_matvec)\n",
      "    67621    0.861    0.000  120.520    0.002 RKLM_Python/physics/low_mach/laplacian.py:536(<lambda>)\n",
      "    67621  119.610    0.002  119.610    0.002 RKLM_Python/physics/low_mach/laplacian.py:538(lap2D_3try)\n",
      "       82    0.737    0.009   24.399    0.298 RKLM_Python/physics/gas_dynamics/explicit.py:20(advect)\n",
      "      328    0.742    0.002   23.403    0.071 RKLM_Python/physics/gas_dynamics/explicit.py:57(explicit_step_and_flux)\n",
      "      328    4.630    0.014   13.945    0.043 RKLM_Python/physics/gas_dynamics/recovery.py:11(recovery)\n",
      "      984    7.597    0.008    8.911    0.009 RKLM_Python/management/variable.py:22(primitives)\n",
      "      328    1.608    0.005    7.352    0.022 RKLM_Python/physics/gas_dynamics/numerical_flux.py:39(hll_solver)\n",
      "       42    0.226    0.005    6.117    0.146 RKLM_Python/management/io.py:53(write_all)\n",
      "      966    4.424    0.005    5.689    0.006 RKLM_Python/management/io.py:143(populate)\n",
      "      656    2.210    0.003    3.136    0.005 RKLM_Python/physics/gas_dynamics/recovery.py:170(get_conservatives)\n",
      "    11416    0.145    0.000    2.842    0.000 /home/ray/anaconda3/lib/python3.7/site-packages/numpy/lib/arraypad.py:964(pad)\n",
      "     1026    0.020    0.000    2.559    0.002 RKLM_Python/inputs/boundary.py:8(set_explicit_boundary_data)\n",
      "\n",
      "\n"
     ]
    },
    {
     "data": {
      "text/plain": [
       "<pstats.Stats at 0x7fca63625c18>"
      ]
     },
     "execution_count": 3,
     "metadata": {},
     "output_type": "execute_result"
    }
   ],
   "source": [
    "p = pstats.Stats('../profile.out')\n",
    "p.sort_stats('cumtime').print_stats(20)"
   ]
  },
  {
   "cell_type": "code",
   "execution_count": 4,
   "metadata": {},
   "outputs": [
    {
     "ename": "SyntaxError",
     "evalue": "invalid syntax (<ipython-input-4-a904a7a92236>, line 1)",
     "output_type": "error",
     "traceback": [
      "\u001b[0;36m  File \u001b[0;32m\"<ipython-input-4-a904a7a92236>\"\u001b[0;36m, line \u001b[0;32m1\u001b[0m\n\u001b[0;31m    Time taken = 101.891181\u001b[0m\n\u001b[0m             ^\u001b[0m\n\u001b[0;31mSyntaxError\u001b[0m\u001b[0;31m:\u001b[0m invalid syntax\n"
     ]
    }
   ],
   "source": [
    "Time taken = 101.891181"
   ]
  }
 ],
 "metadata": {
  "kernelspec": {
   "display_name": "Python 3",
   "language": "python",
   "name": "python3"
  },
  "language_info": {
   "codemirror_mode": {
    "name": "ipython",
    "version": 3
   },
   "file_extension": ".py",
   "mimetype": "text/x-python",
   "name": "python",
   "nbconvert_exporter": "python",
   "pygments_lexer": "ipython3",
   "version": "3.7.3"
  }
 },
 "nbformat": 4,
 "nbformat_minor": 2
}
