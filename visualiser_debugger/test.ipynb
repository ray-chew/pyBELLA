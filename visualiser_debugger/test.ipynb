{
 "cells": [
  {
   "cell_type": "code",
   "execution_count": 105,
   "id": "766f9c0c-5e09-49cd-8709-ea361c575f5b",
   "metadata": {},
   "outputs": [],
   "source": [
    "import numpy as np\n",
    "import numba as nb\n",
    "import matplotlib.pyplot as plt"
   ]
  },
  {
   "cell_type": "code",
   "execution_count": 8,
   "id": "d550d824-39c1-4890-8cbd-c3e09d09e292",
   "metadata": {},
   "outputs": [
    {
     "name": "stdout",
     "output_type": "stream",
     "text": [
      "[[0.71783409 0.04785513 0.94447198 ... 0.94314901 0.0553212  0.58061716]\n",
      " [0.80740467 0.37524674 0.70494906 ... 0.07682499 0.92238213 0.10152035]\n",
      " [0.84784075 0.64763001 0.47386936 ... 0.67068954 0.64697153 0.10123259]\n",
      " ...\n",
      " [0.17945545 0.92750699 0.25229372 ... 0.75069465 0.2613832  0.31007265]\n",
      " [0.43957298 0.8679642  0.35557802 ... 0.39390598 0.57252301 0.0169329 ]\n",
      " [0.33939998 0.69113803 0.71380873 ... 0.02252953 0.01450031 0.39113085]]\n"
     ]
    }
   ],
   "source": [
    "\n",
    "\n",
    "\n",
    "Nx = 128\n",
    "\n",
    "xx, yy = np.meshgrid(Nx,Nx)\n",
    "print(zz)"
   ]
  },
  {
   "cell_type": "code",
   "execution_count": 86,
   "id": "9d6cde32-59b9-4f00-aa29-f64406d2936d",
   "metadata": {},
   "outputs": [],
   "source": [
    "#     topleft = a[-1,1]\n",
    "#     topmid = a[0,1]\n",
    "#     topright = a[1,1]\n",
    "    \n",
    "#     midleft = a[-1,0]\n",
    "#     midmid = a[0,0]\n",
    "#     midright = a[1,0]\n",
    "    \n",
    "#     botleft = a[-1,-1]\n",
    "#     botmid = a[0,-1]\n",
    "#     botright = a[1,-1]"
   ]
  },
  {
   "cell_type": "code",
   "execution_count": 106,
   "id": "a418e3a1-046a-496a-bd0c-5d8c2c5e3203",
   "metadata": {},
   "outputs": [],
   "source": [
    "@nb.stencil\n",
    "def kernel1(a, corr):\n",
    "    c1, c2, c3, c4 = corr\n",
    "    topleft = a[1,-1]\n",
    "    topmid = a[1,0]\n",
    "    topright = a[1,1]\n",
    "    \n",
    "    midleft = a[0,-1]\n",
    "    midmid = a[0,0]\n",
    "    midright = a[0,1]\n",
    "    \n",
    "    botleft = a[-1,-1]\n",
    "    botmid = a[-1,0]\n",
    "    botright = a[-1,1]\n",
    "    \n",
    "    c1_bl = c1[0,0]\n",
    "    c1_br = c1[0,1]\n",
    "    c1_tl = c1[1,0]\n",
    "    c1_tr = c1[1,1]\n",
    "    \n",
    "    Dx_tl = 0.5 * (topmid   - topleft + midmid   - midleft)\n",
    "    Dx_tr = 0.5 * (topright - topmid  + midright - midmid )\n",
    "    Dx_bl = 0.5 * (botmid   - botleft + midmid   - midleft)\n",
    "    Dx_br = 0.5 * (botright - botmid  + midright - midmid )\n",
    "\n",
    "    Dy_tl = 0.5 * (midmid   - topmid   + midleft - topleft)\n",
    "    Dy_tr = 0.5 * (midright - topright + midmid  - topmid )\n",
    "    Dy_bl = 0.5 * (botmid   - midmid   + botleft - midleft)\n",
    "    Dy_br = 0.5 * (botright - midright + botmid  - midmid )\n",
    "    \n",
    "    Dxx = 0.5 * (Dx_tr - Dx_tl + Dx_br - Dx_bl)\n",
    "    Dyy = 0.5 * (Dy_br - Dy_tr + Dy_bl - Dy_tl)\n",
    "    Dyx = 0.5 * (Dy_br - Dy_bl + Dy_tr - Dy_tl)\n",
    "    Dxy = 0.5 * (Dx_br - Dx_tr + Dy_bl - Dx_tl)\n",
    "    \n",
    "    return (Dxx + Dyy + Dyx + Dxy)\n",
    "\n",
    "@nb.stencil\n",
    "def kernel2(a):\n",
    "    return (a[0, 1] + a[1, 0] + a[0, -1] + a[-1, 0] - 4.0 * a[0, 0])"
   ]
  },
  {
   "cell_type": "code",
   "execution_count": 110,
   "id": "3b0208af-43df-4fce-ba07-2416f54ba434",
   "metadata": {
    "tags": []
   },
   "outputs": [
    {
     "name": "stdout",
     "output_type": "stream",
     "text": [
      "[[ 0.          0.          0.          0.          0.          0.\n",
      "   0.          0.          0.          0.        ]\n",
      " [ 0.          0.93197483  0.53101148 -0.49379799 -0.36685163  0.0154645\n",
      "   0.88374553  0.0846834  -0.39515766  0.        ]\n",
      " [ 0.         -0.30388205  0.49981076 -0.3232148   0.16515971  0.51846957\n",
      "  -0.06862451 -0.00141823 -0.84673293  0.        ]\n",
      " [ 0.          0.02514404  0.77405488  0.74002185  0.15287068  0.64931092\n",
      "   0.38692438  0.60045002  0.07443422  0.        ]\n",
      " [ 0.         -0.25645163 -0.70695656 -0.24803777 -0.68589025  0.10813759\n",
      "  -0.05859939 -0.30566445 -0.76560589  0.        ]\n",
      " [ 0.         -0.37377059  0.49278487  0.32657142  0.21642514 -0.06073053\n",
      "   0.26996271 -0.49797162 -0.27184671  0.        ]\n",
      " [ 0.         -0.42421971  0.53630134 -0.54410755  0.73981932  0.46093549\n",
      "   0.53449053 -0.59733802  0.74493922  0.        ]\n",
      " [ 0.          0.48932431  0.42552396 -1.11626804 -0.9253024   0.32569448\n",
      "   0.1626621   0.07154697 -0.22614225  0.        ]\n",
      " [ 0.         -0.07212857 -0.21532938  0.6284189  -0.35766072  0.04064891\n",
      "  -0.33263956 -0.72821836 -0.57956906  0.        ]\n",
      " [ 0.          0.          0.          0.          0.          0.\n",
      "   0.          0.          0.          0.        ]]\n",
      "[[ 0.          0.          0.          0.          0.          0.\n",
      "   0.          0.          0.          0.        ]\n",
      " [ 0.          0.56676019  0.43255949 -0.35469563 -0.26254682 -0.02160548\n",
      "   0.64589466 -0.01838279 -0.34785882  0.        ]\n",
      " [ 0.         -0.17259311  0.3447514  -0.16478115  0.16581066  0.46799725\n",
      "   0.00938524  0.03086968 -0.48257524  0.        ]\n",
      " [ 0.         -0.05452234  0.50561649  0.52582724  0.12553545  0.4197897\n",
      "   0.3267887   0.36879939 -0.01295821  0.        ]\n",
      " [ 0.         -0.1249007  -0.49521058 -0.08276003 -0.37982836  0.14908168\n",
      "   0.04248795 -0.18054863 -0.59837942  0.        ]\n",
      " [ 0.         -0.31090904  0.28661384  0.19462185  0.10631997 -0.01172042\n",
      "   0.22340601 -0.40010694 -0.31666436  0.        ]\n",
      " [ 0.         -0.28585124  0.46528787 -0.31924651  0.4534932   0.2909889\n",
      "   0.38060365 -0.45045882  0.51390425  0.        ]\n",
      " [ 0.          0.40177223  0.22942034 -0.74551064 -0.60448842  0.29143887\n",
      "   0.08526908  0.11804233 -0.31220883  0.        ]\n",
      " [ 0.         -0.05472184 -0.15671688  0.45824749 -0.34778403 -0.0303024\n",
      "  -0.22577684 -0.48445101 -0.37702721  0.        ]\n",
      " [ 0.          0.          0.          0.          0.          0.\n",
      "   0.          0.          0.          0.        ]]\n",
      "[[ 0.          0.          0.          0.          0.          0.\n",
      "   0.          0.          0.          0.        ]\n",
      " [ 0.          0.34502473  0.35316436 -0.26741557 -0.1869435  -0.04077168\n",
      "   0.48488828 -0.06336984 -0.29069321  0.        ]\n",
      " [ 0.         -0.09539529  0.22453379 -0.0709192   0.14916764  0.41059893\n",
      "   0.03661993  0.04586635 -0.27266269  0.        ]\n",
      " [ 0.         -0.0913697   0.33746923  0.37866801  0.12443625  0.2860885\n",
      "   0.28648652  0.24061688 -0.04967358  0.        ]\n",
      " [ 0.         -0.06639465 -0.3550745   0.00442573 -0.19713875  0.1613989\n",
      "   0.08856335 -0.10115306 -0.48080563  0.        ]\n",
      " [ 0.         -0.25846827  0.16575004  0.12975181  0.05858549  0.02181638\n",
      "   0.18605262 -0.32112676 -0.3118022   0.        ]\n",
      " [ 0.         -0.21986797  0.39314509 -0.19153016  0.27412789  0.18544944\n",
      "   0.27399991 -0.35251076  0.35320573  0.        ]\n",
      " [ 0.          0.33637991  0.111993   -0.49863415 -0.38822077  0.23914009\n",
      "   0.02735546  0.13266354 -0.330717    0.        ]\n",
      " [ 0.         -0.06390032 -0.1160893   0.34108955 -0.30943734 -0.06744685\n",
      "  -0.1467686  -0.33535931 -0.24320611  0.        ]\n",
      " [ 0.          0.          0.          0.          0.          0.\n",
      "   0.          0.          0.          0.        ]]\n",
      "[[ 0.          0.          0.          0.          0.          0.\n",
      "   0.          0.          0.          0.        ]\n",
      " [ 0.          0.20970143  0.28759766 -0.21128195 -0.13237111 -0.04804176\n",
      "   0.37204528 -0.07743345 -0.23731418  0.        ]\n",
      " [ 0.         -0.04961332  0.13392059 -0.01617717  0.12576571  0.35617226\n",
      "   0.04106384  0.05286066 -0.15133922  0.        ]\n",
      " [ 0.         -0.10726016  0.22974296  0.27463701  0.1312837   0.20597287\n",
      "   0.25612136  0.16848405 -0.05958345  0.        ]\n",
      " [ 0.         -0.04348006 -0.26117628  0.04921139 -0.08733664  0.16177819\n",
      "   0.10697026 -0.04983674 -0.39327054  0.        ]\n",
      " [ 0.         -0.21617971  0.09233272  0.09916076  0.04114728  0.04277447\n",
      "   0.15603905 -0.2587754  -0.28585601  0.        ]\n",
      " [ 0.         -0.18797938  0.32851511 -0.11830227  0.16440173  0.12179954\n",
      "   0.19839209 -0.28508453  0.2412196   0.        ]\n",
      " [ 0.          0.28475896  0.03911321 -0.33391417 -0.24312144  0.18549251\n",
      "  -0.01447957  0.1302907  -0.31821097  0.        ]\n",
      " [ 0.         -0.07948744 -0.08606495  0.25984534 -0.26328478 -0.08430717\n",
      "  -0.09058837 -0.24272828 -0.15321713  0.        ]\n",
      " [ 0.          0.          0.          0.          0.          0.\n",
      "   0.          0.          0.          0.        ]]\n",
      "[[ 0.          0.          0.          0.          0.          0.\n",
      "   0.          0.          0.          0.        ]\n",
      " [ 0.          0.12702766  0.23320653 -0.17392434 -0.09300583 -0.04814927\n",
      "   0.29049854 -0.07574432 -0.19215378  0.        ]\n",
      " [ 0.         -0.02241842  0.06709827  0.01468771  0.10120344  0.3081492\n",
      "   0.03670002  0.05592441 -0.08100925  0.        ]\n",
      " [ 0.         -0.11287166  0.15909037  0.19913273  0.13819228  0.15614066\n",
      "   0.23136352  0.12677535 -0.0559834   0.        ]\n",
      " [ 0.         -0.03677855 -0.19768852  0.07075733 -0.02125726  0.15762469\n",
      "   0.11165219 -0.01611995 -0.3253776   0.        ]\n",
      " [ 0.         -0.18251089  0.04611369  0.08542961  0.03766862  0.05485122\n",
      "   0.13231448 -0.2099504  -0.253115    0.        ]\n",
      " [ 0.         -0.17131769  0.27384748 -0.07608402  0.09914537  0.08469878\n",
      "   0.1436045  -0.23707469  0.16293777  0.        ]\n",
      " [ 0.          0.24263618 -0.00752541 -0.22338017 -0.14609787  0.13773373\n",
      "  -0.04337926  0.11945234 -0.29322758  0.        ]\n",
      " [ 0.         -0.09353888 -0.06298434  0.20248131 -0.21898357 -0.08936232\n",
      "  -0.05193343 -0.18422014 -0.09196341  0.        ]\n",
      " [ 0.          0.          0.          0.          0.          0.\n",
      "   0.          0.          0.          0.        ]]\n",
      "[[ 0.          0.          0.          0.          0.          0.\n",
      "   0.          0.          0.          0.        ]\n",
      " [ 0.          0.07673556  0.18824282 -0.14799607 -0.06461954 -0.04445718\n",
      "   0.23000615 -0.06669789 -0.15571529  0.        ]\n",
      " [ 0.         -0.00638126  0.01880224  0.03094746  0.07822513  0.26708407\n",
      "   0.03011819  0.05685138 -0.04006783  0.        ]\n",
      " [ 0.         -0.11336306  0.11165288  0.14305595  0.14226925  0.12370994\n",
      "   0.21028501  0.10167451 -0.04625144  0.        ]\n",
      " [ 0.         -0.03656849 -0.1544906   0.07945311  0.01817072  0.15203135\n",
      "   0.10970883  0.00638491 -0.27131584  0.        ]\n",
      " [ 0.         -0.15576348  0.01609512  0.0794468   0.0399434   0.06115531\n",
      "   0.11397497 -0.17174102 -0.220325    0.        ]\n",
      " [ 0.         -0.160894    0.22889849 -0.05174301  0.06177761  0.06402917\n",
      "   0.10322427 -0.20163643  0.10801172  0.        ]\n",
      " [ 0.          0.20765646 -0.03799999 -0.14853295 -0.08145332  0.0982221\n",
      "  -0.06216171  0.10497499 -0.26485312  0.        ]\n",
      " [ 0.         -0.10360637 -0.04485539  0.16092199 -0.18036496 -0.08780337\n",
      "  -0.02619074 -0.14657604 -0.05000655  0.        ]\n",
      " [ 0.          0.          0.          0.          0.          0.\n",
      "   0.          0.          0.          0.        ]]\n",
      "[[ 0.          0.          0.          0.          0.          0.\n",
      "   0.          0.          0.          0.        ]\n",
      " [ 0.          0.04649375  0.15128424 -0.12914053 -0.04419056 -0.0391711\n",
      "   0.18413729 -0.05486065 -0.12702056  0.        ]\n",
      " [ 0.          0.00288913 -0.01534697  0.03831319  0.05797391  0.23237814\n",
      "   0.0241104   0.0564682  -0.01606803  0.        ]\n",
      " [ 0.         -0.11121073  0.0790775   0.10060553  0.14290303  0.1015226\n",
      "   0.19195623  0.08574904 -0.03441253  0.        ]\n",
      " [ 0.         -0.03821401 -0.12496831  0.08100892  0.04109651  0.14615981\n",
      "   0.10475011  0.02164795 -0.22758454  0.        ]\n",
      " [ 0.         -0.13444825 -0.00384312  0.07656749  0.04395904  0.06392366\n",
      "   0.10012421 -0.14173045 -0.1903359   0.        ]\n",
      " [ 0.         -0.15264915  0.19241495 -0.03780816  0.04156778  0.05327122\n",
      "   0.07312408 -0.17447694  0.06931977  0.        ]\n",
      " [ 0.          0.17836248 -0.05805612 -0.09723943 -0.03861514  0.06697864\n",
      "  -0.07324498  0.0895336  -0.23727392  0.        ]\n",
      " [ 0.         -0.10953434 -0.03045644  0.12989778 -0.14834874 -0.0827502\n",
      "  -0.0096922  -0.12181304 -0.02126578  0.        ]\n",
      " [ 0.          0.          0.          0.          0.          0.\n",
      "   0.          0.          0.          0.        ]]\n",
      "[[ 0.          0.          0.          0.          0.          0.\n",
      "   0.          0.          0.          0.        ]\n",
      " [ 0.          0.02871005  0.12106974 -0.11476293 -0.02956058 -0.03362823\n",
      "   0.14871642 -0.04264094 -0.10469268  0.        ]\n",
      " [ 0.          0.00803164 -0.03883683  0.04033511  0.04073568  0.20307826\n",
      "   0.01959976  0.05520008 -0.00183021  0.        ]\n",
      " [ 0.         -0.10761103  0.05624168  0.06798736  0.14043164  0.08556134\n",
      "   0.17584888  0.07500542 -0.02258068  0.        ]\n",
      " [ 0.         -0.03969659 -0.10472009  0.07861655  0.05366167  0.14035654\n",
      "   0.09860598  0.03217034 -0.1918831   0.        ]\n",
      " [ 0.         -0.11736679 -0.0172258   0.07452835  0.04785489  0.06462936\n",
      "   0.08989306 -0.11801426 -0.16405515  0.        ]\n",
      " [ 0.         -0.14491478  0.16290875 -0.02995798  0.03167264  0.04830227\n",
      "   0.05056406 -0.15286798  0.04195675  0.        ]\n",
      " [ 0.          0.15373237 -0.07111572 -0.06157777 -0.01048646  0.04304296\n",
      "  -0.07862336  0.07455592 -0.2121874   0.        ]\n",
      " [ 0.         -0.11198645 -0.01895084  0.10602204 -0.12252774 -0.07604644\n",
      "   0.00033378 -0.10506332 -0.00171264  0.        ]\n",
      " [ 0.          0.          0.          0.          0.          0.\n",
      "   0.          0.          0.          0.        ]]\n",
      "[[ 0.          0.          0.          0.          0.          0.\n",
      "   0.          0.          0.          0.        ]\n",
      " [ 0.          0.01866361  0.09647188 -0.10330189 -0.01917673 -0.02856264\n",
      "   0.1209439  -0.03123809 -0.08739843  0.        ]\n",
      " [ 0.          0.01065279 -0.05437622  0.03923226  0.02637112  0.17822265\n",
      "   0.0166538   0.05330489  0.00678569  0.        ]\n",
      " [ 0.         -0.10316179  0.03994211  0.04265024  0.13550996  0.07353393\n",
      "   0.16159624  0.06729443 -0.01178425  0.        ]\n",
      " [ 0.         -0.0402957  -0.09077534  0.07409508  0.05965459  0.13465936\n",
      "   0.09219603  0.03954134 -0.16257111  0.        ]\n",
      " [ 0.         -0.10358799 -0.02617352  0.0723173   0.05086185  0.06418297\n",
      "   0.08248488 -0.09912665 -0.14148008  0.        ]\n",
      " [ 0.         -0.13713129  0.13898464 -0.02565586  0.02778605  0.04656011\n",
      "   0.03365738 -0.1350589   0.02253544  0.        ]\n",
      " [ 0.          0.13297572 -0.07931888 -0.03638291  0.00769863  0.02515978\n",
      "  -0.07988907  0.06075025 -0.19007028  0.        ]\n",
      " [ 0.         -0.11180443 -0.00972091  0.08712917 -0.10199322 -0.06876068\n",
      "   0.00591551 -0.09332661  0.01138721  0.        ]\n",
      " [ 0.          0.          0.          0.          0.          0.\n",
      "   0.          0.          0.          0.        ]]\n",
      "[[ 0.          0.          0.          0.          0.          0.\n",
      "   0.          0.          0.          0.        ]\n",
      " [ 0.          0.0133963   0.07650163 -0.09380301 -0.01191004 -0.02431502\n",
      "   0.09888652 -0.02118185 -0.0740001   0.        ]\n",
      " [ 0.          0.01173989 -0.06403759  0.03639348  0.01455872  0.156971\n",
      "   0.01500063  0.05096517  0.01216192  0.        ]\n",
      " [ 0.         -0.09818604  0.02813231  0.02282844  0.12882586  0.06409984\n",
      "   0.14890474  0.06145053 -0.00244382  0.        ]\n",
      " [ 0.         -0.03989581 -0.0811089   0.06850206  0.06145858  0.12901583\n",
      "   0.08597146  0.04477587 -0.13840409  0.        ]\n",
      " [ 0.         -0.09239647 -0.03202635  0.06956313  0.05275149  0.06311816\n",
      "   0.07720678 -0.08395027 -0.12223087  0.        ]\n",
      " [ 0.         -0.12921527  0.11945518 -0.02339627  0.02723541  0.04648153\n",
      "   0.0210555  -0.11991911  0.00870868  0.        ]\n",
      " [ 0.          0.11544522 -0.08407125 -0.01828259  0.0191504   0.01209997\n",
      "  -0.07828023  0.04841396 -0.17083737  0.        ]\n",
      " [ 0.         -0.10975673 -0.00229283  0.07182799 -0.0857399  -0.06149551\n",
      "   0.00850603 -0.08473828  0.0199266   0.        ]\n",
      " [ 0.          0.          0.          0.          0.          0.\n",
      "   0.          0.          0.          0.        ]]\n"
     ]
    },
    {
     "data": {
      "image/png": "[encoded data removed]",
      "text/plain": [
       "<Figure size 1500x450 with 6 Axes>"
      ]
     },
     "metadata": {},
     "output_type": "display_data"
    }
   ],
   "source": [
    "i1 = (slice(1,-1),slice(1,-1))\n",
    "Nx = 10\n",
    "dt = 0.1\n",
    "np.random.seed(555)\n",
    "zz = np.random.random((Nx,Nx))\n",
    "zz1 = np.copy(zz)\n",
    "\n",
    "zz = np.pad(zz[i1], ((1,1),(1,1)), mode='wrap')\n",
    "zz1 = np.pad(zz1[i1], ((1,1),(1,1)), mode='wrap')\n",
    "\n",
    "@nb.njit(cache=True)\n",
    "def looper(zz, zz1, dt):\n",
    "    for _ in range(10):\n",
    "        c1 = np.random.random((Nx,Nx))\n",
    "        c2 = np.random.random((Nx,Nx))\n",
    "        c3 = np.random.random((Nx,Nx))\n",
    "        c4 = np.random.random((Nx,Nx))\n",
    "        corr = (c1,c2,c3,c4)\n",
    "        zz = periodic(zz)\n",
    "        zz1 = periodic(zz1)\n",
    "        zz = zz + dt * kernel1(zz, corr)\n",
    "        zz1 = zz1 + dt * kernel2(zz1)\n",
    "        \n",
    "    return zz, zz1\n",
    "\n",
    "@nb.njit\n",
    "def periodic(arr):\n",
    "    arr[0,:] = arr[-2,:]\n",
    "    arr[-1,:] = arr[1,:]\n",
    "    arr[:,0] = arr[:,-2]\n",
    "    arr[:,-1] = arr[:,1]\n",
    "    \n",
    "    return arr\n",
    "    \n",
    "zz, zz1 = looper(zz, zz1, dt)\n",
    "\n",
    "fig, ax = plt.subplots(1,3, figsize=(15,4.5))\n",
    "im0 = ax[0].imshow(zz[i1], origin='lower')\n",
    "im1 = ax[1].imshow(zz1[i1], origin='lower')\n",
    "im2 = ax[2].imshow(np.abs(zz[i1] - zz1[i1]), origin='lower')\n",
    "\n",
    "plt.colorbar(im0, ax=ax[0])\n",
    "plt.colorbar(im1, ax=ax[1])\n",
    "plt.colorbar(im2, ax=ax[2])\n",
    "plt.show()"
   ]
  },
  {
   "cell_type": "code",
   "execution_count": 59,
   "id": "2c5ec8af-38b0-48d1-baf3-aecc7bbab9f2",
   "metadata": {},
   "outputs": [],
   "source": [
    "@nb.stencil\n",
    "def _smooth(x):\n",
    "    return (x[-1, -1] + x[-1, 0] + x[-1, 1] +\n",
    "            x[ 0, -1] + x[ 0, 0] + x[ 0, 1] +\n",
    "            x[ 1, -1] + x[ 1, 0] + x[ 1, 1]) // 9"
   ]
  },
  {
   "cell_type": "code",
   "execution_count": 60,
   "id": "4864c7ff-712a-45ec-980b-eb0b01467c5d",
   "metadata": {},
   "outputs": [
    {
     "name": "stdout",
     "output_type": "stream",
     "text": [
      "249 ms ± 20.7 ms per loop (mean ± std. dev. of 7 runs, 1 loop each)\n"
     ]
    }
   ],
   "source": [
    "x = np.ones((100, 100))\n",
    "\n",
    "%timeit _smooth(x)"
   ]
  },
  {
   "cell_type": "code",
   "execution_count": 71,
   "id": "03aa5096-9af9-4e37-9f78-4072da3dbe32",
   "metadata": {},
   "outputs": [
    {
     "name": "stdout",
     "output_type": "stream",
     "text": [
      "1.02 ms ± 100 µs per loop (mean ± std. dev. of 7 runs, 1 loop each)\n"
     ]
    }
   ],
   "source": [
    "x = np.random.random((Nx,Nx))\n",
    "\n",
    "@nb.njit\n",
    "def smooth(x):\n",
    "    for _ in range(10):\n",
    "        x = x + kernel1(x)\n",
    "    return kernel1(x)\n",
    "\n",
    "%timeit smooth(x)"
   ]
  },
  {
   "cell_type": "code",
   "execution_count": 98,
   "id": "9e92ef41-3f8c-45d8-8479-836023b9f05d",
   "metadata": {},
   "outputs": [],
   "source": [
    "@nb.stencil\n",
    "def kernel1(a):\n",
    "    return 0.25 * (a[0, 1] + a[1, 0] + a[0, -1] + a[-1, 0])\n"
   ]
  },
  {
   "cell_type": "code",
   "execution_count": 102,
   "id": "65278513-00aa-4761-94bf-a34c4fc48b4f",
   "metadata": {},
   "outputs": [
    {
     "name": "stdout",
     "output_type": "stream",
     "text": [
      "(10, 10)\n"
     ]
    }
   ],
   "source": [
    "input_arr = np.arange(100).reshape((10, 10))\n",
    "print(input_arr.shape)"
   ]
  },
  {
   "cell_type": "code",
   "execution_count": 103,
   "id": "d71393fb-c0e6-475e-bcc1-673019a72650",
   "metadata": {},
   "outputs": [
    {
     "name": "stdout",
     "output_type": "stream",
     "text": [
      "(10, 10)\n"
     ]
    }
   ],
   "source": [
    "output_arr = kernel1(input_arr)\n",
    "print(output_arr.shape)"
   ]
  },
  {
   "cell_type": "code",
   "execution_count": 101,
   "id": "1288a877-1244-4bd0-a161-00d797b427fb",
   "metadata": {},
   "outputs": [
    {
     "name": "stdout",
     "output_type": "stream",
     "text": [
      "[[ 0.  0.  0.  0.  0.  0.  0.  0.  0.  0.]\n",
      " [ 0. 11. 12. 13. 14. 15. 16. 17. 18.  0.]\n",
      " [ 0. 21. 22. 23. 24. 25. 26. 27. 28.  0.]\n",
      " [ 0. 31. 32. 33. 34. 35. 36. 37. 38.  0.]\n",
      " [ 0. 41. 42. 43. 44. 45. 46. 47. 48.  0.]\n",
      " [ 0. 51. 52. 53. 54. 55. 56. 57. 58.  0.]\n",
      " [ 0. 61. 62. 63. 64. 65. 66. 67. 68.  0.]\n",
      " [ 0. 71. 72. 73. 74. 75. 76. 77. 78.  0.]\n",
      " [ 0. 81. 82. 83. 84. 85. 86. 87. 88.  0.]\n",
      " [ 0.  0.  0.  0.  0.  0.  0.  0.  0.  0.]]\n"
     ]
    }
   ],
   "source": [
    "print(output_arr)"
   ]
  },
  {
   "cell_type": "code",
   "execution_count": null,
   "id": "fdf94a08-4deb-4f1b-b533-331d4033aee7",
   "metadata": {},
   "outputs": [],
   "source": []
  }
 ],
 "metadata": {
  "kernelspec": {
   "display_name": "Python 3 (ipykernel)",
   "language": "python",
   "name": "python3"
  },
  "language_info": {
   "codemirror_mode": {
    "name": "ipython",
    "version": 3
   },
   "file_extension": ".py",
   "mimetype": "text/x-python",
   "name": "python",
   "nbconvert_exporter": "python",
   "pygments_lexer": "ipython3",
   "version": "3.9.15"
  }
 },
 "nbformat": 4,
 "nbformat_minor": 5
}
