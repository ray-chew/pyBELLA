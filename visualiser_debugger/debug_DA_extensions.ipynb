{
 "cells": [
  {
   "cell_type": "code",
   "execution_count": 5,
   "metadata": {},
   "outputs": [],
   "source": [
    "import numpy as np\n",
    "from importlib import reload\n",
    "from scipy import signal\n",
    "\n",
    "import plotting_tools as pt\n",
    "import utils\n",
    "utils = reload(utils)\n",
    "pt = reload(pt)\n",
    "\n",
    "import pickle\n",
    "import sys\n",
    "# Notebook needs to see the RKLM_Python module to load pickled class instances\n",
    "sys.path.append('../RKLM_Python/')"
   ]
  },
  {
   "cell_type": "code",
   "execution_count": 7,
   "metadata": {},
   "outputs": [],
   "source": [
    "Nx, Ny, Nz = 64, 1, 64\n",
    "et = 1.0\n",
    "\n",
    "def load(Nx,Ny,et):\n",
    "    base_fn = 'output_swe_vortex'\n",
    "    pydir = '../%s/' %base_fn\n",
    "\n",
    "    tc = utils.test_case(base_fn, pydir, Nx, Ny, et, Nz=Nz)\n",
    "    tags = tc.get_tag_dict()\n",
    "    \n",
    "    return tc, tags\n",
    "tc, tags = load(Nx,Ny,et)"
   ]
  },
  {
   "cell_type": "code",
   "execution_count": 33,
   "metadata": {},
   "outputs": [],
   "source": [
    "N = 3\n",
    "sfx0 = 'debug_daext'\n",
    "sfx = sfx0\n",
    "\n",
    "fn_pickle = tc.get_filename(N,sfx0,format='dat')\n",
    "path_pickle = tc.get_path(fn_pickle)\n",
    "\n",
    "file = open(path_pickle,'rb')\n",
    "ud = pickle.load(file)\n",
    "elem = pickle.load(file)\n",
    "node = pickle.load(file)\n",
    "obs = pickle.load(file)\n",
    "obs_noisy = pickle.load(file)\n",
    "obs_noisy_interp = pickle.load(file)\n",
    "obs_mask = pickle.load(file)\n",
    "obs_covar = pickle.load(file)\n",
    "file.close()"
   ]
  },
  {
   "cell_type": "code",
   "execution_count": 46,
   "metadata": {},
   "outputs": [
    {
     "name": "stdout",
     "output_type": "stream",
     "text": [
      "(68, 68)\n",
      "(68, 68)\n",
      "(68, 68)\n",
      "2048.0\n",
      "(100, 2)\n"
     ]
    }
   ],
   "source": [
    "print(obs[0]['rhou'].shape)\n",
    "print(obs_noisy[0]['rhou'].shape)\n",
    "print(obs_noisy_interp[0]['rhou'].shape)\n",
    "print(obs_mask[0]['rhou'].sum())\n",
    "print(obs_covar.shape)"
   ]
  },
  {
   "cell_type": "code",
   "execution_count": null,
   "metadata": {},
   "outputs": [],
   "source": []
  }
 ],
 "metadata": {
  "kernelspec": {
   "display_name": "Python 3",
   "language": "python",
   "name": "python3"
  },
  "language_info": {
   "codemirror_mode": {
    "name": "ipython",
    "version": 3
   },
   "file_extension": ".py",
   "mimetype": "text/x-python",
   "name": "python",
   "nbconvert_exporter": "python",
   "pygments_lexer": "ipython3",
   "version": "3.7.3"
  }
 },
 "nbformat": 4,
 "nbformat_minor": 2
}
