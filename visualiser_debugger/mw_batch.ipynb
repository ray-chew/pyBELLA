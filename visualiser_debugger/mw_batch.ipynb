{
 "cells": [
  {
   "cell_type": "code",
   "execution_count": 1,
   "id": "1c855e09-d6f4-4a92-b929-9cf684697c89",
   "metadata": {},
   "outputs": [],
   "source": [
    "import numpy as np\n",
    "from importlib import reload\n",
    "from scipy import signal\n",
    "\n",
    "import plotting_tools as pt\n",
    "import utils\n",
    "import dsi\n",
    "utils = reload(utils)\n",
    "pt = reload(pt)\n",
    "dsi = reload(dsi)\n",
    "\n",
    "import dill as pickle\n",
    "import sys\n",
    "import os\n",
    "# Notebook needs to see the RKLM_Python module to load pickled class instances\n",
    "sys.path.append('../RKLM_Python/')\n",
    "\n",
    "from scipy.ndimage.filters import gaussian_filter\n",
    "import matplotlib.pyplot as plt\n",
    "from matplotlib import rc\n",
    "\n",
    "# activate latex text rendering\n",
    "rc('text', usetex=True)"
   ]
  },
  {
   "cell_type": "code",
   "execution_count": 2,
   "id": "25245b4f-9dc7-4657-bdca-5e07a40d2c11",
   "metadata": {},
   "outputs": [],
   "source": [
    "i2 = (slice(2,-2),slice(2,-2))\n",
    "\n",
    "def load(Nx,Ny,et,test):\n",
    "    if test == 'mark':\n",
    "        base_fn = 'output_mark_wave'\n",
    "    elif test == 'lamb':\n",
    "        base_fn = 'output_lamb_wave'\n",
    "    pydir = '../%s/' %base_fn\n",
    "\n",
    "    tc = utils.test_case(base_fn, pydir, Nx, Ny, et)\n",
    "    tags = tc.get_tag_dict()\n",
    "    \n",
    "    return tc, tags\n",
    "\n",
    "def get_ens(tc, times, sfx , diff, attribute, tag, NIDX):\n",
    "    idx = 0 if tag == 'ic' else -1\n",
    "    times = [0] if tag == 'ic' else times\n",
    "    ens = tc.get_ensemble(times, N, attribute, sfx, label_type=l_typ, avg=True, diff=diff, tag=tag, inner=False,load_ic=True)[idx]\n",
    "\n",
    "    label = sfx + '_' + attribute\n",
    "    return label, ens.T[:NIDX,:]\n",
    "\n",
    "def get_ens_all(tc, times, sfx , diff, attribute, tag, NIDX):\n",
    "    ens = tc.get_ensemble(times, N, attribute, sfx, label_type=l_typ, avg=True, diff=diff, tag=tag, inner=True,load_ic=True)\n",
    "    ens = ens[:,:,:NIDX]\n",
    "#     print(ens.shape)\n",
    "    return ens\n",
    "\n",
    "def get_arr(typ, times, NIDX, tp='half', test='mark', et=8000.0):\n",
    "    sfx1 = '%s' %typ\n",
    "#     if ib: sfx1 = '%s_ib-0' %sfx1\n",
    "#     print(sfx1, typ)\n",
    "\n",
    "    tc, tags = load(Nx,Ny,et,test)\n",
    "    if tp=='afs':\n",
    "        tag = 'after_full_step'\n",
    "    else:\n",
    "        tag = tp\n",
    "\n",
    "    # load pickled instances of data used in simulation\n",
    "    fn_pickle = tc.get_filename(N,sfx1,format='dat')\n",
    "    path_pickle = tc.get_path(fn_pickle)\n",
    "\n",
    "#     print(path_pickle)\n",
    "    file = open(path_pickle,'rb')\n",
    "    ud = pickle.load(file)\n",
    "    mpv = pickle.load(file)\n",
    "    dap = pickle.load(file)\n",
    "    elem = pickle.load(file)\n",
    "    file.close()\n",
    "\n",
    "    S0 = (ud.stratification(elem.y)).reshape(-1,1)[:NIDX]\n",
    "    \n",
    "#     attributes = ['rhoX','rhou', 'rhov', 'rhoY', 'p2_nodes']\n",
    "    attributes = ['rhov', 'rhoY', 'p2_nodes']\n",
    "    _, rho = get_ens(tc, times, sfx1, diff, 'rho', tag, NIDX)\n",
    "    la = r''\n",
    "    ret = []\n",
    "    \n",
    "    _, rhou = get_ens(tc, times, sfx1, diff, 'rhou', tag, NIDX)\n",
    "    u = rhou / rho\n",
    "    u = u[i2]\n",
    "    ret.append([u, r' $u^\\prime$'])\n",
    "    \n",
    "    for attribute in attributes:\n",
    "        _, aa = get_ens(tc, times, sfx1, diff, attribute, tag, NIDX)\n",
    "        if attribute == 'rhoY':\n",
    "            la_curr = la + r' $\\Theta^\\prime$'\n",
    "        elif attribute == 'rhov':\n",
    "            la_curr = la + r' $w^\\prime$'\n",
    "        elif attribute == 'rhou':\n",
    "            la_curr = la + r' $u^\\prime$'\n",
    "        elif attribute == 'rhoX':\n",
    "            la_curr = la + r' $\\chi^\\prime$'\n",
    "        else:\n",
    "            la_curr = la + r' $\\pi^\\prime$'\n",
    "        \n",
    "        if attribute == 'rhoY':\n",
    "            aa = aa / rho\n",
    "            aa -= S0\n",
    "            aa = aa[i2]\n",
    "        elif attribute == 'rhou':\n",
    "            aa = aa / rho\n",
    "            aa = aa[i2]\n",
    "        elif attribute == 'rhov':\n",
    "            aa = aa / rho\n",
    "            aa = aa[i2]\n",
    "        elif attribute == 'rhoX':\n",
    "            aa = aa / rho\n",
    "            aa = aa[i2]\n",
    "        elif attribute == 'p2_nodes':\n",
    "            aa = aa[i2]\n",
    "            \n",
    "        ret.append([aa,la_curr])\n",
    "    \n",
    "    return np.array(ret), (ud,mpv), tc"
   ]
  },
  {
   "cell_type": "code",
   "execution_count": 30,
   "id": "849876eb-3342-4a6c-bd8a-227aa3aca93e",
   "metadata": {},
   "outputs": [
    {
     "name": "stdout",
     "output_type": "stream",
     "text": [
      "bdl_run_S600_a05 bdl_run_S600_a05\n",
      "../output_mark_wave/output_mark_wave_ensemble=1_301_120_720.000000_bdl_run_S600_a05.dat\n"
     ]
    },
    {
     "name": "stderr",
     "output_type": "stream",
     "text": [
      "/home/ray/anaconda3/envs/playground/lib/python3.7/site-packages/ipykernel_launcher.py:96: VisibleDeprecationWarning: Creating an ndarray from ragged nested sequences (which is a list-or-tuple of lists-or-tuples-or ndarrays with different lengths or shapes) is deprecated. If you meant to do this, you must specify 'dtype=object' when creating the ndarray.\n",
      "/home/ray/git-projects/RKLM_Reference/visualiser_debugger/plotting_tools.py:168: UserWarning: No contour levels were found within the data range.\n",
      "  im = cax.contour(arr,linewidths=1.0,colors='k',levels=lvls)\n"
     ]
    },
    {
     "name": "stdout",
     "output_type": "stream",
     "text": [
      "(32, 301, 34)\n",
      "bdl_run_S600_a05 bdl_run_S600_a05\n",
      "../output_mark_wave/output_mark_wave_ensemble=1_301_120_720.000000_bdl_run_S600_a05.dat\n",
      "bdl_run_S600_a05 bdl_run_S600_a05\n",
      "../output_mark_wave/output_mark_wave_ensemble=1_301_120_720.000000_bdl_run_S600_a05.dat\n",
      "bdl_run_S600_a05 bdl_run_S600_a05\n",
      "../output_mark_wave/output_mark_wave_ensemble=1_301_120_720.000000_bdl_run_S600_a05.dat\n",
      "bdl_run_S600_a05 bdl_run_S600_a05\n",
      "../output_mark_wave/output_mark_wave_ensemble=1_301_120_720.000000_bdl_run_S600_a05.dat\n",
      "bdl_run_S600_a05 bdl_run_S600_a05\n",
      "../output_mark_wave/output_mark_wave_ensemble=1_301_120_720.000000_bdl_run_S600_a05.dat\n",
      "bdl_run_S600_a05 bdl_run_S600_a05\n",
      "../output_mark_wave/output_mark_wave_ensemble=1_301_120_720.000000_bdl_run_S600_a05.dat\n",
      "bdl_run_S600_a05 bdl_run_S600_a05\n",
      "../output_mark_wave/output_mark_wave_ensemble=1_301_120_720.000000_bdl_run_S600_a05.dat\n",
      "bdl_run_S600_a05 bdl_run_S600_a05\n",
      "../output_mark_wave/output_mark_wave_ensemble=1_301_120_720.000000_bdl_run_S600_a05.dat\n",
      "bdl_run_S600_a05 bdl_run_S600_a05\n",
      "../output_mark_wave/output_mark_wave_ensemble=1_301_120_720.000000_bdl_run_S600_a05.dat\n",
      "bdl_run_S600_a05 bdl_run_S600_a05\n",
      "../output_mark_wave/output_mark_wave_ensemble=1_301_120_720.000000_bdl_run_S600_a05.dat\n"
     ]
    },
    {
     "name": "stderr",
     "output_type": "stream",
     "text": [
      "/home/ray/anaconda3/envs/playground/lib/python3.7/site-packages/ipykernel_launcher.py:96: VisibleDeprecationWarning: Creating an ndarray from ragged nested sequences (which is a list-or-tuple of lists-or-tuples-or ndarrays with different lengths or shapes) is deprecated. If you meant to do this, you must specify 'dtype=object' when creating the ndarray.\n"
     ]
    },
    {
     "name": "stdout",
     "output_type": "stream",
     "text": [
      "bdl_run_S600_a05 bdl_run_S600_a05\n",
      "../output_mark_wave/output_mark_wave_ensemble=1_301_120_720.000000_bdl_run_S600_a05.dat\n"
     ]
    },
    {
     "name": "stderr",
     "output_type": "stream",
     "text": [
      "/home/ray/anaconda3/envs/playground/lib/python3.7/site-packages/ipykernel_launcher.py:96: VisibleDeprecationWarning: Creating an ndarray from ragged nested sequences (which is a list-or-tuple of lists-or-tuples-or ndarrays with different lengths or shapes) is deprecated. If you meant to do this, you must specify 'dtype=object' when creating the ndarray.\n"
     ]
    },
    {
     "name": "stdout",
     "output_type": "stream",
     "text": [
      "bdl_run_S600_a05 bdl_run_S600_a05\n",
      "../output_mark_wave/output_mark_wave_ensemble=1_301_120_720.000000_bdl_run_S600_a05.dat\n"
     ]
    },
    {
     "name": "stderr",
     "output_type": "stream",
     "text": [
      "/home/ray/anaconda3/envs/playground/lib/python3.7/site-packages/ipykernel_launcher.py:96: VisibleDeprecationWarning: Creating an ndarray from ragged nested sequences (which is a list-or-tuple of lists-or-tuples-or ndarrays with different lengths or shapes) is deprecated. If you meant to do this, you must specify 'dtype=object' when creating the ndarray.\n"
     ]
    },
    {
     "name": "stdout",
     "output_type": "stream",
     "text": [
      "bdl_run_S600_a05 bdl_run_S600_a05\n",
      "../output_mark_wave/output_mark_wave_ensemble=1_301_120_720.000000_bdl_run_S600_a05.dat\n"
     ]
    },
    {
     "name": "stderr",
     "output_type": "stream",
     "text": [
      "/home/ray/anaconda3/envs/playground/lib/python3.7/site-packages/ipykernel_launcher.py:96: VisibleDeprecationWarning: Creating an ndarray from ragged nested sequences (which is a list-or-tuple of lists-or-tuples-or ndarrays with different lengths or shapes) is deprecated. If you meant to do this, you must specify 'dtype=object' when creating the ndarray.\n"
     ]
    },
    {
     "name": "stdout",
     "output_type": "stream",
     "text": [
      "bdl_run_S600_a05 bdl_run_S600_a05\n",
      "../output_mark_wave/output_mark_wave_ensemble=1_301_120_720.000000_bdl_run_S600_a05.dat\n"
     ]
    },
    {
     "name": "stderr",
     "output_type": "stream",
     "text": [
      "/home/ray/anaconda3/envs/playground/lib/python3.7/site-packages/ipykernel_launcher.py:96: VisibleDeprecationWarning: Creating an ndarray from ragged nested sequences (which is a list-or-tuple of lists-or-tuples-or ndarrays with different lengths or shapes) is deprecated. If you meant to do this, you must specify 'dtype=object' when creating the ndarray.\n"
     ]
    },
    {
     "name": "stdout",
     "output_type": "stream",
     "text": [
      "bdl_run_S600_a05 bdl_run_S600_a05\n",
      "../output_mark_wave/output_mark_wave_ensemble=1_301_120_720.000000_bdl_run_S600_a05.dat\n"
     ]
    },
    {
     "name": "stderr",
     "output_type": "stream",
     "text": [
      "/home/ray/anaconda3/envs/playground/lib/python3.7/site-packages/ipykernel_launcher.py:96: VisibleDeprecationWarning: Creating an ndarray from ragged nested sequences (which is a list-or-tuple of lists-or-tuples-or ndarrays with different lengths or shapes) is deprecated. If you meant to do this, you must specify 'dtype=object' when creating the ndarray.\n"
     ]
    },
    {
     "name": "stdout",
     "output_type": "stream",
     "text": [
      "bdl_run_S600_a05 bdl_run_S600_a05\n",
      "../output_mark_wave/output_mark_wave_ensemble=1_301_120_720.000000_bdl_run_S600_a05.dat\n"
     ]
    },
    {
     "name": "stderr",
     "output_type": "stream",
     "text": [
      "/home/ray/anaconda3/envs/playground/lib/python3.7/site-packages/ipykernel_launcher.py:96: VisibleDeprecationWarning: Creating an ndarray from ragged nested sequences (which is a list-or-tuple of lists-or-tuples-or ndarrays with different lengths or shapes) is deprecated. If you meant to do this, you must specify 'dtype=object' when creating the ndarray.\n"
     ]
    },
    {
     "name": "stdout",
     "output_type": "stream",
     "text": [
      "bdl_run_S600_a05 bdl_run_S600_a05\n",
      "../output_mark_wave/output_mark_wave_ensemble=1_301_120_720.000000_bdl_run_S600_a05.dat\n"
     ]
    },
    {
     "name": "stderr",
     "output_type": "stream",
     "text": [
      "/home/ray/anaconda3/envs/playground/lib/python3.7/site-packages/ipykernel_launcher.py:96: VisibleDeprecationWarning: Creating an ndarray from ragged nested sequences (which is a list-or-tuple of lists-or-tuples-or ndarrays with different lengths or shapes) is deprecated. If you meant to do this, you must specify 'dtype=object' when creating the ndarray.\n"
     ]
    },
    {
     "name": "stdout",
     "output_type": "stream",
     "text": [
      "bdl_run_S600_a05 bdl_run_S600_a05\n",
      "../output_mark_wave/output_mark_wave_ensemble=1_301_120_720.000000_bdl_run_S600_a05.dat\n"
     ]
    },
    {
     "name": "stderr",
     "output_type": "stream",
     "text": [
      "/home/ray/anaconda3/envs/playground/lib/python3.7/site-packages/ipykernel_launcher.py:96: VisibleDeprecationWarning: Creating an ndarray from ragged nested sequences (which is a list-or-tuple of lists-or-tuples-or ndarrays with different lengths or shapes) is deprecated. If you meant to do this, you must specify 'dtype=object' when creating the ndarray.\n"
     ]
    },
    {
     "name": "stdout",
     "output_type": "stream",
     "text": [
      "bdl_run_S600_a05 bdl_run_S600_a05\n",
      "../output_mark_wave/output_mark_wave_ensemble=1_301_120_720.000000_bdl_run_S600_a05.dat\n"
     ]
    },
    {
     "name": "stderr",
     "output_type": "stream",
     "text": [
      "/home/ray/anaconda3/envs/playground/lib/python3.7/site-packages/ipykernel_launcher.py:96: VisibleDeprecationWarning: Creating an ndarray from ragged nested sequences (which is a list-or-tuple of lists-or-tuples-or ndarrays with different lengths or shapes) is deprecated. If you meant to do this, you must specify 'dtype=object' when creating the ndarray.\n"
     ]
    },
    {
     "name": "stdout",
     "output_type": "stream",
     "text": [
      "bdl_run_S600_a05 bdl_run_S600_a05\n",
      "../output_mark_wave/output_mark_wave_ensemble=1_301_120_720.000000_bdl_run_S600_a05.dat\n"
     ]
    },
    {
     "name": "stderr",
     "output_type": "stream",
     "text": [
      "/home/ray/anaconda3/envs/playground/lib/python3.7/site-packages/ipykernel_launcher.py:96: VisibleDeprecationWarning: Creating an ndarray from ragged nested sequences (which is a list-or-tuple of lists-or-tuples-or ndarrays with different lengths or shapes) is deprecated. If you meant to do this, you must specify 'dtype=object' when creating the ndarray.\n"
     ]
    },
    {
     "name": "stdout",
     "output_type": "stream",
     "text": [
      "bdl_run_S600_a05 bdl_run_S600_a05\n",
      "../output_mark_wave/output_mark_wave_ensemble=1_301_120_720.000000_bdl_run_S600_a05.dat\n"
     ]
    },
    {
     "name": "stderr",
     "output_type": "stream",
     "text": [
      "/home/ray/anaconda3/envs/playground/lib/python3.7/site-packages/ipykernel_launcher.py:96: VisibleDeprecationWarning: Creating an ndarray from ragged nested sequences (which is a list-or-tuple of lists-or-tuples-or ndarrays with different lengths or shapes) is deprecated. If you meant to do this, you must specify 'dtype=object' when creating the ndarray.\n"
     ]
    },
    {
     "name": "stdout",
     "output_type": "stream",
     "text": [
      "bdl_run_S600_a05 bdl_run_S600_a05\n",
      "../output_mark_wave/output_mark_wave_ensemble=1_301_120_720.000000_bdl_run_S600_a05.dat\n"
     ]
    },
    {
     "name": "stderr",
     "output_type": "stream",
     "text": [
      "/home/ray/anaconda3/envs/playground/lib/python3.7/site-packages/ipykernel_launcher.py:96: VisibleDeprecationWarning: Creating an ndarray from ragged nested sequences (which is a list-or-tuple of lists-or-tuples-or ndarrays with different lengths or shapes) is deprecated. If you meant to do this, you must specify 'dtype=object' when creating the ndarray.\n"
     ]
    },
    {
     "name": "stdout",
     "output_type": "stream",
     "text": [
      "bdl_run_S600_a05 bdl_run_S600_a05\n",
      "../output_mark_wave/output_mark_wave_ensemble=1_301_120_720.000000_bdl_run_S600_a05.dat\n"
     ]
    },
    {
     "name": "stderr",
     "output_type": "stream",
     "text": [
      "/home/ray/anaconda3/envs/playground/lib/python3.7/site-packages/ipykernel_launcher.py:96: VisibleDeprecationWarning: Creating an ndarray from ragged nested sequences (which is a list-or-tuple of lists-or-tuples-or ndarrays with different lengths or shapes) is deprecated. If you meant to do this, you must specify 'dtype=object' when creating the ndarray.\n"
     ]
    },
    {
     "name": "stdout",
     "output_type": "stream",
     "text": [
      "bdl_run_S600_a05 bdl_run_S600_a05\n",
      "../output_mark_wave/output_mark_wave_ensemble=1_301_120_720.000000_bdl_run_S600_a05.dat\n"
     ]
    },
    {
     "name": "stderr",
     "output_type": "stream",
     "text": [
      "/home/ray/anaconda3/envs/playground/lib/python3.7/site-packages/ipykernel_launcher.py:96: VisibleDeprecationWarning: Creating an ndarray from ragged nested sequences (which is a list-or-tuple of lists-or-tuples-or ndarrays with different lengths or shapes) is deprecated. If you meant to do this, you must specify 'dtype=object' when creating the ndarray.\n"
     ]
    },
    {
     "name": "stdout",
     "output_type": "stream",
     "text": [
      "bdl_run_S600_a05 bdl_run_S600_a05\n",
      "../output_mark_wave/output_mark_wave_ensemble=1_301_120_720.000000_bdl_run_S600_a05.dat\n"
     ]
    },
    {
     "name": "stderr",
     "output_type": "stream",
     "text": [
      "/home/ray/anaconda3/envs/playground/lib/python3.7/site-packages/ipykernel_launcher.py:96: VisibleDeprecationWarning: Creating an ndarray from ragged nested sequences (which is a list-or-tuple of lists-or-tuples-or ndarrays with different lengths or shapes) is deprecated. If you meant to do this, you must specify 'dtype=object' when creating the ndarray.\n"
     ]
    },
    {
     "name": "stdout",
     "output_type": "stream",
     "text": [
      "bdl_run_S600_a05 bdl_run_S600_a05\n",
      "../output_mark_wave/output_mark_wave_ensemble=1_301_120_720.000000_bdl_run_S600_a05.dat\n"
     ]
    },
    {
     "name": "stderr",
     "output_type": "stream",
     "text": [
      "/home/ray/anaconda3/envs/playground/lib/python3.7/site-packages/ipykernel_launcher.py:96: VisibleDeprecationWarning: Creating an ndarray from ragged nested sequences (which is a list-or-tuple of lists-or-tuples-or ndarrays with different lengths or shapes) is deprecated. If you meant to do this, you must specify 'dtype=object' when creating the ndarray.\n"
     ]
    },
    {
     "name": "stdout",
     "output_type": "stream",
     "text": [
      "bdl_run_S600_a05 bdl_run_S600_a05\n",
      "../output_mark_wave/output_mark_wave_ensemble=1_301_120_720.000000_bdl_run_S600_a05.dat\n"
     ]
    },
    {
     "name": "stderr",
     "output_type": "stream",
     "text": [
      "/home/ray/anaconda3/envs/playground/lib/python3.7/site-packages/ipykernel_launcher.py:96: VisibleDeprecationWarning: Creating an ndarray from ragged nested sequences (which is a list-or-tuple of lists-or-tuples-or ndarrays with different lengths or shapes) is deprecated. If you meant to do this, you must specify 'dtype=object' when creating the ndarray.\n"
     ]
    },
    {
     "name": "stdout",
     "output_type": "stream",
     "text": [
      "bdl_run_S600_a05 bdl_run_S600_a05\n",
      "../output_mark_wave/output_mark_wave_ensemble=1_301_120_720.000000_bdl_run_S600_a05.dat\n"
     ]
    },
    {
     "name": "stderr",
     "output_type": "stream",
     "text": [
      "/home/ray/anaconda3/envs/playground/lib/python3.7/site-packages/ipykernel_launcher.py:96: VisibleDeprecationWarning: Creating an ndarray from ragged nested sequences (which is a list-or-tuple of lists-or-tuples-or ndarrays with different lengths or shapes) is deprecated. If you meant to do this, you must specify 'dtype=object' when creating the ndarray.\n"
     ]
    },
    {
     "name": "stdout",
     "output_type": "stream",
     "text": [
      "bdl_run_S600_a05 bdl_run_S600_a05\n",
      "../output_mark_wave/output_mark_wave_ensemble=1_301_120_720.000000_bdl_run_S600_a05.dat\n"
     ]
    },
    {
     "name": "stderr",
     "output_type": "stream",
     "text": [
      "/home/ray/anaconda3/envs/playground/lib/python3.7/site-packages/ipykernel_launcher.py:96: VisibleDeprecationWarning: Creating an ndarray from ragged nested sequences (which is a list-or-tuple of lists-or-tuples-or ndarrays with different lengths or shapes) is deprecated. If you meant to do this, you must specify 'dtype=object' when creating the ndarray.\n"
     ]
    },
    {
     "name": "stdout",
     "output_type": "stream",
     "text": [
      "bdl_run_S600_a05 bdl_run_S600_a05\n",
      "../output_mark_wave/output_mark_wave_ensemble=1_301_120_720.000000_bdl_run_S600_a05.dat\n"
     ]
    },
    {
     "name": "stderr",
     "output_type": "stream",
     "text": [
      "/home/ray/anaconda3/envs/playground/lib/python3.7/site-packages/ipykernel_launcher.py:96: VisibleDeprecationWarning: Creating an ndarray from ragged nested sequences (which is a list-or-tuple of lists-or-tuples-or ndarrays with different lengths or shapes) is deprecated. If you meant to do this, you must specify 'dtype=object' when creating the ndarray.\n"
     ]
    },
    {
     "name": "stdout",
     "output_type": "stream",
     "text": [
      "bdl_run_S600_a05 bdl_run_S600_a05\n",
      "../output_mark_wave/output_mark_wave_ensemble=1_301_120_720.000000_bdl_run_S600_a05.dat\n"
     ]
    },
    {
     "name": "stderr",
     "output_type": "stream",
     "text": [
      "/home/ray/anaconda3/envs/playground/lib/python3.7/site-packages/ipykernel_launcher.py:96: VisibleDeprecationWarning: Creating an ndarray from ragged nested sequences (which is a list-or-tuple of lists-or-tuples-or ndarrays with different lengths or shapes) is deprecated. If you meant to do this, you must specify 'dtype=object' when creating the ndarray.\n"
     ]
    },
    {
     "name": "stdout",
     "output_type": "stream",
     "text": [
      "bdl_run_S600_noom_a05 bdl_run_S600_noom_a05\n",
      "../output_mark_wave/output_mark_wave_ensemble=1_301_120_720.000000_bdl_run_S600_noom_a05.dat\n"
     ]
    },
    {
     "name": "stderr",
     "output_type": "stream",
     "text": [
      "/home/ray/anaconda3/envs/playground/lib/python3.7/site-packages/ipykernel_launcher.py:96: VisibleDeprecationWarning: Creating an ndarray from ragged nested sequences (which is a list-or-tuple of lists-or-tuples-or ndarrays with different lengths or shapes) is deprecated. If you meant to do this, you must specify 'dtype=object' when creating the ndarray.\n"
     ]
    },
    {
     "name": "stdout",
     "output_type": "stream",
     "text": [
      "(32, 301, 34)\n",
      "bdl_run_S600_noom_a05 bdl_run_S600_noom_a05\n",
      "../output_mark_wave/output_mark_wave_ensemble=1_301_120_720.000000_bdl_run_S600_noom_a05.dat\n"
     ]
    },
    {
     "name": "stderr",
     "output_type": "stream",
     "text": [
      "/home/ray/git-projects/RKLM_Reference/visualiser_debugger/plotting_tools.py:168: UserWarning: No contour levels were found within the data range.\n",
      "  im = cax.contour(arr,linewidths=1.0,colors='k',levels=lvls)\n"
     ]
    },
    {
     "name": "stdout",
     "output_type": "stream",
     "text": [
      "bdl_run_S600_noom_a05 bdl_run_S600_noom_a05\n",
      "../output_mark_wave/output_mark_wave_ensemble=1_301_120_720.000000_bdl_run_S600_noom_a05.dat\n",
      "bdl_run_S600_noom_a05 bdl_run_S600_noom_a05\n",
      "../output_mark_wave/output_mark_wave_ensemble=1_301_120_720.000000_bdl_run_S600_noom_a05.dat\n"
     ]
    },
    {
     "name": "stderr",
     "output_type": "stream",
     "text": [
      "/home/ray/anaconda3/envs/playground/lib/python3.7/site-packages/ipykernel_launcher.py:96: VisibleDeprecationWarning: Creating an ndarray from ragged nested sequences (which is a list-or-tuple of lists-or-tuples-or ndarrays with different lengths or shapes) is deprecated. If you meant to do this, you must specify 'dtype=object' when creating the ndarray.\n"
     ]
    },
    {
     "name": "stdout",
     "output_type": "stream",
     "text": [
      "bdl_run_S600_noom_a05 bdl_run_S600_noom_a05\n",
      "../output_mark_wave/output_mark_wave_ensemble=1_301_120_720.000000_bdl_run_S600_noom_a05.dat\n"
     ]
    },
    {
     "name": "stderr",
     "output_type": "stream",
     "text": [
      "/home/ray/anaconda3/envs/playground/lib/python3.7/site-packages/ipykernel_launcher.py:96: VisibleDeprecationWarning: Creating an ndarray from ragged nested sequences (which is a list-or-tuple of lists-or-tuples-or ndarrays with different lengths or shapes) is deprecated. If you meant to do this, you must specify 'dtype=object' when creating the ndarray.\n"
     ]
    },
    {
     "name": "stdout",
     "output_type": "stream",
     "text": [
      "bdl_run_S600_noom_a05 bdl_run_S600_noom_a05\n",
      "../output_mark_wave/output_mark_wave_ensemble=1_301_120_720.000000_bdl_run_S600_noom_a05.dat\n"
     ]
    },
    {
     "name": "stderr",
     "output_type": "stream",
     "text": [
      "/home/ray/anaconda3/envs/playground/lib/python3.7/site-packages/ipykernel_launcher.py:96: VisibleDeprecationWarning: Creating an ndarray from ragged nested sequences (which is a list-or-tuple of lists-or-tuples-or ndarrays with different lengths or shapes) is deprecated. If you meant to do this, you must specify 'dtype=object' when creating the ndarray.\n"
     ]
    },
    {
     "name": "stdout",
     "output_type": "stream",
     "text": [
      "bdl_run_S600_noom_a05 bdl_run_S600_noom_a05\n",
      "../output_mark_wave/output_mark_wave_ensemble=1_301_120_720.000000_bdl_run_S600_noom_a05.dat\n"
     ]
    },
    {
     "name": "stderr",
     "output_type": "stream",
     "text": [
      "/home/ray/anaconda3/envs/playground/lib/python3.7/site-packages/ipykernel_launcher.py:96: VisibleDeprecationWarning: Creating an ndarray from ragged nested sequences (which is a list-or-tuple of lists-or-tuples-or ndarrays with different lengths or shapes) is deprecated. If you meant to do this, you must specify 'dtype=object' when creating the ndarray.\n"
     ]
    },
    {
     "name": "stdout",
     "output_type": "stream",
     "text": [
      "bdl_run_S600_noom_a05 bdl_run_S600_noom_a05\n",
      "../output_mark_wave/output_mark_wave_ensemble=1_301_120_720.000000_bdl_run_S600_noom_a05.dat\n"
     ]
    },
    {
     "name": "stderr",
     "output_type": "stream",
     "text": [
      "/home/ray/anaconda3/envs/playground/lib/python3.7/site-packages/ipykernel_launcher.py:96: VisibleDeprecationWarning: Creating an ndarray from ragged nested sequences (which is a list-or-tuple of lists-or-tuples-or ndarrays with different lengths or shapes) is deprecated. If you meant to do this, you must specify 'dtype=object' when creating the ndarray.\n"
     ]
    },
    {
     "name": "stdout",
     "output_type": "stream",
     "text": [
      "bdl_run_S600_noom_a05 bdl_run_S600_noom_a05\n",
      "../output_mark_wave/output_mark_wave_ensemble=1_301_120_720.000000_bdl_run_S600_noom_a05.dat\n"
     ]
    },
    {
     "name": "stderr",
     "output_type": "stream",
     "text": [
      "/home/ray/anaconda3/envs/playground/lib/python3.7/site-packages/ipykernel_launcher.py:96: VisibleDeprecationWarning: Creating an ndarray from ragged nested sequences (which is a list-or-tuple of lists-or-tuples-or ndarrays with different lengths or shapes) is deprecated. If you meant to do this, you must specify 'dtype=object' when creating the ndarray.\n"
     ]
    },
    {
     "name": "stdout",
     "output_type": "stream",
     "text": [
      "bdl_run_S600_noom_a05 bdl_run_S600_noom_a05\n",
      "../output_mark_wave/output_mark_wave_ensemble=1_301_120_720.000000_bdl_run_S600_noom_a05.dat\n"
     ]
    },
    {
     "name": "stderr",
     "output_type": "stream",
     "text": [
      "/home/ray/anaconda3/envs/playground/lib/python3.7/site-packages/ipykernel_launcher.py:96: VisibleDeprecationWarning: Creating an ndarray from ragged nested sequences (which is a list-or-tuple of lists-or-tuples-or ndarrays with different lengths or shapes) is deprecated. If you meant to do this, you must specify 'dtype=object' when creating the ndarray.\n"
     ]
    },
    {
     "name": "stdout",
     "output_type": "stream",
     "text": [
      "bdl_run_S600_noom_a05 bdl_run_S600_noom_a05\n",
      "../output_mark_wave/output_mark_wave_ensemble=1_301_120_720.000000_bdl_run_S600_noom_a05.dat\n"
     ]
    },
    {
     "name": "stderr",
     "output_type": "stream",
     "text": [
      "/home/ray/anaconda3/envs/playground/lib/python3.7/site-packages/ipykernel_launcher.py:96: VisibleDeprecationWarning: Creating an ndarray from ragged nested sequences (which is a list-or-tuple of lists-or-tuples-or ndarrays with different lengths or shapes) is deprecated. If you meant to do this, you must specify 'dtype=object' when creating the ndarray.\n"
     ]
    },
    {
     "name": "stdout",
     "output_type": "stream",
     "text": [
      "bdl_run_S600_noom_a05 bdl_run_S600_noom_a05\n",
      "../output_mark_wave/output_mark_wave_ensemble=1_301_120_720.000000_bdl_run_S600_noom_a05.dat\n"
     ]
    },
    {
     "name": "stderr",
     "output_type": "stream",
     "text": [
      "/home/ray/anaconda3/envs/playground/lib/python3.7/site-packages/ipykernel_launcher.py:96: VisibleDeprecationWarning: Creating an ndarray from ragged nested sequences (which is a list-or-tuple of lists-or-tuples-or ndarrays with different lengths or shapes) is deprecated. If you meant to do this, you must specify 'dtype=object' when creating the ndarray.\n"
     ]
    },
    {
     "name": "stdout",
     "output_type": "stream",
     "text": [
      "bdl_run_S600_noom_a05 bdl_run_S600_noom_a05\n",
      "../output_mark_wave/output_mark_wave_ensemble=1_301_120_720.000000_bdl_run_S600_noom_a05.dat\n"
     ]
    },
    {
     "name": "stderr",
     "output_type": "stream",
     "text": [
      "/home/ray/anaconda3/envs/playground/lib/python3.7/site-packages/ipykernel_launcher.py:96: VisibleDeprecationWarning: Creating an ndarray from ragged nested sequences (which is a list-or-tuple of lists-or-tuples-or ndarrays with different lengths or shapes) is deprecated. If you meant to do this, you must specify 'dtype=object' when creating the ndarray.\n"
     ]
    },
    {
     "name": "stdout",
     "output_type": "stream",
     "text": [
      "bdl_run_S600_noom_a05 bdl_run_S600_noom_a05\n",
      "../output_mark_wave/output_mark_wave_ensemble=1_301_120_720.000000_bdl_run_S600_noom_a05.dat\n"
     ]
    },
    {
     "name": "stderr",
     "output_type": "stream",
     "text": [
      "/home/ray/anaconda3/envs/playground/lib/python3.7/site-packages/ipykernel_launcher.py:96: VisibleDeprecationWarning: Creating an ndarray from ragged nested sequences (which is a list-or-tuple of lists-or-tuples-or ndarrays with different lengths or shapes) is deprecated. If you meant to do this, you must specify 'dtype=object' when creating the ndarray.\n"
     ]
    },
    {
     "name": "stdout",
     "output_type": "stream",
     "text": [
      "bdl_run_S600_noom_a05 bdl_run_S600_noom_a05\n",
      "../output_mark_wave/output_mark_wave_ensemble=1_301_120_720.000000_bdl_run_S600_noom_a05.dat\n"
     ]
    },
    {
     "name": "stderr",
     "output_type": "stream",
     "text": [
      "/home/ray/anaconda3/envs/playground/lib/python3.7/site-packages/ipykernel_launcher.py:96: VisibleDeprecationWarning: Creating an ndarray from ragged nested sequences (which is a list-or-tuple of lists-or-tuples-or ndarrays with different lengths or shapes) is deprecated. If you meant to do this, you must specify 'dtype=object' when creating the ndarray.\n"
     ]
    },
    {
     "name": "stdout",
     "output_type": "stream",
     "text": [
      "bdl_run_S600_noom_a05 bdl_run_S600_noom_a05\n",
      "../output_mark_wave/output_mark_wave_ensemble=1_301_120_720.000000_bdl_run_S600_noom_a05.dat\n"
     ]
    },
    {
     "name": "stderr",
     "output_type": "stream",
     "text": [
      "/home/ray/anaconda3/envs/playground/lib/python3.7/site-packages/ipykernel_launcher.py:96: VisibleDeprecationWarning: Creating an ndarray from ragged nested sequences (which is a list-or-tuple of lists-or-tuples-or ndarrays with different lengths or shapes) is deprecated. If you meant to do this, you must specify 'dtype=object' when creating the ndarray.\n"
     ]
    },
    {
     "name": "stdout",
     "output_type": "stream",
     "text": [
      "bdl_run_S600_noom_a05 bdl_run_S600_noom_a05\n",
      "../output_mark_wave/output_mark_wave_ensemble=1_301_120_720.000000_bdl_run_S600_noom_a05.dat\n"
     ]
    },
    {
     "name": "stderr",
     "output_type": "stream",
     "text": [
      "/home/ray/anaconda3/envs/playground/lib/python3.7/site-packages/ipykernel_launcher.py:96: VisibleDeprecationWarning: Creating an ndarray from ragged nested sequences (which is a list-or-tuple of lists-or-tuples-or ndarrays with different lengths or shapes) is deprecated. If you meant to do this, you must specify 'dtype=object' when creating the ndarray.\n"
     ]
    },
    {
     "name": "stdout",
     "output_type": "stream",
     "text": [
      "bdl_run_S600_noom_a05 bdl_run_S600_noom_a05\n",
      "../output_mark_wave/output_mark_wave_ensemble=1_301_120_720.000000_bdl_run_S600_noom_a05.dat\n"
     ]
    },
    {
     "name": "stderr",
     "output_type": "stream",
     "text": [
      "/home/ray/anaconda3/envs/playground/lib/python3.7/site-packages/ipykernel_launcher.py:96: VisibleDeprecationWarning: Creating an ndarray from ragged nested sequences (which is a list-or-tuple of lists-or-tuples-or ndarrays with different lengths or shapes) is deprecated. If you meant to do this, you must specify 'dtype=object' when creating the ndarray.\n"
     ]
    },
    {
     "name": "stdout",
     "output_type": "stream",
     "text": [
      "bdl_run_S600_noom_a05 bdl_run_S600_noom_a05\n",
      "../output_mark_wave/output_mark_wave_ensemble=1_301_120_720.000000_bdl_run_S600_noom_a05.dat\n"
     ]
    },
    {
     "name": "stderr",
     "output_type": "stream",
     "text": [
      "/home/ray/anaconda3/envs/playground/lib/python3.7/site-packages/ipykernel_launcher.py:96: VisibleDeprecationWarning: Creating an ndarray from ragged nested sequences (which is a list-or-tuple of lists-or-tuples-or ndarrays with different lengths or shapes) is deprecated. If you meant to do this, you must specify 'dtype=object' when creating the ndarray.\n"
     ]
    },
    {
     "name": "stdout",
     "output_type": "stream",
     "text": [
      "bdl_run_S600_noom_a05 bdl_run_S600_noom_a05\n",
      "../output_mark_wave/output_mark_wave_ensemble=1_301_120_720.000000_bdl_run_S600_noom_a05.dat\n"
     ]
    },
    {
     "name": "stderr",
     "output_type": "stream",
     "text": [
      "/home/ray/anaconda3/envs/playground/lib/python3.7/site-packages/ipykernel_launcher.py:96: VisibleDeprecationWarning: Creating an ndarray from ragged nested sequences (which is a list-or-tuple of lists-or-tuples-or ndarrays with different lengths or shapes) is deprecated. If you meant to do this, you must specify 'dtype=object' when creating the ndarray.\n"
     ]
    },
    {
     "name": "stdout",
     "output_type": "stream",
     "text": [
      "bdl_run_S600_noom_a05 bdl_run_S600_noom_a05\n",
      "../output_mark_wave/output_mark_wave_ensemble=1_301_120_720.000000_bdl_run_S600_noom_a05.dat\n"
     ]
    },
    {
     "name": "stderr",
     "output_type": "stream",
     "text": [
      "/home/ray/anaconda3/envs/playground/lib/python3.7/site-packages/ipykernel_launcher.py:96: VisibleDeprecationWarning: Creating an ndarray from ragged nested sequences (which is a list-or-tuple of lists-or-tuples-or ndarrays with different lengths or shapes) is deprecated. If you meant to do this, you must specify 'dtype=object' when creating the ndarray.\n"
     ]
    },
    {
     "name": "stdout",
     "output_type": "stream",
     "text": [
      "bdl_run_S600_noom_a05 bdl_run_S600_noom_a05\n",
      "../output_mark_wave/output_mark_wave_ensemble=1_301_120_720.000000_bdl_run_S600_noom_a05.dat\n"
     ]
    },
    {
     "name": "stderr",
     "output_type": "stream",
     "text": [
      "/home/ray/anaconda3/envs/playground/lib/python3.7/site-packages/ipykernel_launcher.py:96: VisibleDeprecationWarning: Creating an ndarray from ragged nested sequences (which is a list-or-tuple of lists-or-tuples-or ndarrays with different lengths or shapes) is deprecated. If you meant to do this, you must specify 'dtype=object' when creating the ndarray.\n"
     ]
    },
    {
     "name": "stdout",
     "output_type": "stream",
     "text": [
      "bdl_run_S600_noom_a05 bdl_run_S600_noom_a05\n",
      "../output_mark_wave/output_mark_wave_ensemble=1_301_120_720.000000_bdl_run_S600_noom_a05.dat\n"
     ]
    },
    {
     "name": "stderr",
     "output_type": "stream",
     "text": [
      "/home/ray/anaconda3/envs/playground/lib/python3.7/site-packages/ipykernel_launcher.py:96: VisibleDeprecationWarning: Creating an ndarray from ragged nested sequences (which is a list-or-tuple of lists-or-tuples-or ndarrays with different lengths or shapes) is deprecated. If you meant to do this, you must specify 'dtype=object' when creating the ndarray.\n"
     ]
    },
    {
     "name": "stdout",
     "output_type": "stream",
     "text": [
      "bdl_run_S600_noom_a05 bdl_run_S600_noom_a05\n",
      "../output_mark_wave/output_mark_wave_ensemble=1_301_120_720.000000_bdl_run_S600_noom_a05.dat\n"
     ]
    },
    {
     "name": "stderr",
     "output_type": "stream",
     "text": [
      "/home/ray/anaconda3/envs/playground/lib/python3.7/site-packages/ipykernel_launcher.py:96: VisibleDeprecationWarning: Creating an ndarray from ragged nested sequences (which is a list-or-tuple of lists-or-tuples-or ndarrays with different lengths or shapes) is deprecated. If you meant to do this, you must specify 'dtype=object' when creating the ndarray.\n"
     ]
    },
    {
     "name": "stdout",
     "output_type": "stream",
     "text": [
      "bdl_run_S600_noom_a05 bdl_run_S600_noom_a05\n",
      "../output_mark_wave/output_mark_wave_ensemble=1_301_120_720.000000_bdl_run_S600_noom_a05.dat\n"
     ]
    },
    {
     "name": "stderr",
     "output_type": "stream",
     "text": [
      "/home/ray/anaconda3/envs/playground/lib/python3.7/site-packages/ipykernel_launcher.py:96: VisibleDeprecationWarning: Creating an ndarray from ragged nested sequences (which is a list-or-tuple of lists-or-tuples-or ndarrays with different lengths or shapes) is deprecated. If you meant to do this, you must specify 'dtype=object' when creating the ndarray.\n"
     ]
    },
    {
     "name": "stdout",
     "output_type": "stream",
     "text": [
      "bdl_run_S600_noom_a05 bdl_run_S600_noom_a05\n",
      "../output_mark_wave/output_mark_wave_ensemble=1_301_120_720.000000_bdl_run_S600_noom_a05.dat\n"
     ]
    },
    {
     "name": "stderr",
     "output_type": "stream",
     "text": [
      "/home/ray/anaconda3/envs/playground/lib/python3.7/site-packages/ipykernel_launcher.py:96: VisibleDeprecationWarning: Creating an ndarray from ragged nested sequences (which is a list-or-tuple of lists-or-tuples-or ndarrays with different lengths or shapes) is deprecated. If you meant to do this, you must specify 'dtype=object' when creating the ndarray.\n"
     ]
    },
    {
     "name": "stdout",
     "output_type": "stream",
     "text": [
      "bdl_run_S600_noom_a05 bdl_run_S600_noom_a05\n",
      "../output_mark_wave/output_mark_wave_ensemble=1_301_120_720.000000_bdl_run_S600_noom_a05.dat\n"
     ]
    },
    {
     "name": "stderr",
     "output_type": "stream",
     "text": [
      "/home/ray/anaconda3/envs/playground/lib/python3.7/site-packages/ipykernel_launcher.py:96: VisibleDeprecationWarning: Creating an ndarray from ragged nested sequences (which is a list-or-tuple of lists-or-tuples-or ndarrays with different lengths or shapes) is deprecated. If you meant to do this, you must specify 'dtype=object' when creating the ndarray.\n"
     ]
    },
    {
     "name": "stdout",
     "output_type": "stream",
     "text": [
      "bdl_run_S600_noom_a05 bdl_run_S600_noom_a05\n",
      "../output_mark_wave/output_mark_wave_ensemble=1_301_120_720.000000_bdl_run_S600_noom_a05.dat\n"
     ]
    },
    {
     "name": "stderr",
     "output_type": "stream",
     "text": [
      "/home/ray/anaconda3/envs/playground/lib/python3.7/site-packages/ipykernel_launcher.py:96: VisibleDeprecationWarning: Creating an ndarray from ragged nested sequences (which is a list-or-tuple of lists-or-tuples-or ndarrays with different lengths or shapes) is deprecated. If you meant to do this, you must specify 'dtype=object' when creating the ndarray.\n"
     ]
    },
    {
     "name": "stdout",
     "output_type": "stream",
     "text": [
      "bdl_run_S600_noom_a05 bdl_run_S600_noom_a05\n",
      "../output_mark_wave/output_mark_wave_ensemble=1_301_120_720.000000_bdl_run_S600_noom_a05.dat\n"
     ]
    },
    {
     "name": "stderr",
     "output_type": "stream",
     "text": [
      "/home/ray/anaconda3/envs/playground/lib/python3.7/site-packages/ipykernel_launcher.py:96: VisibleDeprecationWarning: Creating an ndarray from ragged nested sequences (which is a list-or-tuple of lists-or-tuples-or ndarrays with different lengths or shapes) is deprecated. If you meant to do this, you must specify 'dtype=object' when creating the ndarray.\n"
     ]
    },
    {
     "name": "stdout",
     "output_type": "stream",
     "text": [
      "bdl_run_S600_noom_a05 bdl_run_S600_noom_a05\n",
      "../output_mark_wave/output_mark_wave_ensemble=1_301_120_720.000000_bdl_run_S600_noom_a05.dat\n"
     ]
    },
    {
     "name": "stderr",
     "output_type": "stream",
     "text": [
      "/home/ray/anaconda3/envs/playground/lib/python3.7/site-packages/ipykernel_launcher.py:96: VisibleDeprecationWarning: Creating an ndarray from ragged nested sequences (which is a list-or-tuple of lists-or-tuples-or ndarrays with different lengths or shapes) is deprecated. If you meant to do this, you must specify 'dtype=object' when creating the ndarray.\n"
     ]
    },
    {
     "name": "stdout",
     "output_type": "stream",
     "text": [
      "bdl_run_S600_noom_a05 bdl_run_S600_noom_a05\n",
      "../output_mark_wave/output_mark_wave_ensemble=1_301_120_720.000000_bdl_run_S600_noom_a05.dat\n"
     ]
    },
    {
     "name": "stderr",
     "output_type": "stream",
     "text": [
      "/home/ray/anaconda3/envs/playground/lib/python3.7/site-packages/ipykernel_launcher.py:96: VisibleDeprecationWarning: Creating an ndarray from ragged nested sequences (which is a list-or-tuple of lists-or-tuples-or ndarrays with different lengths or shapes) is deprecated. If you meant to do this, you must specify 'dtype=object' when creating the ndarray.\n"
     ]
    },
    {
     "name": "stdout",
     "output_type": "stream",
     "text": [
      "bdl_run_S600_noom_a05 bdl_run_S600_noom_a05\n",
      "../output_mark_wave/output_mark_wave_ensemble=1_301_120_720.000000_bdl_run_S600_noom_a05.dat\n"
     ]
    },
    {
     "name": "stderr",
     "output_type": "stream",
     "text": [
      "/home/ray/anaconda3/envs/playground/lib/python3.7/site-packages/ipykernel_launcher.py:96: VisibleDeprecationWarning: Creating an ndarray from ragged nested sequences (which is a list-or-tuple of lists-or-tuples-or ndarrays with different lengths or shapes) is deprecated. If you meant to do this, you must specify 'dtype=object' when creating the ndarray.\n"
     ]
    }
   ],
   "source": [
    "l_typ = 'WINDOW_STEP'\n",
    "diff = False\n",
    "attr_labels = pt.labels()\n",
    "\n",
    "tp ='afs'\n",
    "tag = 'after_full_step'\n",
    "time_unit = 's'\n",
    "N = 1\n",
    "\n",
    "times0 = np.arange(31)\n",
    "\n",
    "Nxs = [301]\n",
    "Nys = [120]\n",
    "Nts = [200,400,600,800,1000,1200]\n",
    "Nts = [600]\n",
    "oms = ['', '_noom']\n",
    "\n",
    "lu = np.arange(-0.004/2,0.004/2+0.0005,0.0005)\n",
    "lv = np.arange(-0.0008/2,0.0008/2+0.0001,0.0001)\n",
    "lrhoY = np.arange(-0.0006/2,0.0006/2+0.000075,0.000075)\n",
    "lp2n = np.arange(-0.001,0.00125,0.00025)\n",
    "lvls = [lu,lv,lrhoY,lp2n]\n",
    "\n",
    "for Nx, Ny in zip(Nxs,Nys):\n",
    "    NIDX = int(Ny/4+4)\n",
    "#     print('NIDX = %i' %NIDX)\n",
    "    \n",
    "    for Nt in Nts:\n",
    "        for om in oms:\n",
    "            typ1 = 'bdl_run_S%i%s_a05' %(Nt,om)\n",
    "            _,ics,tc = get_arr(typ1,times0, NIDX, tp=tp, et=720.0)\n",
    "            \n",
    "            ud, mpv = ics[0], ics[1]\n",
    "            _ = get_ens_all(tc, times0, typ1, False, 'rho', tag, NIDX)[:]\n",
    "\n",
    "            t_axs = np.append(0,times0)\n",
    "            phys_time = tc.t_arr\n",
    "\n",
    "            if '_noom_' in typ1:\n",
    "                tcase = 'wo_omega'\n",
    "                tstr = r'0.0'\n",
    "                fld = 'noom'\n",
    "            else:\n",
    "                tcase = 'a05'\n",
    "                tstr = '%.6f' %(ud.coriolis_strength[2] / ud.t_ref)\n",
    "                fld = 'om'\n",
    "\n",
    "            for idx,time in enumerate(times0):\n",
    "                tp = 'ic' if time == 0 else 'afs'\n",
    "                aa2,ics,_ = get_arr(typ1,[time], NIDX, tp=tp, et=720.0)\n",
    "                ud, mpv = ics[0], ics[1]\n",
    "                ct = 0.0 if time == 0 else time\n",
    "\n",
    "                pl_lst = aa2\n",
    "                pl = pt.plotter(pl_lst,ncols=2,figsize=(32,20),sharey=False, fontsize=32)\n",
    "                x_axs = np.array(np.linspace(ud.xmin,ud.xmax,7))\n",
    "                y_axs = np.array(np.linspace(ud.ymin,ud.ymax,6))\n",
    "\n",
    "                x_axs = np.around(x_axs,3)\n",
    "                y_axs = np.around(y_axs/4,1)\n",
    "\n",
    "                x_loc = np.linspace(0,Nx-1,7)\n",
    "                y_loc = np.linspace(0,Ny/4-1,6)\n",
    "\n",
    "                x_label = r'x [$\\times 10$ km]'\n",
    "                y_label = r'y [$\\times 10$ km]'\n",
    "\n",
    "                pl.set_axes(x_locs=x_loc, y_locs=y_loc, x_axs=x_axs, y_axs=y_axs, x_label=x_label, y_label=y_label)\n",
    "\n",
    "                tu = ud.t_ref#/3600\n",
    "                stitle = r'$\\Omega_y = %s s^{-1}$, time-step = %i, time = %.2f %s' %(tstr, idx, phys_time[idx]*tu, time_unit)\n",
    "                _ = pl.plot(method='contour', lvls=lvls, suptitle=stitle, rect=[0, 0.03, 1, 0.95])\n",
    "\n",
    "                fld_pth = './output_mark/%ix%i/S%i/%s' %(Nx,Ny,Nt,fld)\n",
    "                if not os.path.exists(fld_pth):\n",
    "                    os.makedirs(fld_pth)\n",
    "                    \n",
    "                pl.save_fig('%s/lamb_%s_%.3d' %(fld_pth, tcase,ct), format='.png')\n",
    "                plt.close()"
   ]
  },
  {
   "cell_type": "code",
   "execution_count": 3,
   "id": "0c607597-3c4a-4f6c-9665-0258418d1c02",
   "metadata": {},
   "outputs": [],
   "source": [
    "def get_norm(typ, times, NIDX):\n",
    "    _,ics,tc = get_arr(typ,times, NIDX, tp=tp, et=720.0)\n",
    "    ud, mpv = ics\n",
    "    tt = times\n",
    "    \n",
    "    rhos = get_ens_all(tc, tt, typ, False, 'rho', tag, NIDX)[:]\n",
    "    arrs_rhou = get_ens_all(tc, tt, typ, False, attribute, tag, NIDX)[:]\n",
    "    arrs_rhov = get_ens_all(tc, tt, typ, False, 'rhov', tag, NIDX)[:]\n",
    "    arrs_rhoY = get_ens_all(tc, tt, typ, False, 'rhoY', tag, NIDX)[:]\n",
    "    arrs_pi = get_ens_all(tc, tt, typ, False, 'p2_nodes', tag, NIDX+1)[:]\n",
    "\n",
    "    rhobar = mpv.HydroState.rho0[:NIDX]#[2:-2]\n",
    "    uhat = arrs_rhou / rhos * rhobar**0.5 * (ud.u_ref * np.sqrt(ud.rho_ref))\n",
    "    vhat = arrs_rhov / rhos * rhobar**0.5 * (ud.u_ref * np.sqrt(ud.rho_ref))\n",
    "    Nfq = ud.Nsq_ref**0.5\n",
    "    g = ud.gravity_strength[1] * ud.u_ref / ud.t_ref\n",
    "    Ybar = mpv.HydroState.Y0[:NIDX]#[2:-2]\n",
    "    Yhat = g / Nfq * (rhobar**0.5 * np.sqrt(ud.rho_ref)) / Ybar * (arrs_rhoY / rhos - Ybar)\n",
    "    p2c = np.array([signal.fftconvolve(mem,[[1,1],[1,1]], mode='valid')/4.0 for mem in arrs_pi])\n",
    "    C = (ud.u_ref * np.sqrt(1.4/ud.Msq))\n",
    "    p2hat = 1.0 / C * (rhobar**0.5 * np.sqrt(ud.rho_ref)) * Ybar * p2c * ud.T_ref #* ud.Msq\n",
    "\n",
    "    t_axs = np.array(tc.t_arr)\n",
    "    tt = t_axs * ud.t_ref\n",
    "\n",
    "    res = []\n",
    "    for idx, arr in enumerate(arrs_rhou):\n",
    "        u = uhat[idx]\n",
    "        v = vhat[idx]\n",
    "        Y = Yhat[idx]\n",
    "        p = p2hat[idx]\n",
    "        nnorm = np.array([u,v,Y,p])\n",
    "        res.append(0.5*la.norm(nnorm)**2)\n",
    "\n",
    "    res = np.array(res)\n",
    "    \n",
    "    return res, ud, tt"
   ]
  },
  {
   "cell_type": "code",
   "execution_count": null,
   "id": "b6528fec-f0df-4593-a323-3950a8dfa029",
   "metadata": {},
   "outputs": [
    {
     "name": "stderr",
     "output_type": "stream",
     "text": [
      "/home/ray/anaconda3/envs/playground/lib/python3.7/site-packages/ipykernel_launcher.py:96: VisibleDeprecationWarning: Creating an ndarray from ragged nested sequences (which is a list-or-tuple of lists-or-tuples-or ndarrays with different lengths or shapes) is deprecated. If you meant to do this, you must specify 'dtype=object' when creating the ndarray.\n"
     ]
    },
    {
     "name": "stdout",
     "output_type": "stream",
     "text": [
      "3\n"
     ]
    },
    {
     "data": {
      "image/png": "[encoded data removed]",
      "text/plain": [
       "<Figure size 576x432 with 1 Axes>"
      ]
     },
     "metadata": {
      "needs_background": "light"
     },
     "output_type": "display_data"
    },
    {
     "name": "stdout",
     "output_type": "stream",
     "text": [
      "151 60 200\n"
     ]
    },
    {
     "name": "stderr",
     "output_type": "stream",
     "text": [
      "/home/ray/anaconda3/envs/playground/lib/python3.7/site-packages/ipykernel_launcher.py:96: VisibleDeprecationWarning: Creating an ndarray from ragged nested sequences (which is a list-or-tuple of lists-or-tuples-or ndarrays with different lengths or shapes) is deprecated. If you meant to do this, you must specify 'dtype=object' when creating the ndarray.\n"
     ]
    },
    {
     "name": "stdout",
     "output_type": "stream",
     "text": [
      "3\n"
     ]
    },
    {
     "data": {
      "image/png": "[encoded data removed]",
      "text/plain": [
       "<Figure size 576x432 with 1 Axes>"
      ]
     },
     "metadata": {
      "needs_background": "light"
     },
     "output_type": "display_data"
    },
    {
     "name": "stdout",
     "output_type": "stream",
     "text": [
      "151 60 400\n"
     ]
    },
    {
     "name": "stderr",
     "output_type": "stream",
     "text": [
      "/home/ray/anaconda3/envs/playground/lib/python3.7/site-packages/ipykernel_launcher.py:96: VisibleDeprecationWarning: Creating an ndarray from ragged nested sequences (which is a list-or-tuple of lists-or-tuples-or ndarrays with different lengths or shapes) is deprecated. If you meant to do this, you must specify 'dtype=object' when creating the ndarray.\n"
     ]
    },
    {
     "name": "stdout",
     "output_type": "stream",
     "text": [
      "2\n"
     ]
    },
    {
     "data": {
      "image/png": "[encoded data removed]",
      "text/plain": [
       "<Figure size 576x432 with 1 Axes>"
      ]
     },
     "metadata": {
      "needs_background": "light"
     },
     "output_type": "display_data"
    },
    {
     "name": "stdout",
     "output_type": "stream",
     "text": [
      "151 60 600\n"
     ]
    },
    {
     "name": "stderr",
     "output_type": "stream",
     "text": [
      "/home/ray/anaconda3/envs/playground/lib/python3.7/site-packages/ipykernel_launcher.py:96: VisibleDeprecationWarning: Creating an ndarray from ragged nested sequences (which is a list-or-tuple of lists-or-tuples-or ndarrays with different lengths or shapes) is deprecated. If you meant to do this, you must specify 'dtype=object' when creating the ndarray.\n"
     ]
    },
    {
     "name": "stdout",
     "output_type": "stream",
     "text": [
      "2\n"
     ]
    },
    {
     "data": {
      "image/png": "[encoded data removed]",
      "text/plain": [
       "<Figure size 576x432 with 1 Axes>"
      ]
     },
     "metadata": {
      "needs_background": "light"
     },
     "output_type": "display_data"
    },
    {
     "name": "stdout",
     "output_type": "stream",
     "text": [
      "151 60 800\n"
     ]
    },
    {
     "name": "stderr",
     "output_type": "stream",
     "text": [
      "/home/ray/anaconda3/envs/playground/lib/python3.7/site-packages/ipykernel_launcher.py:96: VisibleDeprecationWarning: Creating an ndarray from ragged nested sequences (which is a list-or-tuple of lists-or-tuples-or ndarrays with different lengths or shapes) is deprecated. If you meant to do this, you must specify 'dtype=object' when creating the ndarray.\n"
     ]
    },
    {
     "name": "stdout",
     "output_type": "stream",
     "text": [
      "2\n"
     ]
    },
    {
     "data": {
      "image/png": "[encoded data removed]",
      "text/plain": [
       "<Figure size 576x432 with 1 Axes>"
      ]
     },
     "metadata": {
      "needs_background": "light"
     },
     "output_type": "display_data"
    },
    {
     "name": "stdout",
     "output_type": "stream",
     "text": [
      "151 60 1000\n"
     ]
    },
    {
     "name": "stderr",
     "output_type": "stream",
     "text": [
      "/home/ray/anaconda3/envs/playground/lib/python3.7/site-packages/ipykernel_launcher.py:96: VisibleDeprecationWarning: Creating an ndarray from ragged nested sequences (which is a list-or-tuple of lists-or-tuples-or ndarrays with different lengths or shapes) is deprecated. If you meant to do this, you must specify 'dtype=object' when creating the ndarray.\n"
     ]
    },
    {
     "name": "stdout",
     "output_type": "stream",
     "text": [
      "2\n"
     ]
    },
    {
     "data": {
      "image/png": "[encoded data removed]",
      "text/plain": [
       "<Figure size 576x432 with 1 Axes>"
      ]
     },
     "metadata": {
      "needs_background": "light"
     },
     "output_type": "display_data"
    },
    {
     "name": "stdout",
     "output_type": "stream",
     "text": [
      "151 60 1200\n"
     ]
    },
    {
     "name": "stderr",
     "output_type": "stream",
     "text": [
      "/home/ray/anaconda3/envs/playground/lib/python3.7/site-packages/ipykernel_launcher.py:96: VisibleDeprecationWarning: Creating an ndarray from ragged nested sequences (which is a list-or-tuple of lists-or-tuples-or ndarrays with different lengths or shapes) is deprecated. If you meant to do this, you must specify 'dtype=object' when creating the ndarray.\n"
     ]
    },
    {
     "name": "stdout",
     "output_type": "stream",
     "text": [
      "3\n"
     ]
    },
    {
     "data": {
      "image/png": "[encoded data removed]",
      "text/plain": [
       "<Figure size 576x432 with 1 Axes>"
      ]
     },
     "metadata": {
      "needs_background": "light"
     },
     "output_type": "display_data"
    },
    {
     "name": "stdout",
     "output_type": "stream",
     "text": [
      "301 120 200\n"
     ]
    },
    {
     "name": "stderr",
     "output_type": "stream",
     "text": [
      "/home/ray/anaconda3/envs/playground/lib/python3.7/site-packages/ipykernel_launcher.py:96: VisibleDeprecationWarning: Creating an ndarray from ragged nested sequences (which is a list-or-tuple of lists-or-tuples-or ndarrays with different lengths or shapes) is deprecated. If you meant to do this, you must specify 'dtype=object' when creating the ndarray.\n"
     ]
    },
    {
     "name": "stdout",
     "output_type": "stream",
     "text": [
      "3\n"
     ]
    },
    {
     "data": {
      "image/png": "[encoded data removed]",
      "text/plain": [
       "<Figure size 576x432 with 1 Axes>"
      ]
     },
     "metadata": {
      "needs_background": "light"
     },
     "output_type": "display_data"
    },
    {
     "name": "stdout",
     "output_type": "stream",
     "text": [
      "301 120 400\n"
     ]
    }
   ],
   "source": [
    "from matplotlib.ticker import (FixedLocator)\n",
    "from matplotlib import ticker\n",
    "import matplotlib\n",
    "matplotlib.rcParams.update({'font.size': 12})\n",
    "\n",
    "from numpy import linalg as la\n",
    "\n",
    "l_typ = 'WINDOW_STEP'\n",
    "diff = False\n",
    "\n",
    "attr_labels = pt.labels()\n",
    "\n",
    "Nxs = [151,301,601,1201]\n",
    "Nys = [60,120,240,600]\n",
    "Nts = [200,400,600,800,1000,1200]\n",
    "\n",
    "N = 1\n",
    "et = 720.0\n",
    "nts = 50\n",
    "times0 = np.arange(nts)\n",
    "\n",
    "tp = 'afs'\n",
    "attribute = 'rhou'\n",
    "tag = 'after_full_step'\n",
    "\n",
    "for Nx, Ny in zip(Nxs,Nys):\n",
    "    for Nt in Nts:\n",
    "        typ1 = 'bdl_run_S%i_a05' %Nt\n",
    "        typ2 = 'bdl_run_S%i_noom_a05' %Nt\n",
    "        NIDX = int(Ny/4+4)\n",
    "\n",
    "        res_om, ud_om, tt_om = get_norm(typ1, times0, NIDX)\n",
    "        res_noom, ud_noom, tt_noom = get_norm(typ2, times0, NIDX)\n",
    "\n",
    "        fig = plt.figure(figsize=(8,6))\n",
    "        fig.add_subplot(111)\n",
    "        ax = plt.gca()\n",
    "\n",
    "        tu_om = ud_om.t_ref\n",
    "        tu_noom = ud_noom.t_ref\n",
    "        ax.semilogy(tt_om, res_om, '-o', label=r'$\\Omega_y = %.3e~s^{-1}$' %(ud_om.coriolis_strength[2] / tu_om / 2.0))\n",
    "        ax.semilogy(tt_noom, res_noom, '-o', label=r'$\\Omega_y = %.3e~s^{-1}$' %(ud_noom.coriolis_strength[2] / tu_noom / 2.0))\n",
    "\n",
    "        nexp = 3.0\n",
    "        def fth(t):\n",
    "            return (res_om[res_om.argmin()+1].min()*np.exp(10**(-nexp)*t))\n",
    "\n",
    "        tty = fth(tt_om)\n",
    "        tt = np.copy(tt_om)\n",
    "        tt += (tt_om)[np.argmin(res_om)]\n",
    "        lls = 3\n",
    "        while max(tty[:lls]) > max(res_om):\n",
    "            if lls == 2: break\n",
    "            lls -= 1\n",
    "        while (0.5 * np.log10(max(res_om))) > max(tty[:lls]):\n",
    "            lls += 1\n",
    "        print(lls)\n",
    "        tty = tty[:lls]\n",
    "        tt = tt[:lls]\n",
    "\n",
    "        ax.semilogy(tt, tty, 'C3--', label=r'$A(t) = A_0 \\exp(10^{-%.2f})[s^{-1}]$' %nexp)\n",
    "\n",
    "        formatter = ticker.ScalarFormatter()\n",
    "        formatter.set_scientific(True) \n",
    "        formatter.set_powerlimits((-1,1)) \n",
    "        ax.yaxis.set_major_formatter(formatter)\n",
    "\n",
    "        ymin, ymax = plt.gca().get_ylim()\n",
    "\n",
    "        ax.set_ylabel(r'$\\Vert \\psi \\Vert^2$')\n",
    "        t_units = 's'\n",
    "        ax.set_xlabel(\"time $t$ [%s]\" %t_units)\n",
    "        ax.set_title(\"(%i x %i) at S%i\" %(Nx,Ny,Nt))\n",
    "        ax.grid()\n",
    "        ax.legend()\n",
    "        plt.tight_layout()\n",
    "        ax.set_xlim([0.0,tt_om.max()])\n",
    "        fld_pth = './output_mark/%ix%i/S%i' %(Nx,Ny,Nt)\n",
    "        if not os.path.exists(fld_pth):\n",
    "            os.makedirs(fld_pth)\n",
    "        plt.savefig('./output_mark/%ix%i/S%i/plot.pdf' %(Nx,Ny,Nt))\n",
    "        plt.show()\n",
    "#         plt.()\n",
    "\n",
    "        print(Nx,Ny,Nt)"
   ]
  },
  {
   "cell_type": "code",
   "execution_count": null,
   "id": "29362833-8360-42e6-a6b9-f3024ee5f88c",
   "metadata": {},
   "outputs": [],
   "source": []
  }
 ],
 "metadata": {
  "kernelspec": {
   "display_name": "Python 3",
   "language": "python",
   "name": "python3"
  },
  "language_info": {
   "codemirror_mode": {
    "name": "ipython",
    "version": 3
   },
   "file_extension": ".py",
   "mimetype": "text/x-python",
   "name": "python",
   "nbconvert_exporter": "python",
   "pygments_lexer": "ipython3",
   "version": "3.7.10"
  }
 },
 "nbformat": 4,
 "nbformat_minor": 5
}
