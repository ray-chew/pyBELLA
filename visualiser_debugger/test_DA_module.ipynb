{
 "cells": [
  {
   "cell_type": "code",
   "execution_count": 4,
   "metadata": {},
   "outputs": [],
   "source": [
    "import numpy as np\n",
    "import matplotlib.pyplot as plt\n",
    "import sys\n",
    "import os\n",
    "sys.path.append(os.getcwd() + '/RKLM_Python/')\n",
    "# from data_assimilation import letkf\n",
    "\n",
    "from scipy.linalg import sqrtm\n",
    "\n",
    "import importlib\n",
    "# importlib.reload(letkf)\n",
    "# %matplotlib inline"
   ]
  },
  {
   "cell_type": "code",
   "execution_count": 18,
   "metadata": {},
   "outputs": [],
   "source": [
    "sigm = 10.\n",
    "rho = 28.\n",
    "beta = 8./3\n",
    "dt = 0.001\n",
    "Nout = int(50)\n",
    "a = 1. / np.sqrt(dt)\n",
    "fakt = 1.99999\n",
    "N = int(2 * 10**5)\n",
    "\n",
    "# initial conditions\n",
    "x = -.587\n",
    "y = -.563\n",
    "z = 16.870\n",
    "g1 = a * (1. / np.sqrt(2.) - .5)\n",
    "g2 = a * (1. / np.sqrt(3.) - .5)\n",
    "g3 = a * (1. / np.sqrt(5.) - .5)\n",
    "res = np.zeros((N,7))\n",
    "\n",
    "def gi(gi):\n",
    "    if ((gi >= -a/2) and gi < 0):\n",
    "        return a * (fakt * gi / a + 0.5)\n",
    "    else:\n",
    "        return a * (-fakt * gi / a + 0.5)\n",
    "        \n",
    "for i in range(N):\n",
    "    res[i,:] = [i, x, y, z, g1, g2, g3]\n",
    "    \n",
    "    g1 = gi(g1)\n",
    "    g2 = gi(g2)\n",
    "    g3 = gi(g3)\n",
    "    \n",
    "    xn = x + dt * (sigm * (y - x)) + dt * g1\n",
    "    yn = y + dt * (x * (rho - z) - y) + dt * g2\n",
    "    zn = z + dt * (x * y - beta * z) + dt * g3\n",
    "    \n",
    "    x, y, z = xn, yn, zn\n",
    "    \n",
    "res[:,0] *= dt\n",
    "\n",
    "# store only points with dt = 0.05\n",
    "ressug = res[::Nout]\n",
    "\n",
    "# add measurement error using tent map\n",
    "meas = np.zeros((int(N)*4,2))\n",
    "a = 4.\n",
    "fakt = 1.99999\n",
    "eta1 = a * (2.**(-1./2) - 0.5)\n",
    "\n",
    "for i in range(N*4):\n",
    "    if ((eta1 >= -a/2) and (eta1 < 0)):\n",
    "        eta1 = (fakt * eta1 + 0.5 * a)\n",
    "    else:\n",
    "        eta1 = (-fakt * eta1 + 0.5 * a)\n",
    "    meas[i] = [i+1, eta1]\n",
    "    \n",
    "measerr = meas[:,1][::10]\n",
    "\n",
    "# observation of x-component (dt = 0.05, first 200 datapoints)\n",
    "obsx = np.zeros((int(N/Nout),3))\n",
    "j = 0\n",
    "i = 0\n",
    "\n",
    "for k in range(0,N,Nout):\n",
    "    err = 1./20 * np.sum(measerr[j:j+20])\n",
    "    obsx[i] = [res[k,0], res[k,1], err]\n",
    "    i += 1\n",
    "    j += 20\n",
    "    \n",
    "obsx = np.array(obsx)\n",
    "obs = [obsx[:,0], obsx[:,1] + obsx[:,2]]\n",
    "obs = np.array(obs)"
   ]
  },
  {
   "cell_type": "code",
   "execution_count": 154,
   "metadata": {},
   "outputs": [],
   "source": [
    "def enkf_simple():\n",
    "    None\n",
    "    \n",
    "# def forward_operator(X,R,M):\n",
    "#     tmp = np.zeros_like(X.T)\n",
    "#     print(\"tmp.shape = \", tmp.shape)\n",
    "#     tmp[:,0] += np.sqrt(R) * np.random.randn(M)\n",
    "#     print(\"tmp = \", tmp)\n",
    "#     return lambda X : X + tmp\n",
    "\n",
    "def forward_operator(X):\n",
    "    return X[:,0]\n",
    "\n"
   ]
  },
  {
   "cell_type": "code",
   "execution_count": 155,
   "metadata": {
    "scrolled": true
   },
   "outputs": [],
   "source": [
    "STEPS = 5*40\n",
    "R = 1./15\n",
    "\n",
    "# recall that from example 4.8, the Lorenz model with drift term f(x) set to zero can be modelled \n",
    "# by a stochastic difference equation with mean = 0, var = 0.0838.\n",
    "var = 0.0838\n",
    "\n",
    "# sigma value given in example 6.9.\n",
    "sigma = 0.1\n",
    "\n",
    "NN = 20\n",
    "m = np.arange(1,NN+1)\n",
    "m = 2*m\n",
    "\n",
    "lenm = len(m)\n",
    "\n",
    "#m = np.array([4])\n",
    "\n",
    "rmse_x = np.zeros((lenm))\n",
    "rmse_y = np.zeros((lenm))\n",
    "rmse_z = np.zeros((lenm))\n",
    "\n",
    "for lkl in range(lenm):\n",
    "    M = m[lkl]\n",
    "    \n",
    "    x0 = -0.587\n",
    "    y0 = -0.563\n",
    "    z0 = 16.87\n",
    "    \n",
    "    x = x0 + np.sqrt(sigma) * np.random.randn(M)\n",
    "    y = y0 + np.sqrt(sigma) * np.random.randn(M)\n",
    "    z = z0 + np.sqrt(sigma) * np.random.randn(M)\n",
    "    t= np.zeros((STEPS+1))\n",
    "    \n",
    "    x_f = np.zeros((STEPS+1))\n",
    "    y_f = np.zeros((STEPS+1))\n",
    "    z_f = np.zeros((STEPS+1))\n",
    "    \n",
    "    x_f[0] = np.mean(x)\n",
    "    y_f[0] = np.mean(y)\n",
    "    z_f[0] = np.mean(z)\n",
    "    \n",
    "    rmse_x[lkl] = 0.\n",
    "    rmse_y[lkl] = 0.\n",
    "    rmse_z[lkl] = 0.\n",
    "    \n",
    "    cnt = 0\n",
    "    \n",
    "    for j in range(STEPS):\n",
    "        xh = x\n",
    "        yh = y\n",
    "        zh = z\n",
    "        \n",
    "        for i in range(Nout):\n",
    "            xo = xh\n",
    "            yo = yh\n",
    "            zo = zh\n",
    "            \n",
    "            # step within each observation window by means of the stochastic Lorenz-63 model\n",
    "            xh = xo + dt * 10. * (yo-xo) + np.sqrt(dt * var) * np.random.randn(M)\n",
    "            yh = yo + dt * (xo * (28. - zo) - yo) + np.sqrt(dt * var) * np.random.randn(M)\n",
    "            zh = zo + dt * (xo * yo - 8./3 * zo) + np.sqrt(dt * var) * np.random.randn(M)\n",
    "        \n",
    "        x = xh\n",
    "        y = yh\n",
    "        z = zh\n",
    "        \n",
    "        X = np.vstack((x,y,z))\n",
    "        \n",
    "        obs_current = np.array([obs[1,j+1]]).reshape(1,-1)\n",
    "    \n",
    "        analysis = letkf.analysis(X.T)\n",
    "        \n",
    "        forward_op = forward_operator\n",
    "        analysis.forward_operator = forward_op\n",
    "    \n",
    "        R_sp = np.array([R]).reshape(1,1)\n",
    "        \n",
    "        X = analysis.analyse(obs_current,R_sp).T\n",
    "\n",
    "###################################EnKF-PO#####################################\n",
    "\n",
    "        # Calculate residual: (forward map of reference - yobs)\n",
    "#         r = xh - obs[1,j+1]\n",
    "\n",
    "#         # Hz^f_i + eta_i - y_{obs} = rpert\n",
    "#         rpert = r + np.sqrt(R) * np.random.randn(M)\n",
    "#         dX = X - np.mean(X, axis=1).reshape(-1,1)\n",
    "\n",
    "#         P = dX[:,:,None] * dX.T[None,:,:]\n",
    "#         P = P.sum(axis=1)/(M-1)\n",
    "#         K = P[:,0] / (P[0,0] + R)\n",
    "#         X -= np.outer(K,rpert)\n",
    "\n",
    "###################################ESRF#######################################\n",
    "\n",
    "#         dX = X - np.mean(X, axis=1).reshape(-1,1)\n",
    "\n",
    "#         P = dX[:,:,None] * dX.T[None,:,:]\n",
    "#         print(\"P.shape = dX * dX.T = \", P.shape)\n",
    "#         P = P.sum(axis=1)/(M-1)\n",
    "#         print(\"P.shape after sum = \", P.shape)\n",
    "        \n",
    "        \n",
    "#         K = P[:,0] / (P[0,0] + R)\n",
    "#         print(\"K.shape = \", K.shape)\n",
    "        \n",
    "#         # mean of analysis, eqn 7.8\n",
    "#         xmean = np.mean(X,axis=1)\n",
    "#         xmean = xmean - K*(xmean[0] - obs[1,j+1])\n",
    "        \n",
    "#         # Get the S matrix, eqn 7.22\n",
    "#         Y = dX[0,:] / np.sqrt(M-1)\n",
    "#         Y = Y.reshape(-1,1) # to make transpose sensible - 1D arrays not transposable!\n",
    "#         S2 = np.linalg.inv(sqrtm(np.eye(M) + Y.T * Y / R)).real\n",
    "#         dX = np.dot(dX,S2)\n",
    "        \n",
    "#         X = xmean.reshape(-1,1) * np.ones(1,M) + dX\n",
    "        \n",
    "##############################################################################\n",
    "\n",
    "        x = X[0,:]\n",
    "        y = X[1,:]\n",
    "        z = X[2,:]\n",
    "        \n",
    "        x_f[j+1] = np.mean(x)\n",
    "        y_f[j+1] = np.mean(y)\n",
    "        z_f[j+1] = np.mean(z)\n",
    "        t[j+1] = dt * Nout * (j+1)\n",
    "        \n",
    "        rmse_x[lkl] = rmse_x[lkl] + (x_f[j+1] - ressug[j+1,1])**2\n",
    "        rmse_y[lkl] = rmse_y[lkl] + (y_f[j+1] - ressug[j+1,2])**2\n",
    "        rmse_z[lkl] = rmse_z[lkl] + (z_f[j+1] - ressug[j+1,3])**2\n",
    "        \n",
    "    rmse_x[lkl] = np.sqrt(rmse_x[lkl] / STEPS)\n",
    "    rmse_y[lkl] = np.sqrt(rmse_y[lkl] / STEPS)\n",
    "    rmse_z[lkl] = np.sqrt(rmse_z[lkl] / STEPS)\n"
   ]
  },
  {
   "cell_type": "code",
   "execution_count": 156,
   "metadata": {},
   "outputs": [],
   "source": [
    "# rmse_letkf = [rmse_x, rmse_y, rmse_z]"
   ]
  },
  {
   "cell_type": "code",
   "execution_count": 157,
   "metadata": {},
   "outputs": [
    {
     "data": {
      "image/png": "[encoded data removed]",
      "text/plain": [
       "<Figure size 576x432 with 1 Axes>"
      ]
     },
     "metadata": {
      "needs_background": "light"
     },
     "output_type": "display_data"
    }
   ],
   "source": [
    "fig0a = plt.figure(figsize=(8,6))\n",
    "\n",
    "plt.plot(m,rmse_x, '*-', label=\"x-coordinate\")\n",
    "plt.plot(m,rmse_y, 'x-', label=\"y-coordinate\")\n",
    "plt.plot(m,rmse_z, 'o-', label=\"z-coordinate\")\n",
    "\n",
    "# plt.plot(m,rmse_letkf[0], 'r*-', label=\"x-coordinate\")\n",
    "# plt.plot(m,rmse_letkf[1], 'rx-', label=\"y-coordinate\")\n",
    "# plt.plot(m,rmse_letkf[2], 'ro-', label=\"z-coordinate\")\n",
    "\n",
    "plt.xlim([2,40])\n",
    "# plt.ylim([0,0.6])\n",
    "plt.xlabel(\"sample size M\")\n",
    "plt.ylabel(\"time averaged RMSEs\")\n",
    "plt.title(\"Comparison: LETKF vs ESRF, assimilating x-coordinate\")\n",
    "\n",
    "from matplotlib.patches import Patch\n",
    "from matplotlib.lines import Line2D\n",
    "\n",
    "# legend_elements = [Line2D([0], [0], marker='*', color='k', label='x-coordinate',\n",
    "#                           markerfacecolor='k', markersize=8),\n",
    "#                    Line2D([0], [0], marker='x', color='k', label='y-coordinate',\n",
    "#                           markerfacecolor='k', markersize=8),\n",
    "#                    Line2D([0], [0], marker='o', color='k', label='z-coordinate',\n",
    "#                           markerfacecolor='k', markersize=8),\n",
    "#                    Line2D([0], [0], color='k', lw=4, label='ESRF'),\n",
    "#                    Line2D([0], [0], color='r', lw=4, label='LETKF')]\n",
    "# plt.legend(handles=legend_elements)\n",
    "\n",
    "plt.legend()\n",
    "plt.show()"
   ]
  },
  {
   "cell_type": "code",
   "execution_count": 158,
   "metadata": {},
   "outputs": [
    {
     "name": "stdout",
     "output_type": "stream",
     "text": [
      "[[ 0  1  2  3  4]\n",
      " [ 5  6  7  8  9]\n",
      " [10 11 12 13 14]\n",
      " [15 16 17 18 19]\n",
      " [20 21 22 23 24]]\n",
      "[[3.]\n",
      " [3.]\n",
      " [3.]\n",
      " [3.]\n",
      " [3.]]\n",
      "[[ 3.  4.  5.  6.  7.]\n",
      " [ 8.  9. 10. 11. 12.]\n",
      " [13. 14. 15. 16. 17.]\n",
      " [18. 19. 20. 21. 22.]\n",
      " [23. 24. 25. 26. 27.]]\n"
     ]
    }
   ],
   "source": [
    "A = np.arange(25).reshape(5,5)\n",
    "print(A)\n",
    "D = np.ones(5).reshape(-1,1) * 3\n",
    "print(D)\n",
    "print(A+D)"
   ]
  },
  {
   "cell_type": "code",
   "execution_count": 159,
   "metadata": {},
   "outputs": [
    {
     "data": {
      "text/plain": [
       "0.13993168403463577"
      ]
     },
     "execution_count": 159,
     "metadata": {},
     "output_type": "execute_result"
    }
   ],
   "source": [
    "np.random.normal(0.0,0.5)"
   ]
  },
  {
   "cell_type": "code",
   "execution_count": 160,
   "metadata": {},
   "outputs": [
    {
     "name": "stdout",
     "output_type": "stream",
     "text": [
      "[84 63 53]\n"
     ]
    },
    {
     "data": {
      "image/png": "[encoded data removed]",
      "text/plain": [
       "<Figure size 432x288 with 1 Axes>"
      ]
     },
     "metadata": {
      "needs_background": "light"
     },
     "output_type": "display_data"
    }
   ],
   "source": [
    "max_shift=1\n",
    "lst = [np.random.randint(-max_shift,max_shift+1) for _ in range(200)]\n",
    "hist, _ = np.histogram(lst,3)\n",
    "print(hist)\n",
    "plt.figure()\n",
    "plt.hist(lst, bins=[-1.25,-0.75,-0.25,0.25,0.75,1.25])\n",
    "plt.xticks([-1.0,0.0,1.0])\n",
    "plt.show()"
   ]
  },
  {
   "cell_type": "code",
   "execution_count": 161,
   "metadata": {},
   "outputs": [
    {
     "name": "stdout",
     "output_type": "stream",
     "text": [
      "[[ 0  1  2  3  4]\n",
      " [ 5  6  7  8  9]\n",
      " [10 11 12 13 14]\n",
      " [15 16 17 18 19]\n",
      " [20 21 22 23 24]]\n",
      "[[12]]\n"
     ]
    }
   ],
   "source": [
    "A = np.arange(25).reshape(5,5)\n",
    "print(A)\n",
    "\n",
    "inner = (slice(2,-2),slice(2,-2))\n",
    "\n",
    "print(A[inner])"
   ]
  },
  {
   "cell_type": "code",
   "execution_count": 162,
   "metadata": {},
   "outputs": [
    {
     "name": "stdout",
     "output_type": "stream",
     "text": [
      "(260, 260)\n",
      "(32, 32)\n",
      "(52, 52)\n"
     ]
    },
    {
     "data": {
      "image/png": "[encoded data removed]",
      "text/plain": [
       "<Figure size 432x288 with 4 Axes>"
      ]
     },
     "metadata": {
      "needs_background": "light"
     },
     "output_type": "display_data"
    }
   ],
   "source": [
    "from scipy.signal import convolve2d\n",
    "import h5py\n",
    "\n",
    "# big = np.arange(65536).reshape(256,256)\n",
    "\n",
    "\n",
    "file = h5py.File(\"../output_travelling_vortex/output_travelling_vortex_ensemble=1_256_256_1.0.h5\", 'r')\n",
    "big = file['rhov']['rhov_ensemble_mem=0_0.10_after_full_step'][:]\n",
    "small = np.zeros((32,32))\n",
    "\n",
    "ens_mem_shape = (52,52)\n",
    "def bin_func(obs,ens_mem_shape):\n",
    "    obs = obs.reshape(ens_mem_shape[0],obs.shape[0]//ens_mem_shape[0],\n",
    "                      ens_mem_shape[1],obs.shape[1]//ens_mem_shape[1])\n",
    "    return obs.mean(axis=(1,3))\n",
    "\n",
    "print(big.shape)\n",
    "print(small.shape)\n",
    "\n",
    "small = bin_func(big,ens_mem_shape)\n",
    "print(small.shape)\n",
    "fig, ax = plt.subplots(1,2)\n",
    "im = ax[0].imshow(big)\n",
    "plt.colorbar(im, ax=ax[0])\n",
    "im = ax[1].imshow(small)\n",
    "plt.colorbar(im, ax=ax[1])\n",
    "plt.show()\n",
    "\n",
    "file.close()"
   ]
  },
  {
   "cell_type": "code",
   "execution_count": 167,
   "metadata": {},
   "outputs": [
    {
     "name": "stdout",
     "output_type": "stream",
     "text": [
      "1\n"
     ]
    }
   ],
   "source": [
    "print(4 // 3)"
   ]
  },
  {
   "cell_type": "code",
   "execution_count": 16,
   "metadata": {},
   "outputs": [
    {
     "name": "stdout",
     "output_type": "stream",
     "text": [
      "[   0  100  200  300  400  500  600  700  800  900 1000 1100 1200 1300\n",
      " 1400 1500 1600 1700 1800 1900 2000 2100 2200 2300 2400 2500 2600 2700\n",
      " 2800 2900 3000 3100 3200 3300 3400 3500 3600 3700 3800 3900 4000 4100\n",
      " 4200 4300 4400 4500 4600 4700 4800]\n",
      "[  0   6  12  18  24  30  36  42  48  54  60  66  72  78  84  90  96 102\n",
      " 108 114 120 126 132 138 144 150 156 162 168 174 180 186 192 198 204 210\n",
      " 216 222 228 234 240 246 252 258 264 270 276 282 288 294 300 306 312 318\n",
      " 324 330 336 342 348 354 360 366 372 378 384 390 396 402 408 414 420 426\n",
      " 432 438 444 450 456 462 468 474 480 486 492 498 504 510 516 522 528 534\n",
      " 540 546 552 558 564 570 576 582 588 594 600]\n",
      "[ 0.   0.3  0.6  0.9  1.2  1.5  1.8  2.1  2.4  2.7  3.   3.3  3.6  3.9\n",
      "  4.2  4.5  4.8  5.1  5.4  5.7  6.   6.3  6.6  6.9  7.2  7.5  7.8  8.1\n",
      "  8.4  8.7  9.   9.3  9.6  9.9 10.2 10.5 10.8 11.1 11.4 11.7 12.  12.3\n",
      " 12.6 12.9 13.2 13.5 13.8 14.1 14.4 14.7 15.  15.3 15.6 15.9 16.2 16.5\n",
      " 16.8 17.1 17.4 17.7 18.  18.3 18.6 18.9 19.2 19.5 19.8 20.1 20.4 20.7\n",
      " 21.  21.3 21.6 21.9 22.2 22.5 22.8 23.1 23.4 23.7 24.  24.3 24.6 24.9\n",
      " 25.2 25.5 25.8 26.1 26.4 26.7 27.  27.3 27.6 27.9 28.2 28.5 28.8 29.1\n",
      " 29.4 29.7 30. ]\n",
      "[ 0.    0.05  0.1   0.15  0.2   0.25  0.3   0.35  0.4   0.45  0.5   0.55\n",
      "  0.6   0.65  0.7   0.75  0.8   0.85  0.9   0.95  1.    1.05  1.1   1.15\n",
      "  1.2   1.25  1.3   1.35  1.4   1.45  1.5   1.55  1.6   1.65  1.7   1.75\n",
      "  1.8   1.85  1.9   1.95  2.    2.05  2.1   2.15  2.2   2.25  2.3   2.35\n",
      "  2.4   2.45  2.5   2.55  2.6   2.65  2.7   2.75  2.8   2.85  2.9   2.95\n",
      "  3.    3.05  3.1   3.15  3.2   3.25  3.3   3.35  3.4   3.45  3.5   3.55\n",
      "  3.6   3.65  3.7   3.75  3.8   3.85  3.9   3.95  4.    4.05  4.1   4.15\n",
      "  4.2   4.25  4.3   4.35  4.4   4.45  4.5   4.55  4.6   4.65  4.7   4.75\n",
      "  4.8   4.85  4.9   4.95  5.    5.05  5.1   5.15  5.2   5.25  5.3   5.35\n",
      "  5.4   5.45  5.5   5.55  5.6   5.65  5.7   5.75  5.8   5.85  5.9   5.95\n",
      "  6.    6.05  6.1   6.15  6.2   6.25  6.3   6.35  6.4   6.45  6.5   6.55\n",
      "  6.6   6.65  6.7   6.75  6.8   6.85  6.9   6.95  7.    7.05  7.1   7.15\n",
      "  7.2   7.25  7.3   7.35  7.4   7.45  7.5   7.55  7.6   7.65  7.7   7.75\n",
      "  7.8   7.85  7.9   7.95  8.    8.05  8.1   8.15  8.2   8.25  8.3   8.35\n",
      "  8.4   8.45  8.5   8.55  8.6   8.65  8.7   8.75  8.8   8.85  8.9   8.95\n",
      "  9.    9.05  9.1   9.15  9.2   9.25  9.3   9.35  9.4   9.45  9.5   9.55\n",
      "  9.6   9.65  9.7   9.75  9.8   9.85  9.9   9.95 10.  ]\n",
      "[ 0.2  0.3  0.4  0.5  0.6  0.7  0.8  0.9  1.   1.1  1.2  1.3  1.4  1.5\n",
      "  1.6  1.7  1.8  1.9  2.   2.1  2.2  2.3  2.4  2.5  2.6  2.7  2.8  2.9\n",
      "  3.   3.1  3.2  3.3  3.4  3.5  3.6  3.7  3.8  3.9  4.   4.1  4.2  4.3\n",
      "  4.4  4.5  4.6  4.7  4.8  4.9  5.   5.1  5.2  5.3  5.4  5.5  5.6  5.7\n",
      "  5.8  5.9  6.   6.1  6.2  6.3  6.4  6.5  6.6  6.7  6.8  6.9  7.   7.1\n",
      "  7.2  7.3  7.4  7.5  7.6  7.7  7.8  7.9  8.   8.1  8.2  8.3  8.4  8.5\n",
      "  8.6  8.7  8.8  8.9  9.   9.1  9.2  9.3  9.4  9.5  9.6  9.7  9.8  9.9\n",
      " 10. ]\n"
     ]
    }
   ],
   "source": [
    "tout = np.arange(0,4801,100)\n",
    "print(tout)\n",
    "tout = np.arange(0,601,6)\n",
    "print(tout)\n",
    "tout = np.arange(0,301,3)/10.\n",
    "print(tout)\n",
    "\n",
    "print(np.linspace(0.0,10.0,101*2-1))\n",
    "print(np.linspace(0.2,10.0,99))"
   ]
  },
  {
   "cell_type": "code",
   "execution_count": 103,
   "metadata": {},
   "outputs": [
    {
     "ename": "ValueError",
     "evalue": "dimension mismatch",
     "output_type": "error",
     "traceback": [
      "\u001b[0;31m---------------------------------------------------------------------------\u001b[0m",
      "\u001b[0;31mValueError\u001b[0m                                Traceback (most recent call last)",
      "\u001b[0;32m<ipython-input-103-847e28673c8d>\u001b[0m in \u001b[0;36m<module>\u001b[0;34m\u001b[0m\n\u001b[1;32m     56\u001b[0m \u001b[0;31m# print(rlocal_stencil)\u001b[0m\u001b[0;34m\u001b[0m\u001b[0;34m\u001b[0m\u001b[0;34m\u001b[0m\u001b[0m\n\u001b[1;32m     57\u001b[0m \u001b[0;31m# covar = scipy.linalg.solve(rlocal_stencil, ii)\u001b[0m\u001b[0;34m\u001b[0m\u001b[0;34m\u001b[0m\u001b[0;34m\u001b[0m\u001b[0m\n\u001b[0;32m---> 58\u001b[0;31m \u001b[0mcovar\u001b[0m \u001b[0;34m=\u001b[0m \u001b[0mrlocal_stencil\u001b[0m\u001b[0;34m.\u001b[0m\u001b[0mmatvec\u001b[0m\u001b[0;34m(\u001b[0m\u001b[0mii\u001b[0m\u001b[0;34m.\u001b[0m\u001b[0mreshape\u001b[0m\u001b[0;34m(\u001b[0m\u001b[0msh\u001b[0m\u001b[0;34m**\u001b[0m\u001b[0;36m2\u001b[0m\u001b[0;34m)\u001b[0m\u001b[0;34m)\u001b[0m\u001b[0;34m\u001b[0m\u001b[0;34m\u001b[0m\u001b[0m\n\u001b[0m\u001b[1;32m     59\u001b[0m \u001b[0;31m# covar = covar.reshape(sh,sh)\u001b[0m\u001b[0;34m\u001b[0m\u001b[0;34m\u001b[0m\u001b[0;34m\u001b[0m\u001b[0m\n\u001b[1;32m     60\u001b[0m \u001b[0;34m\u001b[0m\u001b[0m\n",
      "\u001b[0;32m~/anaconda3/lib/python3.7/site-packages/scipy/sparse/linalg/interface.py\u001b[0m in \u001b[0;36mmatvec\u001b[0;34m(self, x)\u001b[0m\n\u001b[1;32m    223\u001b[0m \u001b[0;34m\u001b[0m\u001b[0m\n\u001b[1;32m    224\u001b[0m         \u001b[0;32mif\u001b[0m \u001b[0mx\u001b[0m\u001b[0;34m.\u001b[0m\u001b[0mshape\u001b[0m \u001b[0;34m!=\u001b[0m \u001b[0;34m(\u001b[0m\u001b[0mN\u001b[0m\u001b[0;34m,\u001b[0m\u001b[0;34m)\u001b[0m \u001b[0;32mand\u001b[0m \u001b[0mx\u001b[0m\u001b[0;34m.\u001b[0m\u001b[0mshape\u001b[0m \u001b[0;34m!=\u001b[0m \u001b[0;34m(\u001b[0m\u001b[0mN\u001b[0m\u001b[0;34m,\u001b[0m\u001b[0;36m1\u001b[0m\u001b[0;34m)\u001b[0m\u001b[0;34m:\u001b[0m\u001b[0;34m\u001b[0m\u001b[0;34m\u001b[0m\u001b[0m\n\u001b[0;32m--> 225\u001b[0;31m             \u001b[0;32mraise\u001b[0m \u001b[0mValueError\u001b[0m\u001b[0;34m(\u001b[0m\u001b[0;34m'dimension mismatch'\u001b[0m\u001b[0;34m)\u001b[0m\u001b[0;34m\u001b[0m\u001b[0;34m\u001b[0m\u001b[0m\n\u001b[0m\u001b[1;32m    226\u001b[0m \u001b[0;34m\u001b[0m\u001b[0m\n\u001b[1;32m    227\u001b[0m         \u001b[0my\u001b[0m \u001b[0;34m=\u001b[0m \u001b[0mself\u001b[0m\u001b[0;34m.\u001b[0m\u001b[0m_matvec\u001b[0m\u001b[0;34m(\u001b[0m\u001b[0mx\u001b[0m\u001b[0;34m)\u001b[0m\u001b[0;34m\u001b[0m\u001b[0;34m\u001b[0m\u001b[0m\n",
      "\u001b[0;31mValueError\u001b[0m: dimension mismatch"
     ]
    }
   ],
   "source": [
    "import numpy as np\n",
    "\n",
    "# dependencies of the atmospheric flow solver\n",
    "from management.data import data_init, time_update\n",
    "from inputs.boundary import set_explicit_boundary_data\n",
    "from management.variable import States, Vars\n",
    "from physics.gas_dynamics.thermodynamic import ThemodynamicInit\n",
    "from physics.gas_dynamics.eos import nonhydrostasy, compressibility, is_compressible, is_nonhydrostatic\n",
    "from physics.gas_dynamics.gas_dynamics import dynamic_timestep\n",
    "from physics.low_mach.mpv import MPV, acoustic_order\n",
    "\n",
    "# input file\n",
    "from inputs.travelling_vortex_3D_48 import UserData, sol_init\n",
    "# from inputs.acoustic_wave_high import UserData, sol_init\n",
    "# from inputs.internal_long_wave import UserData, sol_init\n",
    "# from inputs.rising_bubble import UserData, sol_init\n",
    "from inputs.user_data import UserDataInit\n",
    "\n",
    "from data_assimilation import localisation\n",
    "importlib.reload(localisation)\n",
    "\n",
    "from scipy import sparse\n",
    "\n",
    "np.set_printoptions(precision=18)\n",
    "\n",
    "step = 0\n",
    "t = 0.0\n",
    "\n",
    "initial_data = vars(UserData())\n",
    "ud = UserDataInit(**initial_data)\n",
    "\n",
    "elem, node = data_init(ud)\n",
    "\n",
    "flux = np.empty((3), dtype=object)\n",
    "flux[0] = States(elem.sfx, ud)\n",
    "if elem.ndim > 1:\n",
    "    flux[1] = States(elem.sfy, ud)\n",
    "if elem.ndim > 2:\n",
    "    flux[2] = States(elem.sfz, ud)\n",
    "\n",
    "th = ThemodynamicInit(ud)\n",
    "\n",
    "mpv = MPV(elem, node, ud)\n",
    "\n",
    "Sol = Vars(elem.sc, ud)\n",
    "Sol = sol_init(Sol, mpv, elem, node, th, ud)\n",
    "\n",
    "# elem.icx = 256+1\n",
    "# elem.icy = 256+1\n",
    "\n",
    "# sh = 32**2\n",
    "# rlocal_stencil = localisation.rlocal_5pt(elem,node,ud)\n",
    "# rlocal_stencil = sparse.linalg.LinearOperator((sh,sh),rlocal_stencil)\n",
    "# ii = np.eye(sh,dtype='float')\n",
    "# print(ii.shape)\n",
    "# print(rlocal_stencil)\n",
    "# covar = scipy.linalg.solve(rlocal_stencil, ii)\n",
    "# covar = rlocal_stencil.matvec(ii.reshape(sh**2))\n",
    "# covar = covar.reshape(sh,sh)\n",
    "\n",
    "fig = plt.figure()\n",
    "plt.spy(covar)\n",
    "plt.show()"
   ]
  },
  {
   "cell_type": "code",
   "execution_count": 59,
   "metadata": {
    "scrolled": false
   },
   "outputs": [
    {
     "name": "stdout",
     "output_type": "stream",
     "text": [
      "[-3. -2. -1.  0.  1.  2.  3.]\n"
     ]
    },
    {
     "data": {
      "image/png": "[encoded data removed]",
      "text/plain": [
       "<Figure size 648x432 with 1 Axes>"
      ]
     },
     "metadata": {
      "needs_background": "light"
     },
     "output_type": "display_data"
    },
    {
     "name": "stdout",
     "output_type": "stream",
     "text": [
      "[0.05719096 0.25464401 0.33333333 0.25464401 0.05719096 0.25464401\n",
      " 0.52859548 0.66666667 0.52859548 0.25464401 0.33333333 0.66666667\n",
      " 1.         0.66666667 0.33333333 0.25464401 0.52859548 0.66666667\n",
      " 0.52859548 0.25464401 0.05719096 0.25464401 0.33333333 0.25464401\n",
      " 0.05719096]\n"
     ]
    }
   ],
   "source": [
    "from mpl_toolkits import mplot3d\n",
    "from scipy import stats\n",
    "%matplotlib inline\n",
    "x = (np.arange(0,7) - 3.0)\n",
    "\n",
    "print(x)\n",
    "X,Y = np.meshgrid(x,x)\n",
    "\n",
    "\n",
    "Z = (3.0 - np.sqrt(X**2 + Y**2)) / 3.0\n",
    "Z[np.where(Z < 0)] = 0.0\n",
    "\n",
    "\n",
    "# x = np.arange(0,7) - 3.0\n",
    "# # x = np.arange(0,100) - 50\n",
    "# X,Y = np.meshgrid(x,x)\n",
    "\n",
    "# pos = np.array([X.flatten(),Y.flatten()]).T\n",
    "# norm = stats.multivariate_normal([0,0],[[1,0],[0,1]])\n",
    "# Z = norm.pdf(pos).reshape(X.shape[0],X.shape[1])\n",
    "# Z /= Z.max()\n",
    "# print(Z)\n",
    "\n",
    "fig = plt.figure(figsize=(9,6))\n",
    "ax = plt.axes(projection='3d')\n",
    "ax.plot_surface(X, Y, Z, cmap='viridis',linewidth=0)\n",
    "ax.set_xlabel('x')\n",
    "ax.set_ylabel('y')\n",
    "ax.set_zlabel('z')\n",
    "# ax.set_xticks([-3,-2,-1,0,1,2,3])\n",
    "# ax.set_yticks([-3,-2,-1,0,1,2,3]\n",
    "plt.show()\n",
    "\n",
    "print(Z[1:-1,1:-1].reshape(-1))"
   ]
  },
  {
   "cell_type": "code",
   "execution_count": 47,
   "metadata": {},
   "outputs": [
    {
     "name": "stdout",
     "output_type": "stream",
     "text": [
      "(75, 75)\n",
      "[[0.05719096 0.         0.         ... 0.         0.         0.        ]\n",
      " [0.         0.25464401 0.         ... 0.         0.         0.        ]\n",
      " [0.         0.         0.33333333 ... 0.         0.         0.        ]\n",
      " ...\n",
      " [0.         0.         0.         ... 0.33333333 0.         0.        ]\n",
      " [0.         0.         0.         ... 0.         0.25464401 0.        ]\n",
      " [0.         0.         0.         ... 0.         0.         0.05719096]]\n"
     ]
    }
   ],
   "source": [
    "weights = [0.05719096,0.25464401,0.33333333,0.25464401,0.05719096,0.25464401,0.52859548,0.66666667,0.52859548,0.25464401,0.33333333,0.66666667,1.,0.66666667,0.33333333,0.25464401,0.52859548,0.66666667,0.52859548,0.25464401,0.05719096,0.25464401,0.33333333,0.25464401,0.05719096]\n",
    "DD = np.diag(weights*3)\n",
    "print(DD.shape)\n",
    "print(DD)"
   ]
  },
  {
   "cell_type": "code",
   "execution_count": null,
   "metadata": {},
   "outputs": [],
   "source": []
  }
 ],
 "metadata": {
  "kernelspec": {
   "display_name": "Python 3",
   "language": "python",
   "name": "python3"
  },
  "language_info": {
   "codemirror_mode": {
    "name": "ipython",
    "version": 3
   },
   "file_extension": ".py",
   "mimetype": "text/x-python",
   "name": "python",
   "nbconvert_exporter": "python",
   "pygments_lexer": "ipython3",
   "version": "3.7.3"
  }
 },
 "nbformat": 4,
 "nbformat_minor": 2
}
