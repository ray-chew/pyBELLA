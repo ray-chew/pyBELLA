{
 "cells": [
  {
   "cell_type": "code",
   "execution_count": 17,
   "metadata": {},
   "outputs": [],
   "source": [
    "import numpy as np\n",
    "import utils\n",
    "import plotting_tools as pt\n",
    "\n",
    "from importlib import reload\n",
    "import utils\n",
    "utils = reload(utils)\n",
    "pt = reload(pt)\n",
    "\n",
    "from scipy import signal"
   ]
  },
  {
   "cell_type": "markdown",
   "metadata": {},
   "source": [
    "# Ensemble plotter"
   ]
  },
  {
   "cell_type": "code",
   "execution_count": 28,
   "metadata": {},
   "outputs": [],
   "source": [
    "Nx, Ny, Nz = 64, 1, 64\n",
    "et = 1.0\n",
    "\n",
    "def load(Nx,Ny,Nz,et):\n",
    "    base_fn = 'output_swe_vortex'\n",
    "    pydir = '../%s/' %base_fn\n",
    "\n",
    "    tc = utils.test_case(base_fn, pydir, Nx, Ny, et, Nz=Nz)\n",
    "    tags = tc.get_tag_dict()\n",
    "    \n",
    "    return tc, tags\n",
    "tc, tags = load(Nx,Ny,Nz,et)"
   ]
  },
  {
   "cell_type": "code",
   "execution_count": 33,
   "metadata": {},
   "outputs": [
    {
     "name": "stdout",
     "output_type": "stream",
     "text": [
      "wdawloc_1.0_rhou_rhow_p0.1_debug_cont_blend_fs=1_ts=0\n",
      "(1, 10, 64, 1, 64)\n",
      "(64, 64)\n",
      "5\n"
     ]
    },
    {
     "ename": "IndexError",
     "evalue": "index 1 is out of bounds for axis 1 with size 1",
     "output_type": "error",
     "traceback": [
      "\u001b[0;31m---------------------------------------------------------------------------\u001b[0m",
      "\u001b[0;31mIndexError\u001b[0m                                Traceback (most recent call last)",
      "\u001b[0;32m<ipython-input-33-446df9ab8cc0>\u001b[0m in \u001b[0;36m<module>\u001b[0;34m\u001b[0m\n\u001b[1;32m     34\u001b[0m     \u001b[0marr_lst\u001b[0m \u001b[0;34m=\u001b[0m \u001b[0;34m[\u001b[0m\u001b[0;34m]\u001b[0m\u001b[0;34m\u001b[0m\u001b[0;34m\u001b[0m\u001b[0m\n\u001b[1;32m     35\u001b[0m     \u001b[0;32mfor\u001b[0m \u001b[0mn\u001b[0m\u001b[0;34m,\u001b[0m \u001b[0marr\u001b[0m \u001b[0;32min\u001b[0m \u001b[0menumerate\u001b[0m\u001b[0;34m(\u001b[0m\u001b[0mens_at\u001b[0m\u001b[0;34m)\u001b[0m\u001b[0;34m:\u001b[0m\u001b[0;34m\u001b[0m\u001b[0;34m\u001b[0m\u001b[0m\n\u001b[0;32m---> 36\u001b[0;31m         \u001b[0marr\u001b[0m \u001b[0;34m=\u001b[0m \u001b[0marr\u001b[0m\u001b[0;34m[\u001b[0m\u001b[0;34m:\u001b[0m\u001b[0;34m,\u001b[0m\u001b[0;36m1\u001b[0m\u001b[0;34m,\u001b[0m\u001b[0;34m:\u001b[0m\u001b[0;34m]\u001b[0m\u001b[0;34m.\u001b[0m\u001b[0mT\u001b[0m\u001b[0;34m\u001b[0m\u001b[0;34m\u001b[0m\u001b[0m\n\u001b[0m\u001b[1;32m     37\u001b[0m \u001b[0;31m#         arr -= arr.min()\u001b[0m\u001b[0;34m\u001b[0m\u001b[0;34m\u001b[0m\u001b[0;34m\u001b[0m\u001b[0m\n\u001b[1;32m     38\u001b[0m \u001b[0;34m\u001b[0m\u001b[0m\n",
      "\u001b[0;31mIndexError\u001b[0m: index 1 is out of bounds for axis 1 with size 1"
     ]
    }
   ],
   "source": [
    "import random\n",
    "\n",
    "random.seed(444)\n",
    "\n",
    "N = 10\n",
    "sfx = 'noda_p0.1'\n",
    "# sfx = 'debug'\n",
    "sfx = 'wdawloc_1.0_rhou_rhow_p0.1_debug'\n",
    "sfx = tc.cb_suffix(1,0, '%s' %(sfx))\n",
    "print(sfx)\n",
    "attribute = 'rhou'\n",
    "\n",
    "times = [0.0]\n",
    "tag = 'ic'\n",
    "\n",
    "times = [1.0]\n",
    "tag = tags[9]\n",
    "\n",
    "ens = tc.get_ensemble(times, N, attribute, sfx, tag=tag, inner=True)\n",
    "print(ens.shape)\n",
    "mean = np.mean(ens[0],axis=0)[:,0,:]\n",
    "print(np.array(mean).shape)\n",
    "mean = [mean.T,'ensemble mean']\n",
    "\n",
    "attr_labels = pt.labels()\n",
    "\n",
    "for ens_at in ens:\n",
    "    ncolslen = int((ens_at.shape)[0]/2)\n",
    "    print(ncolslen)\n",
    "#     fs = (18,6)\n",
    "    fs = (14,8) # 2x2\n",
    "    fs = (22,12)\n",
    "\n",
    "    arr_lst = []\n",
    "    for n, arr in enumerate(ens_at):\n",
    "        arr = arr[:,1,:].T\n",
    "#         arr -= arr.min()\n",
    "\n",
    "        arr_lst.append([arr, 'member index %i' %n])\n",
    "#     arr_lst = [[arr[:,0,:].T,'member index %i' %n] for n,arr in enumerate(ens_at)]\n",
    "    arr_lst = random.sample(arr_lst, k=9)\n",
    "    arr_lst.append(mean)\n",
    "    nn = 1 if N == 2 else 2\n",
    "    ncolslen = int(len(arr_lst)/nn)\n",
    "    print(ncolslen)\n",
    "\n",
    "    pl = pt.plotter(arr_lst,ncols=ncolslen,figsize=fs,sharey=False)\n",
    "\n",
    "#     x_axs = np.arange(-10.0,12.5,2.5)\n",
    "#     y_axs = np.arange(0,12.5,2.5)\n",
    "#     x_loc = np.linspace(0,Nx-1,len(x_axs))\n",
    "#     y_loc = np.linspace(0,Ny-1,len(y_axs))\n",
    "#     x_label = r'x [km]'\n",
    "#     y_label = r'y [km]'\n",
    "\n",
    "#     pl.set_axes(x_locs=x_loc, y_locs=y_loc, x_axs=x_axs, y_axs=y_axs, x_label=x_label, y_label=y_label)\n",
    "\n",
    "    st = \"Ensemble with data assimilation and with blending at t=1.0. Quantity is %s.\" %attr_labels[attribute]\n",
    "    _ = pl.plot(aspect='equal',method='contour',suptitle=st)\n",
    "#     pl.save_fig('../img/rb_ens_%s_ic' %sfx)"
   ]
  },
  {
   "cell_type": "code",
   "execution_count": null,
   "metadata": {},
   "outputs": [],
   "source": []
  }
 ],
 "metadata": {
  "kernelspec": {
   "display_name": "Python 3",
   "language": "python",
   "name": "python3"
  },
  "language_info": {
   "codemirror_mode": {
    "name": "ipython",
    "version": 3
   },
   "file_extension": ".py",
   "mimetype": "text/x-python",
   "name": "python",
   "nbconvert_exporter": "python",
   "pygments_lexer": "ipython3",
   "version": "3.7.3"
  }
 },
 "nbformat": 4,
 "nbformat_minor": 2
}
