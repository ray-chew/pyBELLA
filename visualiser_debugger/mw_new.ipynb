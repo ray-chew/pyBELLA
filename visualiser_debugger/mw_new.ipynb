{
 "cells": [
  {
   "cell_type": "code",
   "execution_count": 49,
   "id": "1c855e09-d6f4-4a92-b929-9cf684697c89",
   "metadata": {},
   "outputs": [],
   "source": [
    "import numpy as np\n",
    "from importlib import reload\n",
    "from scipy import signal\n",
    "\n",
    "import plotting_tools as pt\n",
    "import utils\n",
    "import dsi\n",
    "utils = reload(utils)\n",
    "pt = reload(pt)\n",
    "dsi = reload(dsi)\n",
    "\n",
    "import pickle\n",
    "import sys\n",
    "# Notebook needs to see the RKLM_Python module to load pickled class instances\n",
    "sys.path.append('../RKLM_Python/')\n",
    "\n",
    "from scipy.ndimage.filters import gaussian_filter\n",
    "import matplotlib.pyplot as plt\n",
    "from matplotlib import rc\n",
    "\n",
    "# activate latex text rendering\n",
    "rc('text', usetex=True)"
   ]
  },
  {
   "cell_type": "code",
   "execution_count": 50,
   "id": "8f6d5187-978e-41e3-89f0-90cdae1615d2",
   "metadata": {},
   "outputs": [],
   "source": [
    "Nx, Ny = 601, 240\n",
    "# Nx, Ny = 1201, 80\n",
    "ib = False\n",
    "\n",
    "N = 1\n",
    "fac = 1.0 # how many plots?\n",
    "\n",
    "def load(Nx,Ny,et,test):\n",
    "    if test == 'mark':\n",
    "        base_fn = 'output_mark_wave'\n",
    "    elif test == 'lamb':\n",
    "        base_fn = 'output_lamb_wave'\n",
    "    pydir = '../%s/' %base_fn\n",
    "\n",
    "    tc = utils.test_case(base_fn, pydir, Nx, Ny, et)\n",
    "    tags = tc.get_tag_dict()\n",
    "    \n",
    "    return tc, tags\n",
    "\n",
    "i2 = (slice(2,-2),slice(2,-2))"
   ]
  },
  {
   "cell_type": "code",
   "execution_count": 51,
   "id": "25245b4f-9dc7-4657-bdca-5e07a40d2c11",
   "metadata": {},
   "outputs": [],
   "source": [
    "def get_ens(tc, times, sfx , diff, attribute, tag, NIDX):\n",
    "    idx = 0 if tag == 'ic' else -1\n",
    "    times = [0] if tag == 'ic' else times\n",
    "    ens = tc.get_ensemble(times, N, attribute, sfx, label_type=l_typ, avg=True, diff=diff, tag=tag, inner=False,load_ic=True)[idx]\n",
    "\n",
    "    label = sfx + '_' + attribute\n",
    "    return label, ens.T[:NIDX,:]\n",
    "\n",
    "def get_ens_all(tc, times, sfx , diff, attribute, tag, NIDX):\n",
    "    ens = tc.get_ensemble(times, N, attribute, sfx, label_type=l_typ, avg=True, diff=diff, tag=tag, inner=True,load_ic=True)\n",
    "    ens = ens[:,:,:NIDX]\n",
    "    print(ens.shape)\n",
    "    return ens\n",
    "\n",
    "def get_arr(typ, times, NIDX, tp='half', test='mark', et=8000.0):\n",
    "    sfx1 = '%s' %typ\n",
    "    if ib: sfx1 = '%s_ib-0' %sfx1\n",
    "    print(sfx1, typ)\n",
    "\n",
    "    tc, tags = load(Nx,Ny,et,test)\n",
    "    if tp=='afs':\n",
    "        tag = 'after_full_step'\n",
    "    else:\n",
    "        tag = tp\n",
    "\n",
    "    # load pickled instances of data used in simulation\n",
    "    fn_pickle = tc.get_filename(N,sfx1,format='dat')\n",
    "    path_pickle = tc.get_path(fn_pickle)\n",
    "\n",
    "    print(path_pickle)\n",
    "    file = open(path_pickle,'rb')\n",
    "    ud = pickle.load(file)\n",
    "    mpv = pickle.load(file)\n",
    "    dap = pickle.load(file)\n",
    "    elem = pickle.load(file)\n",
    "    file.close()\n",
    "\n",
    "    S0 = (ud.stratification(elem.y)).reshape(-1,1)[:NIDX]\n",
    "    \n",
    "#     attributes = ['rhoX','rhou', 'rhov', 'rhoY', 'p2_nodes']\n",
    "    attributes = ['rhov', 'rhoY', 'p2_nodes']\n",
    "    _, rho = get_ens(tc, times, sfx1, diff, 'rho', tag, NIDX)\n",
    "    la = r''\n",
    "    if 'best' in typ:\n",
    "        la += r'\\textbf{CS}'\n",
    "    elif 'imbal' in typ:\n",
    "        la += r'\\textbf{NS}'\n",
    "    else:\n",
    "        la += r''\n",
    "#     la = la + '_' + typ\n",
    "    ret = []\n",
    "    \n",
    "#     rho_pl = rho[i2] #* ud.rho_ref\n",
    "#     ret.append([rho_pl,la + r' ($\\rho$)'])\n",
    "    _, rhou = get_ens(tc, times, sfx1, diff, 'rhou', tag, NIDX)\n",
    "    u = rhou / rho\n",
    "    u = u[i2]\n",
    "    ret.append([u, r' $u^\\prime$'])\n",
    "    \n",
    "    for attribute in attributes:\n",
    "        _, aa = get_ens(tc, times, sfx1, diff, attribute, tag, NIDX)\n",
    "        if attribute == 'rhoY':\n",
    "            la_curr = la + r' $\\Theta^\\prime$'\n",
    "        elif attribute == 'rhov':\n",
    "            la_curr = la + r' $w^\\prime$'\n",
    "        elif attribute == 'rhou':\n",
    "            la_curr = la + r' $u^\\prime$'\n",
    "        elif attribute == 'rhoX':\n",
    "            la_curr = la + r' $\\chi^\\prime$'\n",
    "        else:\n",
    "            la_curr = la + r' $\\pi^\\prime$'\n",
    "        \n",
    "        if attribute == 'rhoY':\n",
    "            aa = aa / rho\n",
    "            aa -= S0\n",
    "            aa = aa[i2] #* ud.T_ref\n",
    "        elif attribute == 'rhou':\n",
    "            aa = aa / rho\n",
    "            aa = aa[i2] #* ud.u_ref\n",
    "        elif attribute == 'rhov':\n",
    "            aa = aa / rho\n",
    "            aa = aa[i2] #* ud.u_ref\n",
    "        elif attribute == 'rhoX':\n",
    "            aa = aa / rho\n",
    "            aa = aa[i2] #/ ud.T_ref\n",
    "        elif attribute == 'p2_nodes':\n",
    "            aa = aa[i2]\n",
    "            \n",
    "        ret.append([aa,la_curr])\n",
    "    \n",
    "    return np.array(ret), (ud,mpv), tc"
   ]
  },
  {
   "cell_type": "code",
   "execution_count": 54,
   "id": "849876eb-3342-4a6c-bd8a-227aa3aca93e",
   "metadata": {},
   "outputs": [
    {
     "name": "stdout",
     "output_type": "stream",
     "text": [
      "NIDX = 64\n",
      "bdl_test_S1600_a05 bdl_test_S1600_a05\n",
      "../output_mark_wave/output_mark_wave_ensemble=1_601_240_720.000000_bdl_test_S1600_a05.dat\n"
     ]
    },
    {
     "name": "stderr",
     "output_type": "stream",
     "text": [
      "/home/ray/anaconda3/envs/playground/lib/python3.7/site-packages/ipykernel_launcher.py:91: VisibleDeprecationWarning: Creating an ndarray from ragged nested sequences (which is a list-or-tuple of lists-or-tuples-or ndarrays with different lengths or shapes) is deprecated. If you meant to do this, you must specify 'dtype=object' when creating the ndarray.\n"
     ]
    },
    {
     "name": "stdout",
     "output_type": "stream",
     "text": [
      "(32, 601, 64)\n",
      "[ 0  1  2  3  4  5  6  7  8  9 10 11 12 13 14 15 16 17 18 19 20 21 22 23\n",
      " 24 25 26 27 28 29 30]\n",
      "0 ic\n",
      "bdl_test_S1600_a05 bdl_test_S1600_a05\n",
      "../output_mark_wave/output_mark_wave_ensemble=1_601_240_720.000000_bdl_test_S1600_a05.dat\n",
      "[ 0.  11.8 23.6 35.4 47.2 59. ] [0.  0.4 0.8 1.2 1.6 2. ]\n"
     ]
    },
    {
     "name": "stderr",
     "output_type": "stream",
     "text": [
      "/home/ray/git-projects/RKLM_Reference/visualiser_debugger/plotting_tools.py:168: UserWarning: No contour levels were found within the data range.\n",
      "  im = cax.contour(arr,linewidths=1.0,colors='k',levels=lvls)\n"
     ]
    },
    {
     "name": "stdout",
     "output_type": "stream",
     "text": [
      "1 afs\n",
      "bdl_test_S1600_a05 bdl_test_S1600_a05\n",
      "../output_mark_wave/output_mark_wave_ensemble=1_601_240_720.000000_bdl_test_S1600_a05.dat\n",
      "[ 0.  11.8 23.6 35.4 47.2 59. ] [0.  0.4 0.8 1.2 1.6 2. ]\n"
     ]
    },
    {
     "name": "stderr",
     "output_type": "stream",
     "text": [
      "/home/ray/anaconda3/envs/playground/lib/python3.7/site-packages/ipykernel_launcher.py:91: VisibleDeprecationWarning: Creating an ndarray from ragged nested sequences (which is a list-or-tuple of lists-or-tuples-or ndarrays with different lengths or shapes) is deprecated. If you meant to do this, you must specify 'dtype=object' when creating the ndarray.\n"
     ]
    },
    {
     "name": "stdout",
     "output_type": "stream",
     "text": [
      "2 afs\n",
      "bdl_test_S1600_a05 bdl_test_S1600_a05\n",
      "../output_mark_wave/output_mark_wave_ensemble=1_601_240_720.000000_bdl_test_S1600_a05.dat\n",
      "[ 0.  11.8 23.6 35.4 47.2 59. ] [0.  0.4 0.8 1.2 1.6 2. ]\n"
     ]
    },
    {
     "name": "stderr",
     "output_type": "stream",
     "text": [
      "/home/ray/anaconda3/envs/playground/lib/python3.7/site-packages/ipykernel_launcher.py:91: VisibleDeprecationWarning: Creating an ndarray from ragged nested sequences (which is a list-or-tuple of lists-or-tuples-or ndarrays with different lengths or shapes) is deprecated. If you meant to do this, you must specify 'dtype=object' when creating the ndarray.\n"
     ]
    },
    {
     "name": "stdout",
     "output_type": "stream",
     "text": [
      "3 afs\n",
      "bdl_test_S1600_a05 bdl_test_S1600_a05\n",
      "../output_mark_wave/output_mark_wave_ensemble=1_601_240_720.000000_bdl_test_S1600_a05.dat\n",
      "[ 0.  11.8 23.6 35.4 47.2 59. ] [0.  0.4 0.8 1.2 1.6 2. ]\n"
     ]
    },
    {
     "name": "stderr",
     "output_type": "stream",
     "text": [
      "/home/ray/anaconda3/envs/playground/lib/python3.7/site-packages/ipykernel_launcher.py:91: VisibleDeprecationWarning: Creating an ndarray from ragged nested sequences (which is a list-or-tuple of lists-or-tuples-or ndarrays with different lengths or shapes) is deprecated. If you meant to do this, you must specify 'dtype=object' when creating the ndarray.\n"
     ]
    },
    {
     "name": "stdout",
     "output_type": "stream",
     "text": [
      "4 afs\n",
      "bdl_test_S1600_a05 bdl_test_S1600_a05\n",
      "../output_mark_wave/output_mark_wave_ensemble=1_601_240_720.000000_bdl_test_S1600_a05.dat\n",
      "[ 0.  11.8 23.6 35.4 47.2 59. ] [0.  0.4 0.8 1.2 1.6 2. ]\n"
     ]
    },
    {
     "name": "stderr",
     "output_type": "stream",
     "text": [
      "/home/ray/anaconda3/envs/playground/lib/python3.7/site-packages/ipykernel_launcher.py:91: VisibleDeprecationWarning: Creating an ndarray from ragged nested sequences (which is a list-or-tuple of lists-or-tuples-or ndarrays with different lengths or shapes) is deprecated. If you meant to do this, you must specify 'dtype=object' when creating the ndarray.\n"
     ]
    },
    {
     "name": "stdout",
     "output_type": "stream",
     "text": [
      "5 afs\n",
      "bdl_test_S1600_a05 bdl_test_S1600_a05\n",
      "../output_mark_wave/output_mark_wave_ensemble=1_601_240_720.000000_bdl_test_S1600_a05.dat\n",
      "[ 0.  11.8 23.6 35.4 47.2 59. ] [0.  0.4 0.8 1.2 1.6 2. ]\n"
     ]
    },
    {
     "name": "stderr",
     "output_type": "stream",
     "text": [
      "/home/ray/anaconda3/envs/playground/lib/python3.7/site-packages/ipykernel_launcher.py:91: VisibleDeprecationWarning: Creating an ndarray from ragged nested sequences (which is a list-or-tuple of lists-or-tuples-or ndarrays with different lengths or shapes) is deprecated. If you meant to do this, you must specify 'dtype=object' when creating the ndarray.\n"
     ]
    },
    {
     "name": "stdout",
     "output_type": "stream",
     "text": [
      "6 afs\n",
      "bdl_test_S1600_a05 bdl_test_S1600_a05\n",
      "../output_mark_wave/output_mark_wave_ensemble=1_601_240_720.000000_bdl_test_S1600_a05.dat\n",
      "[ 0.  11.8 23.6 35.4 47.2 59. ] [0.  0.4 0.8 1.2 1.6 2. ]\n"
     ]
    },
    {
     "name": "stderr",
     "output_type": "stream",
     "text": [
      "/home/ray/anaconda3/envs/playground/lib/python3.7/site-packages/ipykernel_launcher.py:91: VisibleDeprecationWarning: Creating an ndarray from ragged nested sequences (which is a list-or-tuple of lists-or-tuples-or ndarrays with different lengths or shapes) is deprecated. If you meant to do this, you must specify 'dtype=object' when creating the ndarray.\n"
     ]
    },
    {
     "name": "stdout",
     "output_type": "stream",
     "text": [
      "7 afs\n",
      "bdl_test_S1600_a05 bdl_test_S1600_a05\n",
      "../output_mark_wave/output_mark_wave_ensemble=1_601_240_720.000000_bdl_test_S1600_a05.dat\n",
      "[ 0.  11.8 23.6 35.4 47.2 59. ] [0.  0.4 0.8 1.2 1.6 2. ]\n"
     ]
    },
    {
     "name": "stderr",
     "output_type": "stream",
     "text": [
      "/home/ray/anaconda3/envs/playground/lib/python3.7/site-packages/ipykernel_launcher.py:91: VisibleDeprecationWarning: Creating an ndarray from ragged nested sequences (which is a list-or-tuple of lists-or-tuples-or ndarrays with different lengths or shapes) is deprecated. If you meant to do this, you must specify 'dtype=object' when creating the ndarray.\n"
     ]
    },
    {
     "name": "stdout",
     "output_type": "stream",
     "text": [
      "8 afs\n",
      "bdl_test_S1600_a05 bdl_test_S1600_a05\n",
      "../output_mark_wave/output_mark_wave_ensemble=1_601_240_720.000000_bdl_test_S1600_a05.dat\n",
      "[ 0.  11.8 23.6 35.4 47.2 59. ] [0.  0.4 0.8 1.2 1.6 2. ]\n"
     ]
    },
    {
     "name": "stderr",
     "output_type": "stream",
     "text": [
      "/home/ray/anaconda3/envs/playground/lib/python3.7/site-packages/ipykernel_launcher.py:91: VisibleDeprecationWarning: Creating an ndarray from ragged nested sequences (which is a list-or-tuple of lists-or-tuples-or ndarrays with different lengths or shapes) is deprecated. If you meant to do this, you must specify 'dtype=object' when creating the ndarray.\n"
     ]
    },
    {
     "name": "stdout",
     "output_type": "stream",
     "text": [
      "9 afs\n",
      "bdl_test_S1600_a05 bdl_test_S1600_a05\n",
      "../output_mark_wave/output_mark_wave_ensemble=1_601_240_720.000000_bdl_test_S1600_a05.dat\n",
      "[ 0.  11.8 23.6 35.4 47.2 59. ] [0.  0.4 0.8 1.2 1.6 2. ]\n"
     ]
    },
    {
     "name": "stderr",
     "output_type": "stream",
     "text": [
      "/home/ray/anaconda3/envs/playground/lib/python3.7/site-packages/ipykernel_launcher.py:91: VisibleDeprecationWarning: Creating an ndarray from ragged nested sequences (which is a list-or-tuple of lists-or-tuples-or ndarrays with different lengths or shapes) is deprecated. If you meant to do this, you must specify 'dtype=object' when creating the ndarray.\n"
     ]
    },
    {
     "name": "stdout",
     "output_type": "stream",
     "text": [
      "10 afs\n",
      "bdl_test_S1600_a05 bdl_test_S1600_a05\n",
      "../output_mark_wave/output_mark_wave_ensemble=1_601_240_720.000000_bdl_test_S1600_a05.dat\n",
      "[ 0.  11.8 23.6 35.4 47.2 59. ] [0.  0.4 0.8 1.2 1.6 2. ]\n"
     ]
    },
    {
     "name": "stderr",
     "output_type": "stream",
     "text": [
      "/home/ray/anaconda3/envs/playground/lib/python3.7/site-packages/ipykernel_launcher.py:91: VisibleDeprecationWarning: Creating an ndarray from ragged nested sequences (which is a list-or-tuple of lists-or-tuples-or ndarrays with different lengths or shapes) is deprecated. If you meant to do this, you must specify 'dtype=object' when creating the ndarray.\n"
     ]
    },
    {
     "name": "stdout",
     "output_type": "stream",
     "text": [
      "11 afs\n",
      "bdl_test_S1600_a05 bdl_test_S1600_a05\n",
      "../output_mark_wave/output_mark_wave_ensemble=1_601_240_720.000000_bdl_test_S1600_a05.dat\n",
      "[ 0.  11.8 23.6 35.4 47.2 59. ] [0.  0.4 0.8 1.2 1.6 2. ]\n"
     ]
    },
    {
     "name": "stderr",
     "output_type": "stream",
     "text": [
      "/home/ray/anaconda3/envs/playground/lib/python3.7/site-packages/ipykernel_launcher.py:91: VisibleDeprecationWarning: Creating an ndarray from ragged nested sequences (which is a list-or-tuple of lists-or-tuples-or ndarrays with different lengths or shapes) is deprecated. If you meant to do this, you must specify 'dtype=object' when creating the ndarray.\n"
     ]
    },
    {
     "name": "stdout",
     "output_type": "stream",
     "text": [
      "12 afs\n",
      "bdl_test_S1600_a05 bdl_test_S1600_a05\n",
      "../output_mark_wave/output_mark_wave_ensemble=1_601_240_720.000000_bdl_test_S1600_a05.dat\n"
     ]
    },
    {
     "name": "stderr",
     "output_type": "stream",
     "text": [
      "/home/ray/anaconda3/envs/playground/lib/python3.7/site-packages/ipykernel_launcher.py:91: VisibleDeprecationWarning: Creating an ndarray from ragged nested sequences (which is a list-or-tuple of lists-or-tuples-or ndarrays with different lengths or shapes) is deprecated. If you meant to do this, you must specify 'dtype=object' when creating the ndarray.\n"
     ]
    },
    {
     "name": "stdout",
     "output_type": "stream",
     "text": [
      "[ 0.  11.8 23.6 35.4 47.2 59. ] [0.  0.4 0.8 1.2 1.6 2. ]\n",
      "13 afs\n",
      "bdl_test_S1600_a05 bdl_test_S1600_a05\n",
      "../output_mark_wave/output_mark_wave_ensemble=1_601_240_720.000000_bdl_test_S1600_a05.dat\n",
      "[ 0.  11.8 23.6 35.4 47.2 59. ] [0.  0.4 0.8 1.2 1.6 2. ]\n"
     ]
    },
    {
     "name": "stderr",
     "output_type": "stream",
     "text": [
      "/home/ray/anaconda3/envs/playground/lib/python3.7/site-packages/ipykernel_launcher.py:91: VisibleDeprecationWarning: Creating an ndarray from ragged nested sequences (which is a list-or-tuple of lists-or-tuples-or ndarrays with different lengths or shapes) is deprecated. If you meant to do this, you must specify 'dtype=object' when creating the ndarray.\n"
     ]
    },
    {
     "name": "stdout",
     "output_type": "stream",
     "text": [
      "14 afs\n",
      "bdl_test_S1600_a05 bdl_test_S1600_a05\n",
      "../output_mark_wave/output_mark_wave_ensemble=1_601_240_720.000000_bdl_test_S1600_a05.dat\n",
      "[ 0.  11.8 23.6 35.4 47.2 59. ] [0.  0.4 0.8 1.2 1.6 2. ]\n"
     ]
    },
    {
     "name": "stderr",
     "output_type": "stream",
     "text": [
      "/home/ray/anaconda3/envs/playground/lib/python3.7/site-packages/ipykernel_launcher.py:91: VisibleDeprecationWarning: Creating an ndarray from ragged nested sequences (which is a list-or-tuple of lists-or-tuples-or ndarrays with different lengths or shapes) is deprecated. If you meant to do this, you must specify 'dtype=object' when creating the ndarray.\n"
     ]
    },
    {
     "name": "stdout",
     "output_type": "stream",
     "text": [
      "15 afs\n",
      "bdl_test_S1600_a05 bdl_test_S1600_a05\n",
      "../output_mark_wave/output_mark_wave_ensemble=1_601_240_720.000000_bdl_test_S1600_a05.dat\n",
      "[ 0.  11.8 23.6 35.4 47.2 59. ] [0.  0.4 0.8 1.2 1.6 2. ]\n"
     ]
    },
    {
     "name": "stderr",
     "output_type": "stream",
     "text": [
      "/home/ray/anaconda3/envs/playground/lib/python3.7/site-packages/ipykernel_launcher.py:91: VisibleDeprecationWarning: Creating an ndarray from ragged nested sequences (which is a list-or-tuple of lists-or-tuples-or ndarrays with different lengths or shapes) is deprecated. If you meant to do this, you must specify 'dtype=object' when creating the ndarray.\n"
     ]
    },
    {
     "name": "stdout",
     "output_type": "stream",
     "text": [
      "16 afs\n",
      "bdl_test_S1600_a05 bdl_test_S1600_a05\n",
      "../output_mark_wave/output_mark_wave_ensemble=1_601_240_720.000000_bdl_test_S1600_a05.dat\n",
      "[ 0.  11.8 23.6 35.4 47.2 59. ] [0.  0.4 0.8 1.2 1.6 2. ]\n"
     ]
    },
    {
     "name": "stderr",
     "output_type": "stream",
     "text": [
      "/home/ray/anaconda3/envs/playground/lib/python3.7/site-packages/ipykernel_launcher.py:91: VisibleDeprecationWarning: Creating an ndarray from ragged nested sequences (which is a list-or-tuple of lists-or-tuples-or ndarrays with different lengths or shapes) is deprecated. If you meant to do this, you must specify 'dtype=object' when creating the ndarray.\n"
     ]
    },
    {
     "name": "stdout",
     "output_type": "stream",
     "text": [
      "17 afs\n",
      "bdl_test_S1600_a05 bdl_test_S1600_a05\n",
      "../output_mark_wave/output_mark_wave_ensemble=1_601_240_720.000000_bdl_test_S1600_a05.dat\n"
     ]
    },
    {
     "name": "stderr",
     "output_type": "stream",
     "text": [
      "/home/ray/anaconda3/envs/playground/lib/python3.7/site-packages/ipykernel_launcher.py:91: VisibleDeprecationWarning: Creating an ndarray from ragged nested sequences (which is a list-or-tuple of lists-or-tuples-or ndarrays with different lengths or shapes) is deprecated. If you meant to do this, you must specify 'dtype=object' when creating the ndarray.\n"
     ]
    },
    {
     "name": "stdout",
     "output_type": "stream",
     "text": [
      "[ 0.  11.8 23.6 35.4 47.2 59. ] [0.  0.4 0.8 1.2 1.6 2. ]\n",
      "18 afs\n",
      "bdl_test_S1600_a05 bdl_test_S1600_a05\n",
      "../output_mark_wave/output_mark_wave_ensemble=1_601_240_720.000000_bdl_test_S1600_a05.dat\n",
      "[ 0.  11.8 23.6 35.4 47.2 59. ] [0.  0.4 0.8 1.2 1.6 2. ]\n"
     ]
    },
    {
     "name": "stderr",
     "output_type": "stream",
     "text": [
      "/home/ray/anaconda3/envs/playground/lib/python3.7/site-packages/ipykernel_launcher.py:91: VisibleDeprecationWarning: Creating an ndarray from ragged nested sequences (which is a list-or-tuple of lists-or-tuples-or ndarrays with different lengths or shapes) is deprecated. If you meant to do this, you must specify 'dtype=object' when creating the ndarray.\n"
     ]
    },
    {
     "name": "stdout",
     "output_type": "stream",
     "text": [
      "19 afs\n",
      "bdl_test_S1600_a05 bdl_test_S1600_a05\n",
      "../output_mark_wave/output_mark_wave_ensemble=1_601_240_720.000000_bdl_test_S1600_a05.dat\n",
      "[ 0.  11.8 23.6 35.4 47.2 59. ] [0.  0.4 0.8 1.2 1.6 2. ]\n"
     ]
    },
    {
     "name": "stderr",
     "output_type": "stream",
     "text": [
      "/home/ray/anaconda3/envs/playground/lib/python3.7/site-packages/ipykernel_launcher.py:91: VisibleDeprecationWarning: Creating an ndarray from ragged nested sequences (which is a list-or-tuple of lists-or-tuples-or ndarrays with different lengths or shapes) is deprecated. If you meant to do this, you must specify 'dtype=object' when creating the ndarray.\n"
     ]
    },
    {
     "name": "stdout",
     "output_type": "stream",
     "text": [
      "20 afs\n",
      "bdl_test_S1600_a05 bdl_test_S1600_a05\n",
      "../output_mark_wave/output_mark_wave_ensemble=1_601_240_720.000000_bdl_test_S1600_a05.dat\n",
      "[ 0.  11.8 23.6 35.4 47.2 59. ] [0.  0.4 0.8 1.2 1.6 2. ]\n"
     ]
    },
    {
     "name": "stderr",
     "output_type": "stream",
     "text": [
      "/home/ray/anaconda3/envs/playground/lib/python3.7/site-packages/ipykernel_launcher.py:91: VisibleDeprecationWarning: Creating an ndarray from ragged nested sequences (which is a list-or-tuple of lists-or-tuples-or ndarrays with different lengths or shapes) is deprecated. If you meant to do this, you must specify 'dtype=object' when creating the ndarray.\n"
     ]
    },
    {
     "name": "stdout",
     "output_type": "stream",
     "text": [
      "21 afs\n",
      "bdl_test_S1600_a05 bdl_test_S1600_a05\n",
      "../output_mark_wave/output_mark_wave_ensemble=1_601_240_720.000000_bdl_test_S1600_a05.dat\n",
      "[ 0.  11.8 23.6 35.4 47.2 59. ] [0.  0.4 0.8 1.2 1.6 2. ]\n"
     ]
    },
    {
     "name": "stderr",
     "output_type": "stream",
     "text": [
      "/home/ray/anaconda3/envs/playground/lib/python3.7/site-packages/ipykernel_launcher.py:91: VisibleDeprecationWarning: Creating an ndarray from ragged nested sequences (which is a list-or-tuple of lists-or-tuples-or ndarrays with different lengths or shapes) is deprecated. If you meant to do this, you must specify 'dtype=object' when creating the ndarray.\n"
     ]
    },
    {
     "name": "stdout",
     "output_type": "stream",
     "text": [
      "22 afs\n",
      "bdl_test_S1600_a05 bdl_test_S1600_a05\n",
      "../output_mark_wave/output_mark_wave_ensemble=1_601_240_720.000000_bdl_test_S1600_a05.dat\n",
      "[ 0.  11.8 23.6 35.4 47.2 59. ] [0.  0.4 0.8 1.2 1.6 2. ]\n"
     ]
    },
    {
     "name": "stderr",
     "output_type": "stream",
     "text": [
      "/home/ray/anaconda3/envs/playground/lib/python3.7/site-packages/ipykernel_launcher.py:91: VisibleDeprecationWarning: Creating an ndarray from ragged nested sequences (which is a list-or-tuple of lists-or-tuples-or ndarrays with different lengths or shapes) is deprecated. If you meant to do this, you must specify 'dtype=object' when creating the ndarray.\n"
     ]
    },
    {
     "name": "stdout",
     "output_type": "stream",
     "text": [
      "23 afs\n",
      "bdl_test_S1600_a05 bdl_test_S1600_a05\n",
      "../output_mark_wave/output_mark_wave_ensemble=1_601_240_720.000000_bdl_test_S1600_a05.dat\n"
     ]
    },
    {
     "name": "stderr",
     "output_type": "stream",
     "text": [
      "/home/ray/anaconda3/envs/playground/lib/python3.7/site-packages/ipykernel_launcher.py:91: VisibleDeprecationWarning: Creating an ndarray from ragged nested sequences (which is a list-or-tuple of lists-or-tuples-or ndarrays with different lengths or shapes) is deprecated. If you meant to do this, you must specify 'dtype=object' when creating the ndarray.\n"
     ]
    },
    {
     "name": "stdout",
     "output_type": "stream",
     "text": [
      "[ 0.  11.8 23.6 35.4 47.2 59. ] [0.  0.4 0.8 1.2 1.6 2. ]\n",
      "24 afs\n",
      "bdl_test_S1600_a05 bdl_test_S1600_a05\n",
      "../output_mark_wave/output_mark_wave_ensemble=1_601_240_720.000000_bdl_test_S1600_a05.dat\n",
      "[ 0.  11.8 23.6 35.4 47.2 59. ] [0.  0.4 0.8 1.2 1.6 2. ]\n"
     ]
    },
    {
     "name": "stderr",
     "output_type": "stream",
     "text": [
      "/home/ray/anaconda3/envs/playground/lib/python3.7/site-packages/ipykernel_launcher.py:91: VisibleDeprecationWarning: Creating an ndarray from ragged nested sequences (which is a list-or-tuple of lists-or-tuples-or ndarrays with different lengths or shapes) is deprecated. If you meant to do this, you must specify 'dtype=object' when creating the ndarray.\n"
     ]
    },
    {
     "name": "stdout",
     "output_type": "stream",
     "text": [
      "25 afs\n",
      "bdl_test_S1600_a05 bdl_test_S1600_a05\n",
      "../output_mark_wave/output_mark_wave_ensemble=1_601_240_720.000000_bdl_test_S1600_a05.dat\n",
      "[ 0.  11.8 23.6 35.4 47.2 59. ] [0.  0.4 0.8 1.2 1.6 2. ]\n"
     ]
    },
    {
     "name": "stderr",
     "output_type": "stream",
     "text": [
      "/home/ray/anaconda3/envs/playground/lib/python3.7/site-packages/ipykernel_launcher.py:91: VisibleDeprecationWarning: Creating an ndarray from ragged nested sequences (which is a list-or-tuple of lists-or-tuples-or ndarrays with different lengths or shapes) is deprecated. If you meant to do this, you must specify 'dtype=object' when creating the ndarray.\n"
     ]
    },
    {
     "name": "stdout",
     "output_type": "stream",
     "text": [
      "26 afs\n",
      "bdl_test_S1600_a05 bdl_test_S1600_a05\n",
      "../output_mark_wave/output_mark_wave_ensemble=1_601_240_720.000000_bdl_test_S1600_a05.dat\n",
      "[ 0.  11.8 23.6 35.4 47.2 59. ] [0.  0.4 0.8 1.2 1.6 2. ]\n"
     ]
    },
    {
     "name": "stderr",
     "output_type": "stream",
     "text": [
      "/home/ray/anaconda3/envs/playground/lib/python3.7/site-packages/ipykernel_launcher.py:91: VisibleDeprecationWarning: Creating an ndarray from ragged nested sequences (which is a list-or-tuple of lists-or-tuples-or ndarrays with different lengths or shapes) is deprecated. If you meant to do this, you must specify 'dtype=object' when creating the ndarray.\n"
     ]
    },
    {
     "name": "stdout",
     "output_type": "stream",
     "text": [
      "27 afs\n",
      "bdl_test_S1600_a05 bdl_test_S1600_a05\n",
      "../output_mark_wave/output_mark_wave_ensemble=1_601_240_720.000000_bdl_test_S1600_a05.dat\n",
      "[ 0.  11.8 23.6 35.4 47.2 59. ] [0.  0.4 0.8 1.2 1.6 2. ]\n"
     ]
    },
    {
     "name": "stderr",
     "output_type": "stream",
     "text": [
      "/home/ray/anaconda3/envs/playground/lib/python3.7/site-packages/ipykernel_launcher.py:91: VisibleDeprecationWarning: Creating an ndarray from ragged nested sequences (which is a list-or-tuple of lists-or-tuples-or ndarrays with different lengths or shapes) is deprecated. If you meant to do this, you must specify 'dtype=object' when creating the ndarray.\n"
     ]
    },
    {
     "name": "stdout",
     "output_type": "stream",
     "text": [
      "28 afs\n",
      "bdl_test_S1600_a05 bdl_test_S1600_a05\n",
      "../output_mark_wave/output_mark_wave_ensemble=1_601_240_720.000000_bdl_test_S1600_a05.dat\n",
      "[ 0.  11.8 23.6 35.4 47.2 59. ] [0.  0.4 0.8 1.2 1.6 2. ]\n"
     ]
    },
    {
     "name": "stderr",
     "output_type": "stream",
     "text": [
      "/home/ray/anaconda3/envs/playground/lib/python3.7/site-packages/ipykernel_launcher.py:91: VisibleDeprecationWarning: Creating an ndarray from ragged nested sequences (which is a list-or-tuple of lists-or-tuples-or ndarrays with different lengths or shapes) is deprecated. If you meant to do this, you must specify 'dtype=object' when creating the ndarray.\n"
     ]
    },
    {
     "name": "stdout",
     "output_type": "stream",
     "text": [
      "29 afs\n",
      "bdl_test_S1600_a05 bdl_test_S1600_a05\n",
      "../output_mark_wave/output_mark_wave_ensemble=1_601_240_720.000000_bdl_test_S1600_a05.dat\n",
      "[ 0.  11.8 23.6 35.4 47.2 59. ] [0.  0.4 0.8 1.2 1.6 2. ]\n"
     ]
    },
    {
     "name": "stderr",
     "output_type": "stream",
     "text": [
      "/home/ray/anaconda3/envs/playground/lib/python3.7/site-packages/ipykernel_launcher.py:91: VisibleDeprecationWarning: Creating an ndarray from ragged nested sequences (which is a list-or-tuple of lists-or-tuples-or ndarrays with different lengths or shapes) is deprecated. If you meant to do this, you must specify 'dtype=object' when creating the ndarray.\n"
     ]
    },
    {
     "name": "stdout",
     "output_type": "stream",
     "text": [
      "30 afs\n",
      "bdl_test_S1600_a05 bdl_test_S1600_a05\n",
      "../output_mark_wave/output_mark_wave_ensemble=1_601_240_720.000000_bdl_test_S1600_a05.dat\n",
      "[ 0.  11.8 23.6 35.4 47.2 59. ] [0.  0.4 0.8 1.2 1.6 2. ]\n"
     ]
    },
    {
     "name": "stderr",
     "output_type": "stream",
     "text": [
      "/home/ray/anaconda3/envs/playground/lib/python3.7/site-packages/ipykernel_launcher.py:91: VisibleDeprecationWarning: Creating an ndarray from ragged nested sequences (which is a list-or-tuple of lists-or-tuples-or ndarrays with different lengths or shapes) is deprecated. If you meant to do this, you must specify 'dtype=object' when creating the ndarray.\n"
     ]
    }
   ],
   "source": [
    "l_typ = 'WINDOW_STEP'\n",
    "diff = False\n",
    "\n",
    "attr_labels = pt.labels()\n",
    "\n",
    "typ1 = 'debug_ic_test_S400_noom_a05'\n",
    "typ1 = 'bdl_test_S1600_a05'\n",
    "\n",
    "def file_namer(ttype, sttype):\n",
    "    if len(ttype) > 0:\n",
    "        ttype += '_'\n",
    "    typ1 = 'debug_ic_%som_%s' %(ttype,sttype)\n",
    "    typ2 = 'debug_ic_%snoom_%s' %(ttype,sttype)\n",
    "    return typ1, typ2\n",
    "\n",
    "tp ='afs'\n",
    "tag = 'after_full_step'\n",
    "time_unit = 's'\n",
    "\n",
    "long = 'long' in typ1 or 'short' in typ1\n",
    "\n",
    "# l_typ = 'TIME'\n",
    "# times0 = np.arange(0.0,720.0+0.6,0.6)[1:50]\n",
    "# times0 = np.arange(0.0,720.0+0.01,0.01)[1:50]\n",
    "times0 = np.arange(31)\n",
    "    \n",
    "NIDX = int(Ny/4+4)\n",
    "print('NIDX = %i' %NIDX)\n",
    "_,ics,tc = get_arr(typ1,times0, NIDX, tp=tp, et=720.0)\n",
    "ud, mpv = ics[0], ics[1]\n",
    "_ = get_ens_all(tc, times0, typ1, False, 'rho', tag, NIDX)[:]\n",
    "\n",
    "t_axs = np.append(0,times0)\n",
    "\n",
    "print(times0)\n",
    "phys_time = tc.t_arr\n",
    "\n",
    "if '_om_' in typ1:\n",
    "    tcase = 'w_omega'\n",
    "    tstr = r'7.292 \\times 10^{-5}'\n",
    "elif '_noom_' in typ1:\n",
    "    tcase = 'wo_omega'\n",
    "    tstr = r'0.0'\n",
    "else:\n",
    "    tcase = 'a05'\n",
    "    tstr = '%.6f' %(ud.coriolis_strength[2] / ud.t_ref)\n",
    "\n",
    "lrho = np.arange(0.32,0.96+0.08,0.08)\n",
    "lrhoX = np.arange(-0.00032,0.00032+0.00008,0.00008)\n",
    "# lrhoX = [None]\n",
    "lu = np.arange(-0.004,0.004+0.001,0.001)\n",
    "lv = np.arange(-0.00060,0.00060+0.00015,0.00015)\n",
    "lv = np.arange(-0.0008,0.0008+0.0002,0.0002)\n",
    "lrhoY = np.arange(-0.0006,0.0006+0.00015,0.00015)\n",
    "lp2n = np.arange(-0.001,0.00125,0.00025)\n",
    "lvls = [lrho,lrhoX,lu,lv,lrhoY,lp2n]\n",
    "lvls = [lu,lv,lrhoY,lp2n]\n",
    "\n",
    "lu = np.arange(-0.004/2,0.004/2+0.0005,0.0005)\n",
    "lv = np.arange(-0.0008/2,0.0008/2+0.0001,0.0001)\n",
    "lrhoY = np.arange(-0.0006/2,0.0006/2+0.000075,0.000075)\n",
    "lp2n = np.arange(-0.001,0.00125,0.00025)\n",
    "lvls = [lu,lv,lrhoY,lp2n]\n",
    "\n",
    "for idx,time in enumerate(times0):\n",
    "#     print(time)\n",
    "    tp = 'ic' if time == 0 else 'afs'\n",
    "    print(idx, tp)\n",
    "    aa2,ics,_ = get_arr(typ1,[time], NIDX, tp=tp, et=720.0)\n",
    "    ud, mpv = ics[0], ics[1]\n",
    "#     if long:\n",
    "    ct = 0.0 if time == 0 else time\n",
    "#     else:\n",
    "#         ct = 0.0 if time == 0 else t_axs[time]\n",
    "\n",
    "    pl_lst = aa2\n",
    "    pl = pt.plotter(pl_lst,ncols=2,figsize=(32*fac,20*fac),sharey=False, fontsize=32)\n",
    "    x_axs = np.array(np.linspace(ud.xmin,ud.xmax,7))\n",
    "    # y_axs = [-0.5,-0.25,0.0,0.25,0.5]\n",
    "    y_axs = np.array(np.linspace(ud.ymin,ud.ymax,6))\n",
    "\n",
    "    x_axs = np.around(x_axs,3)\n",
    "    y_axs = np.around(y_axs/4,1)\n",
    "\n",
    "    x_loc = np.linspace(0,Nx-1,7)\n",
    "    y_loc = np.linspace(0,Ny/4-1,6)\n",
    "    \n",
    "    print(y_loc, y_axs)\n",
    "    x_label = r'x [$\\times 10$ km]'\n",
    "    y_label = r'y [$\\times 10$ km]'\n",
    "\n",
    "    pl.set_axes(x_locs=x_loc, y_locs=y_loc, x_axs=x_axs, y_axs=y_axs, x_label=x_label, y_label=y_label)\n",
    "    \n",
    "    if 'rsts' in typ1:\n",
    "        time_unit = 's'\n",
    "        tu = ud.t_ref\n",
    "        stitle = r'$\\Omega_y = %s s^{-1}$, time = %.2f %s' %(tstr, ct*tu, time_unit)\n",
    "    elif 'hrs' in typ1 or long or 'min' in typ1 or 'vlarge' in typ1:\n",
    "        time_unit = 'hrs'\n",
    "        tu = ud.t_ref/3600\n",
    "        stitle = r'$\\Omega_y = %s s^{-1}$, time = %.2f %s' %(tstr, ct*tu, time_unit)\n",
    "    else:\n",
    "        tu = ud.t_ref#/3600\n",
    "        stitle = r'$\\Omega_y = %s s^{-1}$, time-step = %i, time = %.2f %s' %(tstr, idx, phys_time[idx]*tu, time_unit)\n",
    "    _ = pl.plot(method='contour', lvls=lvls, suptitle=stitle, rect=[0, 0.03, 1, 0.95])\n",
    "\n",
    "    pl.save_fig('./output_mark/lamb_%s_%.3d' %(tcase,ct), format='.png')\n",
    "    plt.close()"
   ]
  },
  {
   "cell_type": "code",
   "execution_count": 224,
   "id": "b6528fec-f0df-4593-a323-3950a8dfa029",
   "metadata": {},
   "outputs": [
    {
     "name": "stdout",
     "output_type": "stream",
     "text": [
      "bdl_test_S200_a05\n",
      "bdl_test_S200_a05 bdl_test_S200_a05\n",
      "../output_mark_wave/output_mark_wave_ensemble=1_301_120_720.000000_bdl_test_S200_a05.dat\n",
      "bdl_test_S200_a05 bdl_test_S200_a05\n",
      "../output_mark_wave/output_mark_wave_ensemble=1_301_120_720.000000_bdl_test_S200_a05.dat\n",
      "NIDX = 34\n",
      "(51, 301, 34)\n"
     ]
    },
    {
     "name": "stderr",
     "output_type": "stream",
     "text": [
      "/home/ray/anaconda3/envs/playground/lib/python3.7/site-packages/ipykernel_launcher.py:91: VisibleDeprecationWarning: Creating an ndarray from ragged nested sequences (which is a list-or-tuple of lists-or-tuples-or ndarrays with different lengths or shapes) is deprecated. If you meant to do this, you must specify 'dtype=object' when creating the ndarray.\n"
     ]
    },
    {
     "name": "stdout",
     "output_type": "stream",
     "text": [
      "(51, 301, 34)\n",
      "(51, 301, 34)\n",
      "(51, 301, 34)\n",
      "(51, 302, 35)\n",
      "(51, 301, 34)\n",
      "(51, 301, 34)\n",
      "18874.0405180194 50073.297350929264\n"
     ]
    },
    {
     "data": {
      "image/png": "[encoded data removed]",
      "text/plain": [
       "<Figure size 576x360 with 2 Axes>"
      ]
     },
     "metadata": {
      "needs_background": "light"
     },
     "output_type": "display_data"
    },
    {
     "data": {
      "image/png": "[encoded data removed]",
      "text/plain": [
       "<Figure size 576x432 with 1 Axes>"
      ]
     },
     "metadata": {
      "needs_background": "light"
     },
     "output_type": "display_data"
    }
   ],
   "source": [
    "from matplotlib.ticker import (FixedLocator)\n",
    "from matplotlib import ticker\n",
    "\n",
    "from numpy import linalg as la\n",
    "\n",
    "l_typ = 'WINDOW_STEP'\n",
    "diff = False\n",
    "\n",
    "attr_labels = pt.labels()\n",
    "\n",
    "def file_namer(ttype, sttype):\n",
    "    if len(ttype) > 0:\n",
    "        ttype += '_'\n",
    "    typ1 = 'debug_ic_%som_%s' %(ttype,sttype)\n",
    "    typ2 = 'debug_ic_%snoom_%s' %(ttype,sttype)\n",
    "    return typ1, typ2\n",
    "\n",
    "typ2 = 'debug_ic_noom_hrs'\n",
    "typ1 = 'debug_ic_om_hrs'\n",
    "\n",
    "# sfx = '_S800'\n",
    "typ1 = 'debug_ic_test%s' %sfx\n",
    "typ2 = 'debug_ic_test%s' %sfx\n",
    "\n",
    "typ1 = 'bdl_test_S200_a05'\n",
    "typ2 = typ1\n",
    "\n",
    "print(typ1)\n",
    "\n",
    "Nx, Ny = 301, 120\n",
    "et = 720.0\n",
    "tc, tags = load(Nx,Ny,et,'mark')\n",
    "\n",
    "nts = 50\n",
    "times0 = np.arange(nts)\n",
    "times1 = np.arange(nts)\n",
    "\n",
    "long = 'long' in typ1 or 'short' in typ1 or 'min' in typ1\n",
    "short = 'short' in typ1\n",
    "\n",
    "if long:\n",
    "#     l_typ = 'TIME'\n",
    "#     times1 = np.arange(0.0,720.0+0.6,0.6)[1:51]\n",
    "#     times1 = np.arange(0.0,720.0+0.01,0.01)[1:11]\n",
    "#     times2 = times1\n",
    "    pass\n",
    "\n",
    "# tp = 'ic'\n",
    "tp = 'ic' if times1[0] == 0 else 'afs'\n",
    "attribute = 'rhou'\n",
    "tag = 'after_full_step'\n",
    "\n",
    "NIDX = int(Ny/4+4)\n",
    "if 'hrs' in typ1 or long or 'vlarge' in typ1:\n",
    "    _,_,tc1 = get_arr(typ1,times1, tp=tp, et=720.0)\n",
    "    _,_,tc2 = get_arr(typ2,times2, tp=tp, et=720.0)\n",
    "    tt1 = times1\n",
    "    tt2 = times2\n",
    "else:\n",
    "    _,ics1,tc1 = get_arr(typ1,times0, NIDX, tp=tp, et=720.0)\n",
    "    _,ics2,tc2 = get_arr(typ2,times0, NIDX, tp=tp, et=720.0)\n",
    "    tt1, tt2 = times0, times0\n",
    "    \n",
    "ud, mpv = ics1\n",
    "print(\"NIDX = %i\" %NIDX)\n",
    "rhos = get_ens_all(tc1, tt1, typ1, False, 'rho', tag, NIDX)[:]\n",
    "\n",
    "arrs_rhou = get_ens_all(tc1, tt1, typ1, False, attribute, tag, NIDX)[:]\n",
    "arrs_rhov = get_ens_all(tc1, tt1, typ1, False, 'rhov', tag, NIDX)[:]\n",
    "arrs_rhoY = get_ens_all(tc1, tt1, typ1, False, 'rhoY', tag, NIDX)[:]\n",
    "arrs_pi = get_ens_all(tc1, tt1, typ1, False, 'p2_nodes', tag, NIDX+1)[:]\n",
    "\n",
    "rhobar = mpv.HydroState.rho0[:NIDX]#[2:-2]\n",
    "# rhobar = 1.0\n",
    "# ud.rho_ref = 1.0\n",
    "uhat = arrs_rhou / rhos * rhobar**0.5 * (ud.u_ref * np.sqrt(ud.rho_ref))\n",
    "vhat = arrs_rhov / rhos * rhobar**0.5 * (ud.u_ref * np.sqrt(ud.rho_ref))\n",
    "Nfq = ud.Nsq_ref**0.5\n",
    "g = ud.gravity_strength[1] * ud.u_ref / ud.t_ref\n",
    "Ybar = mpv.HydroState.Y0[:NIDX]#[2:-2]\n",
    "Yhat = g / Nfq * (rhobar**0.5 * np.sqrt(ud.rho_ref)) / Ybar * (arrs_rhoY / rhos - Ybar)\n",
    "p2c = np.array([signal.fftconvolve(mem,[[1,1],[1,1]], mode='valid')/4.0 for mem in arrs_pi])\n",
    "C = (ud.u_ref * np.sqrt(1.4/ud.Msq))\n",
    "p2hat = 1.0 / C * (rhobar**0.5 * np.sqrt(ud.rho_ref)) * Ybar * p2c * ud.T_ref #* ud.Msq\n",
    "\n",
    "# rhobar = mpv.HydroState.rho0[:NIDX]#[2:-2]\n",
    "\n",
    "# uhat = arrs_rhou / rhos * rhobar**0.5\n",
    "# vhat = arrs_rhov / rhos * rhobar**0.5\n",
    "# Nfq = ud.Nsq_ref**0.5\n",
    "# g = ud.gravity_strength[1] * ud.u_ref / ud.t_ref\n",
    "# Ybar = mpv.HydroState.Y0[:NIDX]#[2:-2]\n",
    "# Yhat = g / Nfq * (rhobar**0.5 * np.sqrt(ud.rho_ref)) / Ybar * (arrs_rhoY / rhos - Ybar)\n",
    "# p2c = [signal.fftconvolve(mem,[[1,1],[1,1]], mode='valid') for mem in arrs_pi]\n",
    "# C = (ud.u_ref / ud.Msq**0.5)\n",
    "# p2hat = 1.0 / C * (rhobar**0.5 * np.sqrt(ud.rho_ref)) * Ybar * p2c * ud.T_ref# * ud.Msq\n",
    "\n",
    "t_axs1 = np.array(tc1.t_arr)\n",
    "\n",
    "arrs_noom = get_ens_all(tc2, tt2, typ2, False, attribute, tag, NIDX)[:]\n",
    "rhos_noom = get_ens_all(tc2, tt2, typ2, False, 'rho', tag, NIDX)[:]\n",
    "t_axs2 = np.array(tc2.t_arr)\n",
    "\n",
    "# if long:\n",
    "#     t_axs1 = np.append(0,times1)\n",
    "#     t_axs2 = np.append(0,times2)\n",
    "#     print(t_axs1)\n",
    "\n",
    "# print(t_axs1, t_axs2)\n",
    "\n",
    "# plt.figure()\n",
    "# plt.imshow(uhat[10][...].T, origin='lower')\n",
    "# plt.colorbar()\n",
    "# plt.show()\n",
    "# pl_lst = [[rhos[10][...].T,r'background density $\\bar{\\rho}$']]\n",
    "# pl_lst = [[uhat[10][...].T,'horizontal velocity $u^\\prime$']]\n",
    "pl_lst = [[uhat[10][...].T,'weighted horizontal velocity $\\hat{u}$']]\n",
    "pl = pt.plotter(pl_lst,ncols=1,figsize=(8*fac,5*fac),sharey=False)\n",
    "_ = pl.plot(method='contour', lvls=None)\n",
    "pl.save_fig('./output_mark/background_rho', format='.png')\n",
    "\n",
    "res = []\n",
    "res_noom = []\n",
    "for idx, arr in enumerate(arrs_rhou):\n",
    "#     u = arr / rhos[idx]\n",
    "    u = uhat[idx]\n",
    "    v = vhat[idx]\n",
    "    Y = Yhat[idx]\n",
    "    p = p2hat[idx]\n",
    "#     nnorm = np.array([u])\n",
    "    nnorm = np.array([u,v,Y,p])\n",
    "#     nnorm = u+v+Y+p\n",
    "#     nnorm = u**2 + v**2 + Y**2 + p**2\n",
    "#     nnorm = u + v + Y + p\n",
    "#     print(u.shape)\n",
    "    res.append(0.5*la.norm(nnorm)**2)\n",
    "#     res.append(nnorm)\n",
    "    \n",
    "for idx, arr in enumerate(arrs_noom):\n",
    "    u_noom = arr / rhos_noom[idx]\n",
    "    res_noom.append(u_noom.max())\n",
    "    \n",
    "res = np.array(res)\n",
    "res_noom = np.array(res_noom)\n",
    "\n",
    "fig = plt.figure(figsize=(8,6))\n",
    "fig.add_subplot(111)\n",
    "ax = plt.gca()\n",
    "\n",
    "# t_axs = t_axs[:nts+1]\n",
    "tt = t_axs1[:80]* ud.t_ref #/ 3600\n",
    "# print(tt)\n",
    "# print(res.shape)\n",
    "# print(tt.shape)\n",
    "hrs = 'hrs' in typ1 or 'vlarge' in typ1\n",
    "vl = 'vlarge' in typ1\n",
    "tu = ud.t_ref / 3600 if (hrs or (long and not short)) else ud.t_ref\n",
    "# ax.semilogy(t_axs1*tu, res*ud.u_ref, '-', label=r'$\\Omega_y = 7.292 \\times 10^{-5}~s^{-1}$')\n",
    "ax.semilogy(t_axs1*tu, res, '-o', label=r'$\\Omega_y = 7.292 \\times 10^{-5}~s^{-1}$')\n",
    "# ax.semilogy(t_axs2*tu, res_noom*ud.u_ref, 'C2-', label=r'$\\Omega_y = 0.0~s^{-1}$')\n",
    "\n",
    "nexp = 2.9\n",
    "def fth(t):\n",
    "    return (res[res.argmin()+1].min()*np.exp(10**(-nexp)*t))\n",
    "\n",
    "nexp1 = 2.2\n",
    "def fth1(t):\n",
    "    return (res[res.argmin()]*np.exp(10**(-nexp1)*t))\n",
    "\n",
    "tty = fth(tt)\n",
    "tty1 = fth1(tt)\n",
    "tt += (t_axs1*tu)[np.argmin(res)+1]\n",
    "# tt += 4500\n",
    "lls = 3\n",
    "tty = tty[:lls]\n",
    "lls1 = 4\n",
    "tty1 = tty1[:lls1]\n",
    "tto = np.copy(tt)\n",
    "tt = tt[:lls]\n",
    "\n",
    "ax.semilogy(tt, tty, 'C3--', label=r'$A(t) = A_0 \\exp(10^{-%.2f})[s^{-1}]$' %nexp)\n",
    "# ax.semilogy(tt+400, tty, 'C3--')\n",
    "# ax.semilogy(tt+820, tty, 'C3--')\n",
    "\n",
    "# tt1 = tto[:lls1] + 0\n",
    "# ax.semilogy(tt1, tty1, 'C2--', label=r'$A(t) = A_0 \\exp(10^{-%.2f})[s^{-1}]$' %nexp1)\n",
    "\n",
    "formatter = ticker.ScalarFormatter()\n",
    "formatter.set_scientific(True) \n",
    "formatter.set_powerlimits((-1,1)) \n",
    "ax.yaxis.set_major_formatter(formatter)\n",
    "if hrs:\n",
    "    pos = np.array([0.1,0.5,1.0,5.0,10.0])\n",
    "    y_locator = FixedLocator(pos)\n",
    "    ax.yaxis.set_major_locator(y_locator)\n",
    "    ax.set_ylim([0.1,15.25])\n",
    "    ax.set_xlim([0.0,20.0])\n",
    "#     ax.set_ylim([0.1,0.2])\n",
    "#     ax.set_xlim([0.0,1.0])\n",
    "elif 'min60' in typ1:\n",
    "#     pass\n",
    "    pos = np.array([0.1,0.5,1.0,5.0])\n",
    "    y_locator = FixedLocator(pos)\n",
    "    ax.yaxis.set_major_locator(y_locator)\n",
    "    ax.set_ylim([0.1,10.0])\n",
    "    ax.set_xlim([0.0,60.0])\n",
    "elif long:\n",
    "    pass\n",
    "# elif len(times0) > 150 and not hrs:\n",
    "#     pos = np.array(np.arange(1.2,2.1,0.1))*0.1\n",
    "#     y_locator = FixedLocator(pos)\n",
    "#     ax.yaxis.set_major_locator(y_locator)\n",
    "#     ax.yaxis.set_minor_locator(FixedLocator([]))\n",
    "#     ax.set_ylim([0.12,0.208])\n",
    "#     ax.set_xlim([0.0,200.0])\n",
    "# else:\n",
    "#     pos = np.array(np.arange(1.362,1.378,0.002))*0.1\n",
    "#     y_locator = FixedLocator(pos)\n",
    "#     ax.yaxis.set_major_locator(y_locator)\n",
    "#     ax.yaxis.set_minor_locator(FixedLocator([]))\n",
    "#     ax.set_xlim([0.0,10.0])\n",
    "    \n",
    "# ax.set_xlim([0.0,1.0])\n",
    "        \n",
    "# test = (res*ud.u_ref * kGam * Omega)**0.5\n",
    "# plt.plot(t_axs * ud.t_ref / 3600, test, '-')\n",
    "\n",
    "# print((t_axs*ud.t_ref)[-1])\n",
    "\n",
    "# plt.plot(times0 * dt * ud.t_ref, fth(times0 * dt * ud.t_ref))\n",
    "ymin, ymax = plt.gca().get_ylim()\n",
    "print(ymin, ymax)\n",
    "# plt.ylim([-0.2,12.0])\n",
    "# plt.ylim([1.37e-3,1.38e-3])\n",
    "# plt.ylim([1.435e-3,1.438e-3])\n",
    "ax.set_ylabel(r'$\\Vert \\psi \\Vert^2$')\n",
    "t_units = 'hrs' if (hrs or (long and not short)) else 's'\n",
    "ax.set_xlabel(\"time $t$ [%s]\" %t_units)\n",
    "ax.grid()\n",
    "ax.legend()\n",
    "plt.tight_layout()\n",
    "plt.savefig('output_mark/plot.pdf')\n",
    "# plt.savefig('output_mark/%i_%i%s/plot_psi.pdf' %(int(Nx-1),Ny,sfx))\n",
    "plt.show()"
   ]
  },
  {
   "cell_type": "code",
   "execution_count": 226,
   "id": "c1c43953-f83e-434e-93b7-cd3cccc8cda2",
   "metadata": {},
   "outputs": [
    {
     "name": "stdout",
     "output_type": "stream",
     "text": [
      "(1, 6)\n",
      "(2, 7)\n",
      "(3, 8)\n",
      "(4, 9)\n",
      "(5, 0)\n"
     ]
    }
   ],
   "source": [
    "A = [1,2,3,4,5]\n",
    "B = [6,7,8,9,0]\n",
    "for a in zip(A,B):\n",
    "    print(a)"
   ]
  },
  {
   "cell_type": "code",
   "execution_count": null,
   "id": "29362833-8360-42e6-a6b9-f3024ee5f88c",
   "metadata": {},
   "outputs": [],
   "source": []
  }
 ],
 "metadata": {
  "kernelspec": {
   "display_name": "Python 3",
   "language": "python",
   "name": "python3"
  },
  "language_info": {
   "codemirror_mode": {
    "name": "ipython",
    "version": 3
   },
   "file_extension": ".py",
   "mimetype": "text/x-python",
   "name": "python",
   "nbconvert_exporter": "python",
   "pygments_lexer": "ipython3",
   "version": "3.7.10"
  }
 },
 "nbformat": 4,
 "nbformat_minor": 5
}
