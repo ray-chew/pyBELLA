{
 "cells": [
  {
   "cell_type": "code",
   "execution_count": 140,
   "metadata": {},
   "outputs": [],
   "source": [
    "import h5py\n",
    "import numpy as np\n",
    "import matplotlib.pyplot as plt\n",
    "%matplotlib inline\n",
    "import subprocess\n",
    "\n",
    "from scipy.interpolate import RectBivariateSpline\n",
    "from scipy.ndimage import map_coordinates"
   ]
  },
  {
   "cell_type": "code",
   "execution_count": 161,
   "metadata": {},
   "outputs": [
    {
     "ename": "TypeError",
     "evalue": "'NoneType' object is not subscriptable",
     "output_type": "error",
     "traceback": [
      "\u001b[0;31m---------------------------------------------------------------------------\u001b[0m",
      "\u001b[0;31mTypeError\u001b[0m                                 Traceback (most recent call last)",
      "\u001b[0;32m<ipython-input-161-db2d71ecb3d5>\u001b[0m in \u001b[0;36m<module>\u001b[0;34m\u001b[0m\n\u001b[1;32m     72\u001b[0m     \u001b[0mx\u001b[0m\u001b[0;34m,\u001b[0m\u001b[0my\u001b[0m \u001b[0;34m=\u001b[0m \u001b[0mnp\u001b[0m\u001b[0;34m.\u001b[0m\u001b[0mmeshgrid\u001b[0m\u001b[0;34m(\u001b[0m\u001b[0mx\u001b[0m\u001b[0;34m,\u001b[0m\u001b[0mx\u001b[0m\u001b[0;34m)\u001b[0m\u001b[0;34m\u001b[0m\u001b[0;34m\u001b[0m\u001b[0m\n\u001b[1;32m     73\u001b[0m     \u001b[0mcomp_48\u001b[0m \u001b[0;34m=\u001b[0m \u001b[0mmap_coordinates\u001b[0m\u001b[0;34m(\u001b[0m\u001b[0mcomp_48\u001b[0m\u001b[0;34m,\u001b[0m\u001b[0;34m[\u001b[0m\u001b[0mx\u001b[0m\u001b[0;34m,\u001b[0m\u001b[0my\u001b[0m\u001b[0;34m]\u001b[0m\u001b[0;34m,\u001b[0m\u001b[0mmode\u001b[0m\u001b[0;34m=\u001b[0m\u001b[0;34m'wrap'\u001b[0m\u001b[0;34m)\u001b[0m\u001b[0;34m\u001b[0m\u001b[0;34m\u001b[0m\u001b[0m\n\u001b[0;32m---> 74\u001b[0;31m     \u001b[0mcomp_ens\u001b[0m \u001b[0;34m=\u001b[0m \u001b[0mensemble_test_case\u001b[0m\u001b[0;34m(\u001b[0m\u001b[0mtime\u001b[0m\u001b[0;34m,\u001b[0m\u001b[0mpy_path_ens\u001b[0m\u001b[0;34m,\u001b[0m\u001b[0mN\u001b[0m\u001b[0;34m)\u001b[0m\u001b[0;34m\u001b[0m\u001b[0;34m\u001b[0m\u001b[0m\n\u001b[0m\u001b[1;32m     75\u001b[0m     \u001b[0mcomp_ens\u001b[0m \u001b[0;34m=\u001b[0m \u001b[0mmap_coordinates\u001b[0m\u001b[0;34m(\u001b[0m\u001b[0mcomp_ens\u001b[0m\u001b[0;34m,\u001b[0m\u001b[0;34m[\u001b[0m\u001b[0mx\u001b[0m\u001b[0;34m,\u001b[0m\u001b[0my\u001b[0m\u001b[0;34m]\u001b[0m\u001b[0;34m,\u001b[0m\u001b[0mmode\u001b[0m\u001b[0;34m=\u001b[0m\u001b[0;34m'wrap'\u001b[0m\u001b[0;34m)\u001b[0m\u001b[0;34m\u001b[0m\u001b[0;34m\u001b[0m\u001b[0m\n\u001b[1;32m     76\u001b[0m     \u001b[0;31m# interpolate = RectBivariateSpline(x,x,comp_ens)\u001b[0m\u001b[0;34m\u001b[0m\u001b[0;34m\u001b[0m\u001b[0;34m\u001b[0m\u001b[0m\n",
      "\u001b[0;32m<ipython-input-161-db2d71ecb3d5>\u001b[0m in \u001b[0;36mensemble_test_case\u001b[0;34m(time, path, N)\u001b[0m\n\u001b[1;32m     33\u001b[0m     \u001b[0;32mfor\u001b[0m \u001b[0mn\u001b[0m \u001b[0;32min\u001b[0m \u001b[0mrange\u001b[0m\u001b[0;34m(\u001b[0m\u001b[0mN\u001b[0m\u001b[0;34m)\u001b[0m\u001b[0;34m:\u001b[0m\u001b[0;34m\u001b[0m\u001b[0;34m\u001b[0m\u001b[0m\n\u001b[1;32m     34\u001b[0m         \u001b[0mt_label\u001b[0m \u001b[0;34m=\u001b[0m \u001b[0;34m'_ensemble_mem='\u001b[0m \u001b[0;34m+\u001b[0m \u001b[0mstr\u001b[0m\u001b[0;34m(\u001b[0m\u001b[0mn\u001b[0m\u001b[0;34m)\u001b[0m \u001b[0;34m+\u001b[0m \u001b[0;34m'_'\u001b[0m \u001b[0;34m+\u001b[0m \u001b[0mstr\u001b[0m\u001b[0;34m(\u001b[0m\u001b[0mtime\u001b[0m\u001b[0;34m)\u001b[0m \u001b[0;34m+\u001b[0m \u001b[0;34m'_'\u001b[0m \u001b[0;34m+\u001b[0m \u001b[0;34m'after_full_step'\u001b[0m\u001b[0;34m\u001b[0m\u001b[0;34m\u001b[0m\u001b[0m\n\u001b[0;32m---> 35\u001b[0;31m         \u001b[0mrho\u001b[0m\u001b[0;34m.\u001b[0m\u001b[0mappend\u001b[0m\u001b[0;34m(\u001b[0m\u001b[0mpy_out\u001b[0m\u001b[0;34m(\u001b[0m\u001b[0mfile\u001b[0m\u001b[0;34m,\u001b[0m\u001b[0;34m'vortz'\u001b[0m\u001b[0;34m,\u001b[0m\u001b[0mtime\u001b[0m\u001b[0;34m=\u001b[0m\u001b[0mt_label\u001b[0m\u001b[0;34m)\u001b[0m\u001b[0;34m)\u001b[0m\u001b[0;34m[\u001b[0m\u001b[0minner\u001b[0m\u001b[0;34m]\u001b[0m\u001b[0;34m\u001b[0m\u001b[0;34m\u001b[0m\u001b[0m\n\u001b[0m\u001b[1;32m     36\u001b[0m \u001b[0;34m\u001b[0m\u001b[0m\n\u001b[1;32m     37\u001b[0m     \u001b[0mrho\u001b[0m \u001b[0;34m=\u001b[0m \u001b[0mnp\u001b[0m\u001b[0;34m.\u001b[0m\u001b[0marray\u001b[0m\u001b[0;34m(\u001b[0m\u001b[0mrho\u001b[0m\u001b[0;34m)\u001b[0m\u001b[0;34m\u001b[0m\u001b[0;34m\u001b[0m\u001b[0m\n",
      "\u001b[0;31mTypeError\u001b[0m: 'NoneType' object is not subscriptable"
     ]
    }
   ],
   "source": [
    "py_directory = \"./\"\n",
    "py_directory += \"output_travelling_vortex_3d_48/\"\n",
    "\n",
    "inner = (slice(2,-2),slice(2,-2))\n",
    "\n",
    "def spatially_averaged_rmse(arr,ref):\n",
    "    n,m = ref.shape\n",
    "    N = n * m\n",
    "    return (((arr - ref)**2).sum() / N)**0.5\n",
    "\n",
    "def get_path(filename):\n",
    "    return py_directory + filename\n",
    "\n",
    "def py_out(pyfile,py_dataset,time):\n",
    "    return pyfile[str(py_dataset)][str(py_dataset)+time][:]\n",
    "\n",
    "# def py_out_ensemble(pyfile,py_dataset,time):\n",
    "#     return pyfile[str(py_dataset)][str(py_dataset)][time][:]\n",
    "\n",
    "def test_case(time, path):\n",
    "    file = h5py.File(path,'r')\n",
    "    \n",
    "    t_label = '_' + str(time) + '_' + 'after_full_step'\n",
    "    rho = py_out(file,'vortz',time=t_label)[inner]\n",
    "\n",
    "    file.close()\n",
    "    return rho\n",
    "\n",
    "def ensemble_test_case(time, path, N):\n",
    "    file = h5py.File(path,'r')\n",
    "    \n",
    "    rho = []\n",
    "    for n in range(N):\n",
    "        t_label = '_ensemble_mem=' + str(n) + '_' + str(time) + '_' + 'after_full_step'\n",
    "        rho.append(py_out(file,'vortz',time=t_label)[inner])\n",
    "\n",
    "    rho = np.array(rho)\n",
    "    rho = rho.mean(axis=0)\n",
    "\n",
    "    file.close()\n",
    "    return rho\n",
    "\n",
    "py_filename_ref = \"output_travelling_vortex_3d_48_low_mach_gravity_comp_256_256.h5\"\n",
    "py_path_ref = get_path(py_filename_ref)\n",
    "\n",
    "py_filename_48 = \"output_travelling_vortex_3d_48_low_mach_gravity_comp_48_48.h5\"\n",
    "py_path_48 = get_path(py_filename_48)\n",
    "\n",
    "py_filename_ens = \"output_travelling_vortex_3d_48_low_mach_gravity_comp_48_ensemble=20.h5\"\n",
    "py_path_ens = get_path(py_filename_ens)\n",
    "\n",
    "comp_ref = test_case(0.0,py_path_ref)\n",
    "ref_x0 = np.linspace(-0.5,0.5,comp_ref.shape[0])\n",
    "ref_x, ref_y = np.meshgrid(ref_x0,ref_x0)\n",
    "\n",
    "N = 20\n",
    "# comp_ens = ensemble_test_case(time,py_path_ens,N)\n",
    "# print(comp_ens.shape)\n",
    "\n",
    "times = np.arange(0,11) / 10\n",
    "# times = [0.0]\n",
    "rmse_48, rmse_ens = [], []\n",
    "\n",
    "for time in times:\n",
    "    comp_ref = test_case(time, py_path_ref)\n",
    "    comp_48 = test_case(time, py_path_48)\n",
    "    # x = np.linspace(-0.5,0.5,comp_48.shape[0])\n",
    "    x = np.linspace(0,comp_48.shape[0],comp_ref.shape[0])\n",
    "    # print(x)\n",
    "    # interpolate = RectBivariateSpline(x,x,comp_48)\n",
    "    # comp_48 = interpolate.ev(ref_x,ref_y)\n",
    "    x,y = np.meshgrid(x,x)\n",
    "    comp_48 = map_coordinates(comp_48,[x,y],mode='wrap')\n",
    "    comp_ens = ensemble_test_case(time,py_path_ens,N)\n",
    "    comp_ens = map_coordinates(comp_ens,[x,y],mode='wrap')\n",
    "    # interpolate = RectBivariateSpline(x,x,comp_ens)\n",
    "    # comp_ens = interpolate.ev(ref_x,ref_y)\n",
    "\n",
    "    rmse_48.append(spatially_averaged_rmse(comp_48,comp_ref))\n",
    "    rmse_ens.append(spatially_averaged_rmse(comp_ens,comp_ref))\n",
    "\n",
    "    fig = plt.figure(figsize=(5,3))\n",
    "    ax0 = fig.add_subplot(1,3,1)\n",
    "    ax0.imshow(comp_ref)\n",
    "    ax1 = fig.add_subplot(1,3,2)\n",
    "    ax1.imshow(comp_48)\n",
    "    ax2 = fig.add_subplot(1,3,3)\n",
    "    ax2.imshow(comp_ens)\n",
    "    plt.show()\n",
    "\n",
    "plt.figure()\n",
    "plt.plot(times,rmse_48, label='48')\n",
    "plt.plot(times,rmse_ens, label='ens')\n",
    "plt.ylim([0,1.0])\n",
    "plt.legend()\n",
    "plt.show()"
   ]
  },
  {
   "cell_type": "code",
   "execution_count": 139,
   "metadata": {},
   "outputs": [
    {
     "name": "stdout",
     "output_type": "stream",
     "text": "(4, 3, 64, 64)\n(4, 64, 64)\n"
    }
   ],
   "source": [
    "A = np.arange(49152).reshape(4,3,64,64)\n",
    "print(A.shape)\n",
    "print(A[:,0,...].shape)"
   ]
  },
  {
   "cell_type": "code",
   "execution_count": null,
   "metadata": {},
   "outputs": [],
   "source": []
  }
 ],
 "metadata": {
  "file_extension": ".py",
  "kernelspec": {
   "display_name": "Python 3",
   "language": "python",
   "name": "python3"
  },
  "language_info": {
   "codemirror_mode": {
    "name": "ipython",
    "version": 3
   },
   "file_extension": ".py",
   "mimetype": "text/x-python",
   "name": "python",
   "nbconvert_exporter": "python",
   "pygments_lexer": "ipython3",
   "version": "3.7.3"
  },
  "mimetype": "text/x-python",
  "name": "python",
  "npconvert_exporter": "python",
  "pygments_lexer": "ipython3",
  "version": 3
 },
 "nbformat": 4,
 "nbformat_minor": 2
}