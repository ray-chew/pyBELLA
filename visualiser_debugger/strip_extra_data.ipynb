{
 "cells": [
  {
   "cell_type": "code",
   "execution_count": 1,
   "id": "62c2ebe8-0b46-4a9a-811d-87a08f3d76d8",
   "metadata": {},
   "outputs": [],
   "source": [
    "import numpy as np\n",
    "import h5py"
   ]
  },
  {
   "cell_type": "code",
   "execution_count": 5,
   "id": "4a695f8f-893b-4dc3-829b-eed6d5a8ded3",
   "metadata": {},
   "outputs": [],
   "source": [
    "pydir = '../output_mark_wave/'\n",
    "\n",
    "Nts = [1,2,4,8,10,12,14,16]\n",
    "Nxs = [151,301]\n",
    "Nys = [60,120]\n",
    "\n",
    "datasetname = ['Y',\n",
    "               'buoy',\n",
    "               'dT',\n",
    "               'dY',\n",
    "               'drhoY',\n",
    "               'p2_nodes_half',\n",
    "               'rhoX_half',\n",
    "               'rhoY_half',\n",
    "               'rho_half',\n",
    "               'rhou_half',\n",
    "               'rhov_half',\n",
    "               'rhow_half',\n",
    "               'rhs',\n",
    "               'vortz'\n",
    "              ]\n",
    "\n",
    "for Nx, Ny in zip(Nxs,Nys):  \n",
    "    for Nt in Nts:\n",
    "        fn = pydir + 'output_mark_wave_ensemble=1_%i_%i_36.000000_bottom_forcing_S%i' %(Nx,Ny,Nt)\n",
    "        \n",
    "        odir = '%i_%i_LW/' %(Nx, Ny)\n",
    "        fn_d = pydir + odir + 'output_%i_%i_36.0_%s_S%i' %(Nx, Ny, 'lw', Nt)\n",
    "\n",
    "        fs = h5py.File(fn + '.h5', 'r')\n",
    "        fd = h5py.File(fn_d + '.h5', 'w')\n",
    "\n",
    "        for a in fs.attrs:\n",
    "            fd.attrs[a] = fs.attrs[a]\n",
    "        for d in fs:\n",
    "            if not d in datasetname:\n",
    "                fs.copy(d, fd)\n",
    "\n",
    "fs.close()\n",
    "fd.close()"
   ]
  },
  {
   "cell_type": "code",
   "execution_count": null,
   "id": "858bfecf-40d9-403b-b25e-a8cae8f22a42",
   "metadata": {},
   "outputs": [],
   "source": []
  }
 ],
 "metadata": {
  "kernelspec": {
   "display_name": "Python 3 (ipykernel)",
   "language": "python",
   "name": "python3"
  },
  "language_info": {
   "codemirror_mode": {
    "name": "ipython",
    "version": 3
   },
   "file_extension": ".py",
   "mimetype": "text/x-python",
   "name": "python",
   "nbconvert_exporter": "python",
   "pygments_lexer": "ipython3",
   "version": "3.9.15"
  }
 },
 "nbformat": 4,
 "nbformat_minor": 5
}
