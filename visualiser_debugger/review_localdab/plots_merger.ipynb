{
 "cells": [
  {
   "cell_type": "code",
   "execution_count": null,
   "metadata": {},
   "outputs": [],
   "source": [
    "pdfjam --nup 2x1 swe_w_bal.pdf euler_w_bal.pdf --outfile comparisons_w_bal.pdf\n",
    "pdfcrop comparisons_w_imbal.pdf"
   ]
  },
  {
   "cell_type": "markdown",
   "metadata": {},
   "source": [
    "# Plots merger\n",
    "\n",
    "Notebook file to merge generated pdf plots instead of relying on the matplotlib subplots"
   ]
  },
  {
   "cell_type": "code",
   "execution_count": 2,
   "metadata": {},
   "outputs": [
    {
     "name": "stdout",
     "output_type": "stream",
     "text": [
      "/home/ray/git-projects/RKLM_Reference/visualiser_debugger/review_localdab\n"
     ]
    }
   ],
   "source": [
    "import sys\n",
    "import subprocess\n",
    "import os\n",
    "\n",
    "os.chdir(os.getcwd())\n",
    "print(os.getcwd())"
   ]
  },
  {
   "cell_type": "code",
   "execution_count": 3,
   "metadata": {},
   "outputs": [
    {
     "name": "stdout",
     "output_type": "stream",
     "text": [
      "psinc_half_vs_comp_half.pdf psinc_half_vs_comp_full.pdf psinc_half_vs_psinc_full.pdf psinc_full_vs_comp_half.pdf psinc_full_vs_comp_full.pdf comp_half_vs_comp_full.pdf\n"
     ]
    }
   ],
   "source": [
    "p1 = 'psinc_half_vs_comp_half'\n",
    "p2 = 'psinc_half_vs_comp_full'\n",
    "p3 = 'psinc_half_vs_psinc_full'\n",
    "p4 = 'psinc_full_vs_comp_half'\n",
    "p5 = 'psinc_full_vs_comp_full'\n",
    "p6 = 'comp_half_vs_comp_full'\n",
    "\n",
    "ps = [p1,p2,p3,p4,p5,p6]\n",
    "p_long = p1 + '.pdf'\n",
    "\n",
    "for p in ps[1:]:\n",
    "    p_long += ' ' + p + '.pdf'\n",
    "# print([p for p in ps])\n",
    "print(p_long)"
   ]
  },
  {
   "cell_type": "code",
   "execution_count": 65,
   "metadata": {},
   "outputs": [],
   "source": [
    "call = ['pdfjam', '--nup', '2Truex3']\n",
    "for p in ps:\n",
    "    call += ['euler_diff_' + p + '.pdf']\n",
    "call += ['--outfile', 'test.pdf']"
   ]
  },
  {
   "cell_type": "code",
   "execution_count": 66,
   "metadata": {},
   "outputs": [
    {
     "data": {
      "text/plain": [
       "0"
      ]
     },
     "execution_count": 66,
     "metadata": {},
     "output_type": "execute_result"
    }
   ],
   "source": [
    "subprocess.call(call)"
   ]
  },
  {
   "cell_type": "code",
   "execution_count": 67,
   "metadata": {},
   "outputs": [
    {
     "data": {
      "text/plain": [
       "0"
      ]
     },
     "execution_count": 67,
     "metadata": {},
     "output_type": "execute_result"
    }
   ],
   "source": [
    "subprocess.call(['pdfcrop', 'test.pdf'])"
   ]
  },
  {
   "cell_type": "code",
   "execution_count": 57,
   "metadata": {},
   "outputs": [
    {
     "name": "stdout",
     "output_type": "stream",
     "text": [
      "['pdfjam', '--nup', '1x2', 'euler_half_comparisons.pdf', 'euler_full_comparisons.pdf', '--outfile', 'test_comparisons.pdf']\n"
     ]
    },
    {
     "data": {
      "text/plain": [
       "0"
      ]
     },
     "execution_count": 57,
     "metadata": {},
     "output_type": "execute_result"
    }
   ],
   "source": [
    "ps = ['euler_half_comparisons.pdf', 'euler_full_comparisons.pdf']\n",
    "\n",
    "call = ['pdfjam', '--nup', '1x2']\n",
    "for p in ps:\n",
    "    call += [p]\n",
    "call += ['--outfile', 'test_comparisons.pdf']\n",
    "print(call)\n",
    "subprocess.call(call)\n",
    "subprocess.call(['pdfcrop', 'test_comparisons.pdf'])"
   ]
  },
  {
   "cell_type": "code",
   "execution_count": 59,
   "metadata": {},
   "outputs": [
    {
     "name": "stdout",
     "output_type": "stream",
     "text": [
      "obs_swe_rhou.pdf truth_swe_rhou.pdf obs_euler_p2_nodes.pdf truth_euler_p2_nodes.pdf\n",
      "['pdfjam', '--nup', '2x2', '--delta', '0.2cm 0.2cm', 'obs_swe_rhou.pdf', 'truth_swe_rhou.pdf', 'obs_euler_p2_nodes.pdf', 'truth_euler_p2_nodes.pdf', '--outfile', 'test_1.pdf']\n"
     ]
    },
    {
     "data": {
      "text/plain": [
       "0"
      ]
     },
     "execution_count": 59,
     "metadata": {},
     "output_type": "execute_result"
    }
   ],
   "source": [
    "p1 = 'rb_deltap_contour'\n",
    "p2 = 'rb_psinc_w_comp_20_40'\n",
    "p3 = 'rb_psinc_wo_comp_20_40'\n",
    "p4 = 'rb_psinc_wo_comp_80_40'\n",
    "# p4 = 'rb_psinc_ib_comp_CFL'\n",
    "\n",
    "p1 = 'rb_psinc_w_comp_20_40_CFL'\n",
    "p2 = 'rb_psinc_w_comp_80_40_CFL'\n",
    "p3 = 'rb_psinc_wo_comp_20_40_CFL'\n",
    "p4 = 'rb_psinc_wo_comp_80_40_CFL'\n",
    "\n",
    "p1 = 'obs_swe_rhou'\n",
    "p2 = 'truth_swe_rhou'\n",
    "p3 = 'obs_euler_p2_nodes'\n",
    "p4 = 'truth_euler_p2_nodes'\n",
    "\n",
    "ps = [p1,p2,p3,p4]\n",
    "p_long = p1 + '.pdf'\n",
    "\n",
    "for p in ps[1:]:\n",
    "    p_long += ' ' + p + '.pdf'\n",
    "# print([p for p in ps])\n",
    "print(p_long)\n",
    "\n",
    "call = ['pdfjam', '--nup', '2x2']\n",
    "call += ['--delta', '0.2cm 0.2cm']\n",
    "for p in ps:\n",
    "    call += [p + '.pdf']\n",
    "call += ['--outfile', 'test_1.pdf']\n",
    "print(call)\n",
    "subprocess.call(call)\n",
    "subprocess.call(['pdfcrop', 'test_1.pdf'])"
   ]
  },
  {
   "cell_type": "code",
   "execution_count": 58,
   "metadata": {},
   "outputs": [
    {
     "name": "stdout",
     "output_type": "stream",
     "text": [
      "rb_psinc_w_comp_20_40_CFL-2.pdf rb_psinc_w_comp_80_40_CFL-2.pdf\n",
      "0\n",
      "0\n"
     ]
    }
   ],
   "source": [
    "p1 = 'rb_psinc_w_comp_20_40_CFL-2'\n",
    "p2 = 'rb_psinc_w_comp_80_40_CFL-2'\n",
    "\n",
    "ps = [p1,p2]\n",
    "p_long = p1 + '.pdf'\n",
    "\n",
    "for p in ps[1:]:\n",
    "    p_long += ' ' + p + '.pdf'\n",
    "# print([p for p in ps])\n",
    "print(p_long)\n",
    "\n",
    "call = ['pdfjam', '--nup', '1x2']\n",
    "for p in ps:\n",
    "    call += [p + '.pdf']\n",
    "call += ['--outfile', 'test_1.pdf']\n",
    "\n",
    "proc1 = subprocess.call(call)\n",
    "print(proc1)\n",
    "if not proc1:\n",
    "    proc2 = subprocess.call(['pdfcrop', 'test_1.pdf'])\n",
    "    print(proc2)"
   ]
  },
  {
   "cell_type": "code",
   "execution_count": 36,
   "metadata": {},
   "outputs": [
    {
     "name": "stdout",
     "output_type": "stream",
     "text": [
      "swe_w_bal.pdf euler_w_bal.pdf\n"
     ]
    },
    {
     "data": {
      "text/plain": [
       "0"
      ]
     },
     "execution_count": 36,
     "metadata": {},
     "output_type": "execute_result"
    }
   ],
   "source": [
    "p1 = 'swe_w_imbal'\n",
    "p2 = 'euler_w_imbal'\n",
    "\n",
    "p1 = 'swe_w_bal'\n",
    "p2 = 'euler_w_bal'\n",
    "# p1 = 'rb_psinc_w_comp_20_40_CFL'\n",
    "# p2 = 'rb_psinc_w_comp_80_40_CFL'\n",
    "\n",
    "ps = [p1,p2]\n",
    "p_long = p1 + '.pdf'\n",
    "\n",
    "for p in ps[1:]:\n",
    "    p_long += ' ' + p + '.pdf'\n",
    "# print([p for p in ps])\n",
    "print(p_long)\n",
    "\n",
    "call = ['pdfjam', '--nup', '1x2']\n",
    "for p in ps:\n",
    "    call += [p + '.pdf']\n",
    "call += ['--outfile', 'test_1.pdf']\n",
    "\n",
    "subprocess.call(call)\n",
    "subprocess.call(['pdfcrop', 'test_1.pdf'])"
   ]
  },
  {
   "cell_type": "code",
   "execution_count": 22,
   "metadata": {},
   "outputs": [
    {
     "data": {
      "text/plain": [
       "0"
      ]
     },
     "execution_count": 22,
     "metadata": {},
     "output_type": "execute_result"
    }
   ],
   "source": [
    "p1 = 'initial_vortex_swe'\n",
    "p2 = 'initial_vortex_euler'\n",
    "\n",
    "ps = [p1,p2]\n",
    "\n",
    "# call = ['pdfjam', '--offset', '2.0cm -2.0cm']\n",
    "# call += [p2 + '.pdf']\n",
    "# call += ['--outfile', p2 + '_1.pdf']\n",
    "# print(call)\n",
    "# subprocess.call(call)\n",
    "\n",
    "call = ['pdfjam', '--nup', '2x1', '--delta', '0.2cm 0.0cm']\n",
    "for p in ps:\n",
    "    call += [p + '.pdf']\n",
    "call += ['--outfile', 'test_1.pdf']\n",
    "\n",
    "subprocess.call(call)\n",
    "subprocess.call(['pdfcrop', 'test_1.pdf'])"
   ]
  },
  {
   "cell_type": "code",
   "execution_count": 71,
   "metadata": {},
   "outputs": [
    {
     "name": "stdout",
     "output_type": "stream",
     "text": [
      "bok_alpha.pdf new_alpha.pdf bok14_rb_cfl.png rb_psinc_w_comp_20_40_CFL-1.pdf\n",
      "['pdfjam', '--nup', '2x2', 'bok_alpha.pdf', 'new_alpha.pdf', 'bok14_rb_cfl.png', 'rb_psinc_w_comp_20_40_CFL-1.pdf', '--outfile', 'test_1.pdf']\n",
      "0\n",
      "0\n"
     ]
    }
   ],
   "source": [
    "p1 = 'bok_alpha.pdf'\n",
    "p2 = 'new_alpha.pdf'\n",
    "p3 = 'bok14_rb_cfl.png'\n",
    "p4 = 'rb_psinc_w_comp_20_40_CFL-1.pdf'\n",
    "\n",
    "ps = [p1,p2,p3,p4]\n",
    "p_long = p1\n",
    "\n",
    "for p in ps[1:]:\n",
    "    p_long += ' ' + p\n",
    "# print([p for p in ps])\n",
    "print(p_long)\n",
    "\n",
    "call = ['pdfjam', '--nup', '2x2']\n",
    "for p in ps:\n",
    "    call += [p]\n",
    "call += ['--outfile', 'test_1.pdf']\n",
    "print(call)\n",
    "\n",
    "proc1 = subprocess.call(call)\n",
    "print(proc1)\n",
    "if not proc1:\n",
    "    proc2 = subprocess.call(['pdfcrop', 'test_1.pdf'])\n",
    "    print(proc2)"
   ]
  },
  {
   "cell_type": "code",
   "execution_count": 78,
   "metadata": {},
   "outputs": [
    {
     "name": "stdout",
     "output_type": "stream",
     "text": [
      "bok14_rb_cfl.png rb_slides.pdf\n",
      "['pdfjam', '--nup', '2x1', 'bok14_rb_cfl.png', 'rb_slides.pdf', '--outfile', 'test_1.pdf']\n",
      "0\n",
      "0\n"
     ]
    }
   ],
   "source": [
    "p1 = 'bok_alpha.pdf'\n",
    "p2 = 'new_alpha.pdf'\n",
    "p1 = 'bok14_rb_cfl.png'\n",
    "p2 = 'rb_slides.pdf'\n",
    "\n",
    "ps = [p1,p2]\n",
    "p_long = p1\n",
    "\n",
    "for p in ps[1:]:\n",
    "    p_long += ' ' + p\n",
    "# print([p for p in ps])\n",
    "print(p_long)\n",
    "\n",
    "call = ['pdfjam', '--nup', '2x1']\n",
    "for p in ps:\n",
    "    call += [p]\n",
    "call += ['--outfile', 'test_1.pdf']\n",
    "print(call)\n",
    "\n",
    "proc1 = subprocess.call(call)\n",
    "print(proc1)\n",
    "if not proc1:\n",
    "    proc2 = subprocess.call(['pdfcrop', 'test_1.pdf'])\n",
    "    print(proc2)"
   ]
  },
  {
   "cell_type": "markdown",
   "metadata": {},
   "source": [
    "# Merge scale analysis plots"
   ]
  },
  {
   "cell_type": "code",
   "execution_count": 7,
   "metadata": {},
   "outputs": [
    {
     "name": "stdout",
     "output_type": "stream",
     "text": [
      "./output/scale_analysis_swe.pdf ./output/scale_analysis_euler.pdf ./output/scale_analysis_rb.pdf\n",
      "['pdfjam', '--nup', '3x1', './output/scale_analysis_swe.pdf', './output/scale_analysis_euler.pdf', './output/scale_analysis_rb.pdf', '--outfile', './output/scale_analysis.pdf']\n",
      "0\n",
      "0\n"
     ]
    }
   ],
   "source": [
    "dd = './output'\n",
    "p1 = '%s/scale_analysis_swe.pdf' %dd\n",
    "p2 = '%s/scale_analysis_euler.pdf' %dd\n",
    "p3 = '%s/scale_analysis_rb.pdf' %dd\n",
    "\n",
    "ps = [p1,p2,p3]\n",
    "p_long = p1\n",
    "\n",
    "for p in ps[1:]:\n",
    "    p_long += ' ' + p\n",
    "# print([p for p in ps])\n",
    "print(p_long)\n",
    "\n",
    "call = ['pdfjam', '--nup', '3x1']\n",
    "for p in ps:\n",
    "    call += [p]\n",
    "call += ['--outfile', '%s/scale_analysis.pdf' %dd]\n",
    "print(call)\n",
    "\n",
    "proc1 = subprocess.call(call)\n",
    "print(proc1)\n",
    "if not proc1:\n",
    "    proc2 = subprocess.call(['pdfcrop', '%s/scale_analysis.pdf' %dd, '%s/scale_analysis.pdf' %dd])\n",
    "    print(proc2)"
   ]
  },
  {
   "cell_type": "markdown",
   "metadata": {},
   "source": [
    "# Merge rising bubble obs truth plots"
   ]
  },
  {
   "cell_type": "code",
   "execution_count": 5,
   "metadata": {},
   "outputs": [
    {
     "name": "stdout",
     "output_type": "stream",
     "text": [
      "./output/obs_rb_rhou.pdf ./output/rb_truth.pdf\n",
      "['pdfjam', '--nup', '1x2', './output/obs_rb_rhou.pdf', './output/rb_truth.pdf', '--outfile', './output/rb_obs_truth.pdf']\n",
      "0\n",
      "0\n"
     ]
    }
   ],
   "source": [
    "dd = './output'\n",
    "p2 = '%s/rb_truth.pdf' %dd\n",
    "p1 = '%s/obs_rb_rhou.pdf' %dd\n",
    "\n",
    "ps = [p1,p2]\n",
    "p_long = p1\n",
    "\n",
    "for p in ps[1:]:\n",
    "    p_long += ' ' + p\n",
    "# print([p for p in ps])\n",
    "print(p_long)\n",
    "\n",
    "call = ['pdfjam', '--nup', '1x2']\n",
    "for p in ps:\n",
    "    call += [p]\n",
    "call += ['--outfile', '%s/rb_obs_truth.pdf' %dd]\n",
    "print(call)\n",
    "\n",
    "proc1 = subprocess.call(call)\n",
    "print(proc1)\n",
    "if not proc1:\n",
    "    proc2 = subprocess.call(['pdfcrop', '%s/rb_obs_truth.pdf' %dd, '%s/rb_obs_truth.pdf' %dd])\n",
    "    print(proc2)"
   ]
  },
  {
   "cell_type": "code",
   "execution_count": null,
   "metadata": {},
   "outputs": [],
   "source": []
  }
 ],
 "metadata": {
  "kernelspec": {
   "display_name": "Python 3.7.3 64-bit ('anaconda3': virtualenv)",
   "language": "python",
   "name": "python37364bitanaconda3virtualenv7a28dc8db0264e168ad4f93d8f9f620c"
  },
  "language_info": {
   "codemirror_mode": {
    "name": "ipython",
    "version": 3
   },
   "file_extension": ".py",
   "mimetype": "text/x-python",
   "name": "python",
   "nbconvert_exporter": "python",
   "pygments_lexer": "ipython3",
   "version": "3.7.3"
  }
 },
 "nbformat": 4,
 "nbformat_minor": 4
}
