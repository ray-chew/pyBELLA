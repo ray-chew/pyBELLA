{
 "cells": [
  {
   "cell_type": "markdown",
   "metadata": {},
   "source": [
    "# Plots merger\n",
    "\n",
    "Notebook file to merge generated pdf plots instead of relying on the matplotlib subplots"
   ]
  },
  {
   "cell_type": "code",
   "execution_count": 14,
   "metadata": {},
   "outputs": [
    {
     "name": "stdout",
     "output_type": "stream",
     "text": [
      "/home/ray/git-projects/RKLM_Reference/visualiser_debugger/review_localdab\n"
     ]
    }
   ],
   "source": [
    "import sys\n",
    "import subprocess\n",
    "import os\n",
    "\n",
    "os.chdir(os.getcwd())\n",
    "print(os.getcwd())"
   ]
  },
  {
   "cell_type": "markdown",
   "metadata": {
    "jupyter": {
     "source_hidden": true
    }
   },
   "source": [
    "# Vortex ICs (old)"
   ]
  },
  {
   "cell_type": "code",
   "execution_count": 75,
   "metadata": {
    "collapsed": true,
    "jupyter": {
     "outputs_hidden": true,
     "source_hidden": true
    }
   },
   "outputs": [
    {
     "name": "stdout",
     "output_type": "stream",
     "text": [
      "./output/initial_euler.pdf ./output/initial_euler_rhou.pdf\n",
      "['pdfjam', '--nup', '2x1', './output/initial_euler.pdf', './output/initial_euler_rhou.pdf', '--outfile', './output/initial_vortices.pdf', '--delta', '0.2cm 0.2cm']\n",
      "0\n",
      "0\n"
     ]
    }
   ],
   "source": [
    "dd = './output'\n",
    "p1 = '%s/initial_euler.pdf' %dd\n",
    "p2 = '%s/initial_euler_rhou.pdf' %dd\n",
    "\n",
    "out_name = 'initial_vortices'\n",
    "\n",
    "ps = [p1,p2]\n",
    "p_long = p1\n",
    "\n",
    "for p in ps[1:]:\n",
    "    p_long += ' ' + p\n",
    "# print([p for p in ps])\n",
    "print(p_long)\n",
    "\n",
    "call = ['pdfjam', '--nup', '2x1']\n",
    "for p in ps:\n",
    "    call += [p]\n",
    "call += ['--outfile', '%s/%s.pdf' %(dd,out_name)]\n",
    "call += ['--delta', '0.2cm 0.2cm']\n",
    "print(call)\n",
    "\n",
    "proc1 = subprocess.call(call)\n",
    "print(proc1)\n",
    "if not proc1:\n",
    "    proc2 = subprocess.call(['pdfcrop', '%s/%s.pdf' %(dd,out_name), '%s/%s.pdf' %(dd,out_name)])\n",
    "    print(proc2)"
   ]
  },
  {
   "cell_type": "markdown",
   "metadata": {},
   "source": [
    "# Vortex ICs (4th draft)"
   ]
  },
  {
   "cell_type": "code",
   "execution_count": 4,
   "metadata": {},
   "outputs": [
    {
     "name": "stdout",
     "output_type": "stream",
     "text": [
      "./output/initial_euler_exner.pdf ./output/initial_euler_rhou.pdf ./output/initial_euler_vortz.pdf ./output/initial_euler_pt.pdf\n",
      "['pdfjam', '--nup', '2x2', './output/initial_euler_exner.pdf', './output/initial_euler_rhou.pdf', './output/initial_euler_vortz.pdf', './output/initial_euler_pt.pdf', '--outfile', './output/initial_vortices.pdf', '--delta', '0.2cm 0.2cm']\n",
      "0\n",
      "0\n"
     ]
    }
   ],
   "source": [
    "dd = './output'\n",
    "p1 = '%s/initial_euler_exner.pdf' %dd\n",
    "p2 = '%s/initial_euler_rhou.pdf' %dd\n",
    "p3 = '%s/initial_euler_vortz.pdf' %dd\n",
    "p4 = '%s/initial_euler_pt.pdf' %dd\n",
    "\n",
    "out_name = 'initial_vortices'\n",
    "\n",
    "ps = [p1,p2,p3,p4]\n",
    "p_long = p1\n",
    "\n",
    "for p in ps[1:]:\n",
    "    p_long += ' ' + p\n",
    "# print([p for p in ps])\n",
    "print(p_long)\n",
    "\n",
    "call = ['pdfjam', '--nup', '2x2']\n",
    "for p in ps:\n",
    "    call += [p]\n",
    "call += ['--outfile', '%s/%s.pdf' %(dd,out_name)]\n",
    "call += ['--delta', '0.2cm 0.2cm']\n",
    "print(call)\n",
    "\n",
    "proc1 = subprocess.call(call)\n",
    "print(proc1)\n",
    "if not proc1:\n",
    "    proc2 = subprocess.call(['pdfcrop', '%s/%s.pdf' %(dd,out_name), '%s/%s.pdf' %(dd,out_name)])\n",
    "    print(proc2)"
   ]
  },
  {
   "cell_type": "markdown",
   "metadata": {},
   "source": [
    "# Rising bubble IC and final time"
   ]
  },
  {
   "cell_type": "code",
   "execution_count": 29,
   "metadata": {},
   "outputs": [
    {
     "name": "stdout",
     "output_type": "stream",
     "text": [
      "./output/initial_rb.pdf ./output/final_rb.pdf\n",
      "['pdfjam', '--nup', '1x2', './output/initial_rb.pdf', './output/final_rb.pdf', '--outfile', './output/test.pdf', '--delta', '0.2cm 0.2cm']\n",
      "0\n",
      "0\n"
     ]
    }
   ],
   "source": [
    "dd = './output'\n",
    "p1 = '%s/initial_rb.pdf' %dd\n",
    "p2 = '%s/final_rb.pdf' %dd\n",
    "\n",
    "out_name = 'initial_rb'\n",
    "\n",
    "ps = [p1,p2]\n",
    "p_long = p1\n",
    "\n",
    "for p in ps[1:]:\n",
    "    p_long += ' ' + p\n",
    "# print([p for p in ps])\n",
    "print(p_long)\n",
    "\n",
    "call = ['pdfjam', '--nup', '1x2']\n",
    "for p in ps:\n",
    "    call += [p]\n",
    "call += ['--outfile', '%s/%s.pdf' %(dd,out_name)]\n",
    "call += ['--delta', '0.2cm 0.2cm']\n",
    "print(call)\n",
    "\n",
    "proc1 = subprocess.call(call)\n",
    "print(proc1)\n",
    "if not proc1:\n",
    "    proc2 = subprocess.call(['pdfcrop', '%s/%s.pdf' %(dd,out_name), '%s/%s.pdf' %(dd,out_name)])\n",
    "    print(proc2)"
   ]
  },
  {
   "cell_type": "markdown",
   "metadata": {
    "jupyter": {
     "source_hidden": true
    }
   },
   "source": [
    "# Blending comparison with imbalanced ICs (vortex)"
   ]
  },
  {
   "cell_type": "code",
   "execution_count": 30,
   "metadata": {
    "collapsed": true,
    "jupyter": {
     "outputs_hidden": true
    }
   },
   "outputs": [
    {
     "name": "stdout",
     "output_type": "stream",
     "text": [
      "./output/swe_w_imbal.pdf ./output/euler_w_imbal.pdf\n",
      "['pdfjam', '--nup', '1x2', './output/swe_w_imbal.pdf', './output/euler_w_imbal.pdf', '--outfile', './output/comparisons_w_imbal.pdf', '--delta', '0.2cm 0.2cm']\n",
      "0\n",
      "0\n"
     ]
    }
   ],
   "source": [
    "# dd = './output'\n",
    "# p1 = '%s/swe_w_imbal.pdf' %dd\n",
    "# p2 = '%s/euler_w_imbal.pdf' %dd\n",
    "\n",
    "# out_name = 'comparisons_w_imbal'\n",
    "\n",
    "# ps = [p1,p2]\n",
    "# p_long = p1\n",
    "\n",
    "# for p in ps[1:]:\n",
    "#     p_long += ' ' + p\n",
    "# # print([p for p in ps])\n",
    "# print(p_long)\n",
    "\n",
    "# call = ['pdfjam', '--nup', '1x2']\n",
    "# for p in ps:\n",
    "#     call += [p]\n",
    "# call += ['--outfile', '%s/%s.pdf' %(dd,out_name)]\n",
    "# call += ['--delta', '0.2cm 0.2cm']\n",
    "# print(call)\n",
    "\n",
    "# proc1 = subprocess.call(call)\n",
    "# print(proc1)\n",
    "# if not proc1:\n",
    "#     proc2 = subprocess.call(['pdfcrop', '%s/%s.pdf' %(dd,out_name), '%s/%s.pdf' %(dd,out_name)])\n",
    "#     print(proc2)"
   ]
  },
  {
   "cell_type": "markdown",
   "metadata": {
    "jupyter": {
     "source_hidden": true
    }
   },
   "source": [
    "# Blending comparison with balanced ICs (vortex)"
   ]
  },
  {
   "cell_type": "code",
   "execution_count": 31,
   "metadata": {
    "collapsed": true,
    "jupyter": {
     "outputs_hidden": true,
     "source_hidden": true
    }
   },
   "outputs": [
    {
     "name": "stdout",
     "output_type": "stream",
     "text": [
      "./output/swe_w_bal.pdf ./output/euler_w_bal.pdf\n",
      "['pdfjam', '--nup', '1x2', './output/swe_w_bal.pdf', './output/euler_w_bal.pdf', '--outfile', './output/comparisons_w_bal.pdf', '--delta', '0.2cm 0.2cm']\n",
      "0\n",
      "0\n"
     ]
    }
   ],
   "source": [
    "# dd = './output'\n",
    "# p1 = '%s/swe_w_bal.pdf' %dd\n",
    "# p2 = '%s/euler_w_bal.pdf' %dd\n",
    "\n",
    "# out_name = 'comparisons_w_bal'\n",
    "\n",
    "# ps = [p1,p2]\n",
    "# p_long = p1\n",
    "\n",
    "# for p in ps[1:]:\n",
    "#     p_long += ' ' + p\n",
    "# # print([p for p in ps])\n",
    "# print(p_long)\n",
    "\n",
    "# call = ['pdfjam', '--nup', '1x2']\n",
    "# for p in ps:\n",
    "#     call += [p]\n",
    "# call += ['--outfile', '%s/%s.pdf' %(dd,out_name)]\n",
    "# call += ['--delta', '0.2cm 0.2cm']\n",
    "# print(call)\n",
    "\n",
    "# proc1 = subprocess.call(call)\n",
    "# print(proc1)\n",
    "# if not proc1:\n",
    "#     proc2 = subprocess.call(['pdfcrop', '%s/%s.pdf' %(dd,out_name), '%s/%s.pdf' %(dd,out_name)])\n",
    "#     print(proc2)"
   ]
  },
  {
   "cell_type": "markdown",
   "metadata": {},
   "source": [
    "# Blending comparisons for the travelling vortex"
   ]
  },
  {
   "cell_type": "code",
   "execution_count": 22,
   "metadata": {},
   "outputs": [
    {
     "name": "stdout",
     "output_type": "stream",
     "text": [
      "./output/euler_w_imbal.pdf ./output/euler_w_bal.pdf\n",
      "['pdfjam', '--nup', '1x2', './output/euler_w_imbal.pdf', './output/euler_w_bal.pdf', '--outfile', './output/comparisons_w_bal_imbal.pdf', '--delta', '0.2cm 0.2cm']\n",
      "0\n",
      "0\n"
     ]
    }
   ],
   "source": [
    "dd = './output'\n",
    "p1 = '%s/euler_w_imbal.pdf' %dd\n",
    "p2 = '%s/euler_w_bal.pdf' %dd\n",
    "\n",
    "out_name = 'comparisons_w_bal_imbal'\n",
    "\n",
    "ps = [p1,p2]\n",
    "p_long = p1\n",
    "\n",
    "for p in ps[1:]:\n",
    "    p_long += ' ' + p\n",
    "# print([p for p in ps])\n",
    "print(p_long)\n",
    "\n",
    "call = ['pdfjam', '--nup', '1x2']\n",
    "for p in ps:\n",
    "    call += [p]\n",
    "call += ['--outfile', '%s/%s.pdf' %(dd,out_name)]\n",
    "call += ['--delta', '0.2cm 0.2cm']\n",
    "print(call)\n",
    "\n",
    "proc1 = subprocess.call(call)\n",
    "print(proc1)\n",
    "if not proc1:\n",
    "    proc2 = subprocess.call(['pdfcrop', '%s/%s.pdf' %(dd,out_name), '%s/%s.pdf' %(dd,out_name)])\n",
    "    print(proc2)"
   ]
  },
  {
   "cell_type": "markdown",
   "metadata": {
    "jupyter": {
     "source_hidden": true
    }
   },
   "source": [
    "# Blending comparisons with balanced IC (2x2 rising bubble plot)"
   ]
  },
  {
   "cell_type": "code",
   "execution_count": 27,
   "metadata": {
    "collapsed": true,
    "jupyter": {
     "outputs_hidden": true,
     "source_hidden": true
    }
   },
   "outputs": [
    {
     "name": "stdout",
     "output_type": "stream",
     "text": [
      "./output/rb_deltap_contour.pdf ./output/rb_20_40_w_imbal.pdf ./output/rb_20_40_w_ib.pdf ./output/rb_80_40_w_ib.pdf\n",
      "['pdfjam', '--nup', '2x2', './output/rb_deltap_contour.pdf', './output/rb_20_40_w_imbal.pdf', './output/rb_20_40_w_ib.pdf', './output/rb_80_40_w_ib.pdf', '--outfile', './output/rising_bubble.pdf', '--delta', '0.2cm 0.2cm']\n",
      "0\n",
      "0\n"
     ]
    }
   ],
   "source": [
    "# dd = './output'\n",
    "# p1 = '%s/rb_deltap_contour.pdf' %dd\n",
    "# p2 = '%s/rb_20_40_w_imbal.pdf' %dd\n",
    "# p3 = '%s/rb_20_40_w_ib.pdf' %dd\n",
    "# p4 = '%s/rb_80_40_w_ib.pdf' %dd\n",
    "\n",
    "# out_name = 'rising_bubble'\n",
    "\n",
    "# ps = [p1,p2,p3,p4]\n",
    "# p_long = p1\n",
    "\n",
    "# for p in ps[1:]:\n",
    "#     p_long += ' ' + p\n",
    "# # print([p for p in ps])\n",
    "# print(p_long)\n",
    "\n",
    "# call = ['pdfjam', '--nup', '2x2']\n",
    "# for p in ps:\n",
    "#     call += [p]\n",
    "# call += ['--outfile', '%s/%s.pdf' %(dd,out_name)]\n",
    "# call += ['--delta', '0.2cm 0.2cm']\n",
    "# print(call)\n",
    "\n",
    "# proc1 = subprocess.call(call)\n",
    "# print(proc1)\n",
    "# if not proc1:\n",
    "#     proc2 = subprocess.call(['pdfcrop', '%s/%s.pdf' %(dd,out_name), '%s/%s.pdf' %(dd,out_name)])\n",
    "#     print(proc2)"
   ]
  },
  {
   "cell_type": "markdown",
   "metadata": {
    "jupyter": {
     "source_hidden": true
    }
   },
   "source": [
    "# Blending contour plot and comparison with imbalanced solution (rising bubble 2x1)"
   ]
  },
  {
   "cell_type": "code",
   "execution_count": 70,
   "metadata": {
    "collapsed": true,
    "jupyter": {
     "outputs_hidden": true,
     "source_hidden": true
    }
   },
   "outputs": [
    {
     "name": "stdout",
     "output_type": "stream",
     "text": [
      "./output/rb_deltap_contour.pdf ./output/rb_20_40_w_imbal.pdf ./output/rb_80_40_w_ib.pdf ./output/rb_cfl_80_40.pdf\n",
      "['pdfjam', '--nup', '2x1', './output/rb_deltap_contour.pdf', './output/rb_20_40_w_imbal.pdf', './output/rb_80_40_w_ib.pdf', './output/rb_cfl_80_40.pdf', '--outfile', './output/rising_bubble.pdf', '--delta', '0.2cm 0.2cm']\n",
      "0\n",
      "0\n"
     ]
    }
   ],
   "source": [
    "dd = './output'\n",
    "p1 = '%s/rb_deltap_contour.pdf' %dd\n",
    "p2 = '%s/rb_20_40_w_imbal.pdf' %dd\n",
    "# p3 = '%s/rb_20_40_w_ib.pdf' %dd\n",
    "# p4 = '%s/rb_80_40_w_ib.pdf' %dd\n",
    "\n",
    "out_name = 'rising_bubble'\n",
    "\n",
    "ps = [p1,p2,p3,p4]\n",
    "p_long = p1\n",
    "\n",
    "for p in ps[1:]:\n",
    "    p_long += ' ' + p\n",
    "# print([p for p in ps])\n",
    "print(p_long)\n",
    "\n",
    "call = ['pdfjam', '--nup', '2x1']\n",
    "for p in ps:\n",
    "    call += [p]\n",
    "call += ['--outfile', '%s/%s.pdf' %(dd,out_name)]\n",
    "call += ['--delta', '0.2cm 0.2cm']\n",
    "print(call)\n",
    "\n",
    "proc1 = subprocess.call(call)\n",
    "print(proc1)\n",
    "if not proc1:\n",
    "    proc2 = subprocess.call(['pdfcrop', '%s/%s.pdf' %(dd,out_name), '%s/%s.pdf' %(dd,out_name)])\n",
    "    print(proc2)"
   ]
  },
  {
   "cell_type": "markdown",
   "metadata": {
    "jupyter": {
     "source_hidden": true
    }
   },
   "source": [
    "# Blending small large time-step plots (rising bubble 2x2)"
   ]
  },
  {
   "cell_type": "code",
   "execution_count": 69,
   "metadata": {
    "collapsed": true,
    "jupyter": {
     "outputs_hidden": true,
     "source_hidden": true
    }
   },
   "outputs": [
    {
     "name": "stdout",
     "output_type": "stream",
     "text": [
      "./output/rb_20_40_w_ib.pdf ./output/rb_cfl_20_40.pdf ./output/rb_80_40_w_ib.pdf ./output/rb_cfl_80_40.pdf\n",
      "['pdfjam', '--nup', '2x2', './output/rb_20_40_w_ib.pdf', './output/rb_cfl_20_40.pdf', './output/rb_80_40_w_ib.pdf', './output/rb_cfl_80_40.pdf', '--outfile', './output/rising_bubble_CFL.pdf', '--delta', '0.2cm 0.2cm']\n",
      "0\n",
      "0\n"
     ]
    }
   ],
   "source": [
    "dd = './output'\n",
    "p1 = '%s/rb_20_40_w_ib.pdf' %dd\n",
    "p2 = '%s/rb_cfl_20_40.pdf' %dd\n",
    "p3 = '%s/rb_80_40_w_ib.pdf' %dd\n",
    "p4 = '%s/rb_cfl_80_40.pdf' %dd\n",
    "\n",
    "out_name = 'rising_bubble_CFL'\n",
    "\n",
    "ps = [p1,p2,p3,p4]\n",
    "p_long = p1\n",
    "\n",
    "for p in ps[1:]:\n",
    "    p_long += ' ' + p\n",
    "# print([p for p in ps])\n",
    "print(p_long)\n",
    "\n",
    "call = ['pdfjam', '--nup', '2x2']\n",
    "for p in ps:\n",
    "    call += [p]\n",
    "call += ['--outfile', '%s/%s.pdf' %(dd,out_name)]\n",
    "call += ['--delta', '0.2cm 0.2cm']\n",
    "print(call)\n",
    "\n",
    "proc1 = subprocess.call(call)\n",
    "print(proc1)\n",
    "if not proc1:\n",
    "    proc2 = subprocess.call(['pdfcrop', '%s/%s.pdf' %(dd,out_name), '%s/%s.pdf' %(dd,out_name)])\n",
    "    print(proc2)"
   ]
  },
  {
   "cell_type": "markdown",
   "metadata": {},
   "source": [
    "# Rising bubble blending plots (3x2)"
   ]
  },
  {
   "cell_type": "code",
   "execution_count": 20,
   "metadata": {},
   "outputs": [
    {
     "name": "stdout",
     "output_type": "stream",
     "text": [
      "./output/rb_deltap_contour.pdf ./output/rb_20_40_w_imbal.pdf ./output/rb_20_40_w_ib.pdf ./output/rb_cfl_20_40.pdf ./output/rb_80_40_w_ib.pdf ./output/rb_cfl_80_40.pdf\n",
      "['pdfjam', '--nup', '2x3', './output/rb_deltap_contour.pdf', './output/rb_20_40_w_imbal.pdf', './output/rb_20_40_w_ib.pdf', './output/rb_cfl_20_40.pdf', './output/rb_80_40_w_ib.pdf', './output/rb_cfl_80_40.pdf', '--outfile', './output/rising_bubble.pdf', '--delta', '0.2cm 0.2cm']\n",
      "0\n",
      "0\n"
     ]
    }
   ],
   "source": [
    "dd = './output'\n",
    "p1 = '%s/rb_deltap_contour.pdf' %dd\n",
    "p2 = '%s/rb_20_40_w_imbal.pdf' %dd\n",
    "p3 = '%s/rb_20_40_w_ib.pdf' %dd\n",
    "p4 = '%s/rb_cfl_20_40.pdf' %dd\n",
    "p5 = '%s/rb_80_40_w_ib.pdf' %dd\n",
    "p6 = '%s/rb_cfl_80_40.pdf' %dd\n",
    "\n",
    "out_name = 'rising_bubble'\n",
    "\n",
    "ps = [p1,p2,p3,p4,p5,p6]\n",
    "p_long = p1\n",
    "\n",
    "for p in ps[1:]:\n",
    "    p_long += ' ' + p\n",
    "# print([p for p in ps])\n",
    "print(p_long)\n",
    "\n",
    "call = ['pdfjam', '--nup', '2x3']\n",
    "for p in ps:\n",
    "    call += [p]\n",
    "call += ['--outfile', '%s/%s.pdf' %(dd,out_name)]\n",
    "call += ['--delta', '0.2cm 0.2cm']\n",
    "print(call)\n",
    "\n",
    "proc1 = subprocess.call(call)\n",
    "print(proc1)\n",
    "if not proc1:\n",
    "    proc2 = subprocess.call(['pdfcrop', '%s/%s.pdf' %(dd,out_name), '%s/%s.pdf' %(dd,out_name)])\n",
    "    print(proc2)"
   ]
  },
  {
   "cell_type": "markdown",
   "metadata": {
    "jupyter": {
     "source_hidden": true
    }
   },
   "source": [
    "# Blending comparisons (rising bubble CFL)"
   ]
  },
  {
   "cell_type": "code",
   "execution_count": 35,
   "metadata": {
    "jupyter": {
     "source_hidden": true
    }
   },
   "outputs": [
    {
     "name": "stdout",
     "output_type": "stream",
     "text": [
      "./output/rb_cfl_20_40.pdf ./output/rb_cfl_80_40.pdf\n",
      "['pdfjam', '--nup', '1x2', './output/rb_cfl_20_40.pdf', './output/rb_cfl_80_40.pdf', '--outfile', './output/rising_bubble_CFL.pdf', '--delta', '0.2cm 0.2cm']\n",
      "0\n",
      "0\n"
     ]
    }
   ],
   "source": [
    "# dd = './output'\n",
    "# p1 = '%s/rb_cfl_20_40.pdf' %dd\n",
    "# p2 = '%s/rb_cfl_80_40.pdf' %dd\n",
    "\n",
    "# out_name = 'rising_bubble_CFL'\n",
    "\n",
    "# ps = [p1,p2]\n",
    "# p_long = p1\n",
    "\n",
    "# for p in ps[1:]:\n",
    "#     p_long += ' ' + p\n",
    "# # print([p for p in ps])\n",
    "# print(p_long)\n",
    "\n",
    "# call = ['pdfjam', '--nup', '1x2']\n",
    "# for p in ps:\n",
    "#     call += [p]\n",
    "# call += ['--outfile', '%s/%s.pdf' %(dd,out_name)]\n",
    "# call += ['--delta', '0.2cm 0.2cm']\n",
    "# print(call)\n",
    "\n",
    "# proc1 = subprocess.call(call)\n",
    "# print(proc1)\n",
    "# if not proc1:\n",
    "#     proc2 = subprocess.call(['pdfcrop', '%s/%s.pdf' %(dd,out_name), '%s/%s.pdf' %(dd,out_name)])\n",
    "#     print(proc2)"
   ]
  },
  {
   "cell_type": "markdown",
   "metadata": {},
   "source": [
    "# Blending comparison at (20,80) probe loc (rb CFL)"
   ]
  },
  {
   "cell_type": "code",
   "execution_count": 34,
   "metadata": {},
   "outputs": [
    {
     "name": "stdout",
     "output_type": "stream",
     "text": [
      "./output/rb_cfl_20_40_wblue.pdf ./output/rb_cfl_20_40_woblue.pdf\n",
      "['pdfjam', '--nup', '1x2', './output/rb_cfl_20_40_wblue.pdf', './output/rb_cfl_20_40_woblue.pdf', '--outfile', './output/rising_bubble_CFL_20_80_comparison.pdf', '--delta', '0.2cm 0.2cm']\n",
      "0\n",
      "0\n"
     ]
    }
   ],
   "source": [
    "dd = './output'\n",
    "p1 = '%s/rb_cfl_20_40_wblue.pdf' %dd\n",
    "p2 = '%s/rb_cfl_20_40_woblue.pdf' %dd\n",
    "\n",
    "out_name = 'rising_bubble_CFL_20_80_comparison'\n",
    "\n",
    "ps = [p1,p2]\n",
    "p_long = p1\n",
    "\n",
    "for p in ps[1:]:\n",
    "    p_long += ' ' + p\n",
    "# print([p for p in ps])\n",
    "print(p_long)\n",
    "\n",
    "call = ['pdfjam', '--nup', '1x2']\n",
    "for p in ps:\n",
    "    call += [p]\n",
    "call += ['--outfile', '%s/%s.pdf' %(dd,out_name)]\n",
    "call += ['--delta', '0.2cm 0.2cm']\n",
    "print(call)\n",
    "\n",
    "proc1 = subprocess.call(call)\n",
    "print(proc1)\n",
    "if not proc1:\n",
    "    proc2 = subprocess.call(['pdfcrop', '%s/%s.pdf' %(dd,out_name), '%s/%s.pdf' %(dd,out_name)])\n",
    "    print(proc2)"
   ]
  },
  {
   "cell_type": "markdown",
   "metadata": {
    "jupyter": {
     "source_hidden": true
    }
   },
   "source": [
    "# Vortices obs truth"
   ]
  },
  {
   "cell_type": "code",
   "execution_count": 25,
   "metadata": {
    "collapsed": true,
    "jupyter": {
     "outputs_hidden": true,
     "source_hidden": true
    }
   },
   "outputs": [
    {
     "name": "stdout",
     "output_type": "stream",
     "text": [
      "./output/obs_swe_rhou.pdf ./output/swe_truth.pdf ./output/obs_euler_p2_nodes.pdf ./output/euler_truth.pdf\n",
      "['pdfjam', '--nup', '2x2', './output/obs_swe_rhou.pdf', './output/swe_truth.pdf', './output/obs_euler_p2_nodes.pdf', './output/euler_truth.pdf', '--outfile', './output/obs_truth.pdf', '--delta', '0.2cm 0.2cm']\n",
      "0\n",
      "0\n"
     ]
    }
   ],
   "source": [
    "dd = './output'\n",
    "p1 = '%s/obs_swe_rhou.pdf' %dd\n",
    "p2 = '%s/swe_truth.pdf' %dd\n",
    "p3 = '%s/obs_euler_p2_nodes.pdf' %dd\n",
    "p4 = '%s/euler_truth.pdf' %dd\n",
    "\n",
    "out_name = 'obs_truth'\n",
    "\n",
    "ps = [p1,p2,p3,p4]\n",
    "p_long = p1\n",
    "\n",
    "for p in ps[1:]:\n",
    "    p_long += ' ' + p\n",
    "# print([p for p in ps])\n",
    "print(p_long)\n",
    "\n",
    "call = ['pdfjam', '--nup', '2x2']\n",
    "for p in ps:\n",
    "    call += [p]\n",
    "call += ['--outfile', '%s/%s.pdf' %(dd,out_name)]\n",
    "call += ['--delta', '0.2cm 0.2cm']\n",
    "print(call)\n",
    "\n",
    "proc1 = subprocess.call(call)\n",
    "print(proc1)\n",
    "if not proc1:\n",
    "    proc2 = subprocess.call(['pdfcrop', '%s/%s.pdf' %(dd,out_name), '%s/%s.pdf' %(dd,out_name)])\n",
    "    print(proc2)"
   ]
  },
  {
   "cell_type": "markdown",
   "metadata": {},
   "source": [
    "# Merge vortex obs truth"
   ]
  },
  {
   "cell_type": "code",
   "execution_count": 25,
   "metadata": {},
   "outputs": [
    {
     "name": "stdout",
     "output_type": "stream",
     "text": [
      "./output/obs_euler_rhou.pdf ./output/euler_truth_rhou.pdf ./output/obs_euler_p2_nodes.pdf ./output/euler_truth.pdf\n",
      "['pdfjam', '--nup', '2x2', './output/obs_euler_rhou.pdf', './output/euler_truth_rhou.pdf', './output/obs_euler_p2_nodes.pdf', './output/euler_truth.pdf', '--outfile', './output/obs_truth.pdf', '--delta', '0.2cm 0.2cm']\n",
      "0\n",
      "0\n"
     ]
    }
   ],
   "source": [
    "dd = './output'\n",
    "p1 = '%s/obs_euler_rhou.pdf' %dd\n",
    "p2 = '%s/euler_truth_rhou.pdf' %dd\n",
    "p3 = '%s/obs_euler_p2_nodes.pdf' %dd\n",
    "p4 = '%s/euler_truth.pdf' %dd\n",
    "\n",
    "out_name = 'obs_truth'\n",
    "\n",
    "ps = [p1,p2,p3,p4]\n",
    "p_long = p1\n",
    "\n",
    "for p in ps[1:]:\n",
    "    p_long += ' ' + p\n",
    "# print([p for p in ps])\n",
    "print(p_long)\n",
    "\n",
    "call = ['pdfjam', '--nup', '2x2']\n",
    "for p in ps:\n",
    "    call += [p]\n",
    "call += ['--outfile', '%s/%s.pdf' %(dd,out_name)]\n",
    "call += ['--delta', '0.2cm 0.2cm']\n",
    "print(call)\n",
    "\n",
    "proc1 = subprocess.call(call)\n",
    "print(proc1)\n",
    "if not proc1:\n",
    "    proc2 = subprocess.call(['pdfcrop', '%s/%s.pdf' %(dd,out_name), '%s/%s.pdf' %(dd,out_name)])\n",
    "    print(proc2)"
   ]
  },
  {
   "cell_type": "markdown",
   "metadata": {},
   "source": [
    "# Merge rising bubble obs truth plots"
   ]
  },
  {
   "cell_type": "code",
   "execution_count": 73,
   "metadata": {},
   "outputs": [
    {
     "name": "stdout",
     "output_type": "stream",
     "text": [
      "./output/obs_rb_rhou.pdf ./output/rb_truth.pdf\n",
      "['pdfjam', '--nup', '1x2', './output/obs_rb_rhou.pdf', './output/rb_truth.pdf', '--outfile', './output/rb_obs_truth.pdf']\n",
      "0\n",
      "0\n"
     ]
    }
   ],
   "source": [
    "dd = './output'\n",
    "p1 = '%s/obs_rb_rhou.pdf' %dd\n",
    "p2 = '%s/rb_truth.pdf' %dd\n",
    "\n",
    "ps = [p1,p2]\n",
    "p_long = p1\n",
    "\n",
    "for p in ps[1:]:\n",
    "    p_long += ' ' + p\n",
    "# print([p for p in ps])\n",
    "print(p_long)\n",
    "\n",
    "call = ['pdfjam', '--nup', '1x2']\n",
    "for p in ps:\n",
    "    call += [p]\n",
    "call += ['--outfile', '%s/rb_obs_truth.pdf' %dd]\n",
    "print(call)\n",
    "\n",
    "proc1 = subprocess.call(call)\n",
    "print(proc1)\n",
    "if not proc1:\n",
    "    proc2 = subprocess.call(['pdfcrop', '%s/rb_obs_truth.pdf' %dd, '%s/rb_obs_truth.pdf' %dd])\n",
    "    print(proc2)"
   ]
  },
  {
   "cell_type": "markdown",
   "metadata": {
    "jupyter": {
     "source_hidden": true
    }
   },
   "source": [
    "# Merge scale analysis plots (SWE, Euler, RB)"
   ]
  },
  {
   "cell_type": "code",
   "execution_count": 36,
   "metadata": {
    "collapsed": true,
    "jupyter": {
     "outputs_hidden": true,
     "source_hidden": true
    }
   },
   "outputs": [
    {
     "name": "stdout",
     "output_type": "stream",
     "text": [
      "./output/scale_analysis_swe.pdf ./output/scale_analysis_euler.pdf ./output/scale_analysis_rb.pdf\n",
      "['pdfjam', '--nup', '3x1', './output/scale_analysis_swe.pdf', './output/scale_analysis_euler.pdf', './output/scale_analysis_rb.pdf', '--outfile', './output/scale_analysis.pdf']\n",
      "0\n",
      "0\n"
     ]
    }
   ],
   "source": [
    "dd = './output'\n",
    "p1 = '%s/scale_analysis_swe.pdf' %dd\n",
    "p2 = '%s/scale_analysis_euler.pdf' %dd\n",
    "p3 = '%s/scale_analysis_rb.pdf' %dd\n",
    "\n",
    "ps = [p1,p2,p3]\n",
    "p_long = p1\n",
    "\n",
    "for p in ps[1:]:\n",
    "    p_long += ' ' + p\n",
    "# print([p for p in ps])\n",
    "print(p_long)\n",
    "\n",
    "call = ['pdfjam', '--nup', '3x1']\n",
    "for p in ps:\n",
    "    call += [p]\n",
    "call += ['--outfile', '%s/scale_analysis.pdf' %dd]\n",
    "print(call)\n",
    "\n",
    "proc1 = subprocess.call(call)\n",
    "print(proc1)\n",
    "if not proc1:\n",
    "    proc2 = subprocess.call(['pdfcrop', '%s/scale_analysis.pdf' %dd, '%s/scale_analysis.pdf' %dd])\n",
    "    print(proc2)"
   ]
  },
  {
   "cell_type": "markdown",
   "metadata": {},
   "source": [
    "# Merge scale analysis plots (TV, RB)"
   ]
  },
  {
   "cell_type": "code",
   "execution_count": 64,
   "metadata": {},
   "outputs": [
    {
     "name": "stdout",
     "output_type": "stream",
     "text": [
      "./output/scale_analysis_euler.pdf ./output/scale_analysis_rb.pdf\n",
      "['pdfjam', '--nup', '2x1', './output/scale_analysis_euler.pdf', './output/scale_analysis_rb.pdf', '--outfile', './output/scale_analysis.pdf']\n",
      "0\n",
      "0\n"
     ]
    }
   ],
   "source": [
    "dd = './output'\n",
    "p1 = '%s/scale_analysis_euler.pdf' %dd\n",
    "p2 = '%s/scale_analysis_rb.pdf' %dd\n",
    "\n",
    "ps = [p1,p2]\n",
    "p_long = p1\n",
    "\n",
    "for p in ps[1:]:\n",
    "    p_long += ' ' + p\n",
    "# print([p for p in ps])\n",
    "print(p_long)\n",
    "\n",
    "call = ['pdfjam', '--nup', '2x1']\n",
    "for p in ps:\n",
    "    call += [p]\n",
    "call += ['--outfile', '%s/scale_analysis.pdf' %dd]\n",
    "print(call)\n",
    "\n",
    "proc1 = subprocess.call(call)\n",
    "print(proc1)\n",
    "if not proc1:\n",
    "    proc2 = subprocess.call(['pdfcrop', '%s/scale_analysis.pdf' %dd, '%s/scale_analysis.pdf' %dd])\n",
    "    print(proc2)"
   ]
  },
  {
   "cell_type": "markdown",
   "metadata": {},
   "source": [
    "# Merge poster/slides rb contour plots"
   ]
  },
  {
   "cell_type": "code",
   "execution_count": 78,
   "metadata": {},
   "outputs": [
    {
     "name": "stdout",
     "output_type": "stream",
     "text": [
      "./output/rb_deltap_contour_comp_slides.pdf ./output/rb_deltap_contour_psinc_slides.pdf\n",
      "['pdfjam', '--nup', '2x1', './output/rb_deltap_contour_comp_slides.pdf', './output/rb_deltap_contour_psinc_slides.pdf', '--outfile', './output/rb_deltap_contour_slides.pdf', '--delta', '0.2cm 0.2cm']\n",
      "0\n",
      "0\n"
     ]
    }
   ],
   "source": [
    "dd = './output'\n",
    "p1 = '%s/rb_deltap_contour_comp_slides.pdf' %dd\n",
    "p2 = '%s/rb_deltap_contour_psinc_slides.pdf' %dd\n",
    "\n",
    "out_name = 'rb_deltap_contour_slides'\n",
    "\n",
    "ps = [p1,p2]\n",
    "p_long = p1\n",
    "\n",
    "for p in ps[1:]:\n",
    "    p_long += ' ' + p\n",
    "# print([p for p in ps])\n",
    "print(p_long)\n",
    "\n",
    "call = ['pdfjam', '--nup', '2x1']\n",
    "for p in ps:\n",
    "    call += [p]\n",
    "call += ['--outfile', '%s/%s.pdf' %(dd,out_name)]\n",
    "call += ['--delta', '0.2cm 0.2cm']\n",
    "print(call)\n",
    "\n",
    "proc1 = subprocess.call(call)\n",
    "print(proc1)\n",
    "if not proc1:\n",
    "    proc2 = subprocess.call(['pdfcrop', '%s/%s.pdf' %(dd,out_name), '%s/%s.pdf' %(dd,out_name)])\n",
    "    print(proc2)"
   ]
  },
  {
   "cell_type": "code",
   "execution_count": null,
   "metadata": {},
   "outputs": [],
   "source": []
  }
 ],
 "metadata": {
  "kernelspec": {
   "display_name": "Python 3.7.3 64-bit ('anaconda3': virtualenv)",
   "language": "python",
   "name": "python37364bitanaconda3virtualenv7a28dc8db0264e168ad4f93d8f9f620c"
  },
  "language_info": {
   "codemirror_mode": {
    "name": "ipython",
    "version": 3
   },
   "file_extension": ".py",
   "mimetype": "text/x-python",
   "name": "python",
   "nbconvert_exporter": "python",
   "pygments_lexer": "ipython3",
   "version": "3.7.3"
  }
 },
 "nbformat": 4,
 "nbformat_minor": 4
}
