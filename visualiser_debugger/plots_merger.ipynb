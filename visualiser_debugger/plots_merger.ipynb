{
 "cells": [
  {
   "cell_type": "code",
   "execution_count": null,
   "metadata": {},
   "outputs": [],
   "source": [
    "pdfjam --nup 2x1 swe_w_bal.pdf euler_w_bal.pdf --outfile comparisons_w_bal.pdf\n",
    "pdfcrop comparisons_w_imbal.pdf"
   ]
  },
  {
   "cell_type": "markdown",
   "metadata": {},
   "source": [
    "# Plots merger\n",
    "\n",
    "Notebook file to merge generated pdf plots instead of relying on the matplotlib subplots"
   ]
  },
  {
   "cell_type": "code",
   "execution_count": 27,
   "metadata": {},
   "outputs": [
    {
     "name": "stdout",
     "output_type": "stream",
     "text": [
      "/home/ray/git-projects/RKLM_Reference/visualiser_debugger\n"
     ]
    }
   ],
   "source": [
    "import sys\n",
    "import subprocess\n",
    "import os\n",
    "\n",
    "os.chdir(os.getcwd())\n",
    "print(os.getcwd())"
   ]
  },
  {
   "cell_type": "code",
   "execution_count": 43,
   "metadata": {},
   "outputs": [
    {
     "name": "stdout",
     "output_type": "stream",
     "text": [
      "psinc_half_vs_comp_half.pdf psinc_half_vs_comp_full.pdf psinc_half_vs_psinc_full.pdf psinc_full_vs_comp_half.pdf psinc_full_vs_comp_full.pdf comp_half_vs_comp_full.pdf\n"
     ]
    }
   ],
   "source": [
    "p1 = 'psinc_half_vs_comp_half'\n",
    "p2 = 'psinc_half_vs_comp_full'\n",
    "p3 = 'psinc_half_vs_psinc_full'\n",
    "p4 = 'psinc_full_vs_comp_half'\n",
    "p5 = 'psinc_full_vs_comp_full'\n",
    "p6 = 'comp_half_vs_comp_full'\n",
    "\n",
    "ps = [p1,p2,p3,p4,p5,p6]\n",
    "p_long = p1 + '.pdf'\n",
    "for p in ps[1:]:\n",
    "    p_long += ' ' + p + '.pdf'\n",
    "# print([p for p in ps])\n",
    "print(p_long)"
   ]
  },
  {
   "cell_type": "code",
   "execution_count": 48,
   "metadata": {},
   "outputs": [],
   "source": [
    "call = ['pdfjam', '--nup', '2x3']\n",
    "for p in ps:\n",
    "    call += ['euler_diff_' + p + '.pdf']\n",
    "call += ['--outfile', 'test.pdf']"
   ]
  },
  {
   "cell_type": "code",
   "execution_count": 49,
   "metadata": {},
   "outputs": [
    {
     "data": {
      "text/plain": [
       "0"
      ]
     },
     "execution_count": 49,
     "metadata": {},
     "output_type": "execute_result"
    }
   ],
   "source": [
    "subprocess.call(call)"
   ]
  },
  {
   "cell_type": "code",
   "execution_count": 51,
   "metadata": {},
   "outputs": [
    {
     "data": {
      "text/plain": [
       "0"
      ]
     },
     "execution_count": 51,
     "metadata": {},
     "output_type": "execute_result"
    }
   ],
   "source": [
    "subprocess.call(['pdfcrop', 'test.pdf'])"
   ]
  },
  {
   "cell_type": "code",
   "execution_count": 57,
   "metadata": {},
   "outputs": [
    {
     "name": "stdout",
     "output_type": "stream",
     "text": [
      "['pdfjam', '--nup', '1x2', 'euler_half_comparisons.pdf', 'euler_full_comparisons.pdf', '--outfile', 'test_comparisons.pdf']\n"
     ]
    },
    {
     "data": {
      "text/plain": [
       "0"
      ]
     },
     "execution_count": 57,
     "metadata": {},
     "output_type": "execute_result"
    }
   ],
   "source": [
    "ps = ['euler_half_comparisons.pdf', 'euler_full_comparisons.pdf']\n",
    "\n",
    "call = ['pdfjam', '--nup', '1x2']\n",
    "for p in ps:\n",
    "    call += [p]\n",
    "call += ['--outfile', 'test_comparisons.pdf']\n",
    "print(call)\n",
    "subprocess.call(call)\n",
    "subprocess.call(['pdfcrop', 'test_comparisons.pdf'])"
   ]
  },
  {
   "cell_type": "code",
   "execution_count": null,
   "metadata": {},
   "outputs": [],
   "source": []
  }
 ],
 "metadata": {
  "kernelspec": {
   "display_name": "Python 3.7.3 64-bit ('anaconda3': virtualenv)",
   "language": "python",
   "name": "python37364bitanaconda3virtualenv7a28dc8db0264e168ad4f93d8f9f620c"
  },
  "language_info": {
   "codemirror_mode": {
    "name": "ipython",
    "version": 3
   },
   "file_extension": ".py",
   "mimetype": "text/x-python",
   "name": "python",
   "nbconvert_exporter": "python",
   "pygments_lexer": "ipython3",
   "version": "3.7.3"
  }
 },
 "nbformat": 4,
 "nbformat_minor": 4
}
