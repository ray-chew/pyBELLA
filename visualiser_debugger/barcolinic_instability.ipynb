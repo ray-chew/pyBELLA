{
 "cells": [
  {
   "cell_type": "markdown",
   "metadata": {},
   "source": [
    "# 3D test case: Baroclinic Instability"
   ]
  },
  {
   "cell_type": "code",
   "execution_count": 76,
   "metadata": {},
   "outputs": [
    {
     "data": {
      "text/plain": [
       "<module 'converter' from '/home/ray/git-projects/RKLM_Reference/visualiser_debugger/converter.py'>"
      ]
     },
     "execution_count": 76,
     "metadata": {},
     "output_type": "execute_result"
    }
   ],
   "source": [
    "import h5py\n",
    "import numpy as np\n",
    "import matplotlib.style\n",
    "import matplotlib as mpl\n",
    "import matplotlib.pyplot as plt\n",
    "mpl.style.use('classic')\n",
    "%matplotlib inline\n",
    "\n",
    "import converter\n",
    "from importlib import reload\n",
    "reload(converter)"
   ]
  },
  {
   "cell_type": "code",
   "execution_count": 126,
   "metadata": {},
   "outputs": [],
   "source": [
    "#####################################################\n",
    "#\n",
    "# Time labels for C and Python\n",
    "#\n",
    "def get_time(t_label):\n",
    "    label = t_label + '_' + 'ic'\n",
    "#     label = t_label + '_' + 'before_advect'\n",
    "#     label = t_label + '_' + 'after_advect'\n",
    "#     label = t_label + '_' + 'after_ebnaexp'\n",
    "#     label = t_label + '_' + 'after_ebnaimp'\n",
    "#     label = t_label + '_' + 'after_half_step'\n",
    "#     label = t_label + '_' + 'after_efna'\n",
    "#     label = t_label + '_' + 'after_full_advect'\n",
    "#     label = t_label + '_' + 'after_full_ebnaexp'\n",
    "#     label = t_label + '_' + 'after_full_step'\n",
    "    return label\n",
    "#\n",
    "#####################################################\n",
    "\n",
    "#####################################################\n",
    "#\n",
    "# C-output folder names\n",
    "#\n",
    "base_suffix = '_baroclinic_instability_periodic/'\n",
    "# \n",
    "#####################################################\n",
    "#\n",
    "# and its filename\n",
    "#\n",
    "# py_filename = \"output_acoustic_wave_high_low_mach_gravity_comp.h5\"\n",
    "# py_filename = \"output_internal_long_wave_low_mach_gravity_comp.h5\"\n",
    "# py_filename = \"output_travelling_vortex_3d_48_low_mach_gravity_comp.h5\"\n",
    "\n",
    "#####################################################\n",
    "\n",
    "figsize_tuple = (12,3)"
   ]
  },
  {
   "cell_type": "code",
   "execution_count": 127,
   "metadata": {},
   "outputs": [],
   "source": [
    "base_folder_name = \"../RKLM_Reference/output\"\n",
    "\n",
    "base_path = base_folder_name + base_suffix\n",
    "folder_comp = \"low_Mach_gravity_comp/\"\n",
    "folder_psinc = \"low_Mach_gravity_psinc/\"\n",
    "\n",
    "# Manually list the folder names for each directory\n",
    "directories = ['rho']\n",
    "directories += ['S']\n",
    "directories += ['T']\n",
    "directories += ['Y']\n",
    "directories += ['buoy']\n",
    "directories += ['dT'] \n",
    "directories += ['dY']\n",
    "directories += ['dp2_c']\n",
    "directories += ['dp2_nodes']\n",
    "directories += ['dpdim']\n",
    "directories += ['drhoY'] \n",
    "directories += ['p']\n",
    "directories += ['p2_c']\n",
    "directories += ['p2_nodes']\n",
    "directories += ['u']\n",
    "directories += ['v']\n",
    "directories += ['w']\n",
    "directories += ['vortz']\n",
    "directories += ['rhoY']\n",
    "directories += ['rhoe']\n",
    "directories += ['rhou']\n",
    "directories += ['rhov']\n",
    "directories += ['rhow']\n",
    "directories += ['rhs']\n",
    "directories += ['buoy']\n",
    "\n",
    "# And manually list the file names.\n",
    "filenames = ['rho']\n",
    "filenames += ['S'] \n",
    "filenames += ['T']\n",
    "filenames += ['Y']\n",
    "filenames += ['buoy']\n",
    "filenames += ['dT']\n",
    "filenames += ['dY']\n",
    "filenames += ['dp2_c']\n",
    "filenames += ['dp2_n']\n",
    "filenames += ['dpdim']\n",
    "filenames += ['drhoY'] \n",
    "filenames += ['p']\n",
    "filenames += ['p2_c']\n",
    "filenames += ['p2_n']\n",
    "filenames += ['u']\n",
    "filenames += ['v']\n",
    "filenames += ['w']\n",
    "filenames += ['vortz']\n",
    "filenames += ['rhoY']\n",
    "filenames += ['rhoe']\n",
    "filenames += ['rhou']\n",
    "filenames += ['rhov']\n",
    "filenames += ['rhow']\n",
    "filenames += ['rhs']\n",
    "filenames += ['buoy']"
   ]
  },
  {
   "cell_type": "code",
   "execution_count": 128,
   "metadata": {},
   "outputs": [],
   "source": [
    "# manually specific folder names\n",
    "test_cases_folders = ['p2_nodes']\n",
    "test_cases_folders += ['rho']\n",
    "test_cases_folders += ['rhoY']\n",
    "test_cases_folders += ['rhoe']\n",
    "test_cases_folders += ['rhou']\n",
    "test_cases_folders += ['rhov']\n",
    "test_cases_folders += ['rhow']\n",
    "test_cases_folders += ['u']\n",
    "test_cases_folders += ['v']\n",
    "test_cases_folders += ['vortz']\n",
    "test_cases_folders += ['dT'] \n",
    "test_cases_folders += ['Y']\n",
    "test_cases_folders += ['dY']\n",
    "test_cases_folders += ['buoy']\n",
    "\n",
    "# and filenames\n",
    "test_cases_names = ['p2_n']\n",
    "test_cases_names += ['rho']\n",
    "test_cases_names += ['rhoY']\n",
    "test_cases_names += ['rhoe']\n",
    "test_cases_names += ['rhou']\n",
    "test_cases_names += ['rhov']\n",
    "test_cases_names += ['rhow']\n",
    "test_cases_names += ['u']\n",
    "test_cases_names += ['v']\n",
    "test_cases_names += ['vortz']\n",
    "test_cases_names += ['dT']\n",
    "test_cases_names += ['Y']\n",
    "test_cases_names += ['dY']\n",
    "test_cases_names += ['buoy']"
   ]
  },
  {
   "cell_type": "code",
   "execution_count": 130,
   "metadata": {
    "scrolled": true
   },
   "outputs": [
    {
     "name": "stdout",
     "output_type": "stream",
     "text": [
      "(69, 37, 69)\n"
     ]
    },
    {
     "data": {
      "image/png": "[encoded data removed]",
      "text/plain": [
       "<Figure size 432x288 with 2 Axes>"
      ]
     },
     "metadata": {
      "needs_background": "light"
     },
     "output_type": "display_data"
    }
   ],
   "source": [
    "t_label = '000'\n",
    "time = get_time(t_label)\n",
    "\n",
    "converter_obj = converter.convert(base_path,folder_comp,time,t_label)\n",
    "converter_obj.convert_files(directories,filenames)\n",
    "c = converter_obj.get_converted_files(test_cases_folders, test_cases_names)\n",
    "\n",
    "# print(c.Y[10])\n",
    "plt.figure()\n",
    "print(c.rho.shape)\n",
    "plt.imshow(c.rho[:,19,:].T, origin='lower')\n",
    "plt.colorbar(fraction=0.04, pad=0.04)\n",
    "plt.show()"
   ]
  },
  {
   "cell_type": "code",
   "execution_count": 138,
   "metadata": {},
   "outputs": [
    {
     "name": "stdout",
     "output_type": "stream",
     "text": [
      "(4, 3, 5)\n",
      "(4, 3)\n",
      "[[[ 0  0  0  0  0]\n",
      "  [ 1  1  1  1  1]\n",
      "  [ 2  2  2  2  2]]\n",
      "\n",
      " [[ 3  3  3  3  3]\n",
      "  [ 4  4  4  4  4]\n",
      "  [ 5  5  5  5  5]]\n",
      "\n",
      " [[ 6  6  6  6  6]\n",
      "  [ 7  7  7  7  7]\n",
      "  [ 8  8  8  8  8]]\n",
      "\n",
      " [[ 9  9  9  9  9]\n",
      "  [10 10 10 10 10]\n",
      "  [11 11 11 11 11]]]\n",
      "[37]\n",
      "(3, 37)\n"
     ]
    }
   ],
   "source": [
    "AA = np.arange(60).reshape(4,3,5)\n",
    "print(AA.shape)\n",
    "AA[...] = 0.0\n",
    "\n",
    "BB = np.arange(12).reshape(4,3)\n",
    "print(BB.shape)\n",
    "AA[...,:] = BB[:,:,np.newaxis]\n",
    "print(AA)\n",
    "\n",
    "nspec = 3\n",
    "size = [37]\n",
    "print(list(size))\n",
    "rhoX = np.zeros(([nspec] + list(size)))\n",
    "print(rhoX.shape)"
   ]
  },
  {
   "cell_type": "code",
   "execution_count": 137,
   "metadata": {},
   "outputs": [
    {
     "ename": "TypeError",
     "evalue": "object of type 'int' has no len()",
     "output_type": "error",
     "traceback": [
      "\u001b[0;31m---------------------------------------------------------------------------\u001b[0m",
      "\u001b[0;31mTypeError\u001b[0m                                 Traceback (most recent call last)",
      "\u001b[0;32m<ipython-input-137-626767997ac2>\u001b[0m in \u001b[0;36m<module>\u001b[0;34m\u001b[0m\n\u001b[1;32m      1\u001b[0m \u001b[0mlst\u001b[0m \u001b[0;34m=\u001b[0m \u001b[0;36m37\u001b[0m\u001b[0;34m\u001b[0m\u001b[0;34m\u001b[0m\u001b[0m\n\u001b[0;32m----> 2\u001b[0;31m \u001b[0mprint\u001b[0m\u001b[0;34m(\u001b[0m\u001b[0mlen\u001b[0m\u001b[0;34m(\u001b[0m\u001b[0mlst\u001b[0m\u001b[0;34m)\u001b[0m\u001b[0;34m)\u001b[0m\u001b[0;34m\u001b[0m\u001b[0;34m\u001b[0m\u001b[0m\n\u001b[0m",
      "\u001b[0;31mTypeError\u001b[0m: object of type 'int' has no len()"
     ]
    }
   ],
   "source": []
  },
  {
   "cell_type": "code",
   "execution_count": null,
   "metadata": {},
   "outputs": [],
   "source": []
  }
 ],
 "metadata": {
  "kernelspec": {
   "display_name": "Python 3",
   "language": "python",
   "name": "python3"
  },
  "language_info": {
   "codemirror_mode": {
    "name": "ipython",
    "version": 3
   },
   "file_extension": ".py",
   "mimetype": "text/x-python",
   "name": "python",
   "nbconvert_exporter": "python",
   "pygments_lexer": "ipython3",
   "version": "3.7.3"
  }
 },
 "nbformat": 4,
 "nbformat_minor": 2
}
