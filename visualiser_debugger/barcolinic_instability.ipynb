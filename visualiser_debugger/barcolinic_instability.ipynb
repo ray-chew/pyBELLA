{
 "cells": [
  {
   "cell_type": "markdown",
   "metadata": {},
   "source": [
    "# 3D test case: Baroclinic Instability"
   ]
  },
  {
   "cell_type": "code",
   "execution_count": 2,
   "metadata": {},
   "outputs": [
    {
     "data": {
      "text/plain": [
       "<module 'utils' from '/home/ray/git-projects/RKLM_Reference/visualiser_debugger/utils.py'>"
      ]
     },
     "execution_count": 2,
     "metadata": {},
     "output_type": "execute_result"
    }
   ],
   "source": [
    "import h5py\n",
    "import numpy as np\n",
    "import matplotlib.style\n",
    "import matplotlib as mpl\n",
    "import matplotlib.pyplot as plt\n",
    "mpl.style.use('classic')\n",
    "%matplotlib inline\n",
    "\n",
    "import converter\n",
    "from importlib import reload\n",
    "reload(converter)\n",
    "\n",
    "import utils\n",
    "reload(utils)"
   ]
  },
  {
   "cell_type": "code",
   "execution_count": 3,
   "metadata": {},
   "outputs": [],
   "source": [
    "#####################################################\n",
    "#\n",
    "# Time labels for C and Python\n",
    "#\n",
    "def get_time(t_label):\n",
    "    label = t_label + '_' + 'ic'\n",
    "#     label = t_label + '_' + 'before_advect'\n",
    "#     label = t_label + '_' + 'after_advect'\n",
    "#     label = t_label + '_' + 'after_ebnaexp'\n",
    "#     label = t_label + '_' + 'after_ebnaimp'\n",
    "#     label = t_label + '_' + 'after_half_step'\n",
    "#     label = t_label + '_' + 'after_efna'\n",
    "#     label = t_label + '_' + 'after_full_advect'\n",
    "#     label = t_label + '_' + 'after_full_ebnaexp'\n",
    "#     label = t_label + '_' + 'after_full_step'\n",
    "    return label\n",
    "#\n",
    "#####################################################\n",
    "\n",
    "#####################################################\n",
    "#\n",
    "# C-output folder names\n",
    "#\n",
    "base_suffix = '_baroclinic_instability_periodic/'\n",
    "# \n",
    "#####################################################\n",
    "#\n",
    "# and its filename\n",
    "#\n",
    "# py_filename = \"output_acoustic_wave_high_low_mach_gravity_comp.h5\"\n",
    "# py_filename = \"output_internal_long_wave_low_mach_gravity_comp.h5\"\n",
    "# py_filename = \"output_travelling_vortex_3d_48_low_mach_gravity_comp.h5\"\n",
    "\n",
    "#####################################################\n",
    "\n",
    "figsize_tuple = (12,3)"
   ]
  },
  {
   "cell_type": "code",
   "execution_count": 4,
   "metadata": {},
   "outputs": [],
   "source": [
    "base_folder_name = \"../RKLM_Reference/output\"\n",
    "\n",
    "base_path = base_folder_name + base_suffix\n",
    "folder_comp = \"low_Mach_gravity_comp/\"\n",
    "folder_psinc = \"low_Mach_gravity_psinc/\"\n",
    "\n",
    "# Manually list the folder names for each directory\n",
    "directories = ['rho']\n",
    "directories += ['S']\n",
    "directories += ['T']\n",
    "directories += ['Y']\n",
    "directories += ['buoy']\n",
    "directories += ['dT'] \n",
    "directories += ['dY']\n",
    "directories += ['dp2_c']\n",
    "directories += ['dp2_nodes']\n",
    "directories += ['dpdim']\n",
    "directories += ['drhoY'] \n",
    "directories += ['p']\n",
    "directories += ['p2_c']\n",
    "directories += ['p2_nodes']\n",
    "directories += ['u']\n",
    "directories += ['v']\n",
    "directories += ['w']\n",
    "directories += ['vortz']\n",
    "directories += ['rhoY']\n",
    "directories += ['rhoe']\n",
    "directories += ['rhou']\n",
    "directories += ['rhov']\n",
    "directories += ['rhow']\n",
    "directories += ['rhs']\n",
    "directories += ['buoy']\n",
    "\n",
    "# And manually list the file names.\n",
    "filenames = ['rho']\n",
    "filenames += ['S'] \n",
    "filenames += ['T']\n",
    "filenames += ['Y']\n",
    "filenames += ['buoy']\n",
    "filenames += ['dT']\n",
    "filenames += ['dY']\n",
    "filenames += ['dp2_c']\n",
    "filenames += ['dp2_n']\n",
    "filenames += ['dpdim']\n",
    "filenames += ['drhoY'] \n",
    "filenames += ['p']\n",
    "filenames += ['p2_c']\n",
    "filenames += ['p2_n']\n",
    "filenames += ['u']\n",
    "filenames += ['v']\n",
    "filenames += ['w']\n",
    "filenames += ['vortz']\n",
    "filenames += ['rhoY']\n",
    "filenames += ['rhoe']\n",
    "filenames += ['rhou']\n",
    "filenames += ['rhov']\n",
    "filenames += ['rhow']\n",
    "filenames += ['rhs']\n",
    "filenames += ['buoy']"
   ]
  },
  {
   "cell_type": "code",
   "execution_count": 5,
   "metadata": {},
   "outputs": [],
   "source": [
    "# manually specific folder names\n",
    "test_cases_folders = ['p2_nodes']\n",
    "test_cases_folders += ['rho']\n",
    "test_cases_folders += ['rhoY']\n",
    "test_cases_folders += ['rhoe']\n",
    "test_cases_folders += ['rhou']\n",
    "test_cases_folders += ['rhov']\n",
    "test_cases_folders += ['rhow']\n",
    "test_cases_folders += ['u']\n",
    "test_cases_folders += ['v']\n",
    "test_cases_folders += ['vortz']\n",
    "test_cases_folders += ['dT'] \n",
    "test_cases_folders += ['Y']\n",
    "test_cases_folders += ['dY']\n",
    "test_cases_folders += ['buoy']\n",
    "\n",
    "# and filenames\n",
    "test_cases_names = ['p2_n']\n",
    "test_cases_names += ['rho']\n",
    "test_cases_names += ['rhoY']\n",
    "test_cases_names += ['rhoe']\n",
    "test_cases_names += ['rhou']\n",
    "test_cases_names += ['rhov']\n",
    "test_cases_names += ['rhow']\n",
    "test_cases_names += ['u']\n",
    "test_cases_names += ['v']\n",
    "test_cases_names += ['vortz']\n",
    "test_cases_names += ['dT']\n",
    "test_cases_names += ['Y']\n",
    "test_cases_names += ['dY']\n",
    "test_cases_names += ['buoy']"
   ]
  },
  {
   "cell_type": "code",
   "execution_count": 24,
   "metadata": {
    "scrolled": false
   },
   "outputs": [
    {
     "name": "stdout",
     "output_type": "stream",
     "text": [
      "[[0.7865742 0.7865742 0.7865742 ... 0.7865742 0.7865742 0.7865742]\n",
      " [0.7865742 0.7865742 0.7865742 ... 0.7865742 0.7865742 0.7865742]\n",
      " [0.7865742 0.7865742 0.7865742 ... 0.7865742 0.7865742 0.7865742]\n",
      " ...\n",
      " [0.7865742 0.7865742 0.7865742 ... 0.7865742 0.7865742 0.7865742]\n",
      " [0.7865742 0.7865742 0.7865742 ... 0.7865742 0.7865742 0.7865742]\n",
      " [0.7865742 0.7865742 0.7865742 ... 0.7865742 0.7865742 0.7865742]]\n",
      "[[0.7865742 0.7865742 0.7865742 ... 0.7865742 0.7865742 0.7865742]\n",
      " [0.7865742 0.7865742 0.7865742 ... 0.7865742 0.7865742 0.7865742]\n",
      " [0.7865742 0.7865742 0.7865742 ... 0.7865742 0.7865742 0.7865742]\n",
      " ...\n",
      " [0.7865742 0.7865742 0.7865742 ... 0.7865742 0.7865742 0.7865742]\n",
      " [0.7865742 0.7865742 0.7865742 ... 0.7865742 0.7865742 0.7865742]\n",
      " [0.7865742 0.7865742 0.7865742 ... 0.7865742 0.7865742 0.7865742]]\n"
     ]
    },
    {
     "data": {
      "image/png": "[encoded data removed]",
      "text/plain": [
       "<Figure size 1080x360 with 6 Axes>"
      ]
     },
     "metadata": {
      "needs_background": "light"
     },
     "output_type": "display_data"
    }
   ],
   "source": [
    "t_label = '000'\n",
    "time = get_time(t_label)\n",
    "\n",
    "converter_obj = converter.convert(base_path,folder_comp,time,t_label)\n",
    "converter_obj.convert_files(directories,filenames)\n",
    "c = converter_obj.get_converted_files(test_cases_folders, test_cases_names)\n",
    "\n",
    "# print(c.Y[10])\n",
    "# plt.figure()\n",
    "# print(c_arr.shape)\n",
    "# plt.imshow(c_arr[:,19,:].T, origin='lower')\n",
    "# plt.colorbar(fraction=0.04, pad=0.04)\n",
    "# plt.show()\n",
    "\n",
    "py_basename = \"output_baroclinic_instability_periodic\"\n",
    "py_directory = \"../%s/\" %py_basename\n",
    "\n",
    "ens_size = 1\n",
    "grid_x = 65\n",
    "grid_y = 33\n",
    "grid_z = 65\n",
    "end_time = 25.0\n",
    "suffix = \"\"\n",
    "\n",
    "filename = utils.get_filename(py_basename,grid_x,grid_y,ens_size,end_time,suffix,grid_z)\n",
    "path = utils.get_path(py_directory, filename)\n",
    "\n",
    "attribute = 'p2_nodes'\n",
    "# attribute = 'rho'\n",
    "attribute = 'rhoY'\n",
    "py_arr = utils.ensemble_test_case(0, path, ens_size, attribute, 'ic')\n",
    "\n",
    "c_arr = c.p2_nodes\n",
    "c_arr = c.rho\n",
    "c_arr = c.rhoY\n",
    "slice_idx = 6\n",
    "\n",
    "print(c_arr[:,slice_idx,:])\n",
    "print(py_arr[:,slice_idx,:])\n",
    "\n",
    "fig, ax = plt.subplots(ncols=3, figsize=(15,5))\n",
    "im0 = ax[0].imshow(c_arr[:,slice_idx,:], origin='lower')\n",
    "ax[0].set_title(\"C-output\")\n",
    "im1 = ax[1].imshow(py_arr[:,slice_idx,:], origin='lower')\n",
    "fig.colorbar(im0,ax=ax[0],shrink=.75)\n",
    "ax[1].set_title(\"Py-output\")\n",
    "fig.colorbar(im1,ax=ax[1],shrink=.75)\n",
    "im2 = ax[2].imshow(np.abs(c_arr[:,slice_idx,:] - py_arr[:,slice_idx,:]), origin='lower')\n",
    "ax[2].set_title(\"abs. diff. between outputs\")\n",
    "fig.colorbar(im2,ax=ax[2],shrink=.75, format='%.6f')\n",
    "fig.suptitle(r'Comparing initial condition for quantity %s' %attribute, fontsize='16')\n",
    "plt.show()"
   ]
  },
  {
   "cell_type": "code",
   "execution_count": 7,
   "metadata": {},
   "outputs": [
    {
     "name": "stdout",
     "output_type": "stream",
     "text": [
      "000\n",
      "True\n",
      "<class 'float'>\n"
     ]
    }
   ],
   "source": [
    "print(\"%.3d\" %0)\n",
    "print(type(0.0) is float)\n",
    "print(type(0.0))"
   ]
  },
  {
   "cell_type": "code",
   "execution_count": 26,
   "metadata": {},
   "outputs": [
    {
     "name": "stdout",
     "output_type": "stream",
     "text": [
      "1.0\n"
     ]
    }
   ],
   "source": []
  },
  {
   "cell_type": "code",
   "execution_count": null,
   "metadata": {},
   "outputs": [],
   "source": []
  }
 ],
 "metadata": {
  "kernelspec": {
   "display_name": "Python 3",
   "language": "python",
   "name": "python3"
  },
  "language_info": {
   "codemirror_mode": {
    "name": "ipython",
    "version": 3
   },
   "file_extension": ".py",
   "mimetype": "text/x-python",
   "name": "python",
   "nbconvert_exporter": "python",
   "pygments_lexer": "ipython3",
   "version": "3.7.3"
  }
 },
 "nbformat": 4,
 "nbformat_minor": 2
}
