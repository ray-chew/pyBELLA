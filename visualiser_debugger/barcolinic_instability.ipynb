{
 "cells": [
  {
   "cell_type": "markdown",
   "metadata": {},
   "source": [
    "# 3D test case: Baroclinic Instability"
   ]
  },
  {
   "cell_type": "code",
   "execution_count": 40,
   "metadata": {},
   "outputs": [
    {
     "data": {
      "text/plain": [
       "<module 'converter' from '/home/ray/git-projects/RKLM_Reference/visualiser_debugger/converter.py'>"
      ]
     },
     "execution_count": 40,
     "metadata": {},
     "output_type": "execute_result"
    }
   ],
   "source": [
    "import h5py\n",
    "import numpy as np\n",
    "import matplotlib.style\n",
    "import matplotlib as mpl\n",
    "import matplotlib.pyplot as plt\n",
    "mpl.style.use('classic')\n",
    "%matplotlib inline\n",
    "\n",
    "import converter\n",
    "from importlib import reload\n",
    "reload(converter)"
   ]
  },
  {
   "cell_type": "code",
   "execution_count": 36,
   "metadata": {},
   "outputs": [],
   "source": [
    "#####################################################\n",
    "#\n",
    "# Time labels for C and Python\n",
    "#\n",
    "\n",
    "t_label = '006'\n",
    "label = t_label + '_' + 'ic'\n",
    "\n",
    "label = t_label + '_' + 'before_advect'\n",
    "label = t_label + '_' + 'after_advect'\n",
    "label = t_label + '_' + 'after_ebnaexp'\n",
    "label = t_label + '_' + 'after_ebnaimp'\n",
    "# label = t_label + '_' + 'after_half_step'\n",
    "# label = t_label + '_' + 'after_efna'\n",
    "# label = t_label + '_' + 'after_full_advect'\n",
    "# label = t_label + '_' + 'after_full_ebnaexp'\n",
    "label = t_label + '_' + 'after_full_step'\n",
    "\n",
    "# t_label = '038'\n",
    "# time = t_label + '_' + 'after_full_step'\n",
    "time = label\n",
    "# #\n",
    "#####################################################\n",
    "\n",
    "#####################################################\n",
    "#\n",
    "# C-output folder names\n",
    "#\n",
    "base_suffix = '_baroclinic_instability_periodic/'\n",
    "# \n",
    "#####################################################\n",
    "#\n",
    "# and its filename\n",
    "#\n",
    "# py_filename = \"output_acoustic_wave_high_low_mach_gravity_comp.h5\"\n",
    "# py_filename = \"output_internal_long_wave_low_mach_gravity_comp.h5\"\n",
    "# py_filename = \"output_travelling_vortex_3d_48_low_mach_gravity_comp.h5\"\n",
    "\n",
    "#####################################################\n",
    "\n",
    "figsize_tuple = (12,3)"
   ]
  },
  {
   "cell_type": "code",
   "execution_count": 42,
   "metadata": {},
   "outputs": [
    {
     "name": "stdout",
     "output_type": "stream",
     "text": [
      "../RKLM_Reference/output_baroclinic_instability_periodic/low_Mach_gravity_comp/rho/rho_006_after_full_step.hdf\n",
      "../RKLM_Reference/output_baroclinic_instability_periodic/low_Mach_gravity_comp/S/S_006_after_full_step.hdf\n",
      "../RKLM_Reference/output_baroclinic_instability_periodic/low_Mach_gravity_comp/T/T_006_after_full_step.hdf\n",
      "../RKLM_Reference/output_baroclinic_instability_periodic/low_Mach_gravity_comp/Y/Y_006_after_full_step.hdf\n",
      "../RKLM_Reference/output_baroclinic_instability_periodic/low_Mach_gravity_comp/buoy/buoy_006_after_full_step.hdf\n",
      "../RKLM_Reference/output_baroclinic_instability_periodic/low_Mach_gravity_comp/dT/dT_006_after_full_step.hdf\n",
      "../RKLM_Reference/output_baroclinic_instability_periodic/low_Mach_gravity_comp/dY/dY_006_after_full_step.hdf\n",
      "../RKLM_Reference/output_baroclinic_instability_periodic/low_Mach_gravity_comp/dp2_c/dp2_c_006_after_full_step.hdf\n",
      "../RKLM_Reference/output_baroclinic_instability_periodic/low_Mach_gravity_comp/dp2_nodes/dp2_n_006_after_full_step.hdf\n",
      "../RKLM_Reference/output_baroclinic_instability_periodic/low_Mach_gravity_comp/dpdim/dpdim_006_after_full_step.hdf\n",
      "../RKLM_Reference/output_baroclinic_instability_periodic/low_Mach_gravity_comp/drhoY/drhoY_006_after_full_step.hdf\n",
      "../RKLM_Reference/output_baroclinic_instability_periodic/low_Mach_gravity_comp/p/p_006_after_full_step.hdf\n",
      "../RKLM_Reference/output_baroclinic_instability_periodic/low_Mach_gravity_comp/p2_c/p2_c_006_after_full_step.hdf\n",
      "../RKLM_Reference/output_baroclinic_instability_periodic/low_Mach_gravity_comp/p2_nodes/p2_n_006_after_full_step.hdf\n",
      "../RKLM_Reference/output_baroclinic_instability_periodic/low_Mach_gravity_comp/u/u_006_after_full_step.hdf\n",
      "../RKLM_Reference/output_baroclinic_instability_periodic/low_Mach_gravity_comp/v/v_006_after_full_step.hdf\n",
      "../RKLM_Reference/output_baroclinic_instability_periodic/low_Mach_gravity_comp/w/w_006_after_full_step.hdf\n",
      "../RKLM_Reference/output_baroclinic_instability_periodic/low_Mach_gravity_comp/vortz/vortz_006_after_full_step.hdf\n",
      "../RKLM_Reference/output_baroclinic_instability_periodic/low_Mach_gravity_comp/rhoY/rhoY_006_after_full_step.hdf\n",
      "../RKLM_Reference/output_baroclinic_instability_periodic/low_Mach_gravity_comp/rhoe/rhoe_006_after_full_step.hdf\n",
      "../RKLM_Reference/output_baroclinic_instability_periodic/low_Mach_gravity_comp/rhou/rhou_006_after_full_step.hdf\n",
      "../RKLM_Reference/output_baroclinic_instability_periodic/low_Mach_gravity_comp/rhov/rhov_006_after_full_step.hdf\n",
      "../RKLM_Reference/output_baroclinic_instability_periodic/low_Mach_gravity_comp/rhow/rhow_006_after_full_step.hdf\n",
      "../RKLM_Reference/output_baroclinic_instability_periodic/low_Mach_gravity_comp/rhs/rhs_006_after_full_step.hdf\n",
      "../RKLM_Reference/output_baroclinic_instability_periodic/low_Mach_gravity_comp/buoy/buoy_006_after_full_step.hdf\n"
     ]
    }
   ],
   "source": [
    "base_folder_name = \"../RKLM_Reference/output\"\n",
    "\n",
    "base_path = base_folder_name + base_suffix\n",
    "folder_comp = \"low_Mach_gravity_comp/\"\n",
    "folder_psinc = \"low_Mach_gravity_psinc/\"\n",
    "\n",
    "# Manually list the folder names for each odirectories += [utput\n",
    "directories = ['rho']\n",
    "directories += ['S']\n",
    "directories += ['T']\n",
    "directories += ['Y']\n",
    "directories += ['buoy']\n",
    "directories += ['dT'] \n",
    "directories += ['dY']\n",
    "directories += ['dp2_c']\n",
    "directories += ['dp2_nodes']\n",
    "directories += ['dpdim']\n",
    "directories += ['drhoY'] \n",
    "directories += ['p']\n",
    "directories += ['p2_c']\n",
    "directories += ['p2_nodes']\n",
    "directories += ['u']\n",
    "directories += ['v']\n",
    "directories += ['w']\n",
    "directories += ['vortz']\n",
    "directories += ['rhoY']\n",
    "directories += ['rhoe']\n",
    "directories += ['rhou']\n",
    "directories += ['rhov']\n",
    "directories += ['rhow']\n",
    "directories += ['rhs']\n",
    "directories += ['buoy']\n",
    "\n",
    "# And manually list the file names.\n",
    "filenames = ['rho']\n",
    "filenames += ['S'] \n",
    "filenames += ['T']\n",
    "filenames += ['Y']\n",
    "filenames += ['buoy']\n",
    "filenames += ['dT']\n",
    "filenames += ['dY']\n",
    "filenames += ['dp2_c']\n",
    "filenames += ['dp2_n']\n",
    "filenames += ['dpdim']\n",
    "filenames += ['drhoY'] \n",
    "filenames += ['p']\n",
    "filenames += ['p2_c']\n",
    "filenames += ['p2_n']\n",
    "filenames += ['u']\n",
    "filenames += ['v']\n",
    "filenames += ['w']\n",
    "filenames += ['vortz']\n",
    "filenames += ['rhoY']\n",
    "filenames += ['rhoe']\n",
    "filenames += ['rhou']\n",
    "filenames += ['rhov']\n",
    "filenames += ['rhow']\n",
    "filenames += ['rhs']\n",
    "filenames += ['buoy']\n",
    "\n",
    "converter_obj = converter.convert(base_path,folder_comp,time,t_label)\n",
    "converter_obj.convert_files(directories,filenames)"
   ]
  },
  {
   "cell_type": "code",
   "execution_count": 45,
   "metadata": {},
   "outputs": [],
   "source": [
    "# manually specific folder names\n",
    "test_cases_folders = ['p2_nodes']\n",
    "test_cases_folders += ['rho']\n",
    "test_cases_folders += ['rhoY']\n",
    "test_cases_folders += ['rhoe']\n",
    "test_cases_folders += ['rhou']\n",
    "test_cases_folders += ['rhov']\n",
    "test_cases_folders += ['rhow']\n",
    "test_cases_folders += ['u']\n",
    "test_cases_folders += ['v']\n",
    "test_cases_folders += ['vortz']\n",
    "test_cases_folders += ['dT'] \n",
    "test_cases_folders += ['Y']\n",
    "test_cases_folders += ['dY']\n",
    "# test_cases_folders += ['rhs']\n",
    "test_cases_folders += ['buoy']\n",
    "\n",
    "# and filenames\n",
    "test_cases_names = ['p2_n']\n",
    "test_cases_names += ['rho']\n",
    "test_cases_names += ['rhoY']\n",
    "test_cases_names += ['rhoe']\n",
    "test_cases_names += ['rhou']\n",
    "test_cases_names += ['rhov']\n",
    "test_cases_names += ['rhow']\n",
    "test_cases_names += ['u']\n",
    "test_cases_names += ['v']\n",
    "test_cases_names += ['vortz']\n",
    "test_cases_names += ['dT']\n",
    "test_cases_names += ['Y']\n",
    "test_cases_names += ['dY']\n",
    "# test_cases_names += ['rhs']\n",
    "test_cases_names += ['buoy']\n",
    "\n",
    "c = converter_obj.get_converted_files(test_cases_folders, test_cases_names)"
   ]
  },
  {
   "cell_type": "code",
   "execution_count": 46,
   "metadata": {},
   "outputs": [
    {
     "name": "stdout",
     "output_type": "stream",
     "text": [
      "<HDF5 dataset \"Data-Set-2\": shape (69, 37, 69), type \">f4\">\n"
     ]
    }
   ],
   "source": [
    "print(c.rho)"
   ]
  },
  {
   "cell_type": "code",
   "execution_count": null,
   "metadata": {},
   "outputs": [],
   "source": []
  }
 ],
 "metadata": {
  "kernelspec": {
   "display_name": "Python 3",
   "language": "python",
   "name": "python3"
  },
  "language_info": {
   "codemirror_mode": {
    "name": "ipython",
    "version": 3
   },
   "file_extension": ".py",
   "mimetype": "text/x-python",
   "name": "python",
   "nbconvert_exporter": "python",
   "pygments_lexer": "ipython3",
   "version": "3.7.3"
  }
 },
 "nbformat": 4,
 "nbformat_minor": 2
}
