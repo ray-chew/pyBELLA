{
 "cells": [
  {
   "cell_type": "code",
   "execution_count": 121,
   "metadata": {},
   "outputs": [],
   "source": [
    "import numpy as np\n",
    "import scipy.ndimage as sciim\n",
    "import h5py\n",
    "\n",
    "from importlib import reload\n",
    "import utils\n",
    "utils = reload(utils)\n",
    "\n",
    "import plotting_tools as pt\n",
    "pt = reload(pt)\n",
    "\n",
    "import matplotlib.pyplot as plt\n",
    "%matplotlib inline"
   ]
  },
  {
   "cell_type": "code",
   "execution_count": 163,
   "metadata": {
    "scrolled": false
   },
   "outputs": [],
   "source": [
    "base_fn = \"output_travelling_vortex\"\n",
    "directory = \"output_travelling_vortex\"\n",
    "py_directory = \"../%s/\" %directory\n",
    "\n",
    "Nx = 32\n",
    "Ny = 32\n",
    "et = 6.0\n",
    "N = 1\n",
    "\n",
    "time = 0.0\n",
    "# time1 = [0.0,0.25,0.50,0.75,1.0]\n",
    "time1 = np.arange(0.0,6.05,0.05)\n",
    "\n",
    "period = np.arange(0.0,1.05,0.05)\n",
    "\n",
    "# time1 = [0.0,0.0]\n",
    "attributes = ['rho','rhou','rhov','rhoY','p2_nodes']\n",
    "\n",
    "steps_c = np.arange(0.0,float(Nx)*et+.1,(float(Nx)-0.0)/(time1.shape[0]-1))\n",
    "steps_n = np.arange(0.0,(float(Nx)+1.0)*et+0.1,(float(Nx)+0.0)/(time1.shape[0]-1))\n",
    "\n",
    "steps_c = np.arange(0.0,float(Nx)*et+0.05,float(Nx)*0.05)\n",
    "steps_n = np.arange(0.0,float(Nx+1)*et+0.05,float(Nx+1)*0.05)\n",
    "\n",
    "tc = utils.test_case(base_fn,py_directory,Nx,Ny,et)\n",
    "fn = tc.get_filename(N,'comp_bal')\n",
    "path = tc.get_path(fn)\n",
    "\n",
    "debug = False\n",
    "\n",
    "for nn, stp in enumerate(steps_c):\n",
    "    for attribute in attributes:\n",
    "        if attribute == 'p2_nodes':\n",
    "            stp = steps_n[nn]\n",
    "            \n",
    "        comp0 = tc.get_arr(path, time, N, attribute, label_type='TIME', tag='after_full_step', inner=True, avg=False)\n",
    "        comp0 = comp0[0]\n",
    "        comp0 = np.pad(comp0,[0,1],mode='wrap')\n",
    "\n",
    "        comp1 = tc.get_arr(path, time1[nn], N, attribute, label_type='TIME', tag='after_full_step', inner=False, avg=False)\n",
    "        comp1 = comp1[0]\n",
    "\n",
    "        shifted = sciim.shift(comp0, stp, mode='wrap')\n",
    "        shifted = shifted[:-1,:-1]\n",
    "        shifted = np.pad(shifted,2,mode='wrap')\n",
    "\n",
    "        if debug == True:\n",
    "            if nn % 10 == 0:\n",
    "                diff = [shifted-comp1,\"diff, %.2f\" %time1[nn]]\n",
    "                shifted = [shifted,\"shifted\"]\n",
    "                comp1 = [comp1,\"comp1\"]\n",
    "\n",
    "                pl = pt.plotter([shifted,comp1,diff],ncols=3)\n",
    "                pl.plot(inner=True)\n",
    "        else:\n",
    "            file = h5py.File(\"output_travelling_vortex_ensemble=%i_%i_%i_%.1f_truthgen.h5\" %(N,Nx,Ny,et))\n",
    "            name = \"ensemble_mem=0_%.3f_after_full_step\" %time1[nn]\n",
    "            file.create_dataset(str(attribute) + '/' + str(attribute) + '_' + str(name), data=shifted, chunks=True, compression='gzip', compression_opts=4, dtype=np.float32)\n",
    "            file.close()"
   ]
  },
  {
   "cell_type": "code",
   "execution_count": null,
   "metadata": {},
   "outputs": [],
   "source": []
  },
  {
   "cell_type": "code",
   "execution_count": null,
   "metadata": {},
   "outputs": [],
   "source": []
  }
 ],
 "metadata": {
  "kernelspec": {
   "display_name": "Python 3",
   "language": "python",
   "name": "python3"
  },
  "language_info": {
   "codemirror_mode": {
    "name": "ipython",
    "version": 3
   },
   "file_extension": ".py",
   "mimetype": "text/x-python",
   "name": "python",
   "nbconvert_exporter": "python",
   "pygments_lexer": "ipython3",
   "version": "3.7.3"
  }
 },
 "nbformat": 4,
 "nbformat_minor": 2
}
