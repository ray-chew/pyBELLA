{
 "cells": [
  {
   "cell_type": "markdown",
   "metadata": {},
   "source": [
    "# Debugging:\n",
    "## This script imports C and Python HDF output for comparison"
   ]
  },
  {
   "cell_type": "code",
   "execution_count": 2436,
   "metadata": {
    "scrolled": true
   },
   "outputs": [],
   "source": [
    "import h5py\n",
    "import numpy as np\n",
    "import matplotlib.pyplot as plt\n",
    "import subprocess"
   ]
  },
  {
   "cell_type": "markdown",
   "metadata": {},
   "source": [
    "## Converter\n",
    "\n",
    "Converts all hdf4 output of RKLM C-code to hdf5."
   ]
  },
  {
   "cell_type": "code",
   "execution_count": 2437,
   "metadata": {
    "scrolled": true
   },
   "outputs": [
    {
     "name": "stdout",
     "output_type": "stream",
     "text": [
      "output_acoustic_wave_high/low_Mach_gravity_comp/S/S_004.hdf\n",
      "output_acoustic_wave_high/low_Mach_gravity_comp/T/T_004.hdf\n",
      "output_acoustic_wave_high/low_Mach_gravity_comp/Y/Y_004.hdf\n",
      "output_acoustic_wave_high/low_Mach_gravity_comp/buoy/buoy_004.hdf\n",
      "output_acoustic_wave_high/low_Mach_gravity_comp/dT/dT_004.hdf\n",
      "output_acoustic_wave_high/low_Mach_gravity_comp/dY/dY_004.hdf\n",
      "output_acoustic_wave_high/low_Mach_gravity_comp/dp2_c/dp2_c_004.hdf\n",
      "output_acoustic_wave_high/low_Mach_gravity_comp/dp2_nodes/dp2_n_004.hdf\n",
      "output_acoustic_wave_high/low_Mach_gravity_comp/dpdim/dpdim_004.hdf\n",
      "output_acoustic_wave_high/low_Mach_gravity_comp/drhoY/drhoY_004.hdf\n",
      "output_acoustic_wave_high/low_Mach_gravity_comp/p/p_004.hdf\n",
      "output_acoustic_wave_high/low_Mach_gravity_comp/p2_c/p2_c_004.hdf\n",
      "output_acoustic_wave_high/low_Mach_gravity_comp/p2_nodes/p2_n_004.hdf\n",
      "output_acoustic_wave_high/low_Mach_gravity_comp/rho/rho_004.hdf\n",
      "output_acoustic_wave_high/low_Mach_gravity_comp/rhoY/rhoY_004.hdf\n",
      "output_acoustic_wave_high/low_Mach_gravity_comp/rhoe/rhoe_004.hdf\n",
      "output_acoustic_wave_high/low_Mach_gravity_comp/u/u_004.hdf\n",
      "output_acoustic_wave_high/low_Mach_gravity_comp/v/v_004.hdf\n",
      "output_acoustic_wave_high/low_Mach_gravity_comp/vortz/vortz_004.hdf\n",
      "output_acoustic_wave_high/low_Mach_gravity_comp/w/w_004.hdf\n",
      "output_acoustic_wave_high/low_Mach_gravity_comp/rhou/rhou_004.hdf\n",
      "output_acoustic_wave_high/low_Mach_gravity_comp/rhov/rhov_004.hdf\n",
      "output_acoustic_wave_high/low_Mach_gravity_comp/rhow/rhow_004.hdf\n",
      "output_acoustic_wave_high/low_Mach_gravity_comp/rhs/rhs_004.hdf\n",
      "output_acoustic_wave_high/low_Mach_gravity_comp/flux_x/rhoYu_004.hdf\n",
      "output_acoustic_wave_high/low_Mach_gravity_comp/flux_y/rhoYv_004.hdf\n",
      "output_acoustic_wave_high/low_Mach_gravity_comp/wplusx/wplusx_004.hdf\n",
      "output_acoustic_wave_high/low_Mach_gravity_comp/wplusy/wplusy_004.hdf\n",
      "output_acoustic_wave_high/low_Mach_gravity_comp/hcenter/hcenter_004.hdf\n",
      "output_acoustic_wave_high/low_Mach_gravity_comp/pnew/p2_full_004.hdf\n",
      "output_acoustic_wave_high/low_Mach_gravity_comp/rhs_nodes/rhs_nodes_004.hdf\n"
     ]
    }
   ],
   "source": [
    "base_folder_name = \"output\"\n",
    "\n",
    "#####################################################\n",
    "#\n",
    "# C-output folder names\n",
    "#\n",
    "base_suffix = '_acoustic_wave_high/'\n",
    "# base_suffix = '_internal_long_wave/'\n",
    "# base_suffix = '_travelling_vortex_3d_48_no_initial_projection/'\n",
    "# base_suffix = '_travelling_vortex_3d_48_with_initial_projection/'\n",
    "#\n",
    "#####################################################\n",
    "\n",
    "base_path = base_folder_name + base_suffix\n",
    "folder_comp = \"low_Mach_gravity_comp/\"\n",
    "folder_psinc = \"low_Mach_gravity_psinc/\"\n",
    "\n",
    "# Manually list the folder names for each output\n",
    "directories = ['S', 'T', 'Y', 'buoy', 'dT', 'dY', 'dp2_c', 'dp2_nodes', 'dpdim', 'drhoY', 'p', 'p2_c', 'p2_nodes', 'rho', 'rhoY', 'rhoe', 'u', 'v', 'vortz', 'w']\n",
    "directories += ['rhou', 'rhov', 'rhow', 'rhs']\n",
    "directories += ['flux_x', 'flux_y']\n",
    "\n",
    "\n",
    "# And manually list the file names.\n",
    "filenames = ['S', 'T', 'Y', 'buoy', 'dT', 'dY', 'dp2_c', 'dp2_n', 'dpdim', 'drhoY', 'p', 'p2_c', 'p2_n', 'rho', 'rhoY', 'rhoe', 'u', 'v', 'vortz', 'w']\n",
    "filenames += ['rhou', 'rhov', 'rhow', 'rhs']\n",
    "filenames += ['rhoYu', 'rhoYv']\n",
    "\n",
    "directories += ['wplusx', 'wplusy', 'hcenter', 'pnew', 'rhs_nodes']\n",
    "filenames += ['wplusx', 'wplusy', 'hcenter', 'p2_full', 'rhs_nodes']\n",
    "\n",
    "# specify the format extensions for input and output of converter\n",
    "hdf_format = '.'+ 'hdf'\n",
    "h5_format = '.' + 'h5'\n",
    "\n",
    "# time-tag to convert.\n",
    "# time = '000' # initial condition and hplusx, hplusy, hcenter debug\n",
    "# time = '001' # before advect\n",
    "# time = '002' # after advect\n",
    "# time = '003' # after euler backward non-advective EXPL part\n",
    "time = '004' # after euler backward non-advective IMPL part\n",
    "# time = '005' # after half-step\n",
    "\n",
    "\n",
    "string_hdf = '_' + time + hdf_format\n",
    "string_h5 = '_' + time + h5_format\n",
    "full_path = base_path + folder_comp\n",
    "\n",
    "lst_hdf = []\n",
    "lst_h5 = []\n",
    "\n",
    "# build list of paths from parameters specified above.\n",
    "i = 0\n",
    "for directory in directories:\n",
    "    lst_hdf.append(full_path + directory + '/' + filenames[i] + string_hdf)\n",
    "    lst_h5.append(full_path + directory + '/' + filenames[i] + string_h5)\n",
    "    i += 1 \n",
    "\n",
    "# print the list of paths\n",
    "for path in lst_hdf:\n",
    "    print(path)\n",
    "\n",
    "# now, convert the arrays specified in the list of paths\n",
    "for item in lst_hdf:\n",
    "    p = subprocess.call([\"./h4toh5convert\", item])"
   ]
  },
  {
   "cell_type": "code",
   "execution_count": null,
   "metadata": {},
   "outputs": [],
   "source": []
  },
  {
   "cell_type": "code",
   "execution_count": null,
   "metadata": {},
   "outputs": [],
   "source": []
  },
  {
   "cell_type": "code",
   "execution_count": null,
   "metadata": {},
   "outputs": [],
   "source": []
  },
  {
   "cell_type": "markdown",
   "metadata": {},
   "source": [
    "## Import C hdf5 output\n",
    "\n",
    "Import the test case arrays from the c-output."
   ]
  },
  {
   "cell_type": "code",
   "execution_count": 2438,
   "metadata": {
    "scrolled": true
   },
   "outputs": [],
   "source": [
    "# manually specific folder names\n",
    "test_cases_folders = ['p2_c', 'dp2_nodes', 'p', 'p2_nodes', 'rho', 'rhoY', 'rhoe', 'rhou', 'rhov', 'rhow', 'u', 'vortz', 'dpdim', 'T', 'dT', 'Y', 'dY', 'dp2_c']\n",
    "# test_cases_folders += ['debug', 'debug', 'debug']\n",
    "\n",
    "test_cases_folders += ['rhs']\n",
    "\n",
    "# and filenames\n",
    "test_cases_names = ['p2_c', 'dp2_n', 'p', 'p2_n', 'rho', 'rhoY', 'rhoe', 'rhou', 'rhov', 'rhow', 'u', 'vortz', 'dpdim', 'T', 'dT', 'Y', 'dY', 'dp2_c']\n",
    "\n",
    "test_cases_names += ['rhs']\n",
    "\n",
    "# if time == '000':\n",
    "test_cases_folders += ['wplusx', 'wplusy', 'hcenter', 'pnew', 'rhs_nodes']\n",
    "test_cases_names += ['wplusx', 'wplusy', 'hcenter', 'p2_full', 'rhs_nodes']\n",
    "    \n",
    "test_cases_folders = np.char.array(test_cases_folders)\n",
    "test_cases_names = np.char.array(test_cases_names)\n",
    "    \n",
    "# build paths from folder names and filenames\n",
    "test_cases_paths = full_path + test_cases_folders + '/' + test_cases_names + string_h5\n",
    "\n",
    "# define empty class as a holder for all the C-hdf5 output.\n",
    "class c_output(object):\n",
    "    def __init__(self):\n",
    "        None\n",
    "        \n",
    "    def c_out(self):\n",
    "        for key,value in vars(self).items():\n",
    "            setattr(self,key,value['Data-Set-2'])"
   ]
  },
  {
   "cell_type": "markdown",
   "metadata": {},
   "source": [
    "## Import the Python output"
   ]
  },
  {
   "cell_type": "code",
   "execution_count": 2439,
   "metadata": {
    "scrolled": true
   },
   "outputs": [],
   "source": [
    "# specify directory where the python hdf5 output is.\n",
    "# py_directory = \"../RKLM_Python/\"\n",
    "py_directory = \"../\"\n",
    "\n",
    "#####################################################\n",
    "#\n",
    "# and its filename\n",
    "#\n",
    "py_filename = \"output_acoustic_wave_high_low_mach_gravity_comp.h5\"\n",
    "# py_filename = \"output_internal_long_wave_low_mach_gravity_comp.h5\"\n",
    "# py_filename = \"output_travelling_vortex_3d_48_low_mach_gravity_comp.h5\"\n",
    "#\n",
    "#####################################################\n",
    "\n",
    "py_path = py_directory + py_filename\n",
    "\n",
    "# helper function to extract array from hdf file by its name and timestep\n",
    "\n",
    "# label = '000'\n",
    "# label = 'before_advect'\n",
    "# label = 'after_advect'\n",
    "# label = 'after_ebnaexp'\n",
    "label = 'after_ebnaimp'\n",
    "# label = 'after_half_step'\n",
    "label = '_' + label\n",
    "def py_out(py_dataset,time=label):\n",
    "    return pyfile[str(py_dataset)][str(py_dataset)+time][:]"
   ]
  },
  {
   "cell_type": "code",
   "execution_count": null,
   "metadata": {},
   "outputs": [],
   "source": []
  },
  {
   "cell_type": "markdown",
   "metadata": {},
   "source": [
    "## Helper diagnostic functions"
   ]
  },
  {
   "cell_type": "code",
   "execution_count": 2440,
   "metadata": {
    "scrolled": true
   },
   "outputs": [],
   "source": [
    "# print an array\n",
    "def p(obj):\n",
    "    print(obj)\n",
    "    \n",
    "# visualise an array\n",
    "def v(obj):\n",
    "    plt.imshow(obj)\n",
    "    plt.colorbar()\n",
    "    plt.show()\n",
    "    \n",
    "# plot a slice of the array, default is x = 0 for all y (slice at origin)\n",
    "def s(obj,slc=(slice(None))):\n",
    "    plt.plot(obj['Data-Set-2'][slc])\n",
    "    plt.show()\n",
    "    \n",
    "# plot the difference between the C and Python outputs\n",
    "def diff(obj_c, obj_py, title):\n",
    "#     obj_c = obj_c[2:-2,2:-2]\n",
    "#     obj_c -= obj_c.mean()\n",
    "#     obj_py = obj_py[2:-2,2:-2]\n",
    "#     obj_py -= obj_py.mean()\n",
    "#     \n",
    "    c_range = np.max(obj_c) - np.min(obj_c)\n",
    "    py_range = np.max(obj_py) - np.min(obj_py)\n",
    "    max_norm = np.abs(obj_c - obj_py)\n",
    "    \n",
    "    max_diff = np.max(max_norm)\n",
    "    \n",
    "    fig, ax = plt.subplots(ncols=3, figsize=(12,3))\n",
    "    # plot c array\n",
    "    im_c = ax[0].imshow(obj_c, label=\"c\")\n",
    "    fig.colorbar(im_c,ax=ax[0])\n",
    "    ax[0].set_title(\"c\")\n",
    "    ax[0].set_aspect('auto')\n",
    "    \n",
    "    # plot python array\n",
    "    im_py = ax[1].imshow(obj_py, label=\"py\")\n",
    "    fig.colorbar(im_py,ax=ax[1])\n",
    "    ax[1].set_title(\"py\")\n",
    "    ax[1].set_aspect('auto')\n",
    "\n",
    "    # plot the difference between the two\n",
    "    im_diff = ax[2].imshow(max_norm, label=\"diff\")\n",
    "    fig.colorbar(im_diff,ax=ax[2])\n",
    "    ax[2].set_title(\"diff\")\n",
    "    ax[2].set_aspect('auto')\n",
    "    \n",
    "    # calculate the max difference relative to the C-output for non-zero values.\n",
    "    if c_range == 0.0:\n",
    "        rel_diff = 0.0\n",
    "    else:\n",
    "        rel_diff = max_diff/c_range\n",
    "        \n",
    "    print(\"comparison = %s,\\nc_range = %e, py_range = %e, \\nmax diff = %e, rel. diff = %e,\" %(title, c_range, py_range, max_diff, rel_diff))\n",
    "    plt.tight_layout(h_pad=1)\n",
    "    plt.show()\n",
    "    print(\"################################################## \\n\")"
   ]
  },
  {
   "cell_type": "code",
   "execution_count": 2441,
   "metadata": {},
   "outputs": [],
   "source": [
    "# get an instance of an empty class to populate it with the C-HDF output as attributes\n",
    "c = c_output()\n",
    "\n",
    "# populate the class with the C-HDF output as attributes\n",
    "i = 0\n",
    "for path in test_cases_paths:\n",
    "    setattr(c,test_cases_folders[i],h5py.File(path, 'r'))\n",
    "    i += 1\n",
    "    \n",
    "    \n",
    "# run the method to extract array from HDF objects\n",
    "c.c_out()"
   ]
  },
  {
   "cell_type": "code",
   "execution_count": 2442,
   "metadata": {},
   "outputs": [],
   "source": [
    "# # open the Python HDF file\n",
    "# pyfile = h5py.File(py_path, 'r')\n",
    "\n",
    "# # print(py_out('wplusx'))\n",
    "\n",
    "# # print(c.pnew[:])\n",
    "# # print(py_out('p2')[:])\n",
    "\n",
    "# # diff(c.wplusx,py_out('wplusx'),'wplusx')\n",
    "# # diff(c.wplusy,py_out('wplusy'),'wplusy')\n",
    "# # diff(c.hcenter,py_out('hcenter'),'hcenter')\n",
    "# # diff(c.pnew,py_out('p2'),'p2')\n",
    "# # diff(c.pnew,py_out('p2'),'p2')\n",
    "\n",
    "\n",
    "# # inner_domain = np.empty((2), dtype=object)\n",
    "# # inner_domain = (slice(2,50),slice(2,50))\n",
    "# # reshaper = c.wplusx[:].reshape(-1,)\n",
    "# # reshaper = reshaper[:53**2]\n",
    "# # reshaper = reshaper.reshape(53,53)\n",
    "# # inner_domain = (slice(None,), slice(None,))\n",
    "# # # print(c.wplusx[:][inner_domain].shape)\n",
    "# # # plt.imshow(c.wplusx[:][inner_domain])\n",
    "# # print(reshaper.shape)\n",
    "# # plt.imshow(reshaper)\n",
    "# # plt.colorbar()\n",
    "# # plt.show()\n",
    "\n",
    "# # plt.imshow(c.wplusy[:])\n",
    "# # plt.colorbar()\n",
    "# # plt.show()\n",
    "\n",
    "# # plt.imshow(py_out('wplusx'))\n",
    "# # plt.colorbar()\n",
    "# # plt.show()\n",
    "\n",
    "# plt.imshow(c.pnew[:])\n",
    "# plt.colorbar()\n",
    "# plt.show()\n",
    "\n",
    "# pyfile.close()"
   ]
  },
  {
   "cell_type": "code",
   "execution_count": 2443,
   "metadata": {},
   "outputs": [
    {
     "name": "stdout",
     "output_type": "stream",
     "text": [
      "<KeysViewHDF5 ['Lefts_rhou', 'S', 'T', 'Y', 'bouy', 'dT', 'dY', 'dp2_c', 'dp2_cells', 'dp2_nodes', 'dpdim', 'drhoY', 'hcenter', 'p', 'p2', 'p2_c', 'p2_cells', 'p2_full', 'p2_nodes', 'rho', 'rhoY', 'rhoYu', 'rhoYv', 'rhoe', 'rhou', 'rhov', 'rhow', 'rhs', 'rhs_nodes', 'u', 'v', 'vortz', 'w', 'wplusx', 'wplusy']>\n",
      "<KeysViewHDF5 ['rhou_000', 'rhou_after_advect', 'rhou_after_ebnaexp', 'rhou_after_ebnaimp', 'rhou_after_half_step', 'rhou_before_advect']>\n"
     ]
    }
   ],
   "source": [
    "pyfile = h5py.File(py_path, 'r')\n",
    "print(pyfile.keys())\n",
    "print(pyfile['rhou'].keys())\n",
    "pyfile.close()"
   ]
  },
  {
   "cell_type": "code",
   "execution_count": 2445,
   "metadata": {
    "scrolled": false
   },
   "outputs": [
    {
     "name": "stdout",
     "output_type": "stream",
     "text": [
      "comparison = hcenter,\n",
      "c_range = 8.841459e+03, py_range = 8.841459e+03, \n",
      "max diff = 0.000000e+00, rel. diff = 0.000000e+00,\n"
     ]
    },
    {
     "data": {
      "image/png": "[encoded data removed]",
      "text/plain": [
       "<Figure size 864x216 with 6 Axes>"
      ]
     },
     "metadata": {
      "needs_background": "light"
     },
     "output_type": "display_data"
    },
    {
     "name": "stdout",
     "output_type": "stream",
     "text": [
      "################################################## \n",
      "\n",
      "comparison = wplusx,\n",
      "c_range = 2.204054e+00, py_range = 2.205937e+00, \n",
      "max diff = 2.009794e+00, rel. diff = 9.118624e-01,\n"
     ]
    },
    {
     "data": {
      "image/png": "[encoded data removed]",
      "text/plain": [
       "<Figure size 864x216 with 6 Axes>"
      ]
     },
     "metadata": {
      "needs_background": "light"
     },
     "output_type": "display_data"
    },
    {
     "name": "stdout",
     "output_type": "stream",
     "text": [
      "################################################## \n",
      "\n",
      "comparison = wplusy,\n",
      "c_range = 2.204054e+00, py_range = 2.205937e+00, \n",
      "max diff = 2.009794e+00, rel. diff = 9.118624e-01,\n"
     ]
    },
    {
     "data": {
      "image/png": "[encoded data removed]",
      "text/plain": [
       "<Figure size 864x216 with 6 Axes>"
      ]
     },
     "metadata": {
      "needs_background": "light"
     },
     "output_type": "display_data"
    },
    {
     "name": "stdout",
     "output_type": "stream",
     "text": [
      "################################################## \n",
      "\n",
      "comparison = p2_full,\n",
      "c_range = 2.036571e+04, py_range = 2.036571e+04, \n",
      "max diff = 0.000000e+00, rel. diff = 0.000000e+00,\n"
     ]
    },
    {
     "data": {
      "image/png": "[encoded data removed]",
      "text/plain": [
       "<Figure size 864x216 with 6 Axes>"
      ]
     },
     "metadata": {
      "needs_background": "light"
     },
     "output_type": "display_data"
    },
    {
     "name": "stdout",
     "output_type": "stream",
     "text": [
      "################################################## \n",
      "\n",
      "comparison = rhs_nodes,\n",
      "c_range = 1.799947e+08, py_range = 1.799947e+08, \n",
      "max diff = 0.000000e+00, rel. diff = 0.000000e+00,\n"
     ]
    },
    {
     "data": {
      "image/png": "[encoded data removed]",
      "text/plain": [
       "<Figure size 864x216 with 6 Axes>"
      ]
     },
     "metadata": {
      "needs_background": "light"
     },
     "output_type": "display_data"
    },
    {
     "name": "stdout",
     "output_type": "stream",
     "text": [
      "################################################## \n",
      "\n",
      "comparison = rhou,\n",
      "c_range = 8.995923e+01, py_range = 8.915147e+01, \n",
      "max diff = 4.622993e-01, rel. diff = 5.138988e-03,\n"
     ]
    },
    {
     "data": {
      "image/png": "[encoded data removed]",
      "text/plain": [
       "<Figure size 864x216 with 6 Axes>"
      ]
     },
     "metadata": {
      "needs_background": "light"
     },
     "output_type": "display_data"
    },
    {
     "name": "stdout",
     "output_type": "stream",
     "text": [
      "################################################## \n",
      "\n",
      "comparison = rhov,\n",
      "c_range = 5.278778e-15, py_range = 0.000000e+00, \n",
      "max diff = 2.639389e-15, rel. diff = 5.000000e-01,\n"
     ]
    },
    {
     "data": {
      "image/png": "[encoded data removed]",
      "text/plain": [
       "<Figure size 864x216 with 6 Axes>"
      ]
     },
     "metadata": {
      "needs_background": "light"
     },
     "output_type": "display_data"
    },
    {
     "name": "stdout",
     "output_type": "stream",
     "text": [
      "################################################## \n",
      "\n"
     ]
    }
   ],
   "source": [
    "# open the Python HDF file\n",
    "pyfile = h5py.File(py_path, 'r')\n",
    "\n",
    "# make comparisons for the arrays.\n",
    "# Arguments: C-array (class attribute), Python-array (numpy array), and a title.\n",
    "# PPP = np.copy(py_out('dp2_nodes'))\n",
    "# PPP[:,-4:-2] = py_out('dp2_nodes')[:,2:4][::-1]\n",
    "\n",
    "# diff(c.pnew, PPP, 'dp2_nodes')\n",
    "\n",
    "diff(c.hcenter, py_out('hcenter'), 'hcenter')\n",
    "diff(c.wplusx, py_out('wplusx'), 'wplusx')\n",
    "diff(c.wplusy, py_out('wplusy'), 'wplusy')\n",
    "diff(c.pnew, py_out('p2_full'), 'p2_full')\n",
    "diff(c.rhs_nodes, py_out('rhs_nodes'), 'rhs_nodes')\n",
    "\n",
    "# diff(c.pnew,py_out('dp2_nodes'),'dp2_nodes')\n",
    "# diff(c.rhs, py_out('rhs'), 'rhs')\n",
    "# diff(c.p2_nodes,py_out('p2_nodes'),'p2_nodes')\n",
    "# diff(c.dp2_c,py_out('dp2_cells'),'dp2_cells')\n",
    "# diff(c.p2_c,py_out('p2_cells'),'p2_cells')\n",
    "\n",
    "# diff(c.rho,py_out('rho'),'rho')\n",
    "# diff(c.rhoe,py_out('rhoe'),'rhoe')\n",
    "# diff(c.rhoY,py_out('rhoY'),'rhoY')\n",
    "\n",
    "diff(c.rhou,py_out('rhou'),'rhou')\n",
    "# print(np.argmax(np.abs(c.rhou - py_out('rhou'))))\n",
    "diff(c.rhov,py_out('rhov'),'rhov')\n",
    "# diff(c.rhow,py_out('rhow'),'rhow')\n",
    "\n",
    "# diff(c.u, py_out('u'), 'u')\n",
    "# diff(c.p, py_out('p'), 'p')\n",
    "# diff(c.dpdim, py_out('dpdim'), 'dpdim')\n",
    "# diff(c.vortz, py_out('vortz'), 'vortz')\n",
    "\n",
    "# diff(c.T, py_out('T'), 'T')\n",
    "# diff(c.dT, py_out('dT'), 'dT')\n",
    "\n",
    "# diff(c.Y, py_out('Y'), 'Y')\n",
    "# diff(c.dY, py_out('dY'), 'dY')\n",
    "\n",
    "# print(c.hcenter[:][2:-2,2:-2])\n",
    "# print(py_out('hcenter')[2:-2,2:-2])\n",
    "pyfile.close()"
   ]
  },
  {
   "cell_type": "code",
   "execution_count": null,
   "metadata": {},
   "outputs": [],
   "source": []
  },
  {
   "cell_type": "code",
   "execution_count": null,
   "metadata": {},
   "outputs": [],
   "source": []
  },
  {
   "cell_type": "code",
   "execution_count": 2426,
   "metadata": {},
   "outputs": [
    {
     "ename": "OSError",
     "evalue": "Unable to open file (unable to open file: name = 'output_acoustic_wave_high/low_Mach_gravity_comp/debug/Lefts_003.h5', errno = 2, error message = 'No such file or directory', flags = 0, o_flags = 0)",
     "output_type": "error",
     "traceback": [
      "\u001b[0;31m---------------------------------------------------------------------------\u001b[0m",
      "\u001b[0;31mOSError\u001b[0m                                   Traceback (most recent call last)",
      "\u001b[0;32m<ipython-input-2426-01c2235380cd>\u001b[0m in \u001b[0;36m<module>\u001b[0;34m\u001b[0m\n\u001b[1;32m     11\u001b[0m \u001b[0;34m\u001b[0m\u001b[0m\n\u001b[1;32m     12\u001b[0m \u001b[0;34m\u001b[0m\u001b[0m\n\u001b[0;32m---> 13\u001b[0;31m \u001b[0mLefts_rhou\u001b[0m \u001b[0;34m=\u001b[0m \u001b[0mh5py\u001b[0m\u001b[0;34m.\u001b[0m\u001b[0mFile\u001b[0m\u001b[0;34m(\u001b[0m\u001b[0mitem_h5\u001b[0m\u001b[0;34m,\u001b[0m \u001b[0;34m'r'\u001b[0m\u001b[0;34m)\u001b[0m\u001b[0;34m\u001b[0m\u001b[0;34m\u001b[0m\u001b[0m\n\u001b[0m\u001b[1;32m     14\u001b[0m \u001b[0mLefts_rhou\u001b[0m \u001b[0;34m=\u001b[0m \u001b[0mLefts_rhou\u001b[0m\u001b[0;34m[\u001b[0m\u001b[0;34m'Data-Set-2'\u001b[0m\u001b[0;34m]\u001b[0m\u001b[0;34m[\u001b[0m\u001b[0;34m:\u001b[0m\u001b[0;34m]\u001b[0m\u001b[0;34m\u001b[0m\u001b[0;34m\u001b[0m\u001b[0m\n\u001b[1;32m     15\u001b[0m \u001b[0;34m\u001b[0m\u001b[0m\n",
      "\u001b[0;32m~/anaconda3/lib/python3.7/site-packages/h5py/_hl/files.py\u001b[0m in \u001b[0;36m__init__\u001b[0;34m(self, name, mode, driver, libver, userblock_size, swmr, rdcc_nslots, rdcc_nbytes, rdcc_w0, track_order, **kwds)\u001b[0m\n\u001b[1;32m    392\u001b[0m                 fid = make_fid(name, mode, userblock_size,\n\u001b[1;32m    393\u001b[0m                                \u001b[0mfapl\u001b[0m\u001b[0;34m,\u001b[0m \u001b[0mfcpl\u001b[0m\u001b[0;34m=\u001b[0m\u001b[0mmake_fcpl\u001b[0m\u001b[0;34m(\u001b[0m\u001b[0mtrack_order\u001b[0m\u001b[0;34m=\u001b[0m\u001b[0mtrack_order\u001b[0m\u001b[0;34m)\u001b[0m\u001b[0;34m,\u001b[0m\u001b[0;34m\u001b[0m\u001b[0;34m\u001b[0m\u001b[0m\n\u001b[0;32m--> 394\u001b[0;31m                                swmr=swmr)\n\u001b[0m\u001b[1;32m    395\u001b[0m \u001b[0;34m\u001b[0m\u001b[0m\n\u001b[1;32m    396\u001b[0m             \u001b[0;32mif\u001b[0m \u001b[0mswmr_support\u001b[0m\u001b[0;34m:\u001b[0m\u001b[0;34m\u001b[0m\u001b[0;34m\u001b[0m\u001b[0m\n",
      "\u001b[0;32m~/anaconda3/lib/python3.7/site-packages/h5py/_hl/files.py\u001b[0m in \u001b[0;36mmake_fid\u001b[0;34m(name, mode, userblock_size, fapl, fcpl, swmr)\u001b[0m\n\u001b[1;32m    168\u001b[0m         \u001b[0;32mif\u001b[0m \u001b[0mswmr\u001b[0m \u001b[0;32mand\u001b[0m \u001b[0mswmr_support\u001b[0m\u001b[0;34m:\u001b[0m\u001b[0;34m\u001b[0m\u001b[0;34m\u001b[0m\u001b[0m\n\u001b[1;32m    169\u001b[0m             \u001b[0mflags\u001b[0m \u001b[0;34m|=\u001b[0m \u001b[0mh5f\u001b[0m\u001b[0;34m.\u001b[0m\u001b[0mACC_SWMR_READ\u001b[0m\u001b[0;34m\u001b[0m\u001b[0;34m\u001b[0m\u001b[0m\n\u001b[0;32m--> 170\u001b[0;31m         \u001b[0mfid\u001b[0m \u001b[0;34m=\u001b[0m \u001b[0mh5f\u001b[0m\u001b[0;34m.\u001b[0m\u001b[0mopen\u001b[0m\u001b[0;34m(\u001b[0m\u001b[0mname\u001b[0m\u001b[0;34m,\u001b[0m \u001b[0mflags\u001b[0m\u001b[0;34m,\u001b[0m \u001b[0mfapl\u001b[0m\u001b[0;34m=\u001b[0m\u001b[0mfapl\u001b[0m\u001b[0;34m)\u001b[0m\u001b[0;34m\u001b[0m\u001b[0;34m\u001b[0m\u001b[0m\n\u001b[0m\u001b[1;32m    171\u001b[0m     \u001b[0;32melif\u001b[0m \u001b[0mmode\u001b[0m \u001b[0;34m==\u001b[0m \u001b[0;34m'r+'\u001b[0m\u001b[0;34m:\u001b[0m\u001b[0;34m\u001b[0m\u001b[0;34m\u001b[0m\u001b[0m\n\u001b[1;32m    172\u001b[0m         \u001b[0mfid\u001b[0m \u001b[0;34m=\u001b[0m \u001b[0mh5f\u001b[0m\u001b[0;34m.\u001b[0m\u001b[0mopen\u001b[0m\u001b[0;34m(\u001b[0m\u001b[0mname\u001b[0m\u001b[0;34m,\u001b[0m \u001b[0mh5f\u001b[0m\u001b[0;34m.\u001b[0m\u001b[0mACC_RDWR\u001b[0m\u001b[0;34m,\u001b[0m \u001b[0mfapl\u001b[0m\u001b[0;34m=\u001b[0m\u001b[0mfapl\u001b[0m\u001b[0;34m)\u001b[0m\u001b[0;34m\u001b[0m\u001b[0;34m\u001b[0m\u001b[0m\n",
      "\u001b[0;32mh5py/_objects.pyx\u001b[0m in \u001b[0;36mh5py._objects.with_phil.wrapper\u001b[0;34m()\u001b[0m\n",
      "\u001b[0;32mh5py/_objects.pyx\u001b[0m in \u001b[0;36mh5py._objects.with_phil.wrapper\u001b[0;34m()\u001b[0m\n",
      "\u001b[0;32mh5py/h5f.pyx\u001b[0m in \u001b[0;36mh5py.h5f.open\u001b[0;34m()\u001b[0m\n",
      "\u001b[0;31mOSError\u001b[0m: Unable to open file (unable to open file: name = 'output_acoustic_wave_high/low_Mach_gravity_comp/debug/Lefts_003.h5', errno = 2, error message = 'No such file or directory', flags = 0, o_flags = 0)"
     ]
    }
   ],
   "source": [
    "directory = 'debug'\n",
    "filename = 'Lefts'\n",
    "time = '_003'\n",
    "string_hdf = time + '.hdf'\n",
    "string_h5 = time + '.h5'\n",
    "item = full_path + directory + '/' + filename + string_hdf\n",
    "\n",
    "\n",
    "subprocess.call([\"./h4toh5convert\", item])\n",
    "item_h5 = full_path + directory + '/' + filename + string_h5\n",
    "\n",
    "\n",
    "Lefts_rhou = h5py.File(item_h5, 'r')\n",
    "Lefts_rhou = Lefts_rhou['Data-Set-2'][:]\n",
    "\n",
    "label0 = '_003'\n",
    "def py_out0(py_dataset,time=label0):\n",
    "    return pyfile[str(py_dataset)][str(py_dataset)+time][:]\n",
    "\n",
    "pyfile = h5py.File(py_path, 'r')\n",
    "p_Lefts_rhou = py_out0('Lefts_rhou')\n",
    "pyfile.close()\n",
    "\n",
    "plt.figure(figsize = (10,8))\n",
    "plt.imshow(Lefts_rhou)\n",
    "plt.show()\n",
    "plt.imshow(p_Lefts_rhou)\n",
    "plt.show()\n",
    "plt.imshow(np.abs(Lefts_rhou - p_Lefts_rhou.T))\n",
    "\n",
    "pyfile.close()"
   ]
  },
  {
   "cell_type": "code",
   "execution_count": null,
   "metadata": {},
   "outputs": [],
   "source": [
    "# directory = 'flux_x'\n",
    "# filename = 'rhoY'\n",
    "# time = '_000'\n",
    "# string_hdf = time + '.hdf'\n",
    "# string_h5 = time + '.h5'\n",
    "# item = full_path + directory + '/' + filename + string_hdf\n",
    "\n",
    "\n",
    "# subprocess.call([\"./h4toh5convert\", item])\n",
    "# item_h5 = full_path + directory + '/' + filename + string_h5\n",
    "\n",
    "# Sol_rhoY = h5py.File(item_h5, 'r')\n",
    "# Sol_rhoY = Sol_rhoY['Data-Set-2'][:]\n",
    "\n",
    "# directory = 'flux_x'\n",
    "# filename = 'rhou'\n",
    "# time = '_000'\n",
    "# string_hdf = time + '.hdf'\n",
    "# string_h5 = time + '.h5'\n",
    "# item = full_path + directory + '/' + filename + string_hdf\n",
    "\n",
    "\n",
    "# subprocess.call([\"./h4toh5convert\", item])\n",
    "# item_h5 = full_path + directory + '/' + filename + string_h5\n",
    "\n",
    "# Sol_rhou = h5py.File(item_h5, 'r')\n",
    "# Sol_rhou = Sol_rhou['Data-Set-2'][:]\n",
    "\n",
    "# directory = 'flux_x'\n",
    "# filename = 'rho'\n",
    "# time = '_000'\n",
    "# string_hdf = time + '.hdf'\n",
    "# string_h5 = time + '.h5'\n",
    "# item = full_path + directory + '/' + filename + string_hdf\n",
    "\n",
    "\n",
    "# subprocess.call([\"./h4toh5convert\", item])\n",
    "# item_h5 = full_path + directory + '/' + filename + string_h5\n",
    "\n",
    "# Sol_rho = h5py.File(item_h5, 'r')\n",
    "# Sol_rho = Sol_rho['Data-Set-2'][:]\n",
    "\n",
    "\n",
    "# directory = 'rhoY'\n",
    "# filename = 'rhoY'\n",
    "# time = '_000'\n",
    "# string_hdf = time + '.hdf'\n",
    "# string_h5 = time + '.h5'\n",
    "# item = full_path + directory + '/' + filename + string_hdf\n",
    "\n",
    "# subprocess.call([\"./h4toh5convert\", item])\n",
    "# item_h5 = full_path + directory + '/' + filename + string_h5\n",
    "\n",
    "# Sol_rhoYY = h5py.File(item_h5, 'r')\n",
    "# Sol_rhoYY = Sol_rhoYY['Data-Set-2'][:]\n",
    "\n",
    "# pyfile = h5py.File(py_path, 'r')\n",
    "# p_rhoY = py_out('rhoY')\n",
    "# pyfile.close()\n",
    "\n",
    "# pyfile = h5py.File(py_path, 'r')\n",
    "# p_rhou = py_out('rhou')\n",
    "# pyfile.close()\n",
    "\n",
    "# pyfile = h5py.File(py_path, 'r')\n",
    "# p_rho = py_out('rho')\n",
    "# pyfile.close()\n",
    "\n",
    "# plt.imshow(Sol_rhoY[1:-1,1:-1])\n",
    "# plt.show()\n",
    "# plt.imshow(Sol_rhoYY[1:-1,1:-1])\n",
    "# plt.show()\n",
    "# plt.imshow(p_rhoY[1:-1,1:-1])\n",
    "# plt.show()\n",
    "\n",
    "# plt.imshow(Sol_rhou[1:-1,1:-1])\n",
    "# plt.show()\n",
    "# plt.imshow(p_rhou[1:-1,1:-1])\n",
    "# plt.show()\n",
    "\n",
    "# plt.imshow(Sol_rho[1:-1,1:-1])\n",
    "# plt.show()\n",
    "# plt.imshow(p_rho[1:-1,1:-1])\n",
    "# plt.show()\n",
    "\n",
    "\n",
    "# plt.imshow(Sol_rhoY - p_rhoY)\n",
    "# plt.show()\n",
    "# plt.imshow(Sol_rhou - p_rhou)\n",
    "# plt.colorbar()\n",
    "# plt.show()\n",
    "# plt.imshow(Sol_rho - p_rho)\n",
    "# plt.show()"
   ]
  },
  {
   "cell_type": "code",
   "execution_count": null,
   "metadata": {
    "scrolled": false
   },
   "outputs": [],
   "source": [
    "directory = 'flux_x'\n",
    "filename = 'rhoYu'\n",
    "time = '_000'\n",
    "string_hdf = time + '.hdf'\n",
    "string_h5 = time + '.h5'\n",
    "item = full_path + directory + '/' + filename + string_hdf\n",
    "\n",
    "\n",
    "subprocess.call([\"./h4toh5convert\", item])\n",
    "item_h5 = full_path + directory + '/' + filename + string_h5\n",
    "\n",
    "array = h5py.File(item_h5, 'r')\n",
    "array = array['Data-Set-2'][:]\n",
    "\n",
    "plt.imshow(array)\n",
    "plt.colorbar()\n",
    "plt.show()\n",
    "print(array.shape)\n",
    "print(array.max(), array.min())\n",
    "print(np.argmax(array.flatten()))\n",
    "\n",
    "pyfile = h5py.File(py_path, 'r')\n",
    "\n",
    "p_array = py_out('rhoYu','_000')\n",
    "\n",
    "plt.imshow(p_array)\n",
    "plt.colorbar()\n",
    "plt.show()\n",
    "print(p_array.T.shape)\n",
    "print(p_array.max(), p_array.min())\n",
    "print(np.argmax(p_array))\n",
    "\n",
    "plt.imshow(np.abs(array - p_array.T))\n",
    "print(\"argmax diff = \", np.argmax(np.abs(array - p_array.T)))\n",
    "print(\"max diff = \", np.max(np.abs(array - p_array.T)))\n",
    "plt.colorbar()\n",
    "plt.show()\n",
    "\n",
    "\n",
    "# print(array[2])\n",
    "# print(p_array.T[2])\n",
    "\n",
    "print(array[-2])\n",
    "print(p_array.T[-2])\n",
    "\n",
    "directory = 'flux_y'\n",
    "filename = 'rhoYv'\n",
    "time = '_000'\n",
    "string_hdf = time + '.hdf'\n",
    "string_h5 = time + '.h5'\n",
    "item = full_path + directory + '/' + filename + string_hdf\n",
    "\n",
    "\n",
    "subprocess.call([\"./h4toh5convert\", item])\n",
    "item_h5 = full_path + directory + '/' + filename + string_h5\n",
    "\n",
    "array = h5py.File(item_h5, 'r')\n",
    "array = array['Data-Set-2'][:]\n",
    "\n",
    "plt.imshow(array)\n",
    "plt.colorbar()\n",
    "plt.show()\n",
    "print(array.max())\n",
    "\n",
    "p_array = py_out('rhoYv','_000')\n",
    "\n",
    "plt.imshow(p_array)\n",
    "plt.colorbar()\n",
    "plt.show()\n",
    "print(p_array.max())\n",
    "print(p_array.shape)\n",
    "\n",
    "plt.imshow(np.abs(array - p_array.T))\n",
    "plt.colorbar()\n",
    "plt.show()\n",
    "\n",
    "print(\"argmax diff = \", np.argmax(np.abs(array - p_array.T)))\n",
    "print(\"max diff = \", np.max(np.abs(array - p_array.T)))\n",
    "\n",
    "pyfile.close()"
   ]
  },
  {
   "cell_type": "code",
   "execution_count": null,
   "metadata": {
    "scrolled": false
   },
   "outputs": [],
   "source": [
    "pyfile.close()"
   ]
  },
  {
   "cell_type": "code",
   "execution_count": null,
   "metadata": {
    "scrolled": true
   },
   "outputs": [],
   "source": [
    "for i in range(2,3):\n",
    "    print(i)\n",
    "    \n",
    "(-0.06056165571350958)**0.5"
   ]
  },
  {
   "cell_type": "code",
   "execution_count": null,
   "metadata": {},
   "outputs": [],
   "source": [
    "AA = np.zeros((5,5))\n",
    "print(AA)\n",
    "print(np.all(AA))"
   ]
  },
  {
   "cell_type": "code",
   "execution_count": null,
   "metadata": {
    "scrolled": true
   },
   "outputs": [],
   "source": [
    "rhoYu_cm =  0.9999511114038965\n",
    "rhoYu_mm =  1.0003473979573558\n",
    "rhoYu_cc =  0.9999842804036515\n",
    "rhoYu_mc =  1.000166296189299\n",
    "rhoYu_cp =  1.000010487506917\n",
    "rhoYu_mp =  0.9999252581338697\n",
    "\n",
    "rhoYu_m = 0.5*(rhoYu_cm+rhoYu_mm)\n",
    "rhoYu_c = 0.5*(rhoYu_cc+rhoYu_mc)\n",
    "rhoYu_p = 0.5*(rhoYu_cp+rhoYu_mp)\n",
    "\n",
    "ans = 0.25*(rhoYu_m + 2.0*rhoYu_c + rhoYu_p)\n",
    "print(ans)\n",
    "\n",
    "print(1.000066911014053 - ans)"
   ]
  },
  {
   "cell_type": "code",
   "execution_count": null,
   "metadata": {},
   "outputs": [],
   "source": [
    "rhoYu_cm = 1.0001662778213436\n",
    "rhoYu_mm = 1.0008170447231102\n",
    "rhoYu_cc = 0.99992526849323593\n",
    "rhoYu_mc = 0.99961879109867247\n",
    "rhoYu_cp = 0.999712348255824\n",
    "rhoYu_mp = 0.99851134117611362\n",
    "\n",
    "rhoYu_m = 0.5*(rhoYu_cm+rhoYu_mm)\n",
    "rhoYu_c = 0.5*(rhoYu_cc+rhoYu_mc)\n",
    "rhoYu_p = 0.5*(rhoYu_cp+rhoYu_mp)\n",
    "\n",
    "ans = 0.25*(rhoYu_m + 2.0*rhoYu_c + rhoYu_p)\n",
    "print(ans)"
   ]
  },
  {
   "cell_type": "code",
   "execution_count": null,
   "metadata": {},
   "outputs": [],
   "source": []
  }
 ],
 "metadata": {
  "kernelspec": {
   "display_name": "Python 3",
   "language": "python",
   "name": "python3"
  },
  "language_info": {
   "codemirror_mode": {
    "name": "ipython",
    "version": 3
   },
   "file_extension": ".py",
   "mimetype": "text/x-python",
   "name": "python",
   "nbconvert_exporter": "python",
   "pygments_lexer": "ipython3",
   "version": "3.7.3"
  }
 },
 "nbformat": 4,
 "nbformat_minor": 2
}
