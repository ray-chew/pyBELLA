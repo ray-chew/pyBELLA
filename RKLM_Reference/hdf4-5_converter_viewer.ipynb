{
 "cells": [
  {
   "cell_type": "markdown",
   "metadata": {},
   "source": [
    "# Debugging:\n",
    "## This script imports C and Python HDF output for comparison"
   ]
  },
  {
   "cell_type": "code",
   "execution_count": 2,
   "metadata": {},
   "outputs": [],
   "source": [
    "import h5py\n",
    "import numpy as np\n",
    "import matplotlib.pyplot as plt\n",
    "import subprocess"
   ]
  },
  {
   "cell_type": "markdown",
   "metadata": {},
   "source": [
    "Convert all hdf4 output of RKLM C-code to hdf5."
   ]
  },
  {
   "cell_type": "code",
   "execution_count": 161,
   "metadata": {},
   "outputs": [],
   "source": [
    "base_folder_name = \"output\"\n",
    "base_suffix = '_acoustic_wave_high/'\n",
    "base_path = base_folder_name + base_suffix\n",
    "folder_comp = \"low_Mach_gravity_comp/\"\n",
    "folder_psinc = \"low_Mach_gravity_psinc/\"\n",
    "\n",
    "directories = ['S', 'T', 'Y', 'buoy', 'dT', 'dY', 'dp2_c', 'dp2_nodes', 'dpdim', 'drhoY', 'p', 'p2_c', 'p2_nodes', 'rho', 'rhoY', 'rhoe', 'u', 'v', 'vortz', 'w']\n",
    "directories += ['rhou', 'rhov', 'rhow']\n",
    "filenames = ['S', 'T', 'Y', 'buoy', 'dT', 'dY', 'dp2_c', 'dp2_n', 'dpdim', 'drhoY', 'p', 'p2_c', 'p2_n', 'rho', 'rhoY', 'rhoe', 'u', 'v', 'vortz', 'w']\n",
    "filenames += ['rhou', 'rhov', 'rhow']\n",
    "hdf_format = '.'+ 'hdf'\n",
    "h5_format = '.' + 'h5'\n",
    "time = '000'\n",
    "string_hdf = '_' + time + hdf_format\n",
    "string_h5 = '_' + time + h5_format\n",
    "\n",
    "full_path = base_path + folder_comp\n",
    "\n",
    "lst_hdf = []\n",
    "lst_h5 = []\n",
    "\n",
    "i = 0\n",
    "for directory in directories:\n",
    "    lst_hdf.append(full_path + directory + '/' + filenames[i] + string_hdf)\n",
    "    lst_h5.append(full_path + directory + '/' + filenames[i] + string_h5)\n",
    "    i += 1 \n",
    "\n",
    "for item in lst_hdf:\n",
    "    p = subprocess.call([\"./h4toh5convert\", item])\n",
    "\n",
    "\n",
    "# hf = h5py.File(lst_h5[2], 'r')\n",
    "# print(list(hf.keys()))\n",
    "# dd = hf['Data-Set-2']\n",
    "# print(dd)"
   ]
  },
  {
   "cell_type": "markdown",
   "metadata": {},
   "source": [
    "Import the test case arrays from the c-output."
   ]
  },
  {
   "cell_type": "code",
   "execution_count": 164,
   "metadata": {},
   "outputs": [
    {
     "name": "stdout",
     "output_type": "stream",
     "text": [
      "{'p2_c': <HDF5 file \"p2_c_000.h5\" (mode r)>, 'dp2_nodes': <HDF5 file \"dp2_n_000.h5\" (mode r)>, 'p': <HDF5 file \"p_000.h5\" (mode r)>, 'p2_nodes': <HDF5 file \"p2_n_000.h5\" (mode r)>, 'rho': <HDF5 file \"rho_000.h5\" (mode r)>, 'rhoY': <HDF5 file \"rhoY_000.h5\" (mode r)>, 'rhoe': <HDF5 file \"rhoe_000.h5\" (mode r)>, 'rhou': <HDF5 file \"rhou_000.h5\" (mode r)>, 'u': <HDF5 file \"u_000.h5\" (mode r)>}\n"
     ]
    }
   ],
   "source": [
    "test_cases_folders = ['p2_c', 'dp2_nodes', 'p', 'p2_nodes', 'rho', 'rhoY', 'rhoe', 'rhou', 'rhov', 'rhow', 'u']\n",
    "test_cases_folders = np.char.array(test_cases_folders)\n",
    "\n",
    "test_cases_names = ['p2_c', 'dp2_n', 'p', 'p2_n', 'rho', 'rhoY', 'rhoe', 'rhou', 'rhov', 'rhow', 'u']\n",
    "test_cases_names = np.char.array(test_cases_names)\n",
    "\n",
    "test_cases_paths = full_path + test_cases_folders + '/' + test_cases_names + string_h5\n",
    "\n",
    "class c_output(object):\n",
    "    def __init__(self):\n",
    "        None\n",
    "    \n",
    "print(vars(c))"
   ]
  },
  {
   "cell_type": "markdown",
   "metadata": {},
   "source": [
    "Import the python output."
   ]
  },
  {
   "cell_type": "code",
   "execution_count": 151,
   "metadata": {},
   "outputs": [],
   "source": [
    "py_directory = \"../RKLM_Python/\"\n",
    "py_filename = \"output_low_mach_gravity_comp.h5\"\n",
    "py_path = py_directory + py_filename\n",
    "\n",
    "def py_out(py_dataset):\n",
    "    return pyfile[str(py_dataset)][str(py_dataset)+'_000'][:]"
   ]
  },
  {
   "cell_type": "code",
   "execution_count": 149,
   "metadata": {},
   "outputs": [],
   "source": [
    "def p(obj):\n",
    "    print(obj['Data-Set-2'][:])\n",
    "    \n",
    "def v(obj):\n",
    "    plt.imshow(obj['Data-Set-2'][:])\n",
    "    plt.colorbar()\n",
    "    plt.show()\n",
    "    \n",
    "def s(obj):\n",
    "    plt.plot(obj['Data-Set-2'][:,0])\n",
    "    plt.show()\n",
    "    \n",
    "def diff(obj_c,obj_py, title):\n",
    "    obj_c = obj_c['Data-Set-2'][:]\n",
    "    c_range = np.max(obj_c) - np.min(obj_c)\n",
    "    py_range = np.max(obj_py) - np.min(obj_py)\n",
    "    max_norm = np.abs(obj_c - obj_py)\n",
    "    \n",
    "    f, ax = plt.subplots(1,3)\n",
    "    im_c = ax[0].imshow(obj_c, label=\"c\")\n",
    "    ax[0].set_title(\"c\")\n",
    "    plt.colorbar(im_c,ax=ax[0])\n",
    "    \n",
    "    im_py = ax[1].imshow(obj_py, label=\"py\")\n",
    "    ax[1].set_title(\"py\")\n",
    "    plt.colorbar(im_py,ax=ax[1])\n",
    "    \n",
    "    im_diff = ax[2].imshow(max_norm, label=\"diff\")\n",
    "    ax[2].set_title(\"diff\")\n",
    "    plt.colorbar(im_diff,ax=ax[2])\n",
    "#     plt.colorbar()\n",
    "    print(\"comparison = %s,\\nc_range = %e, py_range = %e \\nmax diff = %e\" %(title, c_range, py_range, np.max(max_norm)))\n",
    "\n",
    "    plt.show()"
   ]
  },
  {
   "cell_type": "code",
   "execution_count": 170,
   "metadata": {
    "scrolled": false
   },
   "outputs": [
    {
     "name": "stdout",
     "output_type": "stream",
     "text": [
      "comparison = p2_nodes,\n",
      "c_range = 2.026500e+04, py_range = 2.502229e+03 \n",
      "max diff = 1.238142e+04\n"
     ]
    },
    {
     "data": {
      "image/png": "[encoded data removed]",
      "text/plain": [
       "<Figure size 432x288 with 6 Axes>"
      ]
     },
     "metadata": {
      "needs_background": "light"
     },
     "output_type": "display_data"
    }
   ],
   "source": [
    "c = c_output()\n",
    "\n",
    "i = 0\n",
    "for path in test_cases_paths:\n",
    "    setattr(c,test_cases_folders[i],h5py.File(path, 'r'))\n",
    "    i += 1\n",
    "\n",
    "pyfile = h5py.File(py_path, 'r')\n",
    "\n",
    "\n",
    "# diff(c.dp2_nodes,py_out('dp2_nodes'),'dp2_nodes')\n",
    "diff(c.p2_nodes,py_out('p2_nodes'),'p2_nodes')\n",
    "# diff(c.p2_c,py_out('p2_cells'),'p2_cells')\n",
    "\n",
    "# diff(c.rho,py_out('rho'),'rho')\n",
    "# diff(c.rhoe,py_out('rhoe'),'rhoe')\n",
    "# diff(c.rhoY,py_out('rhoY'),'rhoY')\n",
    "\n",
    "# diff(c.rhou,py_out('rhou'),'rhou')\n",
    "# diff(c.rhov,py_out('rhov'),'rhov')\n",
    "# diff(c.rhow,py_out('rhow'),'rhow')\n",
    "\n",
    "# diff(c.u, py_out('u'), 'u')\n",
    "# diff(c.p, py_out('p'), 'p')\n",
    "\n",
    "pyfile.close()"
   ]
  },
  {
   "cell_type": "code",
   "execution_count": null,
   "metadata": {},
   "outputs": [],
   "source": []
  }
 ],
 "metadata": {
  "kernelspec": {
   "display_name": "Python 3",
   "language": "python",
   "name": "python3"
  },
  "language_info": {
   "codemirror_mode": {
    "name": "ipython",
    "version": 3
   },
   "file_extension": ".py",
   "mimetype": "text/x-python",
   "name": "python",
   "nbconvert_exporter": "python",
   "pygments_lexer": "ipython3",
   "version": "3.7.1"
  }
 },
 "nbformat": 4,
 "nbformat_minor": 2
}
