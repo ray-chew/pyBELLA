{
 "cells": [
  {
   "cell_type": "markdown",
   "metadata": {},
   "source": [
    "# Debugging:\n",
    "## This script imports C and Python HDF output for comparison"
   ]
  },
  {
   "cell_type": "code",
   "execution_count": 2747,
   "metadata": {
    "scrolled": true
   },
   "outputs": [],
   "source": [
    "import h5py\n",
    "import numpy as np\n",
    "import matplotlib.pyplot as plt\n",
    "import subprocess"
   ]
  },
  {
   "cell_type": "markdown",
   "metadata": {},
   "source": [
    "# Labels and timestamps"
   ]
  },
  {
   "cell_type": "code",
   "execution_count": 2748,
   "metadata": {},
   "outputs": [],
   "source": [
    "#####################################################\n",
    "#\n",
    "# C time tags. time-tag to convert.\n",
    "#\n",
    "# time = '000' # initial condition\n",
    "time = '001' # before advect\n",
    "# time = '002' # after advect\n",
    "# time = '003' # after euler backward non-advective EXPL part\n",
    "# time = '004' # after euler backward non-advective IMPL part and hcenter, wplusx, wplusy debug\n",
    "# time = '005' # after half-step\n",
    "# time = '006' # after euler-forward non-advective\n",
    "time = '007' # after full-step\n",
    "#\n",
    "#####################################################\n",
    "\n",
    "#####################################################\n",
    "#\n",
    "# Python time labels\n",
    "#\n",
    "# label = '000'\n",
    "# label = 'before_advect'\n",
    "# label = 'after_advect'\n",
    "# label = 'after_ebnaexp'\n",
    "# label = 'after_ebnaimp'\n",
    "# label = 'after_half_step'\n",
    "# label = 'after_efna'\n",
    "label = 'after_full_step'\n",
    "#\n",
    "#####################################################\n",
    "\n",
    "#####################################################\n",
    "#\n",
    "# C-output folder names\n",
    "#\n",
    "base_suffix = '_acoustic_wave_high/'\n",
    "# base_suffix = '_internal_long_wave/'\n",
    "# base_suffix = '_travelling_vortex_3d_48_no_initial_projection/'\n",
    "# base_suffix = '_travelling_vortex_3d_48_with_initial_projection/'\n",
    "#\n",
    "#####################################################\n",
    "\n",
    "#####################################################\n",
    "#\n",
    "# and its filename\n",
    "#\n",
    "py_filename = \"output_acoustic_wave_high_low_mach_gravity_comp.h5\"\n",
    "# py_filename = \"output_internal_long_wave_low_mach_gravity_comp.h5\"\n",
    "# py_filename = \"output_travelling_vortex_3d_48_low_mach_gravity_comp.h5\"\n",
    "#\n",
    "#####################################################"
   ]
  },
  {
   "cell_type": "markdown",
   "metadata": {},
   "source": [
    "## Converter\n",
    "\n",
    "Converts all hdf4 output of RKLM C-code to hdf5."
   ]
  },
  {
   "cell_type": "code",
   "execution_count": 2749,
   "metadata": {
    "scrolled": true
   },
   "outputs": [
    {
     "name": "stdout",
     "output_type": "stream",
     "text": [
      "output_acoustic_wave_high/low_Mach_gravity_comp/S/S_007.hdf\n",
      "output_acoustic_wave_high/low_Mach_gravity_comp/T/T_007.hdf\n",
      "output_acoustic_wave_high/low_Mach_gravity_comp/Y/Y_007.hdf\n",
      "output_acoustic_wave_high/low_Mach_gravity_comp/buoy/buoy_007.hdf\n",
      "output_acoustic_wave_high/low_Mach_gravity_comp/dT/dT_007.hdf\n",
      "output_acoustic_wave_high/low_Mach_gravity_comp/dY/dY_007.hdf\n",
      "output_acoustic_wave_high/low_Mach_gravity_comp/dp2_c/dp2_c_007.hdf\n",
      "output_acoustic_wave_high/low_Mach_gravity_comp/dp2_nodes/dp2_n_007.hdf\n",
      "output_acoustic_wave_high/low_Mach_gravity_comp/dpdim/dpdim_007.hdf\n",
      "output_acoustic_wave_high/low_Mach_gravity_comp/drhoY/drhoY_007.hdf\n",
      "output_acoustic_wave_high/low_Mach_gravity_comp/p/p_007.hdf\n",
      "output_acoustic_wave_high/low_Mach_gravity_comp/p2_c/p2_c_007.hdf\n",
      "output_acoustic_wave_high/low_Mach_gravity_comp/p2_nodes/p2_n_007.hdf\n",
      "output_acoustic_wave_high/low_Mach_gravity_comp/rho/rho_007.hdf\n",
      "output_acoustic_wave_high/low_Mach_gravity_comp/rhoY/rhoY_007.hdf\n",
      "output_acoustic_wave_high/low_Mach_gravity_comp/rhoe/rhoe_007.hdf\n",
      "output_acoustic_wave_high/low_Mach_gravity_comp/u/u_007.hdf\n",
      "output_acoustic_wave_high/low_Mach_gravity_comp/v/v_007.hdf\n",
      "output_acoustic_wave_high/low_Mach_gravity_comp/vortz/vortz_007.hdf\n",
      "output_acoustic_wave_high/low_Mach_gravity_comp/w/w_007.hdf\n",
      "output_acoustic_wave_high/low_Mach_gravity_comp/rhou/rhou_007.hdf\n",
      "output_acoustic_wave_high/low_Mach_gravity_comp/rhov/rhov_007.hdf\n",
      "output_acoustic_wave_high/low_Mach_gravity_comp/rhow/rhow_007.hdf\n",
      "output_acoustic_wave_high/low_Mach_gravity_comp/rhs/rhs_007.hdf\n"
     ]
    }
   ],
   "source": [
    "base_folder_name = \"output\"\n",
    "\n",
    "base_path = base_folder_name + base_suffix\n",
    "folder_comp = \"low_Mach_gravity_comp/\"\n",
    "folder_psinc = \"low_Mach_gravity_psinc/\"\n",
    "\n",
    "# Manually list the folder names for each output\n",
    "directories = ['S', 'T', 'Y', 'buoy', 'dT', 'dY', 'dp2_c', 'dp2_nodes', 'dpdim', 'drhoY', 'p', 'p2_c', 'p2_nodes', 'rho', 'rhoY', 'rhoe', 'u', 'v', 'vortz', 'w']\n",
    "directories += ['rhou', 'rhov', 'rhow', 'rhs']\n",
    "\n",
    "# And manually list the file names.\n",
    "filenames = ['S', 'T', 'Y', 'buoy', 'dT', 'dY', 'dp2_c', 'dp2_n', 'dpdim', 'drhoY', 'p', 'p2_c', 'p2_n', 'rho', 'rhoY', 'rhoe', 'u', 'v', 'vortz', 'w']\n",
    "filenames += ['rhou', 'rhov', 'rhow', 'rhs']\n",
    "\n",
    "# specify the format extensions for input and output of converter\n",
    "hdf_format = '.'+ 'hdf'\n",
    "h5_format = '.' + 'h5'\n",
    "\n",
    "if time == '001':\n",
    "    directories += ['flux_x', 'flux_y']\n",
    "    filenames += ['rhoYu', 'rhoYv']\n",
    "\n",
    "if time == '004':\n",
    "    directories += ['wplusx', 'wplusy', 'hcenter', 'pnew', 'rhs_nodes']\n",
    "    filenames += ['wplusx', 'wplusy', 'hcenter', 'p2_full', 'rhs_nodes']\n",
    "\n",
    "string_hdf = '_' + time + hdf_format\n",
    "string_h5 = '_' + time + h5_format\n",
    "full_path = base_path + folder_comp\n",
    "\n",
    "lst_hdf = []\n",
    "lst_h5 = []\n",
    "\n",
    "# build list of paths from parameters specified above.\n",
    "i = 0\n",
    "for directory in directories:\n",
    "    lst_hdf.append(full_path + directory + '/' + filenames[i] + string_hdf)\n",
    "    lst_h5.append(full_path + directory + '/' + filenames[i] + string_h5)\n",
    "    i += 1 \n",
    "\n",
    "# print the list of paths\n",
    "for path in lst_hdf:\n",
    "    print(path)\n",
    "\n",
    "# now, convert the arrays specified in the list of paths\n",
    "for item in lst_hdf:\n",
    "    p = subprocess.call([\"./h4toh5convert\", item])"
   ]
  },
  {
   "cell_type": "code",
   "execution_count": null,
   "metadata": {},
   "outputs": [],
   "source": []
  },
  {
   "cell_type": "code",
   "execution_count": null,
   "metadata": {},
   "outputs": [],
   "source": []
  },
  {
   "cell_type": "code",
   "execution_count": null,
   "metadata": {},
   "outputs": [],
   "source": []
  },
  {
   "cell_type": "markdown",
   "metadata": {},
   "source": [
    "## Import C hdf5 output\n",
    "\n",
    "Import the test case arrays from the c-output."
   ]
  },
  {
   "cell_type": "code",
   "execution_count": 2750,
   "metadata": {
    "scrolled": true
   },
   "outputs": [],
   "source": [
    "# manually specific folder names\n",
    "test_cases_folders = ['p2_c', 'dp2_nodes', 'p', 'p2_nodes', 'rho', 'rhoY', 'rhoe', 'rhou', 'rhov', 'rhow', 'u', 'vortz', 'dpdim', 'T', 'dT', 'Y', 'dY', 'dp2_c']\n",
    "# test_cases_folders += ['debug', 'debug', 'debug']\n",
    "\n",
    "test_cases_folders += ['rhs']\n",
    "\n",
    "# and filenames\n",
    "test_cases_names = ['p2_c', 'dp2_n', 'p', 'p2_n', 'rho', 'rhoY', 'rhoe', 'rhou', 'rhov', 'rhow', 'u', 'vortz', 'dpdim', 'T', 'dT', 'Y', 'dY', 'dp2_c']\n",
    "\n",
    "test_cases_names += ['rhs']\n",
    "\n",
    "if time == '001':\n",
    "    test_cases_folders += ['flux_x','flux_y']\n",
    "    test_cases_names += ['rhoYu', 'rhoYv']\n",
    "\n",
    "if time == '004':\n",
    "    test_cases_folders += ['wplusx', 'wplusy', 'hcenter', 'pnew', 'rhs_nodes']\n",
    "    test_cases_names += ['wplusx', 'wplusy', 'hcenter', 'p2_full', 'rhs_nodes']\n",
    "    \n",
    "test_cases_folders = np.char.array(test_cases_folders)\n",
    "test_cases_names = np.char.array(test_cases_names)\n",
    "    \n",
    "# build paths from folder names and filenames\n",
    "test_cases_paths = full_path + test_cases_folders + '/' + test_cases_names + string_h5\n",
    "\n",
    "# define empty class as a holder for all the C-hdf5 output.\n",
    "class c_output(object):\n",
    "    def __init__(self):\n",
    "        None\n",
    "        \n",
    "    def c_out(self):\n",
    "        for key,value in vars(self).items():\n",
    "            setattr(self,key,value['Data-Set-2'])"
   ]
  },
  {
   "cell_type": "markdown",
   "metadata": {},
   "source": [
    "## Import the Python output"
   ]
  },
  {
   "cell_type": "code",
   "execution_count": 2751,
   "metadata": {
    "scrolled": true
   },
   "outputs": [],
   "source": [
    "# specify directory where the python hdf5 output is.\n",
    "# py_directory = \"../RKLM_Python/\"\n",
    "py_directory = \"../\"\n",
    "\n",
    "py_path = py_directory + py_filename\n",
    "\n",
    "# helper function to extract array from hdf file by its name and timestep\n",
    "\n",
    "label = '_' + label\n",
    "def py_out(py_dataset,time=label):\n",
    "    return pyfile[str(py_dataset)][str(py_dataset)+time][:]"
   ]
  },
  {
   "cell_type": "code",
   "execution_count": null,
   "metadata": {},
   "outputs": [],
   "source": []
  },
  {
   "cell_type": "markdown",
   "metadata": {},
   "source": [
    "## Helper diagnostic functions"
   ]
  },
  {
   "cell_type": "code",
   "execution_count": 2752,
   "metadata": {
    "scrolled": true
   },
   "outputs": [],
   "source": [
    "# print an array\n",
    "def p(obj):\n",
    "    print(obj)\n",
    "    \n",
    "# visualise an array\n",
    "def v(obj):\n",
    "    plt.imshow(obj)\n",
    "    plt.colorbar()\n",
    "    plt.show()\n",
    "    \n",
    "# plot a slice of the array, default is x = 0 for all y (slice at origin)\n",
    "def s(obj,slc=(slice(None))):\n",
    "    plt.plot(obj['Data-Set-2'][slc])\n",
    "    plt.show()\n",
    "    \n",
    "# plot the difference between the C and Python outputs\n",
    "def diff(obj_c, obj_py, title):\n",
    "#     obj_c = obj_c[2:-2,2:-2]\n",
    "#     obj_c -= obj_c.mean()\n",
    "#     obj_py = obj_py[2:-2,2:-2]\n",
    "#     obj_py -= obj_py.mean()\n",
    "#     \n",
    "    c_range = np.max(obj_c) - np.min(obj_c)\n",
    "    py_range = np.max(obj_py) - np.min(obj_py)\n",
    "    max_norm = np.abs(obj_c - obj_py)\n",
    "    \n",
    "    max_diff = np.max(max_norm)\n",
    "    \n",
    "    fig, ax = plt.subplots(ncols=3, figsize=(12,3))\n",
    "    # plot c array\n",
    "    im_c = ax[0].imshow(obj_c, label=\"c\")\n",
    "    fig.colorbar(im_c,ax=ax[0])\n",
    "    ax[0].set_title(\"c\")\n",
    "    ax[0].set_aspect('auto')\n",
    "    \n",
    "    # plot python array\n",
    "    im_py = ax[1].imshow(obj_py, label=\"py\")\n",
    "    fig.colorbar(im_py,ax=ax[1])\n",
    "    ax[1].set_title(\"py\")\n",
    "    ax[1].set_aspect('auto')\n",
    "\n",
    "    # plot the difference between the two\n",
    "    im_diff = ax[2].imshow(max_norm, label=\"diff\")\n",
    "    fig.colorbar(im_diff,ax=ax[2])\n",
    "    ax[2].set_title(\"diff\")\n",
    "    ax[2].set_aspect('auto')\n",
    "    \n",
    "    # calculate the max difference relative to the C-output for non-zero values.\n",
    "    if c_range == 0.0:\n",
    "        rel_diff = 0.0\n",
    "    else:\n",
    "        rel_diff = max_diff/c_range\n",
    "        \n",
    "    print(\"comparison = %s,\\nc_range = %e, py_range = %e, \\nmax diff = %e, rel. diff = %e,\" %(title, c_range, py_range, max_diff, rel_diff))\n",
    "    plt.tight_layout(h_pad=1)\n",
    "    plt.show()\n",
    "    print(\"################################################## \\n\")"
   ]
  },
  {
   "cell_type": "code",
   "execution_count": 2753,
   "metadata": {},
   "outputs": [],
   "source": [
    "# get an instance of an empty class to populate it with the C-HDF output as attributes\n",
    "c = c_output()\n",
    "\n",
    "# populate the class with the C-HDF output as attributes\n",
    "i = 0\n",
    "for path in test_cases_paths:\n",
    "    setattr(c,test_cases_folders[i],h5py.File(path, 'r'))\n",
    "    i += 1\n",
    "    \n",
    "    \n",
    "# run the method to extract array from HDF objects\n",
    "c.c_out()"
   ]
  },
  {
   "cell_type": "code",
   "execution_count": 2754,
   "metadata": {},
   "outputs": [],
   "source": [
    "# # open the Python HDF file\n",
    "# pyfile = h5py.File(py_path, 'r')\n",
    "\n",
    "# # print(py_out('wplusx'))\n",
    "\n",
    "# # print(c.pnew[:])\n",
    "# # print(py_out('p2')[:])\n",
    "\n",
    "# # diff(c.wplusx,py_out('wplusx'),'wplusx')\n",
    "# # diff(c.wplusy,py_out('wplusy'),'wplusy')\n",
    "# # diff(c.hcenter,py_out('hcenter'),'hcenter')\n",
    "# # diff(c.pnew,py_out('p2'),'p2')\n",
    "# # diff(c.pnew,py_out('p2'),'p2')\n",
    "\n",
    "\n",
    "# # inner_domain = np.empty((2), dtype=object)\n",
    "# # inner_domain = (slice(2,50),slice(2,50))\n",
    "# # reshaper = c.wplusx[:].reshape(-1,)\n",
    "# # reshaper = reshaper[:53**2]\n",
    "# # reshaper = reshaper.reshape(53,53)\n",
    "# # inner_domain = (slice(None,), slice(None,))\n",
    "# # # print(c.wplusx[:][inner_domain].shape)\n",
    "# # # plt.imshow(c.wplusx[:][inner_domain])\n",
    "# # print(reshaper.shape)\n",
    "# # plt.imshow(reshaper)\n",
    "# # plt.colorbar()\n",
    "# # plt.show()\n",
    "\n",
    "# # plt.imshow(c.wplusy[:])\n",
    "# # plt.colorbar()\n",
    "# # plt.show()\n",
    "\n",
    "# # plt.imshow(py_out('wplusx'))\n",
    "# # plt.colorbar()\n",
    "# # plt.show()\n",
    "\n",
    "# plt.imshow(c.pnew[:])\n",
    "# plt.colorbar()\n",
    "# plt.show()\n",
    "\n",
    "# pyfile.close()"
   ]
  },
  {
   "cell_type": "code",
   "execution_count": 2755,
   "metadata": {
    "scrolled": false
   },
   "outputs": [
    {
     "name": "stdout",
     "output_type": "stream",
     "text": [
      "comparison = p2_nodes,\n",
      "c_range = 2.026816e+04, py_range = 2.081172e+04, \n",
      "max diff = 1.100647e+03, rel. diff = 5.430423e-02,\n"
     ]
    },
    {
     "data": {
      "image/png": "[encoded data removed]",
      "text/plain": [
       "<Figure size 864x216 with 6 Axes>"
      ]
     },
     "metadata": {
      "needs_background": "light"
     },
     "output_type": "display_data"
    },
    {
     "name": "stdout",
     "output_type": "stream",
     "text": [
      "################################################## \n",
      "\n",
      "comparison = rho,\n",
      "c_range = 2.000434e-01, py_range = 2.056968e-01, \n",
      "max diff = 2.604091e-02, rel. diff = 1.301763e-01,\n"
     ]
    },
    {
     "data": {
      "image/png": "[encoded data removed]",
      "text/plain": [
       "<Figure size 864x216 with 6 Axes>"
      ]
     },
     "metadata": {
      "needs_background": "light"
     },
     "output_type": "display_data"
    },
    {
     "name": "stdout",
     "output_type": "stream",
     "text": [
      "################################################## \n",
      "\n",
      "comparison = rhou,\n",
      "c_range = 9.036651e+01, py_range = 1.028707e+02, \n",
      "max diff = 1.974688e+01, rel. diff = 2.185199e-01,\n"
     ]
    },
    {
     "data": {
      "image/png": "[encoded data removed]",
      "text/plain": [
       "<Figure size 864x216 with 6 Axes>"
      ]
     },
     "metadata": {
      "needs_background": "light"
     },
     "output_type": "display_data"
    },
    {
     "name": "stdout",
     "output_type": "stream",
     "text": [
      "################################################## \n",
      "\n",
      "comparison = rhov,\n",
      "c_range = 8.011169e-15, py_range = 8.668619e-01, \n",
      "max diff = 4.590547e-01, rel. diff = 5.730183e+13,\n"
     ]
    },
    {
     "data": {
      "image/png": "[encoded data removed]",
      "text/plain": [
       "<Figure size 864x216 with 6 Axes>"
      ]
     },
     "metadata": {
      "needs_background": "light"
     },
     "output_type": "display_data"
    },
    {
     "name": "stdout",
     "output_type": "stream",
     "text": [
      "################################################## \n",
      "\n"
     ]
    }
   ],
   "source": [
    "# open the Python HDF file\n",
    "pyfile = h5py.File(py_path, 'r')\n",
    "\n",
    "# make comparisons for the arrays.\n",
    "# Arguments: C-array (class attribute), Python-array (numpy array), and a title.\n",
    "# PPP = np.copy(py_out('dp2_nodes'))\n",
    "# PPP[:,-4:-2] = py_out('dp2_nodes')[:,2:4][::-1]\n",
    "\n",
    "# diff(c.pnew, PPP, 'dp2_nodes')\n",
    "\n",
    "if time == '004':\n",
    "    diff(c.hcenter, py_out('hcenter'), 'hcenter')\n",
    "    diff(c.wplusx, py_out('wplusx'), 'wplusx')\n",
    "    diff(c.wplusy, py_out('wplusy'), 'wplusy')\n",
    "    diff(c.pnew, py_out('p2_full'), 'p2_full')\n",
    "    diff(c.rhs_nodes, py_out('rhs_nodes'), 'rhs_nodes')\n",
    "    \n",
    "if time == '001':\n",
    "    diff(c.flux_x, py_out('rhoYu').T, 'rhoYu')\n",
    "    diff(c.flux_y, py_out('rhoYv').T, 'rhoYv')\n",
    "\n",
    "# diff(c.pnew,py_out('dp2_nodes'),'dp2_nodes')\n",
    "# diff(c.rhs, py_out('rhs'), 'rhs')\n",
    "diff(c.p2_nodes,py_out('p2_nodes'),'p2_nodes')\n",
    "# diff(c.dp2_c,py_out('dp2_cells'),'dp2_cells')\n",
    "# diff(c.p2_c,py_out('p2_cells'),'p2_cells')\n",
    "\n",
    "diff(c.rho,py_out('rho'),'rho')\n",
    "# diff(c.rhoe,py_out('rhoe'),'rhoe')\n",
    "# diff(c.rhoY,py_out('rhoY'),'rhoY')\n",
    "\n",
    "diff(c.rhou,py_out('rhou'),'rhou')\n",
    "# print(np.argmax(np.abs(c.rhou - py_out('rhou'))))\n",
    "diff(c.rhov,py_out('rhov'),'rhov')\n",
    "# diff(c.rhow,py_out('rhow'),'rhow')\n",
    "\n",
    "# diff(c.u, py_out('u'), 'u')\n",
    "# diff(c.p, py_out('p'), 'p')\n",
    "# diff(c.dpdim, py_out('dpdim'), 'dpdim')\n",
    "# diff(c.vortz, py_out('vortz'), 'vortz')\n",
    "\n",
    "# diff(c.T, py_out('T'), 'T')\n",
    "# diff(c.dT, py_out('dT'), 'dT')\n",
    "\n",
    "# diff(c.Y, py_out('Y'), 'Y')\n",
    "# diff(c.dY, py_out('dY'), 'dY')\n",
    "\n",
    "# print(c.hcenter[:][2:-2,2:-2])\n",
    "# print(py_out('hcenter')[2:-2,2:-2])\n",
    "pyfile.close()"
   ]
  },
  {
   "cell_type": "code",
   "execution_count": null,
   "metadata": {},
   "outputs": [],
   "source": []
  },
  {
   "cell_type": "code",
   "execution_count": null,
   "metadata": {},
   "outputs": [],
   "source": []
  },
  {
   "cell_type": "code",
   "execution_count": 2756,
   "metadata": {},
   "outputs": [],
   "source": [
    "# directory = 'debug'\n",
    "# filename = 'Lefts'\n",
    "# time = '_003'\n",
    "# string_hdf = time + '.hdf'\n",
    "# string_h5 = time + '.h5'\n",
    "# item = full_path + directory + '/' + filename + string_hdf\n",
    "\n",
    "\n",
    "# subprocess.call([\"./h4toh5convert\", item])\n",
    "# item_h5 = full_path + directory + '/' + filename + string_h5\n",
    "\n",
    "\n",
    "# Lefts_rhou = h5py.File(item_h5, 'r')\n",
    "# Lefts_rhou = Lefts_rhou['Data-Set-2'][:]\n",
    "\n",
    "# label0 = '_003'\n",
    "# def py_out0(py_dataset,time=label0):\n",
    "#     return pyfile[str(py_dataset)][str(py_dataset)+time][:]\n",
    "\n",
    "# pyfile = h5py.File(py_path, 'r')\n",
    "# p_Lefts_rhou = py_out0('Lefts_rhou')\n",
    "# pyfile.close()\n",
    "# # \n",
    "# plt.figure(figsize = (10,8))\n",
    "# plt.imshow(Lefts_rhou)\n",
    "# plt.show()\n",
    "# plt.imshow(p_Lefts_rhou)\n",
    "# plt.show()\n",
    "# plt.imshow(np.abs(Lefts_rhou - p_Lefts_rhou.T))\n",
    "\n",
    "# pyfile.close()"
   ]
  },
  {
   "cell_type": "code",
   "execution_count": 2757,
   "metadata": {},
   "outputs": [],
   "source": [
    "# directory = 'flux_x'\n",
    "# filename = 'rhoY'\n",
    "# time = '_000'\n",
    "# string_hdf = time + '.hdf'\n",
    "# string_h5 = time + '.h5'\n",
    "# item = full_path + directory + '/' + filename + string_hdf\n",
    "\n",
    "\n",
    "# subprocess.call([\"./h4toh5convert\", item])\n",
    "# item_h5 = full_path + directory + '/' + filename + string_h5\n",
    "\n",
    "# Sol_rhoY = h5py.File(item_h5, 'r')\n",
    "# Sol_rhoY = Sol_rhoY['Data-Set-2'][:]\n",
    "\n",
    "# directory = 'flux_x'\n",
    "# filename = 'rhou'\n",
    "# time = '_000'\n",
    "# string_hdf = time + '.hdf'\n",
    "# string_h5 = time + '.h5'\n",
    "# item = full_path + directory + '/' + filename + string_hdf\n",
    "\n",
    "\n",
    "# subprocess.call([\"./h4toh5convert\", item])\n",
    "# item_h5 = full_path + directory + '/' + filename + string_h5\n",
    "\n",
    "# Sol_rhou = h5py.File(item_h5, 'r')\n",
    "# Sol_rhou = Sol_rhou['Data-Set-2'][:]\n",
    "\n",
    "# directory = 'flux_x'\n",
    "# filename = 'rho'\n",
    "# time = '_000'\n",
    "# string_hdf = time + '.hdf'\n",
    "# string_h5 = time + '.h5'\n",
    "# item = full_path + directory + '/' + filename + string_hdf\n",
    "\n",
    "\n",
    "# subprocess.call([\"./h4toh5convert\", item])\n",
    "# item_h5 = full_path + directory + '/' + filename + string_h5\n",
    "\n",
    "# Sol_rho = h5py.File(item_h5, 'r')\n",
    "# Sol_rho = Sol_rho['Data-Set-2'][:]\n",
    "\n",
    "\n",
    "# directory = 'rhoY'\n",
    "# filename = 'rhoY'\n",
    "# time = '_000'\n",
    "# string_hdf = time + '.hdf'\n",
    "# string_h5 = time + '.h5'\n",
    "# item = full_path + directory + '/' + filename + string_hdf\n",
    "\n",
    "# subprocess.call([\"./h4toh5convert\", item])\n",
    "# item_h5 = full_path + directory + '/' + filename + string_h5\n",
    "\n",
    "# Sol_rhoYY = h5py.File(item_h5, 'r')\n",
    "# Sol_rhoYY = Sol_rhoYY['Data-Set-2'][:]\n",
    "\n",
    "# pyfile = h5py.File(py_path, 'r')\n",
    "# p_rhoY = py_out('rhoY')\n",
    "# pyfile.close()\n",
    "\n",
    "# pyfile = h5py.File(py_path, 'r')\n",
    "# p_rhou = py_out('rhou')\n",
    "# pyfile.close()\n",
    "\n",
    "# pyfile = h5py.File(py_path, 'r')\n",
    "# p_rho = py_out('rho')\n",
    "# pyfile.close()\n",
    "\n",
    "# plt.imshow(Sol_rhoY[1:-1,1:-1])\n",
    "# plt.show()\n",
    "# plt.imshow(Sol_rhoYY[1:-1,1:-1])\n",
    "# plt.show()\n",
    "# plt.imshow(p_rhoY[1:-1,1:-1])\n",
    "# plt.show()\n",
    "\n",
    "# plt.imshow(Sol_rhou[1:-1,1:-1])\n",
    "# plt.show()\n",
    "# plt.imshow(p_rhou[1:-1,1:-1])\n",
    "# plt.show()\n",
    "\n",
    "# plt.imshow(Sol_rho[1:-1,1:-1])\n",
    "# plt.show()\n",
    "# plt.imshow(p_rho[1:-1,1:-1])\n",
    "# plt.show()\n",
    "\n",
    "\n",
    "# plt.imshow(Sol_rhoY - p_rhoY)\n",
    "# plt.show()\n",
    "# plt.imshow(Sol_rhou - p_rhou)\n",
    "# plt.colorbar()\n",
    "# plt.show()\n",
    "# plt.imshow(Sol_rho - p_rho)\n",
    "# plt.show()"
   ]
  },
  {
   "cell_type": "code",
   "execution_count": 2758,
   "metadata": {
    "scrolled": false
   },
   "outputs": [],
   "source": [
    "# directory = 'flux_x'\n",
    "# filename = 'rhoYu'\n",
    "# time = '_000'\n",
    "# string_hdf = time + '.hdf'\n",
    "# string_h5 = time + '.h5'\n",
    "# item = full_path + directory + '/' + filename + string_hdf\n",
    "\n",
    "\n",
    "# subprocess.call([\"./h4toh5convert\", item])\n",
    "# item_h5 = full_path + directory + '/' + filename + string_h5\n",
    "\n",
    "# array = h5py.File(item_h5, 'r')\n",
    "# array = array['Data-Set-2'][:]\n",
    "\n",
    "# plt.imshow(array)\n",
    "# plt.colorbar()\n",
    "# plt.show()\n",
    "# print(array.shape)\n",
    "# print(array.max(), array.min())\n",
    "# print(np.argmax(array.flatten()))\n",
    "\n",
    "# pyfile = h5py.File(py_path, 'r')\n",
    "\n",
    "# p_array = py_out('rhoYu','_000')\n",
    "\n",
    "# plt.imshow(p_array)\n",
    "# plt.colorbar()\n",
    "# plt.show()\n",
    "# print(p_array.T.shape)\n",
    "# print(p_array.max(), p_array.min())\n",
    "# print(np.argmax(p_array))\n",
    "\n",
    "# plt.imshow(np.abs(array - p_array.T))\n",
    "# print(\"argmax diff = \", np.argmax(np.abs(array - p_array.T)))\n",
    "# print(\"max diff = \", np.max(np.abs(array - p_array.T)))\n",
    "# plt.colorbar()\n",
    "# plt.show()\n",
    "\n",
    "\n",
    "# # print(array[2])\n",
    "# # print(p_array.T[2])\n",
    "\n",
    "# print(array[-2])\n",
    "# print(p_array.T[-2])\n",
    "\n",
    "# directory = 'flux_y'\n",
    "# filename = 'rhoYv'\n",
    "# time = '_000'\n",
    "# string_hdf = time + '.hdf'\n",
    "# string_h5 = time + '.h5'\n",
    "# item = full_path + directory + '/' + filename + string_hdf\n",
    "\n",
    "\n",
    "# subprocess.call([\"./h4toh5convert\", item])\n",
    "# item_h5 = full_path + directory + '/' + filename + string_h5\n",
    "\n",
    "# array = h5py.File(item_h5, 'r')\n",
    "# array = array['Data-Set-2'][:]\n",
    "\n",
    "# plt.imshow(array)\n",
    "# plt.colorbar()\n",
    "# plt.show()\n",
    "# print(array.max())\n",
    "\n",
    "# p_array = py_out('rhoYv','_000')\n",
    "\n",
    "# plt.imshow(p_array)\n",
    "# plt.colorbar()\n",
    "# plt.show()\n",
    "# print(p_array.max())\n",
    "# print(p_array.shape)\n",
    "\n",
    "# plt.imshow(np.abs(array - p_array.T))\n",
    "# plt.colorbar()\n",
    "# plt.show()\n",
    "\n",
    "# print(\"argmax diff = \", np.argmax(np.abs(array - p_array.T)))\n",
    "# print(\"max diff = \", np.max(np.abs(array - p_array.T)))\n",
    "\n",
    "# pyfile.close()"
   ]
  },
  {
   "cell_type": "code",
   "execution_count": 2759,
   "metadata": {
    "scrolled": false
   },
   "outputs": [],
   "source": [
    "pyfile.close()"
   ]
  },
  {
   "cell_type": "code",
   "execution_count": 2760,
   "metadata": {
    "scrolled": true
   },
   "outputs": [
    {
     "name": "stdout",
     "output_type": "stream",
     "text": [
      "2\n"
     ]
    },
    {
     "data": {
      "text/plain": [
       "(1.506883668457318e-17+0.24609277866997556j)"
      ]
     },
     "execution_count": 2760,
     "metadata": {},
     "output_type": "execute_result"
    }
   ],
   "source": [
    "for i in range(2,3):\n",
    "    print(i)\n",
    "    \n",
    "(-0.06056165571350958)**0.5"
   ]
  },
  {
   "cell_type": "code",
   "execution_count": 2761,
   "metadata": {},
   "outputs": [
    {
     "name": "stdout",
     "output_type": "stream",
     "text": [
      "[[0. 0. 0. 0. 0.]\n",
      " [0. 0. 0. 0. 0.]\n",
      " [0. 0. 0. 0. 0.]\n",
      " [0. 0. 0. 0. 0.]\n",
      " [0. 0. 0. 0. 0.]]\n",
      "False\n"
     ]
    }
   ],
   "source": [
    "AA = np.zeros((5,5))\n",
    "print(AA)\n",
    "print(np.all(AA))"
   ]
  },
  {
   "cell_type": "code",
   "execution_count": 2762,
   "metadata": {
    "scrolled": true
   },
   "outputs": [
    {
     "name": "stdout",
     "output_type": "stream",
     "text": [
      "1.0000669260234925\n",
      "-1.500943946908251e-08\n"
     ]
    }
   ],
   "source": [
    "rhoYu_cm =  0.9999511114038965\n",
    "rhoYu_mm =  1.0003473979573558\n",
    "rhoYu_cc =  0.9999842804036515\n",
    "rhoYu_mc =  1.000166296189299\n",
    "rhoYu_cp =  1.000010487506917\n",
    "rhoYu_mp =  0.9999252581338697\n",
    "\n",
    "rhoYu_m = 0.5*(rhoYu_cm+rhoYu_mm)\n",
    "rhoYu_c = 0.5*(rhoYu_cc+rhoYu_mc)\n",
    "rhoYu_p = 0.5*(rhoYu_cp+rhoYu_mp)\n",
    "\n",
    "ans = 0.25*(rhoYu_m + 2.0*rhoYu_c + rhoYu_p)\n",
    "print(ans)\n",
    "\n",
    "print(1.000066911014053 - ans)"
   ]
  },
  {
   "cell_type": "code",
   "execution_count": 2763,
   "metadata": {},
   "outputs": [
    {
     "name": "stdout",
     "output_type": "stream",
     "text": [
      "0.9997868913950261\n"
     ]
    }
   ],
   "source": [
    "rhoYu_cm = 1.0001662778213436\n",
    "rhoYu_mm = 1.0008170447231102\n",
    "rhoYu_cc = 0.99992526849323593\n",
    "rhoYu_mc = 0.99961879109867247\n",
    "rhoYu_cp = 0.999712348255824\n",
    "rhoYu_mp = 0.99851134117611362\n",
    "\n",
    "rhoYu_m = 0.5*(rhoYu_cm+rhoYu_mm)\n",
    "rhoYu_c = 0.5*(rhoYu_cc+rhoYu_mc)\n",
    "rhoYu_p = 0.5*(rhoYu_cp+rhoYu_mp)\n",
    "\n",
    "ans = 0.25*(rhoYu_m + 2.0*rhoYu_c + rhoYu_p)\n",
    "print(ans)"
   ]
  },
  {
   "cell_type": "code",
   "execution_count": null,
   "metadata": {},
   "outputs": [],
   "source": []
  }
 ],
 "metadata": {
  "kernelspec": {
   "display_name": "Python 3",
   "language": "python",
   "name": "python3"
  },
  "language_info": {
   "codemirror_mode": {
    "name": "ipython",
    "version": 3
   },
   "file_extension": ".py",
   "mimetype": "text/x-python",
   "name": "python",
   "nbconvert_exporter": "python",
   "pygments_lexer": "ipython3",
   "version": "3.7.3"
  }
 },
 "nbformat": 4,
 "nbformat_minor": 2
}
