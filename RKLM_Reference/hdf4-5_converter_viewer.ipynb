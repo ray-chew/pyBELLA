{
 "cells": [
  {
   "cell_type": "code",
   "execution_count": 58,
   "metadata": {},
   "outputs": [],
   "source": [
    "import h5py\n",
    "import numpy as np\n",
    "import matplotlib.pyplot as plt\n",
    "import subprocess"
   ]
  },
  {
   "cell_type": "code",
   "execution_count": 66,
   "metadata": {},
   "outputs": [
    {
     "name": "stdout",
     "output_type": "stream",
     "text": [
      "S/S_000.hdf\n",
      "S/S_000.h5\n",
      "['Data-Set-2', 'fakeDim0', 'fakeDim1']\n",
      "<HDF5 dataset \"Data-Set-2\": shape (305, 14), type \">f4\">\n"
     ]
    }
   ],
   "source": [
    "# with h5py.File('rho/rho_000.hdf', 'r') as f:\n",
    "#     data = f\n",
    "#     print(data)\n",
    "\n",
    "directories = ['S', 'T', 'Y', 'buoy', 'dT', 'dY', 'dp2_c', 'dp2_nodes', 'dpdim', 'drhoY', 'p', 'p2_c', 'p2_nodes', 'rho', 'rhoY', 'rhoe', 'u', 'v', 'vortz', 'w']\n",
    "hdf_format = '.'+ 'hdf'\n",
    "h5_format = '.' + 'h5'\n",
    "time = '000'\n",
    "string_hdf = '_' + time + hdf_format\n",
    "string_h5 = '_' + time + h5_format\n",
    "\n",
    "lst_hdf = []\n",
    "lst_h5 = []\n",
    "for directory in directories:\n",
    "    lst_hdf.append(directory + '/' + directory + string_hdf)\n",
    "    lst_h5.append(directory + '/' + directory + string_h5)\n",
    "    \n",
    "\n",
    "print(lst_hdf[0])\n",
    "print(lst_h5[0])\n",
    "\n",
    "\n",
    "\n",
    "p = subprocess.call([\"./h4toh5convert\", lst_hdf[0]])\n",
    "# plt.figure(figsize=(20,20))\n",
    "# plt.imshow(dd)\n",
    "# plt.colorbar()\n",
    "\n",
    "\n",
    "hf = h5py.File(lst_h5[0], 'r')\n",
    "print(list(hf.keys()))\n",
    "dd = hf['Data-Set-2']\n",
    "print(dd)"
   ]
  },
  {
   "cell_type": "code",
   "execution_count": null,
   "metadata": {},
   "outputs": [],
   "source": []
  }
 ],
 "metadata": {
  "kernelspec": {
   "display_name": "Python 3",
   "language": "python",
   "name": "python3"
  },
  "language_info": {
   "codemirror_mode": {
    "name": "ipython",
    "version": 3
   },
   "file_extension": ".py",
   "mimetype": "text/x-python",
   "name": "python",
   "nbconvert_exporter": "python",
   "pygments_lexer": "ipython3",
   "version": "3.7.1"
  }
 },
 "nbformat": 4,
 "nbformat_minor": 2
}
